{
 "cells": [
  {
   "cell_type": "markdown",
   "metadata": {},
   "source": [
    "## ECOSYSTEM SURVEILLANCE (AusPlots)  TUTORIAL: `ausplotsR` PACKAGE AND AusPlots DATA BASICS"
   ]
  },
  {
   "cell_type": "markdown",
   "metadata": {},
   "source": [
    "This document contains a tutorial that provides an overview of the `ausplotsR` package functionality, as well as an introduction to TERN's Ecosystem Surveillance (AusPlots) data. TERN's Data Skills Development Program (DSDP) \"ECOSYSTEM SURVEILLANCE (AusPlots)  TUTORIAL: UNDERSTANDING AND USING THE 'ausplotsR' PACKAGE AND AusPlots DATA\" tutorial provides addtional information and multiple archetypal applications of AusPlots data and the `ausplotsR` package. Additional examples are provided in TERN's DSDP \"ausplotsR Examples and Applications\" R scripts. All of these materials can be found in TERN's DSDP 'EcosystemSurveillance_PlotData' folder in GitHub [here](https://github.com/ternaustralia/TERN-Data-Skills/tree/master/EcosystemSurveillance_PlotData). \n",
    "\n",
    "`ausplotsR` is an R package for live extraction and preparation of TERN AusPlots ecosystem monitoring data. Through `ausplotsR`, users can: (1) directly obtain plot-based data on vegetation and soils across Australia, and (2) preprocess these data into structures that facilitate the visualisation and analysis of ausplots data. Data preprocessing includes the computation of species occurrence, vegetation fractional and single cover, growth form, and basal area (see below for details).\n",
    "\n",
    "The `ausplotsR` package currently includes 6 functions:\n",
    "\n",
    "* `get_ausplots`: Extracts AusPlots data in R. The stating point for any AusPlots data exploration and analysis in R. \n",
    "* `species_table`: Generates species occurrence matrices using the chosen scoring method (i.e. presence/absence, cover, frequencey, or IVI index) from a data frame of individual raw intercept hits (generated from AusPlots data using the `get_ausplots` function).\n",
    "* `fractional_cover`: Calculates fractional cover (i.e., the proportional cover of green vegetation, dead vegetation and bare substrate) from a data frame of individual raw intercept hits (generated from AusPlots data using the `get_ausplots` function).\n",
    "* `growth_form_table`: Generates occurrence matrices for NVIS plant growth forms in plots using the chosen scoring method (i.e. presence/absence, percent cover or species richness -number of species assigned to a particular growth form-) from a data frame of individual raw intercept hits (generated from AusPlots data using the `get_ausplots` function).\n",
    "* `single_cover_value`: Calculates a total vegetation cover by height and/or growh form per site from a data frame of individual raw intercept hits (generated from AusPlots data using the `get_ausplots` function). In this fucntion cover can be subsetted to vegetation over a specified height and/or by plant growth forms. By default, vegetation cover is calculated per plot for tree growth forms of 5 metres or higher (i.e. forests).\n",
    "* `basal_area`: Calculates basal area (or number of basal wedge hits) for each plot using the raw basal wedge data (generated from AusPlots data using the `get_ausplots` function).\n"
   ]
  },
  {
   "cell_type": "markdown",
   "metadata": {},
   "source": [
    "### INSTALLING and LOADING `ausplotsR`\n",
    "\n",
    "To run the R scripts in this tutorial the `ausplotsR` library must be installed and loaded.\n",
    "\n",
    "The first step to install packages in R is selecting the CRAN (Comprehensive R Archive Network) mirror. Mirror selection and package installation can be done via R’s menu (Packages/Set CRAN mirror… followed by Packages/install package(s)…) or programmatically the via the function 'install.packages' (selecting the CRAN mirror using the argument 'repos'). Typically it is best to choose the cloud mirror (which automatically redirects to an appropriate server worldwide) or a mirror close to you (e.g. in your institution, country,..). A list of Comprehensive R Archive Network (CRAN) mirror URLs can be found here. Below are two examples of how to select a CRAN mirrors. In the first example the cloud mirror is selected, and in the second one an Australian mirror is selected. Before running this code you must uncomment (i.e. remove the '#' symbol) the line with the desired mirror. "
   ]
  },
  {
   "cell_type": "code",
   "execution_count": 1,
   "metadata": {},
   "outputs": [],
   "source": [
    "## Select the repository (i.e. CRAN mirror URL)\n",
    "#my.repos = \"https://cloud.r-project.org/\"\n",
    "#my.repos = \"https://cran.csiro.au/\"  # Example of an Australian mirror"
   ]
  },
  {
   "cell_type": "markdown",
   "metadata": {},
   "source": [
    "Currently ausplotsR must be installed directly from github using the ‘devtools’ package, which must have been previously installed. The code below installs the 'devtools' package. Rather than directly providing the URL for a CRAN mirror, we could have provided the variable 'my.repos' to which we assigned a mirror above. \n",
    "\n",
    "Then the `devtools` library is loaded and the `ausplotsR` library installed from GitHub. The GitHub site for ausplotsR contains the latest developments and information on the package; it can be found at this link. Finally, the `ausplotsR` library is loaded to use in the tutorial. "
   ]
  },
  {
   "cell_type": "code",
   "execution_count": 2,
   "metadata": {},
   "outputs": [
    {
     "name": "stderr",
     "output_type": "stream",
     "text": [
      "Installing package into 'C:/Users/uqbblanc/Documents/R/win-library/3.5'\n",
      "(as 'lib' is unspecified)\n"
     ]
    },
    {
     "name": "stdout",
     "output_type": "stream",
     "text": [
      "package 'devtools' successfully unpacked and MD5 sums checked\n",
      "\n",
      "The downloaded binary packages are in\n",
      "\tC:\\Users\\uqbblanc\\AppData\\Local\\Temp\\RtmpKadgrZ\\downloaded_packages\n"
     ]
    },
    {
     "name": "stderr",
     "output_type": "stream",
     "text": [
      "Warning message:\n",
      "\"package 'devtools' was built under R version 3.5.3\"Skipping install of 'ausplotsR' from a github remote, the SHA1 (59b04cc1) has not changed since last install.\n",
      "  Use `force = TRUE` to force installation\n",
      "Warning message:\n",
      "\"package 'ausplotsR' was built under R version 3.5.3\"Loading required package: plyr\n",
      "Loading required package: R.utils\n",
      "Warning message:\n",
      "\"package 'R.utils' was built under R version 3.5.3\"Loading required package: R.oo\n",
      "Loading required package: R.methodsS3\n",
      "R.methodsS3 v1.7.1 (2016-02-15) successfully loaded. See ?R.methodsS3 for help.\n",
      "R.oo v1.22.0 (2018-04-21) successfully loaded. See ?R.oo for help.\n",
      "\n",
      "Attaching package: 'R.oo'\n",
      "\n",
      "The following objects are masked from 'package:devtools':\n",
      "\n",
      "    check, unload\n",
      "\n",
      "The following objects are masked from 'package:methods':\n",
      "\n",
      "    getClasses, getMethods\n",
      "\n",
      "The following objects are masked from 'package:base':\n",
      "\n",
      "    attach, detach, gc, load, save\n",
      "\n",
      "R.utils v2.8.0 successfully loaded. See ?R.utils for help.\n",
      "\n",
      "Attaching package: 'R.utils'\n",
      "\n",
      "The following object is masked from 'package:utils':\n",
      "\n",
      "    timestamp\n",
      "\n",
      "The following objects are masked from 'package:base':\n",
      "\n",
      "    cat, commandArgs, getOption, inherits, isOpen, parse, warnings\n",
      "\n",
      "Loading required package: simba\n",
      "Loading required package: vegan\n",
      "Warning message:\n",
      "\"package 'vegan' was built under R version 3.5.3\"Loading required package: permute\n",
      "Warning message:\n",
      "\"package 'permute' was built under R version 3.5.3\"\n",
      "Attaching package: 'permute'\n",
      "\n",
      "The following object is masked from 'package:R.oo':\n",
      "\n",
      "    check\n",
      "\n",
      "The following object is masked from 'package:devtools':\n",
      "\n",
      "    check\n",
      "\n",
      "Loading required package: lattice\n",
      "This is vegan 2.5-4\n",
      "This is simba 0.3-5\n",
      "\n",
      "Attaching package: 'simba'\n",
      "\n",
      "The following object is masked from 'package:stats':\n",
      "\n",
      "    mad\n",
      "\n",
      "Loading required package: httr\n",
      "Warning message:\n",
      "\"package 'httr' was built under R version 3.5.3\"Loading required package: jsonlite\n",
      "Warning message:\n",
      "\"package 'jsonlite' was built under R version 3.5.3\"\n",
      "Attaching package: 'jsonlite'\n",
      "\n",
      "The following object is masked from 'package:R.utils':\n",
      "\n",
      "    validate\n",
      "\n",
      "Loading required package: jose\n",
      "Warning message:\n",
      "\"package 'jose' was built under R version 3.5.3\"Loading required package: openssl\n",
      "Warning message:\n",
      "\"package 'openssl' was built under R version 3.5.3\"Warning message:\n",
      "\"replacing previous import 'R.utils::validate' by 'jsonlite::validate' when loading 'ausplotsR'\""
     ]
    }
   ],
   "source": [
    "## Install directly from github using the 'devtools' package\n",
    "## Thus, 'devtools' must be previouly installed\n",
    "install.packages(\"devtools\", repos=\"https://cloud.r-project.org/\")\n",
    "library(devtools)\n",
    "install_github(\"ternaustralia/ausplotsR\", build_vignettes = TRUE)\n",
    "\n",
    "## Load the package\n",
    "library(ausplotsR)"
   ]
  },
  {
   "cell_type": "markdown",
   "metadata": {},
   "source": [
    "Help on the `ausplotsR` package and a vignette with a guide on how to use the package can be obtained with the code below"
   ]
  },
  {
   "cell_type": "code",
   "execution_count": 3,
   "metadata": {},
   "outputs": [],
   "source": [
    "#help(ausplotsR)\n",
    "#browseVignettes(package=\"ausplotsR\")"
   ]
  },
  {
   "cell_type": "markdown",
   "metadata": {},
   "source": [
    "###  OBTAIN & EXPLORE AusPlots DATA: `get_ausplots` function\n",
    "\n",
    "The `get_ausplots` function extracts and compiles AusPlots data. \n",
    "\n",
    "Data of specific types, sites, geographical locations, and/or species can be requested via the function arguments.\n",
    "\n",
    "*DATA TYPES:* Up to 8 different types of data can be obtained by setting the corresponding arguments to TRUE/FALSE:\n",
    "\n",
    "  * `site_info`: Site summary data. Includes (among others): plot and visit details, landform data, geographic coordinates, and notes. Included by default. Site summary data are stored in the `site.info` data frame.\n",
    "  * `structural_summaries`: Site vegetation structural summaries. Site vegetation structural summary data are stored in the `struct.summ` data frame.\n",
    "  * `veg.vouchers`: Complete set of species records for the plot determined by a herbarium plus ID numbers for silica-dried tissue samples. Included by default. Vegetation vouchers data are stored in the `veg.vouch` data frame. \n",
    "  * `veg.PI`: Point Intercept (PI) data. Includes data on: substrate, plant species, growth form and height, etc at each of (typically) 1010 points per plot. Included by default. Vegetation point intercept data are stored in the `veg.PI` data frame.\n",
    "  * `basal.wedge`: Basal Wedge Data Raw Hits. These data are required for the calculation of Basal Area by Species by Plot. Basal wedge data are stored in the `veg.basal` data frame.\n",
    "  * `soil_subsites`: Information on what soil and soil metagenomics samples were taken at nine locations across the plot and their identification barcode numbers. Soil and soil metagenomics data are stored in the `soil.subsites` data frame. \n",
    "  * `soil_bulk_density`: Soil bulk density. Soil bulk density data are stored in the `soil.bulk` data frame.\n",
    "  * `soil_character`: Soil characterisation and sample ID data at 10 cm increments to a depth of 1 m. Soil characterisation and sample ID data are stored in the `soil.char` data frame.\n",
    "\n",
    "*SPATIAL FILTERING:* AusPlot data can be spatially subset via the `get_ausplots` function arguments in two ways:\n",
    "\n",
    "  * `my.Plot_IDs`: Character vector with the plots IDs of specific AusPlots plots. \n",
    "  * `bounding_box`: Spatial filter for selecting AusPlots based on a rectangular box, in the format of e.g. c(xmin, xmax, ymin, ymax). AusPlots spatial data are are in longlat, thus x is the longitude and y is the latitude of the box/extent object (e.g., c(120, 140, -30, -10)).  \n",
    "  \n",
    "*SPECIES FILTERING:* AusPlots data can also be subset by particular or sets of genus and/or species (i.e. as determined for the herbarium voucher) using the argument `species_name_search`. This optional argument takes the form of a character string indicating the terms to search and subset. Search terms are not case sensitive and do not require an exact taxonomic match (e.g. \"Eucalyptus moderata\",\"Eucalyptus\", and \"euca\" are all acceptable search terms). \n",
    "Species Filtering behaviour slightly differs among Data Types (i.e. for the different types of created Data Frames):\n",
    "* For `veg.vouch` and  `basal.wedge`, when these arguments are set to `TRUE`, `get_ausplots` returns data.frames with the corresponding data (i.e. voucher records and raw basal wedge data respectively) that match the species_name_search.\n",
    "* For the remaing data types arguments, when these arguments are set to `TRUE`, `get_ausplots` returns data.frames with the corresponding data (e.g. point intercept data,...) for all plots where the species_name_search occurs. \n",
    "\n",
    "The R object resulting from calling `get_ausplots` is a list of data frames containing the requested AusPlots data. The list includes a data frame for each type of data requested (i.e. up to 8 data frames: 'site_info', 'structural_summaries',...) and an auto-generated citation for the data extracted. Please cite ausplotsR and the TERN AusPlots data you use. In each data frame the columns correspond to the variables supplied for each type of data and the number of rows (directly or indirectly) depends on the sites (i.e. via `my.Plot_IDs` or `bounding_box` if subsetted) or species (i.e. via `species_name_search` if subset) retrieved. \n",
    "\n",
    "There are several variables common to all data frames. These include `site_location_name`, `site_location_visit_id`, and `site_unique` (a combination of the previous two). These variables can be used to merge data frames. For example, the contents of two data frames can be combined using the common variable as a link (i.e. guidance to add the merged contents in the correct row). The variable `site_unique` is typically the best option to link data frames in a merge, as it is the most specific variable representing a single visit to a particular site and it should be used in most analyses. Otherwise, errors such including data from the wrong visit to a site can occur. "
   ]
  },
  {
   "cell_type": "code",
   "execution_count": 4,
   "metadata": {},
   "outputs": [
    {
     "name": "stdout",
     "output_type": "stream",
     "text": [
      "User-supplied Plot_IDs located. \n"
     ]
    },
    {
     "data": {
      "text/html": [
       "'list'"
      ],
      "text/latex": [
       "'list'"
      ],
      "text/markdown": [
       "'list'"
      ],
      "text/plain": [
       "[1] \"list\""
      ]
     },
     "metadata": {},
     "output_type": "display_data"
    },
    {
     "data": {
      "text/plain": [
       "              Length Class      Mode     \n",
       "site.info     43     data.frame list     \n",
       "struct.summ   15     data.frame list     \n",
       "soil.subsites 12     data.frame list     \n",
       "soil.bulk     15     data.frame list     \n",
       "soil.char     34     data.frame list     \n",
       "veg.basal     10     data.frame list     \n",
       "veg.vouch     12     data.frame list     \n",
       "veg.PI        13     data.frame list     \n",
       "citation       1     -none-     character"
      ]
     },
     "metadata": {},
     "output_type": "display_data"
    },
    {
     "name": "stdout",
     "output_type": "stream",
     "text": [
      "List of 9\n",
      " $ site.info    :'data.frame':\t4 obs. of  43 variables:\n",
      "  ..$ site_location_name        : chr [1:4] \"QDAMGD0022\" \"SATFLB0004\" \"SATFLB0004\" \"NTASTU0002\"\n",
      "  ..$ established_date          : chr [1:4] \"2013-06-04T00:00:00\" \"2012-09-18T00:00:00\" \"2012-09-18T00:00:00\" \"2016-05-01T16:58:00\"\n",
      "  ..$ description               : chr [1:4] \"Mackunda Downs Station, 500m east of homestead.  26km west of Middleton.\" \"Brachina Gorge Heysen Range Lower. 63km North North East of Adelaide\" \"Brachina Gorge Heysen Range Lower. 63km North North East of Adelaide\" \"Maryfield Station, 7.6km north north west of homestead. 27.5km south east of Larrimah\"\n",
      "  ..$ bioregion_name            : chr [1:4] \"MGD\" \"FLB\" \"FLB\" \"STU\"\n",
      "  ..$ landform_pattern          : chr [1:4] \"ALP\" \"MOU\" \"MOU\" \"PLA\"\n",
      "  ..$ landform_element          : chr [1:4] \"PLA\" \"HSL\" \"HSL\" \"PLA\"\n",
      "  ..$ site_slope                : chr [1:4] \"1\" \"17\" \"17\" \"0\"\n",
      "  ..$ site_aspect               : chr [1:4] \"180\" \"225\" \"225\" NA\n",
      "  ..$ comments                  : chr [1:4] \"Astrebla pectinata / Cenchrus ciliaris / Astrebla elymoides low open tussock grassland on alluvial plain adjoin\"| __truncated__ \"Grazing impact high- goat tracks and droppings. Rabbit droppings also. Lots of Yellow footed rock wallabies clo\"| __truncated__ \"Grazing impact high- goat tracks and droppings. Rabbit droppings also. Lots of Yellow footed rock wallabies clo\"| __truncated__ \"Plot is flat. Low mound ( Likely anthropogenic) made up of ironstone gravels at the north west corner. Minimal \"| __truncated__\n",
      "  ..$ outcrop_lithology         : chr [1:4] \"NA\" \"SA\" \"SA\" \"NA\"\n",
      "  ..$ other_outcrop_lithology   : chr [1:4] \"NA\" \"NC\" \"NC\" \"NC\"\n",
      "  ..$ plot_dimensions           : chr [1:4] \"100m x 100m.\" NA NA NA\n",
      "  ..$ site_location_visit_id    : int [1:4] 53501 58658 53705 58429\n",
      "  ..$ visit_start_date          : chr [1:4] \"2013-05-18T09:34:00\" \"2018-08-28T09:20:29\" \"2012-09-18T00:00:00\" \"2016-05-01T16:58:00\"\n",
      "  ..$ visit_end_date            : chr [1:4] \"2013-05-18T09:34:00\" \"2018-08-28T09:20:29\" \"2012-09-18T00:00:00\" \"2016-05-01T16:58:00\"\n",
      "  ..$ visit_notes               : chr [1:4] \"\" NA NA \"Corymbia polycarpa and Corymbia terminalis combined for Basal area\\r\\n\\r\\nunknown substrate in point intercept \"| __truncated__\n",
      "  ..$ location_description      : chr [1:4] \"Mackunda Station, north of Middleton.\" \"Brachina lower.Largely unchanged since previous visit possibly more Carrichtera annua. Grazing impact goat, rab\"| __truncated__ \"Brachina Gorge Heysen Range Lower. 63km North North East of Adelaide.Grazing impact high- goat tracks and dropp\"| __truncated__ \"Maryfield Station, 7.6km north north west of homestead. 27.5km south east of Larimah\"\n",
      "  ..$ erosion_type              : chr [1:4] \"G\" \"n/a\" \"n/a\" \"n/a\"\n",
      "  ..$ erosion_abundance         : chr [1:4] \"2\" \"X\" \"1\" \"X\"\n",
      "  ..$ erosion_state             : chr [1:4] \"NC\" \"n/a\" \"n/a\" \"n/a\"\n",
      "  ..$ microrelief               : chr [1:4] \"Z\" \"NH\" \"NC\" \"TM\"\n",
      "  ..$ drainage_type             : int [1:4] 4 3 6 4\n",
      "  ..$ disturbance               : chr [1:4] \"1L\" \"1L\" \"1H\" \"0\"\n",
      "  ..$ climatic_condition        : chr [1:4] \"DRY\" \"DRY\" \"WET\" \"DRY\"\n",
      "  ..$ vegetation_condition      : chr [1:4] \"DRY\" \"AVG\" \"AVG\" \"AVG\"\n",
      "  ..$ observer_veg              : int [1:4] 3 1 16 1\n",
      "  ..$ observer_soil             : int [1:4] 2 31 1 2\n",
      "  ..$ described_by              : int [1:4] 3 1 16 1\n",
      "  ..$ pit_marker_easting        : num [1:4] 529568 268527 268528 326265\n",
      "  ..$ pit_marker_northing       : num [1:4] 7526350 6531518 6531576 8256078\n",
      "  ..$ pit_marker_mga_zones      : int [1:4] 54 54 53 53\n",
      "  ..$ pit_marker_datum          : chr [1:4] \"WGS84\" \"WGS84\" \"GDA94\" \"WGS84\"\n",
      "  ..$ pit_marker_location_method: chr [1:4] \"GPS\" NA \"GPS\" NA\n",
      "  ..$ soil_observation_type     : chr [1:4] \"P\" \"PA\" \"P\" \"P\"\n",
      "  ..$ a_s_c                     : chr [1:4] \"NC\" NA NA NA\n",
      "  ..$ plot_is_100m_by_100m      : logi [1:4] TRUE TRUE TRUE TRUE\n",
      "  ..$ plot_is_aligned_to_grid   : logi [1:4] TRUE TRUE TRUE TRUE\n",
      "  ..$ plot_is_permanently_marked: logi [1:4] TRUE TRUE TRUE TRUE\n",
      "  ..$ latitude                  : num [1:4] -22.4 -31.3 -31.3 -15.8\n",
      "  ..$ longitude                 : num [1:4] 141 139 139 133\n",
      "  ..$ point                     : chr [1:4] \"SW\" \"SW\" \"SW\" \"SW\"\n",
      "  ..$ state                     : chr [1:4] \"QLD\" \"SA\" \"SA\" \"NT\"\n",
      "  ..$ site_unique               : chr [1:4] \"QDAMGD0022-53501\" \"SATFLB0004-58658\" \"SATFLB0004-53705\" \"NTASTU0002-58429\"\n",
      " $ struct.summ  :'data.frame':\t4 obs. of  15 variables:\n",
      "  ..$ site_location_name    : chr [1:4] \"QDAMGD0022\" \"SATFLB0004\" \"NTASTU0002\" \"SATFLB0004\"\n",
      "  ..$ site_location_visit_id: int [1:4] 53501 53705 58429 58658\n",
      "  ..$ phenology_comment     : chr [1:4] \"\" \"Ptilotus obovatus var. obovatus  flowering. Triodia sp. has no seeds. No fruit on Callitris glaucophylla - no e\"| __truncated__ \"NC\" \"NC\"\n",
      "  ..$ upper_1_dominant      : chr [1:4] \"\" \"SAT 000251\" \"NTA017194\" \"SAT007365\"\n",
      "  ..$ upper_2_dominant      : chr [1:4] \"\" \"SAT 000229\" \"NTA017232\" \"SAT007407\"\n",
      "  ..$ upper_3_dominant      : chr [1:4] \"\" NA \"NTA017084\" \"None\"\n",
      "  ..$ mid_1_dominant        : chr [1:4] \"\" \"SAT 000244\" NA \"SAT007387\"\n",
      "  ..$ mid_2_dominant        : chr [1:4] \"\" \"SAT 000261\" NA \"SAT007423\"\n",
      "  ..$ mid_3_dominant        : chr [1:4] \"\" NA NA \"SAT007411\"\n",
      "  ..$ ground_1_dominant     : chr [1:4] \"QDA  003325\" \"SAT 000233\" \"NTA017070\" \"SAT007375\"\n",
      "  ..$ ground_2_dominant     : chr [1:4] \"QDA  003293\" NA \"NTA017076\" \"SAT007353\"\n",
      "  ..$ ground_3_dominant     : chr [1:4] \"QDA  003325\" NA \"NTA017082\" \"SAT007419\"\n",
      "  ..$ description           : chr [1:4] \"Astrebla pectinata / Cenchrus ciliaris / Astrebla elymoides low open tussock grassland with scattered .\" \"Callitris glaucophylla / Eucalyptus intertexta low woodland. A mid-stratum dominated by Rhagodia paradoxa and H\"| __truncated__ \"Corymbia terminalis mixed mid woodland with  Corymbia polycarpa / Eucalyptus pruinosa/ Eucalyptus chlorophylla \"| __truncated__ \"Eucalyptus intertexta low open woodland  with Callitris glaucophylla.  A mid-storey of Rhagodia parabolica,  Do\"| __truncated__\n",
      "  ..$ mass_flowering_event  : logi [1:4] FALSE FALSE FALSE FALSE\n",
      "  ..$ site_unique           : chr [1:4] \"QDAMGD0022-53501\" \"SATFLB0004-53705\" \"NTASTU0002-58429\" \"SATFLB0004-58658\"\n",
      " $ soil.subsites:'data.frame':\t36 obs. of  12 variables:\n",
      "  ..$ site_location_name      : chr [1:36] \"QDAMGD0022\" \"QDAMGD0022\" \"QDAMGD0022\" \"QDAMGD0022\" ...\n",
      "  ..$ site_location_visit_id  : int [1:36] 53501 53501 53501 53501 53501 53501 53501 53501 53501 53705 ...\n",
      "  ..$ subsite_id              : chr [1:36] \"1\" \"2\" \"3\" \"4\" ...\n",
      "  ..$ zone                    : int [1:36] 54 54 54 54 54 54 54 54 54 53 ...\n",
      "  ..$ easting                 : int [1:36] 529581 529580 529582 529592 529595 529620 529664 529587 529663 268530 ...\n",
      "  ..$ northing                : int [1:36] 7526343 7526338 7526335 7526338 7526345 7526378 7526417 7526423 7526333 6531529 ...\n",
      "  ..$ ten_to_twenty_barcode   : chr [1:36] \"QDA   051589\" \"QDA   051592\" \"QDA   051595\" \"QDA   051598\" ...\n",
      "  ..$ zero_to_ten_barcode     : chr [1:36] \"QDA   051588\" \"QDA   051591\" \"QDA   051594\" \"QDA   051597\" ...\n",
      "  ..$ twenty_to_thirty_barcode: chr [1:36] \"QDA   051590\" \"QDA   051593\" \"QDA   051596\" \"QDA   051599\" ...\n",
      "  ..$ comments                : chr [1:36] \"bare ground\" \"between grass tussocks\" \"between grass tussocks\" \"bare ground\" ...\n",
      "  ..$ metagenomic_barcode     : chr [1:36] \"QDA 053721\" \"QDA 053722\" \"QDA 053723\" \"QDA 053724\" ...\n",
      "  ..$ site_unique             : chr [1:36] \"QDAMGD0022-53501\" \"QDAMGD0022-53501\" \"QDAMGD0022-53501\" \"QDAMGD0022-53501\" ...\n",
      " $ soil.bulk    :'data.frame':\t9 obs. of  15 variables:\n",
      "  ..$ site_location_name      : chr [1:9] \"QDAMGD0022\" \"QDAMGD0022\" \"QDAMGD0022\" \"NTASTU0002\" ...\n",
      "  ..$ site_location_visit_id  : int [1:9] 53501 53501 53501 58429 58429 58429 58658 58658 58658\n",
      "  ..$ sample_id               : chr [1:9] \"0\" \"1\" \"2\" \"0\" ...\n",
      "  ..$ paper_bag_weight        : logi [1:9] NA NA NA NA NA NA ...\n",
      "  ..$ oven_dried_weight_in_bag: logi [1:9] NA NA NA NA NA NA ...\n",
      "  ..$ ring_weight             : logi [1:9] NA NA NA NA NA NA ...\n",
      "  ..$ gravel_weight           : int [1:9] NA NA NA 0 0 0 NA NA NA\n",
      "  ..$ ring_volume             : num [1:9] NA NA NA 209 209 ...\n",
      "  ..$ gravel_volume           : int [1:9] NA NA NA 0 0 0 NA NA NA\n",
      "  ..$ fine_earth_weight_in_bag: int [1:9] NA NA NA 0 0 0 0 0 0\n",
      "  ..$ fine_earth_weight       : int [1:9] NA NA NA 0 0 0 0 0 0\n",
      "  ..$ fine_earth_volume       : num [1:9] NA NA NA 209 209 ...\n",
      "  ..$ fine_earth_bulk_density : int [1:9] NA NA NA 0 0 0 0 0 0\n",
      "  ..$ gravel_bulk_density     : int [1:9] NA NA NA 0 0 0 0 0 0\n",
      "  ..$ site_unique             : chr [1:9] \"QDAMGD0022-53501\" \"QDAMGD0022-53501\" \"QDAMGD0022-53501\" \"NTASTU0002-58429\" ...\n",
      " $ soil.char    :'data.frame':\t28 obs. of  34 variables:\n",
      "  ..$ site_location_name    : chr [1:28] \"SATFLB0004\" \"QDAMGD0022\" \"QDAMGD0022\" \"QDAMGD0022\" ...\n",
      "  ..$ site_location_visit_id: int [1:28] 53705 53501 53501 53501 53501 53705 53501 53705 53501 53501 ...\n",
      "  ..$ upper_depth           : num [1:28] 0 0.5 0.8 0.6 0.7 0.1 0.3 0.6 0.2 0 ...\n",
      "  ..$ lower_depth           : num [1:28] 0.1 0.6 0.9 0.7 0.8 0.2 0.4 0.7 0.3 0.1 ...\n",
      "  ..$ horizon               : chr [1:28] \"NC\" \"NC\" \"NC\" \"NC\" ...\n",
      "  ..$ texture_grade         : chr [1:28] \"NC\" \"NC\" \"NC\" \"NC\" ...\n",
      "  ..$ texture_qualifier     : chr [1:28] NA \"NC\" \"NC\" \"NC\" ...\n",
      "  ..$ texture_modifier      : chr [1:28] NA \"NC\" \"NC\" \"NC\" ...\n",
      "  ..$ colour_when_moist     : chr [1:28] NA \"NC\" \"NC\" \"NC\" ...\n",
      "  ..$ colour_when_dry       : chr [1:28] NA \"NC\" \"NC\" \"NC\" ...\n",
      "  ..$ mottles_colour        : chr [1:28] \"NC\" \"NC\" \"NC\" \"NC\" ...\n",
      "  ..$ mottles_abundance     : chr [1:28] \"NC\" \"NC\" \"NC\" \"NC\" ...\n",
      "  ..$ mottles_size          : chr [1:28] \"NC\" \"NC\" \"NC\" \"NC\" ...\n",
      "  ..$ segregations_abundance: chr [1:28] \"NC\" \"NC\" \"NC\" \"NC\" ...\n",
      "  ..$ segregations_size     : chr [1:28] \"NC\" \"NC\" \"NC\" \"NC\" ...\n",
      "  ..$ segregations_nature   : chr [1:28] \"NC\" \"NC\" \"NC\" \"NC\" ...\n",
      "  ..$ segregations_form     : chr [1:28] \"NC\" \"NC\" \"NC\" \"NC\" ...\n",
      "  ..$ comments              : chr [1:28] NA NA NA NA ...\n",
      "  ..$ collected_by          : int [1:28] 8 4 4 4 4 NA 4 NA 4 4 ...\n",
      "  ..$ smallest_size_1       : chr [1:28] \"11\" \"11\" \"11\" \"11\" ...\n",
      "  ..$ smallest_size_2       : logi [1:28] NA NA NA NA NA NA ...\n",
      "  ..$ effervescence         : chr [1:28] \"N\" \"N\" \"N\" \"N\" ...\n",
      "  ..$ ec                    : num [1:28] 0.07 0.18 0.54 0.38 0.52 0.03 0.07 1.84 0.06 0.04 ...\n",
      "  ..$ ph                    : num [1:28] 6.3 8.3 8.1 8.3 8.1 7 8 8.3 7.9 7.8 ...\n",
      "  ..$ pedality_grade        : chr [1:28] \"NC\" \"NC\" \"NC\" \"NC\" ...\n",
      "  ..$ pedality_fabric       : chr [1:28] \"NC\" \"NC\" \"NC\" \"NC\" ...\n",
      "  ..$ next_size_type_2      : chr [1:28] \"NC\" \"NC\" \"NC\" \"NC\" ...\n",
      "  ..$ next_size_type_1      : chr [1:28] \"NC\" \"NC\" \"NC\" \"NC\" ...\n",
      "  ..$ smallest_size_type_2  : chr [1:28] \"NC\" \"NC\" \"NC\" \"NC\" ...\n",
      "  ..$ smallest_size_type_1  : chr [1:28] \"NC\" \"NC\" \"NC\" \"NC\" ...\n",
      "  ..$ next_size_2           : logi [1:28] NA NA NA NA NA NA ...\n",
      "  ..$ next_size_1           : chr [1:28] \"11\" \"11\" \"11\" \"11\" ...\n",
      "  ..$ layer_barcode         : chr [1:28] \"SAT005230\" \"QDA   051583\" \"QDA   051586\" \"QDA   051584\" ...\n",
      "  ..$ site_unique           : chr [1:28] \"SATFLB0004-53705\" \"QDAMGD0022-53501\" \"QDAMGD0022-53501\" \"QDAMGD0022-53501\" ...\n",
      " $ veg.basal    :'data.frame':\t95 obs. of  10 variables:\n",
      "  ..$ site_location_name     : chr [1:95] \"NTASTU0002\" \"SATFLB0004\" \"SATFLB0004\" \"SATFLB0004\" ...\n",
      "  ..$ site_location_visit_id : int [1:95] 58429 53705 53705 53705 53705 53705 53705 53705 53705 53705 ...\n",
      "  ..$ site_location_id       : int [1:95] 61138 60122 60122 60122 60122 60122 60122 60122 60122 60122 ...\n",
      "  ..$ point_id               : chr [1:95] \"NE\" \"W\" \"SW\" \"SE\" ...\n",
      "  ..$ herbarium_determination: chr [1:95] \"Dead Tree/Shrub\" \"Alectryon oleifolius\" \"Alectryon oleifolius\" \"Alectryon oleifolius\" ...\n",
      "  ..$ veg_barcode            : chr [1:95] \"NO_BARCODE_DEAD_TREE_804159\" \"SAT 000242\" \"SAT 000242\" \"SAT 000242\" ...\n",
      "  ..$ hits                   : int [1:95] 1 1 3 4 1 1 1 20 17 6 ...\n",
      "  ..$ basal_area_factor      : num [1:95] 0.1 0.25 0.5 0.5 0.5 0.25 0.5 0.25 0.5 0.5 ...\n",
      "  ..$ basal_area             : num [1:95] 0.1 0.25 1.5 2 0.5 0.25 0.5 5 8.5 3 ...\n",
      "  ..$ site_unique            : chr [1:95] \"NTASTU0002-58429\" \"SATFLB0004-53705\" \"SATFLB0004-53705\" \"SATFLB0004-53705\" ...\n",
      " $ veg.vouch    :'data.frame':\t208 obs. of  12 variables:\n",
      "  ..$ site_location_name        : chr [1:208] \"QDAMGD0022\" \"QDAMGD0022\" \"QDAMGD0022\" \"QDAMGD0022\" ...\n",
      "  ..$ veg_barcode               : chr [1:208] \"QDA  003331\" \"NO_BARCODE_FORB_950413164\" \"NO_BARCODE_GRASS_656236361\" \"NO_BARCODE_DEAD_TREE_558409020\" ...\n",
      "  ..$ herbarium_determination   : chr [1:208] \"Glinus lotoides\" \"Annual forb\" \"Annual grass\" \"Dead tree/shrub\" ...\n",
      "  ..$ is_uncertain_determination: logi [1:208] FALSE NA NA NA NA NA ...\n",
      "  ..$ visit_start_date          : chr [1:208] \"2013-05-18T09:34:00\" \"2013-05-18T09:34:00\" \"2013-05-18T09:34:00\" \"2013-05-18T09:34:00\" ...\n",
      "  ..$ site_location_visit_id    : int [1:208] 53501 53501 53501 53501 53705 53705 53705 53705 58429 58429 ...\n",
      "  ..$ primary_gen_barcode       : chr [1:208] \"QDA  003332\" NA NA NA ...\n",
      "  ..$ secondary_gen_barcode_1   : chr [1:208] NA NA NA NA ...\n",
      "  ..$ secondary_gen_barcode_2   : chr [1:208] NA NA NA NA ...\n",
      "  ..$ secondary_gen_barcode_3   : chr [1:208] NA NA NA NA ...\n",
      "  ..$ secondary_gen_barcode_4   : chr [1:208] NA NA NA NA ...\n",
      "  ..$ site_unique               : chr [1:208] \"QDAMGD0022-53501\" \"QDAMGD0022-53501\" \"QDAMGD0022-53501\" \"QDAMGD0022-53501\" ...\n",
      " $ veg.PI       :'data.frame':\t4323 obs. of  13 variables:\n",
      "  ..$ site_location_name     : chr [1:4323] \"QDAMGD0022\" \"QDAMGD0022\" \"QDAMGD0022\" \"QDAMGD0022\" ...\n",
      "  ..$ site_location_visit_id : int [1:4323] 53501 53501 53501 53501 53501 53501 53501 53501 53501 53501 ...\n",
      "  ..$ transect               : Factor w/ 15 levels \"E2-W2\",\"E4-W4\",..: 13 13 13 13 13 13 13 13 13 13 ...\n",
      "  ..$ point_number           : int [1:4323] 27 0 1 3 4 5 6 7 8 9 ...\n",
      "  ..$ veg_barcode            : chr [1:4323] NA NA NA \"QDA  003325\" ...\n",
      "  ..$ herbarium_determination: chr [1:4323] NA NA NA \"Astrebla pectinata\" ...\n",
      "  ..$ substrate              : chr [1:4323] \"Bare\" \"Litter\" \"Bare\" \"Litter\" ...\n",
      "  ..$ in_canopy_sky          : logi [1:4323] NA NA NA FALSE NA FALSE ...\n",
      "  ..$ dead                   : logi [1:4323] NA NA NA FALSE NA FALSE ...\n",
      "  ..$ growth_form            : chr [1:4323] NA NA NA \"Tussock grass\" ...\n",
      "  ..$ height                 : num [1:4323] NA NA NA 0.2 NA 0.2 NA NA NA 0.1 ...\n",
      "  ..$ hits_unique            : chr [1:4323] \"W1-E1 27\" \"W1-E1 0\" \"W1-E1 1\" \"W1-E1 3\" ...\n",
      "  ..$ site_unique            : chr [1:4323] \"QDAMGD0022-53501\" \"QDAMGD0022-53501\" \"QDAMGD0022-53501\" \"QDAMGD0022-53501\" ...\n",
      " $ citation     : chr \"TERN (2019) AusPlots ecosystem surveillance monitoring dataset (URL: http://aekos.org.au/collection/adelaide.ed\"| __truncated__\n"
     ]
    }
   ],
   "source": [
    "# Example 1: All available data (i.e. all data types) for 3 plots\n",
    "# ===============================================================\n",
    "\n",
    "# Obtain the data ('site_info', 'veg.vouchers', and 'veg.PI' are retraived by default)\n",
    "AP.data = get_ausplots( my.Plot_IDs=c(\"SATFLB0004\", \"QDAMGD0022\", \"NTASTU0002\"),\n",
    "                        structural_summaries=TRUE, basal.wedge=TRUE,\n",
    "                        soil_subsites=TRUE, soil_bulk_density=TRUE, soil_character=TRUE  )\n",
    "\n",
    "# Explore retrieved data\n",
    "class(AP.data)\n",
    "summary(AP.data)\n",
    "str(AP.data)"
   ]
  },
  {
   "cell_type": "code",
   "execution_count": 5,
   "metadata": {},
   "outputs": [
    {
     "data": {
      "text/plain": [
       "          Length Class      Mode     \n",
       "site.info 43     data.frame list     \n",
       "veg.vouch 12     data.frame list     \n",
       "veg.PI    13     data.frame list     \n",
       "citation   1     -none-     character"
      ]
     },
     "metadata": {},
     "output_type": "display_data"
    }
   ],
   "source": [
    "# Example 2: Default data for a particular Geographic Extent\n",
    "# ==========================================================\n",
    "\n",
    "# 'site_info', 'veg.vouchers', and 'veg.PI' data retrived for Brisbane (27.4698S, 153.0251E) and its sourrounding area\n",
    "AP.data = get_ausplots(bounding_box=c(152.5, 153.5, -28, -27))\n",
    "\n",
    "# Explore retrieved data\n",
    "#class(AP.data)   # As in Example 1 (can run uncommented if curious) \n",
    "summary(AP.data)\n",
    "#str(AP.data)   # Similar to Example 1 (can run uncommented if curious) "
   ]
  },
  {
   "cell_type": "code",
   "execution_count": 6,
   "metadata": {},
   "outputs": [
    {
     "data": {
      "text/plain": [
       "            Length Class      Mode     \n",
       "site.info   43     data.frame list     \n",
       "struct.summ 15     data.frame list     \n",
       "veg.basal   10     data.frame list     \n",
       "veg.vouch   12     data.frame list     \n",
       "veg.PI      13     data.frame list     \n",
       "citation     1     -none-     character"
      ]
     },
     "metadata": {},
     "output_type": "display_data"
    },
    {
     "data": {
      "text/html": [
       "<table>\n",
       "<thead><tr><th scope=col>site_location_name</th><th scope=col>veg_barcode</th><th scope=col>herbarium_determination</th><th scope=col>is_uncertain_determination</th><th scope=col>visit_start_date</th><th scope=col>site_location_visit_id</th><th scope=col>primary_gen_barcode</th><th scope=col>secondary_gen_barcode_1</th><th scope=col>secondary_gen_barcode_2</th><th scope=col>secondary_gen_barcode_3</th><th scope=col>secondary_gen_barcode_4</th><th scope=col>site_unique</th></tr></thead>\n",
       "<tbody>\n",
       "\t<tr><td>QDAMUL0003                         </td><td>QDA 001432                         </td><td>Eucalyptus crebra x e. melanophloia</td><td>FALSE                              </td><td>2013-04-26T00:00:00                </td><td>53595                              </td><td>NA                                 </td><td>NA                                 </td><td>NA                                 </td><td>NA                                 </td><td>NA                                 </td><td>QDAMUL0003-53595                   </td></tr>\n",
       "\t<tr><td>SASMDD0002                         </td><td>SAS 000461                         </td><td>Eucalyptus oleosa                  </td><td>FALSE                              </td><td>2012-09-23T00:00:00                </td><td>53711                              </td><td>not collected                      </td><td>NA                                 </td><td>NA                                 </td><td>NA                                 </td><td>NA                                 </td><td>SASMDD0002-53711                   </td></tr>\n",
       "\t<tr><td>SASMDD0002                         </td><td>SAS 000462                         </td><td>Eucalyptus dumosa                  </td><td>FALSE                              </td><td>2012-09-23T00:00:00                </td><td>53711                              </td><td>not collected                      </td><td>NA                                 </td><td>NA                                 </td><td>NA                                 </td><td>NA                                 </td><td>SASMDD0002-53711                   </td></tr>\n",
       "\t<tr><td>SASMDD0002                         </td><td>SAS 000463                         </td><td>Eucalyptus socialis subsp. socialis</td><td>FALSE                              </td><td>2012-09-23T00:00:00                </td><td>53711                              </td><td>not collected                      </td><td>NA                                 </td><td>NA                                 </td><td>NA                                 </td><td>NA                                 </td><td>SASMDD0002-53711                   </td></tr>\n",
       "\t<tr><td>SASMDD0002                         </td><td>SAS 000038                         </td><td>Eucalyptus oleosa subsp. oleosa    </td><td>FALSE                              </td><td>2012-09-23T00:00:00                </td><td>53711                              </td><td>SAS  000521                        </td><td>SAS  000522                        </td><td>SAS  000523                        </td><td>SAS  000524                        </td><td>SAS  000525                        </td><td>SASMDD0002-53711                   </td></tr>\n",
       "\t<tr><td>SASMDD0002                         </td><td>SAS 000039                         </td><td>Eucalyptus dumosa                  </td><td>FALSE                              </td><td>2012-09-23T00:00:00                </td><td>53711                              </td><td>SAS  000526                        </td><td>SAS  000528                        </td><td>SAS  000529                        </td><td>SAS  000527                        </td><td>NA                                 </td><td>SASMDD0002-53711                   </td></tr>\n",
       "</tbody>\n",
       "</table>\n"
      ],
      "text/latex": [
       "\\begin{tabular}{r|llllllllllll}\n",
       " site\\_location\\_name & veg\\_barcode & herbarium\\_determination & is\\_uncertain\\_determination & visit\\_start\\_date & site\\_location\\_visit\\_id & primary\\_gen\\_barcode & secondary\\_gen\\_barcode\\_1 & secondary\\_gen\\_barcode\\_2 & secondary\\_gen\\_barcode\\_3 & secondary\\_gen\\_barcode\\_4 & site\\_unique\\\\\n",
       "\\hline\n",
       "\t QDAMUL0003                          & QDA 001432                          & Eucalyptus crebra x e. melanophloia & FALSE                               & 2013-04-26T00:00:00                 & 53595                               & NA                                  & NA                                  & NA                                  & NA                                  & NA                                  & QDAMUL0003-53595                   \\\\\n",
       "\t SASMDD0002                          & SAS 000461                          & Eucalyptus oleosa                   & FALSE                               & 2012-09-23T00:00:00                 & 53711                               & not collected                       & NA                                  & NA                                  & NA                                  & NA                                  & SASMDD0002-53711                   \\\\\n",
       "\t SASMDD0002                          & SAS 000462                          & Eucalyptus dumosa                   & FALSE                               & 2012-09-23T00:00:00                 & 53711                               & not collected                       & NA                                  & NA                                  & NA                                  & NA                                  & SASMDD0002-53711                   \\\\\n",
       "\t SASMDD0002                          & SAS 000463                          & Eucalyptus socialis subsp. socialis & FALSE                               & 2012-09-23T00:00:00                 & 53711                               & not collected                       & NA                                  & NA                                  & NA                                  & NA                                  & SASMDD0002-53711                   \\\\\n",
       "\t SASMDD0002                          & SAS 000038                          & Eucalyptus oleosa subsp. oleosa     & FALSE                               & 2012-09-23T00:00:00                 & 53711                               & SAS  000521                         & SAS  000522                         & SAS  000523                         & SAS  000524                         & SAS  000525                         & SASMDD0002-53711                   \\\\\n",
       "\t SASMDD0002                          & SAS 000039                          & Eucalyptus dumosa                   & FALSE                               & 2012-09-23T00:00:00                 & 53711                               & SAS  000526                         & SAS  000528                         & SAS  000529                         & SAS  000527                         & NA                                  & SASMDD0002-53711                   \\\\\n",
       "\\end{tabular}\n"
      ],
      "text/markdown": [
       "\n",
       "| site_location_name | veg_barcode | herbarium_determination | is_uncertain_determination | visit_start_date | site_location_visit_id | primary_gen_barcode | secondary_gen_barcode_1 | secondary_gen_barcode_2 | secondary_gen_barcode_3 | secondary_gen_barcode_4 | site_unique |\n",
       "|---|---|---|---|---|---|---|---|---|---|---|---|\n",
       "| QDAMUL0003                          | QDA 001432                          | Eucalyptus crebra x e. melanophloia | FALSE                               | 2013-04-26T00:00:00                 | 53595                               | NA                                  | NA                                  | NA                                  | NA                                  | NA                                  | QDAMUL0003-53595                    |\n",
       "| SASMDD0002                          | SAS 000461                          | Eucalyptus oleosa                   | FALSE                               | 2012-09-23T00:00:00                 | 53711                               | not collected                       | NA                                  | NA                                  | NA                                  | NA                                  | SASMDD0002-53711                    |\n",
       "| SASMDD0002                          | SAS 000462                          | Eucalyptus dumosa                   | FALSE                               | 2012-09-23T00:00:00                 | 53711                               | not collected                       | NA                                  | NA                                  | NA                                  | NA                                  | SASMDD0002-53711                    |\n",
       "| SASMDD0002                          | SAS 000463                          | Eucalyptus socialis subsp. socialis | FALSE                               | 2012-09-23T00:00:00                 | 53711                               | not collected                       | NA                                  | NA                                  | NA                                  | NA                                  | SASMDD0002-53711                    |\n",
       "| SASMDD0002                          | SAS 000038                          | Eucalyptus oleosa subsp. oleosa     | FALSE                               | 2012-09-23T00:00:00                 | 53711                               | SAS  000521                         | SAS  000522                         | SAS  000523                         | SAS  000524                         | SAS  000525                         | SASMDD0002-53711                    |\n",
       "| SASMDD0002                          | SAS 000039                          | Eucalyptus dumosa                   | FALSE                               | 2012-09-23T00:00:00                 | 53711                               | SAS  000526                         | SAS  000528                         | SAS  000529                         | SAS  000527                         | NA                                  | SASMDD0002-53711                    |\n",
       "\n"
      ],
      "text/plain": [
       "  site_location_name veg_barcode herbarium_determination            \n",
       "1 QDAMUL0003         QDA 001432  Eucalyptus crebra x e. melanophloia\n",
       "2 SASMDD0002         SAS 000461  Eucalyptus oleosa                  \n",
       "3 SASMDD0002         SAS 000462  Eucalyptus dumosa                  \n",
       "4 SASMDD0002         SAS 000463  Eucalyptus socialis subsp. socialis\n",
       "5 SASMDD0002         SAS 000038  Eucalyptus oleosa subsp. oleosa    \n",
       "6 SASMDD0002         SAS 000039  Eucalyptus dumosa                  \n",
       "  is_uncertain_determination visit_start_date    site_location_visit_id\n",
       "1 FALSE                      2013-04-26T00:00:00 53595                 \n",
       "2 FALSE                      2012-09-23T00:00:00 53711                 \n",
       "3 FALSE                      2012-09-23T00:00:00 53711                 \n",
       "4 FALSE                      2012-09-23T00:00:00 53711                 \n",
       "5 FALSE                      2012-09-23T00:00:00 53711                 \n",
       "6 FALSE                      2012-09-23T00:00:00 53711                 \n",
       "  primary_gen_barcode secondary_gen_barcode_1 secondary_gen_barcode_2\n",
       "1 NA                  NA                      NA                     \n",
       "2 not collected       NA                      NA                     \n",
       "3 not collected       NA                      NA                     \n",
       "4 not collected       NA                      NA                     \n",
       "5 SAS  000521         SAS  000522             SAS  000523            \n",
       "6 SAS  000526         SAS  000528             SAS  000529            \n",
       "  secondary_gen_barcode_3 secondary_gen_barcode_4 site_unique     \n",
       "1 NA                      NA                      QDAMUL0003-53595\n",
       "2 NA                      NA                      SASMDD0002-53711\n",
       "3 NA                      NA                      SASMDD0002-53711\n",
       "4 NA                      NA                      SASMDD0002-53711\n",
       "5 SAS  000524             SAS  000525             SASMDD0002-53711\n",
       "6 SAS  000527             NA                      SASMDD0002-53711"
      ]
     },
     "metadata": {},
     "output_type": "display_data"
    },
    {
     "data": {
      "text/html": [
       "<table>\n",
       "<thead><tr><th scope=col>site_location_name</th><th scope=col>site_location_visit_id</th><th scope=col>transect</th><th scope=col>point_number</th><th scope=col>veg_barcode</th><th scope=col>herbarium_determination</th><th scope=col>substrate</th><th scope=col>in_canopy_sky</th><th scope=col>dead</th><th scope=col>growth_form</th><th scope=col>height</th><th scope=col>hits_unique</th><th scope=col>site_unique</th></tr></thead>\n",
       "<tbody>\n",
       "\t<tr><td>WAACOO0006                              </td><td>53438                                   </td><td>S1-N1                                   </td><td>0                                       </td><td>NA                                      </td><td>NA                                      </td><td>Crypto                                  </td><td>   NA                                   </td><td>   NA                                   </td><td>NA                                      </td><td> NA                                     </td><td>S1-N1 0                                 </td><td>WAACOO0006-53438                        </td></tr>\n",
       "\t<tr><td>WAACOO0006                              </td><td>53438                                   </td><td>S1-N1                                   </td><td>1                                       </td><td>NA                                      </td><td>NA                                      </td><td>Crypto                                  </td><td>   NA                                   </td><td>   NA                                   </td><td>NA                                      </td><td> NA                                     </td><td>S1-N1 1                                 </td><td>WAACOO0006-53438                        </td></tr>\n",
       "\t<tr><td>WAACOO0006                              </td><td>53438                                   </td><td>S1-N1                                   </td><td>2                                       </td><td>WAA  001053                             </td><td>Melaleuca pauperiflora subsp. fastigiata</td><td>Litter                                  </td><td>FALSE                                   </td><td>FALSE                                   </td><td>Shrub                                   </td><td>3.5                                     </td><td>S1-N1 2                                 </td><td>WAACOO0006-53438                        </td></tr>\n",
       "\t<tr><td>WAACOO0006                              </td><td>53438                                   </td><td>S1-N1                                   </td><td>3                                       </td><td>WAA  001053                             </td><td>Melaleuca pauperiflora subsp. fastigiata</td><td>Litter                                  </td><td>FALSE                                   </td><td>FALSE                                   </td><td>Shrub                                   </td><td>3.5                                     </td><td>S1-N1 3                                 </td><td>WAACOO0006-53438                        </td></tr>\n",
       "\t<tr><td>WAACOO0006                              </td><td>53438                                   </td><td>S1-N1                                   </td><td>4                                       </td><td>WAA  001053                             </td><td>Melaleuca pauperiflora subsp. fastigiata</td><td>Litter                                  </td><td>FALSE                                   </td><td>FALSE                                   </td><td>Shrub                                   </td><td>3.7                                     </td><td>S1-N1 4                                 </td><td>WAACOO0006-53438                        </td></tr>\n",
       "\t<tr><td>WAACOO0006                              </td><td>53438                                   </td><td>S1-N1                                   </td><td>5                                       </td><td>WAA  001053                             </td><td>Melaleuca pauperiflora subsp. fastigiata</td><td>Litter                                  </td><td>FALSE                                   </td><td>FALSE                                   </td><td>Shrub                                   </td><td>3.5                                     </td><td>S1-N1 5                                 </td><td>WAACOO0006-53438                        </td></tr>\n",
       "</tbody>\n",
       "</table>\n"
      ],
      "text/latex": [
       "\\begin{tabular}{r|lllllllllllll}\n",
       " site\\_location\\_name & site\\_location\\_visit\\_id & transect & point\\_number & veg\\_barcode & herbarium\\_determination & substrate & in\\_canopy\\_sky & dead & growth\\_form & height & hits\\_unique & site\\_unique\\\\\n",
       "\\hline\n",
       "\t WAACOO0006                               & 53438                                    & S1-N1                                    & 0                                        & NA                                       & NA                                       & Crypto                                   &    NA                                    &    NA                                    & NA                                       &  NA                                      & S1-N1 0                                  & WAACOO0006-53438                        \\\\\n",
       "\t WAACOO0006                               & 53438                                    & S1-N1                                    & 1                                        & NA                                       & NA                                       & Crypto                                   &    NA                                    &    NA                                    & NA                                       &  NA                                      & S1-N1 1                                  & WAACOO0006-53438                        \\\\\n",
       "\t WAACOO0006                               & 53438                                    & S1-N1                                    & 2                                        & WAA  001053                              & Melaleuca pauperiflora subsp. fastigiata & Litter                                   & FALSE                                    & FALSE                                    & Shrub                                    & 3.5                                      & S1-N1 2                                  & WAACOO0006-53438                        \\\\\n",
       "\t WAACOO0006                               & 53438                                    & S1-N1                                    & 3                                        & WAA  001053                              & Melaleuca pauperiflora subsp. fastigiata & Litter                                   & FALSE                                    & FALSE                                    & Shrub                                    & 3.5                                      & S1-N1 3                                  & WAACOO0006-53438                        \\\\\n",
       "\t WAACOO0006                               & 53438                                    & S1-N1                                    & 4                                        & WAA  001053                              & Melaleuca pauperiflora subsp. fastigiata & Litter                                   & FALSE                                    & FALSE                                    & Shrub                                    & 3.7                                      & S1-N1 4                                  & WAACOO0006-53438                        \\\\\n",
       "\t WAACOO0006                               & 53438                                    & S1-N1                                    & 5                                        & WAA  001053                              & Melaleuca pauperiflora subsp. fastigiata & Litter                                   & FALSE                                    & FALSE                                    & Shrub                                    & 3.5                                      & S1-N1 5                                  & WAACOO0006-53438                        \\\\\n",
       "\\end{tabular}\n"
      ],
      "text/markdown": [
       "\n",
       "| site_location_name | site_location_visit_id | transect | point_number | veg_barcode | herbarium_determination | substrate | in_canopy_sky | dead | growth_form | height | hits_unique | site_unique |\n",
       "|---|---|---|---|---|---|---|---|---|---|---|---|---|\n",
       "| WAACOO0006                               | 53438                                    | S1-N1                                    | 0                                        | NA                                       | NA                                       | Crypto                                   |    NA                                    |    NA                                    | NA                                       |  NA                                      | S1-N1 0                                  | WAACOO0006-53438                         |\n",
       "| WAACOO0006                               | 53438                                    | S1-N1                                    | 1                                        | NA                                       | NA                                       | Crypto                                   |    NA                                    |    NA                                    | NA                                       |  NA                                      | S1-N1 1                                  | WAACOO0006-53438                         |\n",
       "| WAACOO0006                               | 53438                                    | S1-N1                                    | 2                                        | WAA  001053                              | Melaleuca pauperiflora subsp. fastigiata | Litter                                   | FALSE                                    | FALSE                                    | Shrub                                    | 3.5                                      | S1-N1 2                                  | WAACOO0006-53438                         |\n",
       "| WAACOO0006                               | 53438                                    | S1-N1                                    | 3                                        | WAA  001053                              | Melaleuca pauperiflora subsp. fastigiata | Litter                                   | FALSE                                    | FALSE                                    | Shrub                                    | 3.5                                      | S1-N1 3                                  | WAACOO0006-53438                         |\n",
       "| WAACOO0006                               | 53438                                    | S1-N1                                    | 4                                        | WAA  001053                              | Melaleuca pauperiflora subsp. fastigiata | Litter                                   | FALSE                                    | FALSE                                    | Shrub                                    | 3.7                                      | S1-N1 4                                  | WAACOO0006-53438                         |\n",
       "| WAACOO0006                               | 53438                                    | S1-N1                                    | 5                                        | WAA  001053                              | Melaleuca pauperiflora subsp. fastigiata | Litter                                   | FALSE                                    | FALSE                                    | Shrub                                    | 3.5                                      | S1-N1 5                                  | WAACOO0006-53438                         |\n",
       "\n"
      ],
      "text/plain": [
       "  site_location_name site_location_visit_id transect point_number veg_barcode\n",
       "1 WAACOO0006         53438                  S1-N1    0            NA         \n",
       "2 WAACOO0006         53438                  S1-N1    1            NA         \n",
       "3 WAACOO0006         53438                  S1-N1    2            WAA  001053\n",
       "4 WAACOO0006         53438                  S1-N1    3            WAA  001053\n",
       "5 WAACOO0006         53438                  S1-N1    4            WAA  001053\n",
       "6 WAACOO0006         53438                  S1-N1    5            WAA  001053\n",
       "  herbarium_determination                  substrate in_canopy_sky dead \n",
       "1 NA                                       Crypto       NA            NA\n",
       "2 NA                                       Crypto       NA            NA\n",
       "3 Melaleuca pauperiflora subsp. fastigiata Litter    FALSE         FALSE\n",
       "4 Melaleuca pauperiflora subsp. fastigiata Litter    FALSE         FALSE\n",
       "5 Melaleuca pauperiflora subsp. fastigiata Litter    FALSE         FALSE\n",
       "6 Melaleuca pauperiflora subsp. fastigiata Litter    FALSE         FALSE\n",
       "  growth_form height hits_unique site_unique     \n",
       "1 NA           NA    S1-N1 0     WAACOO0006-53438\n",
       "2 NA           NA    S1-N1 1     WAACOO0006-53438\n",
       "3 Shrub       3.5    S1-N1 2     WAACOO0006-53438\n",
       "4 Shrub       3.5    S1-N1 3     WAACOO0006-53438\n",
       "5 Shrub       3.7    S1-N1 4     WAACOO0006-53438\n",
       "6 Shrub       3.5    S1-N1 5     WAACOO0006-53438"
      ]
     },
     "metadata": {},
     "output_type": "display_data"
    },
    {
     "data": {
      "text/html": [
       "<table>\n",
       "<thead><tr><th scope=col>site_location_name</th><th scope=col>site_location_visit_id</th><th scope=col>site_location_id</th><th scope=col>point_id</th><th scope=col>herbarium_determination</th><th scope=col>veg_barcode</th><th scope=col>hits</th><th scope=col>basal_area_factor</th><th scope=col>basal_area</th><th scope=col>site_unique</th></tr></thead>\n",
       "<tbody>\n",
       "\t<tr><td>WAACOO0006         </td><td>53438              </td><td>59857              </td><td>NW                 </td><td>Eucalyptus moderata</td><td>WAA  001048        </td><td>1                  </td><td>0.1                </td><td>0.10               </td><td>WAACOO0006-53438   </td></tr>\n",
       "\t<tr><td>WAACOO0006         </td><td>53438              </td><td>59857              </td><td>NW                 </td><td>Eucalyptus salubris</td><td>WAA  001083        </td><td>5                  </td><td>0.1                </td><td>0.50               </td><td>WAACOO0006-53438   </td></tr>\n",
       "\t<tr><td>WAACOO0006         </td><td>53438              </td><td>59857              </td><td>NW                 </td><td>Eucalyptus salubris</td><td>WAA  001093        </td><td>7                  </td><td>0.1                </td><td>0.70               </td><td>WAACOO0006-53438   </td></tr>\n",
       "\t<tr><td>WAACOO0006         </td><td>53438              </td><td>59857              </td><td>N                  </td><td>Eucalyptus moderata</td><td>WAA  001048        </td><td>0                  </td><td>0.1                </td><td>0.00               </td><td>WAACOO0006-53438   </td></tr>\n",
       "\t<tr><td>WAACOO0006         </td><td>53438              </td><td>59857              </td><td>N                  </td><td>Eucalyptus salubris</td><td>WAA  001083        </td><td>2                  </td><td>0.1                </td><td>0.15               </td><td>WAACOO0006-53438   </td></tr>\n",
       "\t<tr><td>WAACOO0006         </td><td>53438              </td><td>59857              </td><td>N                  </td><td>Eucalyptus salubris</td><td>WAA  001093        </td><td>4                  </td><td>0.1                </td><td>0.40               </td><td>WAACOO0006-53438   </td></tr>\n",
       "</tbody>\n",
       "</table>\n"
      ],
      "text/latex": [
       "\\begin{tabular}{r|llllllllll}\n",
       " site\\_location\\_name & site\\_location\\_visit\\_id & site\\_location\\_id & point\\_id & herbarium\\_determination & veg\\_barcode & hits & basal\\_area\\_factor & basal\\_area & site\\_unique\\\\\n",
       "\\hline\n",
       "\t WAACOO0006          & 53438               & 59857               & NW                  & Eucalyptus moderata & WAA  001048         & 1                   & 0.1                 & 0.10                & WAACOO0006-53438   \\\\\n",
       "\t WAACOO0006          & 53438               & 59857               & NW                  & Eucalyptus salubris & WAA  001083         & 5                   & 0.1                 & 0.50                & WAACOO0006-53438   \\\\\n",
       "\t WAACOO0006          & 53438               & 59857               & NW                  & Eucalyptus salubris & WAA  001093         & 7                   & 0.1                 & 0.70                & WAACOO0006-53438   \\\\\n",
       "\t WAACOO0006          & 53438               & 59857               & N                   & Eucalyptus moderata & WAA  001048         & 0                   & 0.1                 & 0.00                & WAACOO0006-53438   \\\\\n",
       "\t WAACOO0006          & 53438               & 59857               & N                   & Eucalyptus salubris & WAA  001083         & 2                   & 0.1                 & 0.15                & WAACOO0006-53438   \\\\\n",
       "\t WAACOO0006          & 53438               & 59857               & N                   & Eucalyptus salubris & WAA  001093         & 4                   & 0.1                 & 0.40                & WAACOO0006-53438   \\\\\n",
       "\\end{tabular}\n"
      ],
      "text/markdown": [
       "\n",
       "| site_location_name | site_location_visit_id | site_location_id | point_id | herbarium_determination | veg_barcode | hits | basal_area_factor | basal_area | site_unique |\n",
       "|---|---|---|---|---|---|---|---|---|---|\n",
       "| WAACOO0006          | 53438               | 59857               | NW                  | Eucalyptus moderata | WAA  001048         | 1                   | 0.1                 | 0.10                | WAACOO0006-53438    |\n",
       "| WAACOO0006          | 53438               | 59857               | NW                  | Eucalyptus salubris | WAA  001083         | 5                   | 0.1                 | 0.50                | WAACOO0006-53438    |\n",
       "| WAACOO0006          | 53438               | 59857               | NW                  | Eucalyptus salubris | WAA  001093         | 7                   | 0.1                 | 0.70                | WAACOO0006-53438    |\n",
       "| WAACOO0006          | 53438               | 59857               | N                   | Eucalyptus moderata | WAA  001048         | 0                   | 0.1                 | 0.00                | WAACOO0006-53438    |\n",
       "| WAACOO0006          | 53438               | 59857               | N                   | Eucalyptus salubris | WAA  001083         | 2                   | 0.1                 | 0.15                | WAACOO0006-53438    |\n",
       "| WAACOO0006          | 53438               | 59857               | N                   | Eucalyptus salubris | WAA  001093         | 4                   | 0.1                 | 0.40                | WAACOO0006-53438    |\n",
       "\n"
      ],
      "text/plain": [
       "  site_location_name site_location_visit_id site_location_id point_id\n",
       "1 WAACOO0006         53438                  59857            NW      \n",
       "2 WAACOO0006         53438                  59857            NW      \n",
       "3 WAACOO0006         53438                  59857            NW      \n",
       "4 WAACOO0006         53438                  59857            N       \n",
       "5 WAACOO0006         53438                  59857            N       \n",
       "6 WAACOO0006         53438                  59857            N       \n",
       "  herbarium_determination veg_barcode hits basal_area_factor basal_area\n",
       "1 Eucalyptus moderata     WAA  001048 1    0.1               0.10      \n",
       "2 Eucalyptus salubris     WAA  001083 5    0.1               0.50      \n",
       "3 Eucalyptus salubris     WAA  001093 7    0.1               0.70      \n",
       "4 Eucalyptus moderata     WAA  001048 0    0.1               0.00      \n",
       "5 Eucalyptus salubris     WAA  001083 2    0.1               0.15      \n",
       "6 Eucalyptus salubris     WAA  001093 4    0.1               0.40      \n",
       "  site_unique     \n",
       "1 WAACOO0006-53438\n",
       "2 WAACOO0006-53438\n",
       "3 WAACOO0006-53438\n",
       "4 WAACOO0006-53438\n",
       "5 WAACOO0006-53438\n",
       "6 WAACOO0006-53438"
      ]
     },
     "metadata": {},
     "output_type": "display_data"
    },
    {
     "data": {
      "text/html": [
       "<table>\n",
       "<thead><tr><th scope=col>site_location_name</th><th scope=col>site_location_visit_id</th><th scope=col>phenology_comment</th><th scope=col>upper_1_dominant</th><th scope=col>upper_2_dominant</th><th scope=col>upper_3_dominant</th><th scope=col>mid_1_dominant</th><th scope=col>mid_2_dominant</th><th scope=col>mid_3_dominant</th><th scope=col>ground_1_dominant</th><th scope=col>ground_2_dominant</th><th scope=col>ground_3_dominant</th><th scope=col>description</th><th scope=col>mass_flowering_event</th><th scope=col>site_unique</th></tr></thead>\n",
       "<tbody>\n",
       "\t<tr><td>QDAMUL0003                                                                                                                                                                                                                                                                 </td><td>53595                                                                                                                                                                                                                                                                      </td><td> Mulga have just finished flowering but no fruit. Tussock grasses mostly dry. Dom hibiscus in ground layer has just finished fruiting throughout the site                                                                                                                  </td><td>QDA 001428                                                                                                                                                                                                                                                                 </td><td>QDA 001432                                                                                                                                                                                                                                                                 </td><td>                                                                                                                                                                                                                                                                           </td><td>QDA 001428                                                                                                                                                                                                                                                                 </td><td>                                                                                                                                                                                                                                                                           </td><td>                                                                                                                                                                                                                                                                           </td><td>QDA 001438                                                                                                                                                                                                                                                                 </td><td>QDA 001402                                                                                                                                                                                                                                                                 </td><td>                                                                                                                                                                                                                                                                           </td><td>Acacia aneura var. major low open forest with emergent Eucalyptus crebra x E. melanophloia. Mid stratum of juvenile Acacia aneura var. major. Sparse ground stratum dominated by Thyridolepis xerophila with Hibiscus sturtii                                              </td><td>FALSE                                                                                                                                                                                                                                                                      </td><td>QDAMUL0003-53595                                                                                                                                                                                                                                                           </td></tr>\n",
       "\t<tr><td>SASMDD0002                                                                                                                                                                                                                                                                 </td><td>53711                                                                                                                                                                                                                                                                      </td><td>None                                                                                                                                                                                                                                                                       </td><td>SAS 000461                                                                                                                                                                                                                                                                 </td><td>SAS 000463                                                                                                                                                                                                                                                                 </td><td>SAS 000462                                                                                                                                                                                                                                                                 </td><td>SAS 000041                                                                                                                                                                                                                                                                 </td><td>SAS 000047                                                                                                                                                                                                                                                                 </td><td>SAS 000049                                                                                                                                                                                                                                                                 </td><td>SAS 000453                                                                                                                                                                                                                                                                 </td><td>SAS 000465                                                                                                                                                                                                                                                                 </td><td>NA                                                                                                                                                                                                                                                                         </td><td>Eucalyptus oleosa / Eucalyptus socialis subsp. socialis / Eucalyptus dumosa mixed mid open Mallee forest. Sparse mid layer of isolated shrubs and a sparse ground layer dominated by Maireana pentatropis and Austrostipa sp.                                              </td><td>FALSE                                                                                                                                                                                                                                                                      </td><td>SASMDD0002-53711                                                                                                                                                                                                                                                           </td></tr>\n",
       "\t<tr><td>SASMDD0016                                                                                                                                                                                                                                                                 </td><td>57000                                                                                                                                                                                                                                                                      </td><td>NC                                                                                                                                                                                                                                                                         </td><td>SAS001764                                                                                                                                                                                                                                                                  </td><td>SAS001732                                                                                                                                                                                                                                                                  </td><td>None                                                                                                                                                                                                                                                                       </td><td>SAS001758                                                                                                                                                                                                                                                                  </td><td>None                                                                                                                                                                                                                                                                       </td><td>None                                                                                                                                                                                                                                                                       </td><td>SAS001770                                                                                                                                                                                                                                                                  </td><td>-1                                                                                                                                                                                                                                                                         </td><td>-1                                                                                                                                                                                                                                                                         </td><td>Eucalyptus oleosa  mid Mallee woodland with Eucalyptus gracilis. Mid stratum of Senna artemisioides subsp. coriacea and a ground stratum dominated by Zygophyllum aurantiacum subsp. aurantiacum and mixed scattered chenopods mainly  Atriplex stipitata and Maireana spp.</td><td>FALSE                                                                                                                                                                                                                                                                      </td><td>SASMDD0016-57000                                                                                                                                                                                                                                                           </td></tr>\n",
       "\t<tr><td>NSAMDD0005                                                                                                                                                                                                                                                                 </td><td>56969                                                                                                                                                                                                                                                                      </td><td>NC                                                                                                                                                                                                                                                                         </td><td>NSA 010375                                                                                                                                                                                                                                                                 </td><td>NSA 010439                                                                                                                                                                                                                                                                 </td><td>NSA 010391                                                                                                                                                                                                                                                                 </td><td>NSA 010387                                                                                                                                                                                                                                                                 </td><td>None                                                                                                                                                                                                                                                                       </td><td>None                                                                                                                                                                                                                                                                       </td><td>NSA 010433                                                                                                                                                                                                                                                                 </td><td>NSA 010453                                                                                                                                                                                                                                                                 </td><td>NSA 010465                                                                                                                                                                                                                                                                 </td><td>Eucalyptus dumosa subsp. dumosa, E. socialis and E. gracilis Mallee low woodland (4-6m) with mixed species mid layer dominated by Eremophila longifolia (1-3m) and ground layer of Enchylaena tomentosa, Zygophyllum sp. and Maireana pentatropis on dunes.                </td><td>FALSE                                                                                                                                                                                                                                                                      </td><td>NSAMDD0005-56969                                                                                                                                                                                                                                                           </td></tr>\n",
       "\t<tr><td>QDAMUL0001                                                                                                                                                                                                                                                                 </td><td>53594                                                                                                                                                                                                                                                                      </td><td>NA                                                                                                                                                                                                                                                                         </td><td>QDA 001355                                                                                                                                                                                                                                                                 </td><td>QDA 001363                                                                                                                                                                                                                                                                 </td><td>QDA 001329                                                                                                                                                                                                                                                                 </td><td>QDA 001355                                                                                                                                                                                                                                                                 </td><td>NA                                                                                                                                                                                                                                                                         </td><td>NA                                                                                                                                                                                                                                                                         </td><td>QDA 001341                                                                                                                                                                                                                                                                 </td><td>NA                                                                                                                                                                                                                                                                         </td><td>NA                                                                                                                                                                                                                                                                         </td><td>Acacia aneura var. major wood low open forest with emergent Eucalyptus populnea and Eucalyptus melanophloia - E. whitei intergrade. Mid stratum of juvenile Acacia aneura var. major. Minimal ground stratum                                                               </td><td>FALSE                                                                                                                                                                                                                                                                      </td><td>QDAMUL0001-53594                                                                                                                                                                                                                                                           </td></tr>\n",
       "\t<tr><td>NTAGFU0032                                                                                                                                                                                                                                                                 </td><td>53679                                                                                                                                                                                                                                                                      </td><td>Melaleuca stenostachya has finished flowering and with not much fruit present. Tussock grasses all dry.                                                                                                                                                                    </td><td>                                                                                                                                                                                                                                                                           </td><td>                                                                                                                                                                                                                                                                           </td><td>                                                                                                                                                                                                                                                                           </td><td>NTA 004067                                                                                                                                                                                                                                                                 </td><td>NTA 004077                                                                                                                                                                                                                                                                 </td><td>                                                                                                                                                                                                                                                                           </td><td>NTA 004037                                                                                                                                                                                                                                                                 </td><td>NTA 004021                                                                                                                                                                                                                                                                 </td><td>                                                                                                                                                                                                                                                                           </td><td>Melaleuca stenostachya tall open shrubland with a tussock grass ground stratum of Sorghum plumosum. and Aristida holathera. Some recruitment in the Eucalyptus pruinosa and Melaleuca stenostachya with the cohort averaging 30cm.                                         </td><td>FALSE                                                                                                                                                                                                                                                                      </td><td>NTAGFU0032-53679                                                                                                                                                                                                                                                           </td></tr>\n",
       "</tbody>\n",
       "</table>\n"
      ],
      "text/latex": [
       "\\begin{tabular}{r|lllllllllllllll}\n",
       " site\\_location\\_name & site\\_location\\_visit\\_id & phenology\\_comment & upper\\_1\\_dominant & upper\\_2\\_dominant & upper\\_3\\_dominant & mid\\_1\\_dominant & mid\\_2\\_dominant & mid\\_3\\_dominant & ground\\_1\\_dominant & ground\\_2\\_dominant & ground\\_3\\_dominant & description & mass\\_flowering\\_event & site\\_unique\\\\\n",
       "\\hline\n",
       "\t QDAMUL0003                                                                                                                                                                                                                                                                  & 53595                                                                                                                                                                                                                                                                       &  Mulga have just finished flowering but no fruit. Tussock grasses mostly dry. Dom hibiscus in ground layer has just finished fruiting throughout the site                                                                                                                   & QDA 001428                                                                                                                                                                                                                                                                  & QDA 001432                                                                                                                                                                                                                                                                  &                                                                                                                                                                                                                                                                             & QDA 001428                                                                                                                                                                                                                                                                  &                                                                                                                                                                                                                                                                             &                                                                                                                                                                                                                                                                             & QDA 001438                                                                                                                                                                                                                                                                  & QDA 001402                                                                                                                                                                                                                                                                  &                                                                                                                                                                                                                                                                             & Acacia aneura var. major low open forest with emergent Eucalyptus crebra x E. melanophloia. Mid stratum of juvenile Acacia aneura var. major. Sparse ground stratum dominated by Thyridolepis xerophila with Hibiscus sturtii                                               & FALSE                                                                                                                                                                                                                                                                       & QDAMUL0003-53595                                                                                                                                                                                                                                                           \\\\\n",
       "\t SASMDD0002                                                                                                                                                                                                                                                                  & 53711                                                                                                                                                                                                                                                                       & None                                                                                                                                                                                                                                                                        & SAS 000461                                                                                                                                                                                                                                                                  & SAS 000463                                                                                                                                                                                                                                                                  & SAS 000462                                                                                                                                                                                                                                                                  & SAS 000041                                                                                                                                                                                                                                                                  & SAS 000047                                                                                                                                                                                                                                                                  & SAS 000049                                                                                                                                                                                                                                                                  & SAS 000453                                                                                                                                                                                                                                                                  & SAS 000465                                                                                                                                                                                                                                                                  & NA                                                                                                                                                                                                                                                                          & Eucalyptus oleosa / Eucalyptus socialis subsp. socialis / Eucalyptus dumosa mixed mid open Mallee forest. Sparse mid layer of isolated shrubs and a sparse ground layer dominated by Maireana pentatropis and Austrostipa sp.                                               & FALSE                                                                                                                                                                                                                                                                       & SASMDD0002-53711                                                                                                                                                                                                                                                           \\\\\n",
       "\t SASMDD0016                                                                                                                                                                                                                                                                  & 57000                                                                                                                                                                                                                                                                       & NC                                                                                                                                                                                                                                                                          & SAS001764                                                                                                                                                                                                                                                                   & SAS001732                                                                                                                                                                                                                                                                   & None                                                                                                                                                                                                                                                                        & SAS001758                                                                                                                                                                                                                                                                   & None                                                                                                                                                                                                                                                                        & None                                                                                                                                                                                                                                                                        & SAS001770                                                                                                                                                                                                                                                                   & -1                                                                                                                                                                                                                                                                          & -1                                                                                                                                                                                                                                                                          & Eucalyptus oleosa  mid Mallee woodland with Eucalyptus gracilis. Mid stratum of Senna artemisioides subsp. coriacea and a ground stratum dominated by Zygophyllum aurantiacum subsp. aurantiacum and mixed scattered chenopods mainly  Atriplex stipitata and Maireana spp. & FALSE                                                                                                                                                                                                                                                                       & SASMDD0016-57000                                                                                                                                                                                                                                                           \\\\\n",
       "\t NSAMDD0005                                                                                                                                                                                                                                                                  & 56969                                                                                                                                                                                                                                                                       & NC                                                                                                                                                                                                                                                                          & NSA 010375                                                                                                                                                                                                                                                                  & NSA 010439                                                                                                                                                                                                                                                                  & NSA 010391                                                                                                                                                                                                                                                                  & NSA 010387                                                                                                                                                                                                                                                                  & None                                                                                                                                                                                                                                                                        & None                                                                                                                                                                                                                                                                        & NSA 010433                                                                                                                                                                                                                                                                  & NSA 010453                                                                                                                                                                                                                                                                  & NSA 010465                                                                                                                                                                                                                                                                  & Eucalyptus dumosa subsp. dumosa, E. socialis and E. gracilis Mallee low woodland (4-6m) with mixed species mid layer dominated by Eremophila longifolia (1-3m) and ground layer of Enchylaena tomentosa, Zygophyllum sp. and Maireana pentatropis on dunes.                 & FALSE                                                                                                                                                                                                                                                                       & NSAMDD0005-56969                                                                                                                                                                                                                                                           \\\\\n",
       "\t QDAMUL0001                                                                                                                                                                                                                                                                  & 53594                                                                                                                                                                                                                                                                       & NA                                                                                                                                                                                                                                                                          & QDA 001355                                                                                                                                                                                                                                                                  & QDA 001363                                                                                                                                                                                                                                                                  & QDA 001329                                                                                                                                                                                                                                                                  & QDA 001355                                                                                                                                                                                                                                                                  & NA                                                                                                                                                                                                                                                                          & NA                                                                                                                                                                                                                                                                          & QDA 001341                                                                                                                                                                                                                                                                  & NA                                                                                                                                                                                                                                                                          & NA                                                                                                                                                                                                                                                                          & Acacia aneura var. major wood low open forest with emergent Eucalyptus populnea and Eucalyptus melanophloia - E. whitei intergrade. Mid stratum of juvenile Acacia aneura var. major. Minimal ground stratum                                                                & FALSE                                                                                                                                                                                                                                                                       & QDAMUL0001-53594                                                                                                                                                                                                                                                           \\\\\n",
       "\t NTAGFU0032                                                                                                                                                                                                                                                                  & 53679                                                                                                                                                                                                                                                                       & Melaleuca stenostachya has finished flowering and with not much fruit present. Tussock grasses all dry.                                                                                                                                                                     &                                                                                                                                                                                                                                                                             &                                                                                                                                                                                                                                                                             &                                                                                                                                                                                                                                                                             & NTA 004067                                                                                                                                                                                                                                                                  & NTA 004077                                                                                                                                                                                                                                                                  &                                                                                                                                                                                                                                                                             & NTA 004037                                                                                                                                                                                                                                                                  & NTA 004021                                                                                                                                                                                                                                                                  &                                                                                                                                                                                                                                                                             & Melaleuca stenostachya tall open shrubland with a tussock grass ground stratum of Sorghum plumosum. and Aristida holathera. Some recruitment in the Eucalyptus pruinosa and Melaleuca stenostachya with the cohort averaging 30cm.                                          & FALSE                                                                                                                                                                                                                                                                       & NTAGFU0032-53679                                                                                                                                                                                                                                                           \\\\\n",
       "\\end{tabular}\n"
      ],
      "text/markdown": [
       "\n",
       "| site_location_name | site_location_visit_id | phenology_comment | upper_1_dominant | upper_2_dominant | upper_3_dominant | mid_1_dominant | mid_2_dominant | mid_3_dominant | ground_1_dominant | ground_2_dominant | ground_3_dominant | description | mass_flowering_event | site_unique |\n",
       "|---|---|---|---|---|---|---|---|---|---|---|---|---|---|---|\n",
       "| QDAMUL0003                                                                                                                                                                                                                                                                  | 53595                                                                                                                                                                                                                                                                       |  Mulga have just finished flowering but no fruit. Tussock grasses mostly dry. Dom hibiscus in ground layer has just finished fruiting throughout the site                                                                                                                   | QDA 001428                                                                                                                                                                                                                                                                  | QDA 001432                                                                                                                                                                                                                                                                  |                                                                                                                                                                                                                                                                             | QDA 001428                                                                                                                                                                                                                                                                  |                                                                                                                                                                                                                                                                             |                                                                                                                                                                                                                                                                             | QDA 001438                                                                                                                                                                                                                                                                  | QDA 001402                                                                                                                                                                                                                                                                  |                                                                                                                                                                                                                                                                             | Acacia aneura var. major low open forest with emergent Eucalyptus crebra x E. melanophloia. Mid stratum of juvenile Acacia aneura var. major. Sparse ground stratum dominated by Thyridolepis xerophila with Hibiscus sturtii                                               | FALSE                                                                                                                                                                                                                                                                       | QDAMUL0003-53595                                                                                                                                                                                                                                                            |\n",
       "| SASMDD0002                                                                                                                                                                                                                                                                  | 53711                                                                                                                                                                                                                                                                       | None                                                                                                                                                                                                                                                                        | SAS 000461                                                                                                                                                                                                                                                                  | SAS 000463                                                                                                                                                                                                                                                                  | SAS 000462                                                                                                                                                                                                                                                                  | SAS 000041                                                                                                                                                                                                                                                                  | SAS 000047                                                                                                                                                                                                                                                                  | SAS 000049                                                                                                                                                                                                                                                                  | SAS 000453                                                                                                                                                                                                                                                                  | SAS 000465                                                                                                                                                                                                                                                                  | NA                                                                                                                                                                                                                                                                          | Eucalyptus oleosa / Eucalyptus socialis subsp. socialis / Eucalyptus dumosa mixed mid open Mallee forest. Sparse mid layer of isolated shrubs and a sparse ground layer dominated by Maireana pentatropis and Austrostipa sp.                                               | FALSE                                                                                                                                                                                                                                                                       | SASMDD0002-53711                                                                                                                                                                                                                                                            |\n",
       "| SASMDD0016                                                                                                                                                                                                                                                                  | 57000                                                                                                                                                                                                                                                                       | NC                                                                                                                                                                                                                                                                          | SAS001764                                                                                                                                                                                                                                                                   | SAS001732                                                                                                                                                                                                                                                                   | None                                                                                                                                                                                                                                                                        | SAS001758                                                                                                                                                                                                                                                                   | None                                                                                                                                                                                                                                                                        | None                                                                                                                                                                                                                                                                        | SAS001770                                                                                                                                                                                                                                                                   | -1                                                                                                                                                                                                                                                                          | -1                                                                                                                                                                                                                                                                          | Eucalyptus oleosa  mid Mallee woodland with Eucalyptus gracilis. Mid stratum of Senna artemisioides subsp. coriacea and a ground stratum dominated by Zygophyllum aurantiacum subsp. aurantiacum and mixed scattered chenopods mainly  Atriplex stipitata and Maireana spp. | FALSE                                                                                                                                                                                                                                                                       | SASMDD0016-57000                                                                                                                                                                                                                                                            |\n",
       "| NSAMDD0005                                                                                                                                                                                                                                                                  | 56969                                                                                                                                                                                                                                                                       | NC                                                                                                                                                                                                                                                                          | NSA 010375                                                                                                                                                                                                                                                                  | NSA 010439                                                                                                                                                                                                                                                                  | NSA 010391                                                                                                                                                                                                                                                                  | NSA 010387                                                                                                                                                                                                                                                                  | None                                                                                                                                                                                                                                                                        | None                                                                                                                                                                                                                                                                        | NSA 010433                                                                                                                                                                                                                                                                  | NSA 010453                                                                                                                                                                                                                                                                  | NSA 010465                                                                                                                                                                                                                                                                  | Eucalyptus dumosa subsp. dumosa, E. socialis and E. gracilis Mallee low woodland (4-6m) with mixed species mid layer dominated by Eremophila longifolia (1-3m) and ground layer of Enchylaena tomentosa, Zygophyllum sp. and Maireana pentatropis on dunes.                 | FALSE                                                                                                                                                                                                                                                                       | NSAMDD0005-56969                                                                                                                                                                                                                                                            |\n",
       "| QDAMUL0001                                                                                                                                                                                                                                                                  | 53594                                                                                                                                                                                                                                                                       | NA                                                                                                                                                                                                                                                                          | QDA 001355                                                                                                                                                                                                                                                                  | QDA 001363                                                                                                                                                                                                                                                                  | QDA 001329                                                                                                                                                                                                                                                                  | QDA 001355                                                                                                                                                                                                                                                                  | NA                                                                                                                                                                                                                                                                          | NA                                                                                                                                                                                                                                                                          | QDA 001341                                                                                                                                                                                                                                                                  | NA                                                                                                                                                                                                                                                                          | NA                                                                                                                                                                                                                                                                          | Acacia aneura var. major wood low open forest with emergent Eucalyptus populnea and Eucalyptus melanophloia - E. whitei intergrade. Mid stratum of juvenile Acacia aneura var. major. Minimal ground stratum                                                                | FALSE                                                                                                                                                                                                                                                                       | QDAMUL0001-53594                                                                                                                                                                                                                                                            |\n",
       "| NTAGFU0032                                                                                                                                                                                                                                                                  | 53679                                                                                                                                                                                                                                                                       | Melaleuca stenostachya has finished flowering and with not much fruit present. Tussock grasses all dry.                                                                                                                                                                     |                                                                                                                                                                                                                                                                             |                                                                                                                                                                                                                                                                             |                                                                                                                                                                                                                                                                             | NTA 004067                                                                                                                                                                                                                                                                  | NTA 004077                                                                                                                                                                                                                                                                  |                                                                                                                                                                                                                                                                             | NTA 004037                                                                                                                                                                                                                                                                  | NTA 004021                                                                                                                                                                                                                                                                  |                                                                                                                                                                                                                                                                             | Melaleuca stenostachya tall open shrubland with a tussock grass ground stratum of Sorghum plumosum. and Aristida holathera. Some recruitment in the Eucalyptus pruinosa and Melaleuca stenostachya with the cohort averaging 30cm.                                          | FALSE                                                                                                                                                                                                                                                                       | NTAGFU0032-53679                                                                                                                                                                                                                                                            |\n",
       "\n"
      ],
      "text/plain": [
       "  site_location_name site_location_visit_id\n",
       "1 QDAMUL0003         53595                 \n",
       "2 SASMDD0002         53711                 \n",
       "3 SASMDD0016         57000                 \n",
       "4 NSAMDD0005         56969                 \n",
       "5 QDAMUL0001         53594                 \n",
       "6 NTAGFU0032         53679                 \n",
       "  phenology_comment                                                                                                                                        \n",
       "1  Mulga have just finished flowering but no fruit. Tussock grasses mostly dry. Dom hibiscus in ground layer has just finished fruiting throughout the site\n",
       "2 None                                                                                                                                                     \n",
       "3 NC                                                                                                                                                       \n",
       "4 NC                                                                                                                                                       \n",
       "5 NA                                                                                                                                                       \n",
       "6 Melaleuca stenostachya has finished flowering and with not much fruit present. Tussock grasses all dry.                                                  \n",
       "  upper_1_dominant upper_2_dominant upper_3_dominant mid_1_dominant\n",
       "1 QDA 001428       QDA 001432                        QDA 001428    \n",
       "2 SAS 000461       SAS 000463       SAS 000462       SAS 000041    \n",
       "3 SAS001764        SAS001732        None             SAS001758     \n",
       "4 NSA 010375       NSA 010439       NSA 010391       NSA 010387    \n",
       "5 QDA 001355       QDA 001363       QDA 001329       QDA 001355    \n",
       "6                                                    NTA 004067    \n",
       "  mid_2_dominant mid_3_dominant ground_1_dominant ground_2_dominant\n",
       "1                               QDA 001438        QDA 001402       \n",
       "2 SAS 000047     SAS 000049     SAS 000453        SAS 000465       \n",
       "3 None           None           SAS001770         -1               \n",
       "4 None           None           NSA 010433        NSA 010453       \n",
       "5 NA             NA             QDA 001341        NA               \n",
       "6 NTA 004077                    NTA 004037        NTA 004021       \n",
       "  ground_3_dominant\n",
       "1                  \n",
       "2 NA               \n",
       "3 -1               \n",
       "4 NSA 010465       \n",
       "5 NA               \n",
       "6                  \n",
       "  description                                                                                                                                                                                                                                                                \n",
       "1 Acacia aneura var. major low open forest with emergent Eucalyptus crebra x E. melanophloia. Mid stratum of juvenile Acacia aneura var. major. Sparse ground stratum dominated by Thyridolepis xerophila with Hibiscus sturtii                                              \n",
       "2 Eucalyptus oleosa / Eucalyptus socialis subsp. socialis / Eucalyptus dumosa mixed mid open Mallee forest. Sparse mid layer of isolated shrubs and a sparse ground layer dominated by Maireana pentatropis and Austrostipa sp.                                              \n",
       "3 Eucalyptus oleosa  mid Mallee woodland with Eucalyptus gracilis. Mid stratum of Senna artemisioides subsp. coriacea and a ground stratum dominated by Zygophyllum aurantiacum subsp. aurantiacum and mixed scattered chenopods mainly  Atriplex stipitata and Maireana spp.\n",
       "4 Eucalyptus dumosa subsp. dumosa, E. socialis and E. gracilis Mallee low woodland (4-6m) with mixed species mid layer dominated by Eremophila longifolia (1-3m) and ground layer of Enchylaena tomentosa, Zygophyllum sp. and Maireana pentatropis on dunes.                \n",
       "5 Acacia aneura var. major wood low open forest with emergent Eucalyptus populnea and Eucalyptus melanophloia - E. whitei intergrade. Mid stratum of juvenile Acacia aneura var. major. Minimal ground stratum                                                               \n",
       "6 Melaleuca stenostachya tall open shrubland with a tussock grass ground stratum of Sorghum plumosum. and Aristida holathera. Some recruitment in the Eucalyptus pruinosa and Melaleuca stenostachya with the cohort averaging 30cm.                                         \n",
       "  mass_flowering_event site_unique     \n",
       "1 FALSE                QDAMUL0003-53595\n",
       "2 FALSE                SASMDD0002-53711\n",
       "3 FALSE                SASMDD0016-57000\n",
       "4 FALSE                NSAMDD0005-56969\n",
       "5 FALSE                QDAMUL0001-53594\n",
       "6 FALSE                NTAGFU0032-53679"
      ]
     },
     "metadata": {},
     "output_type": "display_data"
    }
   ],
   "source": [
    "# Example 3: 'Default data' + 'basal.wedge' + 'structural_summaries' for the genus Eucalyptus\n",
    "# ===========================================================================================\n",
    "\n",
    "# Default data frames ('site_info', 'veg.vouchers', and 'veg.PI') + 'basal.wedge' + structural_summaries data frames for the genus Eucalyptus\n",
    "AP.data = get_ausplots(basal.wedge=TRUE, structural_summaries=TRUE, species_name_search=\"Eucalyptus\") \n",
    "\n",
    "# Explore retrieved data\n",
    "#class(AP.data)   # As in Example 1 (can run uncommented if curious) \n",
    "summary(AP.data)\n",
    "#str(AP.data)   # Similar to Example 1 (can run uncommented if curious) \n",
    "\n",
    "# Explore species contained in each data frame\n",
    "head(AP.data$veg.vouch) # Includes Records that match 'eucalyptus'\n",
    "head(AP.data$veg.PI)  # Includes Plots where 'eucalyptus' occurs\n",
    "head(AP.data$veg.basal)  # Includes Records that match 'eucalyptus'\n",
    "head(AP.data$struct.summ)  # Includes Plots where 'eucalyptus' occurs"
   ]
  },
  {
   "cell_type": "code",
   "execution_count": 7,
   "metadata": {},
   "outputs": [
    {
     "data": {
      "text/plain": [
       "Time difference of 37.38548 secs"
      ]
     },
     "metadata": {},
     "output_type": "display_data"
    },
    {
     "data": {
      "text/plain": [
       "          Length Class      Mode     \n",
       "site.info 43     data.frame list     \n",
       "veg.basal 10     data.frame list     \n",
       "veg.PI    13     data.frame list     \n",
       "citation   1     -none-     character"
      ]
     },
     "metadata": {},
     "output_type": "display_data"
    },
    {
     "data": {
      "text/html": [
       "<ol class=list-inline>\n",
       "\t<li>662</li>\n",
       "\t<li>43</li>\n",
       "</ol>\n"
      ],
      "text/latex": [
       "\\begin{enumerate*}\n",
       "\\item 662\n",
       "\\item 43\n",
       "\\end{enumerate*}\n"
      ],
      "text/markdown": [
       "1. 662\n",
       "2. 43\n",
       "\n",
       "\n"
      ],
      "text/plain": [
       "[1] 662  43"
      ]
     },
     "metadata": {},
     "output_type": "display_data"
    },
    {
     "data": {
      "text/html": [
       "<ol class=list-inline>\n",
       "\t<li>'site_location_name'</li>\n",
       "\t<li>'established_date'</li>\n",
       "\t<li>'description'</li>\n",
       "\t<li>'bioregion_name'</li>\n",
       "\t<li>'landform_pattern'</li>\n",
       "\t<li>'landform_element'</li>\n",
       "\t<li>'site_slope'</li>\n",
       "\t<li>'site_aspect'</li>\n",
       "\t<li>'comments'</li>\n",
       "\t<li>'outcrop_lithology'</li>\n",
       "\t<li>'other_outcrop_lithology'</li>\n",
       "\t<li>'plot_dimensions'</li>\n",
       "\t<li>'site_location_visit_id'</li>\n",
       "\t<li>'visit_start_date'</li>\n",
       "\t<li>'visit_end_date'</li>\n",
       "\t<li>'visit_notes'</li>\n",
       "\t<li>'location_description'</li>\n",
       "\t<li>'erosion_type'</li>\n",
       "\t<li>'erosion_abundance'</li>\n",
       "\t<li>'erosion_state'</li>\n",
       "\t<li>'microrelief'</li>\n",
       "\t<li>'drainage_type'</li>\n",
       "\t<li>'disturbance'</li>\n",
       "\t<li>'climatic_condition'</li>\n",
       "\t<li>'vegetation_condition'</li>\n",
       "\t<li>'observer_veg'</li>\n",
       "\t<li>'observer_soil'</li>\n",
       "\t<li>'described_by'</li>\n",
       "\t<li>'pit_marker_easting'</li>\n",
       "\t<li>'pit_marker_northing'</li>\n",
       "\t<li>'pit_marker_mga_zones'</li>\n",
       "\t<li>'pit_marker_datum'</li>\n",
       "\t<li>'pit_marker_location_method'</li>\n",
       "\t<li>'soil_observation_type'</li>\n",
       "\t<li>'a_s_c'</li>\n",
       "\t<li>'plot_is_100m_by_100m'</li>\n",
       "\t<li>'plot_is_aligned_to_grid'</li>\n",
       "\t<li>'plot_is_permanently_marked'</li>\n",
       "\t<li>'latitude'</li>\n",
       "\t<li>'longitude'</li>\n",
       "\t<li>'point'</li>\n",
       "\t<li>'state'</li>\n",
       "\t<li>'site_unique'</li>\n",
       "</ol>\n"
      ],
      "text/latex": [
       "\\begin{enumerate*}\n",
       "\\item 'site\\_location\\_name'\n",
       "\\item 'established\\_date'\n",
       "\\item 'description'\n",
       "\\item 'bioregion\\_name'\n",
       "\\item 'landform\\_pattern'\n",
       "\\item 'landform\\_element'\n",
       "\\item 'site\\_slope'\n",
       "\\item 'site\\_aspect'\n",
       "\\item 'comments'\n",
       "\\item 'outcrop\\_lithology'\n",
       "\\item 'other\\_outcrop\\_lithology'\n",
       "\\item 'plot\\_dimensions'\n",
       "\\item 'site\\_location\\_visit\\_id'\n",
       "\\item 'visit\\_start\\_date'\n",
       "\\item 'visit\\_end\\_date'\n",
       "\\item 'visit\\_notes'\n",
       "\\item 'location\\_description'\n",
       "\\item 'erosion\\_type'\n",
       "\\item 'erosion\\_abundance'\n",
       "\\item 'erosion\\_state'\n",
       "\\item 'microrelief'\n",
       "\\item 'drainage\\_type'\n",
       "\\item 'disturbance'\n",
       "\\item 'climatic\\_condition'\n",
       "\\item 'vegetation\\_condition'\n",
       "\\item 'observer\\_veg'\n",
       "\\item 'observer\\_soil'\n",
       "\\item 'described\\_by'\n",
       "\\item 'pit\\_marker\\_easting'\n",
       "\\item 'pit\\_marker\\_northing'\n",
       "\\item 'pit\\_marker\\_mga\\_zones'\n",
       "\\item 'pit\\_marker\\_datum'\n",
       "\\item 'pit\\_marker\\_location\\_method'\n",
       "\\item 'soil\\_observation\\_type'\n",
       "\\item 'a\\_s\\_c'\n",
       "\\item 'plot\\_is\\_100m\\_by\\_100m'\n",
       "\\item 'plot\\_is\\_aligned\\_to\\_grid'\n",
       "\\item 'plot\\_is\\_permanently\\_marked'\n",
       "\\item 'latitude'\n",
       "\\item 'longitude'\n",
       "\\item 'point'\n",
       "\\item 'state'\n",
       "\\item 'site\\_unique'\n",
       "\\end{enumerate*}\n"
      ],
      "text/markdown": [
       "1. 'site_location_name'\n",
       "2. 'established_date'\n",
       "3. 'description'\n",
       "4. 'bioregion_name'\n",
       "5. 'landform_pattern'\n",
       "6. 'landform_element'\n",
       "7. 'site_slope'\n",
       "8. 'site_aspect'\n",
       "9. 'comments'\n",
       "10. 'outcrop_lithology'\n",
       "11. 'other_outcrop_lithology'\n",
       "12. 'plot_dimensions'\n",
       "13. 'site_location_visit_id'\n",
       "14. 'visit_start_date'\n",
       "15. 'visit_end_date'\n",
       "16. 'visit_notes'\n",
       "17. 'location_description'\n",
       "18. 'erosion_type'\n",
       "19. 'erosion_abundance'\n",
       "20. 'erosion_state'\n",
       "21. 'microrelief'\n",
       "22. 'drainage_type'\n",
       "23. 'disturbance'\n",
       "24. 'climatic_condition'\n",
       "25. 'vegetation_condition'\n",
       "26. 'observer_veg'\n",
       "27. 'observer_soil'\n",
       "28. 'described_by'\n",
       "29. 'pit_marker_easting'\n",
       "30. 'pit_marker_northing'\n",
       "31. 'pit_marker_mga_zones'\n",
       "32. 'pit_marker_datum'\n",
       "33. 'pit_marker_location_method'\n",
       "34. 'soil_observation_type'\n",
       "35. 'a_s_c'\n",
       "36. 'plot_is_100m_by_100m'\n",
       "37. 'plot_is_aligned_to_grid'\n",
       "38. 'plot_is_permanently_marked'\n",
       "39. 'latitude'\n",
       "40. 'longitude'\n",
       "41. 'point'\n",
       "42. 'state'\n",
       "43. 'site_unique'\n",
       "\n",
       "\n"
      ],
      "text/plain": [
       " [1] \"site_location_name\"         \"established_date\"          \n",
       " [3] \"description\"                \"bioregion_name\"            \n",
       " [5] \"landform_pattern\"           \"landform_element\"          \n",
       " [7] \"site_slope\"                 \"site_aspect\"               \n",
       " [9] \"comments\"                   \"outcrop_lithology\"         \n",
       "[11] \"other_outcrop_lithology\"    \"plot_dimensions\"           \n",
       "[13] \"site_location_visit_id\"     \"visit_start_date\"          \n",
       "[15] \"visit_end_date\"             \"visit_notes\"               \n",
       "[17] \"location_description\"       \"erosion_type\"              \n",
       "[19] \"erosion_abundance\"          \"erosion_state\"             \n",
       "[21] \"microrelief\"                \"drainage_type\"             \n",
       "[23] \"disturbance\"                \"climatic_condition\"        \n",
       "[25] \"vegetation_condition\"       \"observer_veg\"              \n",
       "[27] \"observer_soil\"              \"described_by\"              \n",
       "[29] \"pit_marker_easting\"         \"pit_marker_northing\"       \n",
       "[31] \"pit_marker_mga_zones\"       \"pit_marker_datum\"          \n",
       "[33] \"pit_marker_location_method\" \"soil_observation_type\"     \n",
       "[35] \"a_s_c\"                      \"plot_is_100m_by_100m\"      \n",
       "[37] \"plot_is_aligned_to_grid\"    \"plot_is_permanently_marked\"\n",
       "[39] \"latitude\"                   \"longitude\"                 \n",
       "[41] \"point\"                      \"state\"                     \n",
       "[43] \"site_unique\"               "
      ]
     },
     "metadata": {},
     "output_type": "display_data"
    },
    {
     "data": {
      "text/html": [
       "<table>\n",
       "<thead><tr><th scope=col>site_location_name</th><th scope=col>established_date</th><th scope=col>description</th><th scope=col>bioregion_name</th><th scope=col>landform_pattern</th><th scope=col>landform_element</th><th scope=col>site_slope</th><th scope=col>site_aspect</th><th scope=col>comments</th><th scope=col>outcrop_lithology</th><th scope=col>...</th><th scope=col>soil_observation_type</th><th scope=col>a_s_c</th><th scope=col>plot_is_100m_by_100m</th><th scope=col>plot_is_aligned_to_grid</th><th scope=col>plot_is_permanently_marked</th><th scope=col>latitude</th><th scope=col>longitude</th><th scope=col>point</th><th scope=col>state</th><th scope=col>site_unique</th></tr></thead>\n",
       "<tbody>\n",
       "\t<tr><td>WAANUL0007                                                                                                                                                                                                                                                                                                                                                                                                                                                                                                                                                                                                                  </td><td>2014-09-06T15:24:41                                                                                                                                                                                                                                                                                                                                                                                                                                                                                                                                                                                                         </td><td>Great Victoria Desert Nature Reserve, 102.2km south east of Tjuntjuntjara                                                                                                                                                                                                                                                                                                                                                                                                                                                                                                                                                   </td><td>NUL                                                                                                                                                                                                                                                                                                                                                                                                                                                                                                                                                                                                                         </td><td>PLA                                                                                                                                                                                                                                                                                                                                                                                                                                                                                                                                                                                                                         </td><td>DDE                                                                                                                                                                                                                                                                                                                                                                                                                                                                                                                                                                                                                         </td><td>NA                                                                                                                                                                                                                                                                                                                                                                                                                                                                                                                                                                                                                          </td><td>NA                                                                                                                                                                                                                                                                                                                                                                                                                                                                                                                                                                                                                          </td><td>Plot is flat but sits in a drainage depression between very low rises. Some limestone cobbles and gravel- larger ones with cryptogam crust. Some very low limestone outcrop- almost at ground level. Very long unburnt but difficult to tell exactly how long. Grazing effect is low- some evidence of rabbits. Introduced plant effect is moderate- Carrichtera annua common throughout the site. Homogeneity- community continues another 50m north of the road which is close to the northern edge of the plot. 20m to the east and 50m to the west where there is a low rise. 100m to the south along the drainage line.</td><td>LI                                                                                                                                                                                                                                                                                                                                                                                                                                                                                                                                                                                                                          </td><td>...                                                                                                                                                                                                                                                                                                                                                                                                                                                                                                                                                                                                                         </td><td>P                                                                                                                                                                                                                                                                                                                                                                                                                                                                                                                                                                                                                           </td><td>NA                                                                                                                                                                                                                                                                                                                                                                                                                                                                                                                                                                                                                          </td><td>TRUE                                                                                                                                                                                                                                                                                                                                                                                                                                                                                                                                                                                                                        </td><td>TRUE                                                                                                                                                                                                                                                                                                                                                                                                                                                                                                                                                                                                                        </td><td>TRUE                                                                                                                                                                                                                                                                                                                                                                                                                                                                                                                                                                                                                        </td><td>-30.03548                                                                                                                                                                                                                                                                                                                                                                                                                                                                                                                                                                                                                   </td><td>127.7895                                                                                                                                                                                                                                                                                                                                                                                                                                                                                                                                                                                                                    </td><td>SW                                                                                                                                                                                                                                                                                                                                                                                                                                                                                                                                                                                                                          </td><td>WA                                                                                                                                                                                                                                                                                                                                                                                                                                                                                                                                                                                                                          </td><td>WAANUL0007-56932                                                                                                                                                                                                                                                                                                                                                                                                                                                                                                                                                                                                            </td></tr>\n",
       "\t<tr><td>NTAFIN0031                                                                                                                                                                                                                                                                                                                                                                                                                                                                                                                                                                                                                  </td><td>2012-10-25T00:00:00                                                                                                                                                                                                                                                                                                                                                                                                                                                                                                                                                                                                         </td><td>Umbeara Station 26.5km South East of Umbeara Homestead. 11km North of SA/Not Border                                                                                                                                                                                                                                                                                                                                                                                                                                                                                                                                         </td><td>FIN                                                                                                                                                                                                                                                                                                                                                                                                                                                                                                                                                                                                                         </td><td>LOW                                                                                                                                                                                                                                                                                                                                                                                                                                                                                                                                                                                                                         </td><td>HSL                                                                                                                                                                                                                                                                                                                                                                                                                                                                                                                                                                                                                         </td><td>NA                                                                                                                                                                                                                                                                                                                                                                                                                                                                                                                                                                                                                          </td><td>NA                                                                                                                                                                                                                                                                                                                                                                                                                                                                                                                                                                                                                          </td><td>Slope of low hill.                                                                                                                                                                                                                                                                                                                                                                                                                                                                                                                                                                                                          </td><td>NC                                                                                                                                                                                                                                                                                                                                                                                                                                                                                                                                                                                                                          </td><td>...                                                                                                                                                                                                                                                                                                                                                                                                                                                                                                                                                                                                                         </td><td>P                                                                                                                                                                                                                                                                                                                                                                                                                                                                                                                                                                                                                           </td><td>3RUCYCZARFLLT                                                                                                                                                                                                                                                                                                                                                                                                                                                                                                                                                                                                               </td><td>TRUE                                                                                                                                                                                                                                                                                                                                                                                                                                                                                                                                                                                                                        </td><td>TRUE                                                                                                                                                                                                                                                                                                                                                                                                                                                                                                                                                                                                                        </td><td>TRUE                                                                                                                                                                                                                                                                                                                                                                                                                                                                                                                                                                                                                        </td><td>-25.89989                                                                                                                                                                                                                                                                                                                                                                                                                                                                                                                                                                                                                   </td><td>133.8966                                                                                                                                                                                                                                                                                                                                                                                                                                                                                                                                                                                                                    </td><td>SW                                                                                                                                                                                                                                                                                                                                                                                                                                                                                                                                                                                                                          </td><td>NT                                                                                                                                                                                                                                                                                                                                                                                                                                                                                                                                                                                                                          </td><td>NTAFIN0031-53749                                                                                                                                                                                                                                                                                                                                                                                                                                                                                                                                                                                                            </td></tr>\n",
       "\t<tr><td>QDAMUL0003                                                                                                                                                                                                                                                                                                                                                                                                                                                                                                                                                                                                                  </td><td>2013-04-26T00:00:00                                                                                                                                                                                                                                                                                                                                                                                                                                                                                                                                                                                                         </td><td>61km SE of Issiford on Idalia NP                                                                                                                                                                                                                                                                                                                                                                                                                                                                                                                                                                                            </td><td>MUL                                                                                                                                                                                                                                                                                                                                                                                                                                                                                                                                                                                                                         </td><td>PLT                                                                                                                                                                                                                                                                                                                                                                                                                                                                                                                                                                                                                         </td><td>HSL                                                                                                                                                                                                                                                                                                                                                                                                                                                                                                                                                                                                                         </td><td>4                                                                                                                                                                                                                                                                                                                                                                                                                                                                                                                                                                                                                           </td><td>225                                                                                                                                                                                                                                                                                                                                                                                                                                                                                                                                                                                                                         </td><td>NA                                                                                                                                                                                                                                                                                                                                                                                                                                                                                                                                                                                                                          </td><td>NC                                                                                                                                                                                                                                                                                                                                                                                                                                                                                                                                                                                                                          </td><td>...                                                                                                                                                                                                                                                                                                                                                                                                                                                                                                                                                                                                                         </td><td>P                                                                                                                                                                                                                                                                                                                                                                                                                                                                                                                                                                                                                           </td><td>NA                                                                                                                                                                                                                                                                                                                                                                                                                                                                                                                                                                                                                          </td><td>TRUE                                                                                                                                                                                                                                                                                                                                                                                                                                                                                                                                                                                                                        </td><td>TRUE                                                                                                                                                                                                                                                                                                                                                                                                                                                                                                                                                                                                                        </td><td>TRUE                                                                                                                                                                                                                                                                                                                                                                                                                                                                                                                                                                                                                        </td><td>-24.75512                                                                                                                                                                                                                                                                                                                                                                                                                                                                                                                                                                                                                   </td><td>144.7083                                                                                                                                                                                                                                                                                                                                                                                                                                                                                                                                                                                                                    </td><td>SW                                                                                                                                                                                                                                                                                                                                                                                                                                                                                                                                                                                                                          </td><td>QLD                                                                                                                                                                                                                                                                                                                                                                                                                                                                                                                                                                                                                         </td><td>QDAMUL0003-53595                                                                                                                                                                                                                                                                                                                                                                                                                                                                                                                                                                                                            </td></tr>\n",
       "\t<tr><td>NTAFIN0004                                                                                                                                                                                                                                                                                                                                                                                                                                                                                                                                                                                                                  </td><td>2011-10-06T00:00:00                                                                                                                                                                                                                                                                                                                                                                                                                                                                                                                                                                                                         </td><td>Top of James Range, Owen Springs Reserve . 73km South West of Alice Springs                                                                                                                                                                                                                                                                                                                                                                                                                                                                                                                                                 </td><td>MAC                                                                                                                                                                                                                                                                                                                                                                                                                                                                                                                                                                                                                         </td><td>HIL                                                                                                                                                                                                                                                                                                                                                                                                                                                                                                                                                                                                                         </td><td>HCR                                                                                                                                                                                                                                                                                                                                                                                                                                                                                                                                                                                                                         </td><td>8                                                                                                                                                                                                                                                                                                                                                                                                                                                                                                                                                                                                                           </td><td>135                                                                                                                                                                                                                                                                                                                                                                                                                                                                                                                                                                                                                         </td><td>On top of the James Range. Long unburnt. Weed impact minimal. Grazing impact nil.                                                                                                                                                                                                                                                                                                                                                                                                                                                                                                                                           </td><td>SA                                                                                                                                                                                                                                                                                                                                                                                                                                                                                                                                                                                                                          </td><td>...                                                                                                                                                                                                                                                                                                                                                                                                                                                                                                                                                                                                                         </td><td>NC                                                                                                                                                                                                                                                                                                                                                                                                                                                                                                                                                                                                                          </td><td>NA                                                                                                                                                                                                                                                                                                                                                                                                                                                                                                                                                                                                                          </td><td>TRUE                                                                                                                                                                                                                                                                                                                                                                                                                                                                                                                                                                                                                        </td><td>TRUE                                                                                                                                                                                                                                                                                                                                                                                                                                                                                                                                                                                                                        </td><td>TRUE                                                                                                                                                                                                                                                                                                                                                                                                                                                                                                                                                                                                                        </td><td>-24.18724                                                                                                                                                                                                                                                                                                                                                                                                                                                                                                                                                                                                                   </td><td>133.3764                                                                                                                                                                                                                                                                                                                                                                                                                                                                                                                                                                                                                    </td><td>SW                                                                                                                                                                                                                                                                                                                                                                                                                                                                                                                                                                                                                          </td><td>NT                                                                                                                                                                                                                                                                                                                                                                                                                                                                                                                                                                                                                          </td><td>NTAFIN0004-58010                                                                                                                                                                                                                                                                                                                                                                                                                                                                                                                                                                                                            </td></tr>\n",
       "\t<tr><td>NTAFIN0004                                                                                                                                                                                                                                                                                                                                                                                                                                                                                                                                                                                                                  </td><td>2011-10-06T00:00:00                                                                                                                                                                                                                                                                                                                                                                                                                                                                                                                                                                                                         </td><td>Top of James Range, Owen Springs Reserve . 73km South West of Alice Springs                                                                                                                                                                                                                                                                                                                                                                                                                                                                                                                                                 </td><td>MAC                                                                                                                                                                                                                                                                                                                                                                                                                                                                                                                                                                                                                         </td><td>HIL                                                                                                                                                                                                                                                                                                                                                                                                                                                                                                                                                                                                                         </td><td>HCR                                                                                                                                                                                                                                                                                                                                                                                                                                                                                                                                                                                                                         </td><td>8                                                                                                                                                                                                                                                                                                                                                                                                                                                                                                                                                                                                                           </td><td>135                                                                                                                                                                                                                                                                                                                                                                                                                                                                                                                                                                                                                         </td><td>On top of the James Range. Long unburnt. Weed impact minimal. Grazing impact nil.                                                                                                                                                                                                                                                                                                                                                                                                                                                                                                                                           </td><td>SA                                                                                                                                                                                                                                                                                                                                                                                                                                                                                                                                                                                                                          </td><td>...                                                                                                                                                                                                                                                                                                                                                                                                                                                                                                                                                                                                                         </td><td>P                                                                                                                                                                                                                                                                                                                                                                                                                                                                                                                                                                                                                           </td><td>3RUCYCZAIIKT                                                                                                                                                                                                                                                                                                                                                                                                                                                                                                                                                                                                                </td><td>TRUE                                                                                                                                                                                                                                                                                                                                                                                                                                                                                                                                                                                                                        </td><td>TRUE                                                                                                                                                                                                                                                                                                                                                                                                                                                                                                                                                                                                                        </td><td>TRUE                                                                                                                                                                                                                                                                                                                                                                                                                                                                                                                                                                                                                        </td><td>-24.18724                                                                                                                                                                                                                                                                                                                                                                                                                                                                                                                                                                                                                   </td><td>133.3764                                                                                                                                                                                                                                                                                                                                                                                                                                                                                                                                                                                                                    </td><td>SW                                                                                                                                                                                                                                                                                                                                                                                                                                                                                                                                                                                                                          </td><td>NT                                                                                                                                                                                                                                                                                                                                                                                                                                                                                                                                                                                                                          </td><td>NTAFIN0004-53624                                                                                                                                                                                                                                                                                                                                                                                                                                                                                                                                                                                                            </td></tr>\n",
       "\t<tr><td>SASMDD0002                                                                                                                                                                                                                                                                                                                                                                                                                                                                                                                                                                                                                  </td><td>2012-09-23T00:00:00                                                                                                                                                                                                                                                                                                                                                                                                                                                                                                                                                                                                         </td><td>Calperum Station, 23km North West of Renmark                                                                                                                                                                                                                                                                                                                                                                                                                                                                                                                                                                                </td><td>MDD                                                                                                                                                                                                                                                                                                                                                                                                                                                                                                                                                                                                                         </td><td>LON                                                                                                                                                                                                                                                                                                                                                                                                                                                                                                                                                                                                                         </td><td>DUN                                                                                                                                                                                                                                                                                                                                                                                                                                                                                                                                                                                                                         </td><td>0                                                                                                                                                                                                                                                                                                                                                                                                                                                                                                                                                                                                                           </td><td>NA                                                                                                                                                                                                                                                                                                                                                                                                                                                                                                                                                                                                                          </td><td>2 km. south east of the Flux tower SASMDD0001, 100m in easterly direction from track.                                                                                                                                                                                                                                                                                                                                                                                                                                                                                                                                       </td><td>NC                                                                                                                                                                                                                                                                                                                                                                                                                                                                                                                                                                                                                          </td><td>...                                                                                                                                                                                                                                                                                                                                                                                                                                                                                                                                                                                                                         </td><td>P                                                                                                                                                                                                                                                                                                                                                                                                                                                                                                                                                                                                                           </td><td>NA                                                                                                                                                                                                                                                                                                                                                                                                                                                                                                                                                                                                                          </td><td>TRUE                                                                                                                                                                                                                                                                                                                                                                                                                                                                                                                                                                                                                        </td><td>TRUE                                                                                                                                                                                                                                                                                                                                                                                                                                                                                                                                                                                                                        </td><td>TRUE                                                                                                                                                                                                                                                                                                                                                                                                                                                                                                                                                                                                                        </td><td>-34.01170                                                                                                                                                                                                                                                                                                                                                                                                                                                                                                                                                                                                                   </td><td>140.5927                                                                                                                                                                                                                                                                                                                                                                                                                                                                                                                                                                                                                    </td><td>SW                                                                                                                                                                                                                                                                                                                                                                                                                                                                                                                                                                                                                          </td><td>SA                                                                                                                                                                                                                                                                                                                                                                                                                                                                                                                                                                                                                          </td><td>SASMDD0002-53711                                                                                                                                                                                                                                                                                                                                                                                                                                                                                                                                                                                                            </td></tr>\n",
       "</tbody>\n",
       "</table>\n"
      ],
      "text/latex": [
       "\\begin{tabular}{r|lllllllllllllllllllllllllllllllllllllllllll}\n",
       " site\\_location\\_name & established\\_date & description & bioregion\\_name & landform\\_pattern & landform\\_element & site\\_slope & site\\_aspect & comments & outcrop\\_lithology & ... & soil\\_observation\\_type & a\\_s\\_c & plot\\_is\\_100m\\_by\\_100m & plot\\_is\\_aligned\\_to\\_grid & plot\\_is\\_permanently\\_marked & latitude & longitude & point & state & site\\_unique\\\\\n",
       "\\hline\n",
       "\t WAANUL0007                                                                                                                                                                                                                                                                                                                                                                                                                                                                                                                                                                                                                   & 2014-09-06T15:24:41                                                                                                                                                                                                                                                                                                                                                                                                                                                                                                                                                                                                          & Great Victoria Desert Nature Reserve, 102.2km south east of Tjuntjuntjara                                                                                                                                                                                                                                                                                                                                                                                                                                                                                                                                                    & NUL                                                                                                                                                                                                                                                                                                                                                                                                                                                                                                                                                                                                                          & PLA                                                                                                                                                                                                                                                                                                                                                                                                                                                                                                                                                                                                                          & DDE                                                                                                                                                                                                                                                                                                                                                                                                                                                                                                                                                                                                                          & NA                                                                                                                                                                                                                                                                                                                                                                                                                                                                                                                                                                                                                           & NA                                                                                                                                                                                                                                                                                                                                                                                                                                                                                                                                                                                                                           & Plot is flat but sits in a drainage depression between very low rises. Some limestone cobbles and gravel- larger ones with cryptogam crust. Some very low limestone outcrop- almost at ground level. Very long unburnt but difficult to tell exactly how long. Grazing effect is low- some evidence of rabbits. Introduced plant effect is moderate- Carrichtera annua common throughout the site. Homogeneity- community continues another 50m north of the road which is close to the northern edge of the plot. 20m to the east and 50m to the west where there is a low rise. 100m to the south along the drainage line. & LI                                                                                                                                                                                                                                                                                                                                                                                                                                                                                                                                                                                                                           & ...                                                                                                                                                                                                                                                                                                                                                                                                                                                                                                                                                                                                                          & P                                                                                                                                                                                                                                                                                                                                                                                                                                                                                                                                                                                                                            & NA                                                                                                                                                                                                                                                                                                                                                                                                                                                                                                                                                                                                                           & TRUE                                                                                                                                                                                                                                                                                                                                                                                                                                                                                                                                                                                                                         & TRUE                                                                                                                                                                                                                                                                                                                                                                                                                                                                                                                                                                                                                         & TRUE                                                                                                                                                                                                                                                                                                                                                                                                                                                                                                                                                                                                                         & -30.03548                                                                                                                                                                                                                                                                                                                                                                                                                                                                                                                                                                                                                    & 127.7895                                                                                                                                                                                                                                                                                                                                                                                                                                                                                                                                                                                                                     & SW                                                                                                                                                                                                                                                                                                                                                                                                                                                                                                                                                                                                                           & WA                                                                                                                                                                                                                                                                                                                                                                                                                                                                                                                                                                                                                           & WAANUL0007-56932                                                                                                                                                                                                                                                                                                                                                                                                                                                                                                                                                                                                            \\\\\n",
       "\t NTAFIN0031                                                                                                                                                                                                                                                                                                                                                                                                                                                                                                                                                                                                                   & 2012-10-25T00:00:00                                                                                                                                                                                                                                                                                                                                                                                                                                                                                                                                                                                                          & Umbeara Station 26.5km South East of Umbeara Homestead. 11km North of SA/Not Border                                                                                                                                                                                                                                                                                                                                                                                                                                                                                                                                          & FIN                                                                                                                                                                                                                                                                                                                                                                                                                                                                                                                                                                                                                          & LOW                                                                                                                                                                                                                                                                                                                                                                                                                                                                                                                                                                                                                          & HSL                                                                                                                                                                                                                                                                                                                                                                                                                                                                                                                                                                                                                          & NA                                                                                                                                                                                                                                                                                                                                                                                                                                                                                                                                                                                                                           & NA                                                                                                                                                                                                                                                                                                                                                                                                                                                                                                                                                                                                                           & Slope of low hill.                                                                                                                                                                                                                                                                                                                                                                                                                                                                                                                                                                                                           & NC                                                                                                                                                                                                                                                                                                                                                                                                                                                                                                                                                                                                                           & ...                                                                                                                                                                                                                                                                                                                                                                                                                                                                                                                                                                                                                          & P                                                                                                                                                                                                                                                                                                                                                                                                                                                                                                                                                                                                                            & 3RUCYCZARFLLT                                                                                                                                                                                                                                                                                                                                                                                                                                                                                                                                                                                                                & TRUE                                                                                                                                                                                                                                                                                                                                                                                                                                                                                                                                                                                                                         & TRUE                                                                                                                                                                                                                                                                                                                                                                                                                                                                                                                                                                                                                         & TRUE                                                                                                                                                                                                                                                                                                                                                                                                                                                                                                                                                                                                                         & -25.89989                                                                                                                                                                                                                                                                                                                                                                                                                                                                                                                                                                                                                    & 133.8966                                                                                                                                                                                                                                                                                                                                                                                                                                                                                                                                                                                                                     & SW                                                                                                                                                                                                                                                                                                                                                                                                                                                                                                                                                                                                                           & NT                                                                                                                                                                                                                                                                                                                                                                                                                                                                                                                                                                                                                           & NTAFIN0031-53749                                                                                                                                                                                                                                                                                                                                                                                                                                                                                                                                                                                                            \\\\\n",
       "\t QDAMUL0003                                                                                                                                                                                                                                                                                                                                                                                                                                                                                                                                                                                                                   & 2013-04-26T00:00:00                                                                                                                                                                                                                                                                                                                                                                                                                                                                                                                                                                                                          & 61km SE of Issiford on Idalia NP                                                                                                                                                                                                                                                                                                                                                                                                                                                                                                                                                                                             & MUL                                                                                                                                                                                                                                                                                                                                                                                                                                                                                                                                                                                                                          & PLT                                                                                                                                                                                                                                                                                                                                                                                                                                                                                                                                                                                                                          & HSL                                                                                                                                                                                                                                                                                                                                                                                                                                                                                                                                                                                                                          & 4                                                                                                                                                                                                                                                                                                                                                                                                                                                                                                                                                                                                                            & 225                                                                                                                                                                                                                                                                                                                                                                                                                                                                                                                                                                                                                          & NA                                                                                                                                                                                                                                                                                                                                                                                                                                                                                                                                                                                                                           & NC                                                                                                                                                                                                                                                                                                                                                                                                                                                                                                                                                                                                                           & ...                                                                                                                                                                                                                                                                                                                                                                                                                                                                                                                                                                                                                          & P                                                                                                                                                                                                                                                                                                                                                                                                                                                                                                                                                                                                                            & NA                                                                                                                                                                                                                                                                                                                                                                                                                                                                                                                                                                                                                           & TRUE                                                                                                                                                                                                                                                                                                                                                                                                                                                                                                                                                                                                                         & TRUE                                                                                                                                                                                                                                                                                                                                                                                                                                                                                                                                                                                                                         & TRUE                                                                                                                                                                                                                                                                                                                                                                                                                                                                                                                                                                                                                         & -24.75512                                                                                                                                                                                                                                                                                                                                                                                                                                                                                                                                                                                                                    & 144.7083                                                                                                                                                                                                                                                                                                                                                                                                                                                                                                                                                                                                                     & SW                                                                                                                                                                                                                                                                                                                                                                                                                                                                                                                                                                                                                           & QLD                                                                                                                                                                                                                                                                                                                                                                                                                                                                                                                                                                                                                          & QDAMUL0003-53595                                                                                                                                                                                                                                                                                                                                                                                                                                                                                                                                                                                                            \\\\\n",
       "\t NTAFIN0004                                                                                                                                                                                                                                                                                                                                                                                                                                                                                                                                                                                                                   & 2011-10-06T00:00:00                                                                                                                                                                                                                                                                                                                                                                                                                                                                                                                                                                                                          & Top of James Range, Owen Springs Reserve . 73km South West of Alice Springs                                                                                                                                                                                                                                                                                                                                                                                                                                                                                                                                                  & MAC                                                                                                                                                                                                                                                                                                                                                                                                                                                                                                                                                                                                                          & HIL                                                                                                                                                                                                                                                                                                                                                                                                                                                                                                                                                                                                                          & HCR                                                                                                                                                                                                                                                                                                                                                                                                                                                                                                                                                                                                                          & 8                                                                                                                                                                                                                                                                                                                                                                                                                                                                                                                                                                                                                            & 135                                                                                                                                                                                                                                                                                                                                                                                                                                                                                                                                                                                                                          & On top of the James Range. Long unburnt. Weed impact minimal. Grazing impact nil.                                                                                                                                                                                                                                                                                                                                                                                                                                                                                                                                            & SA                                                                                                                                                                                                                                                                                                                                                                                                                                                                                                                                                                                                                           & ...                                                                                                                                                                                                                                                                                                                                                                                                                                                                                                                                                                                                                          & NC                                                                                                                                                                                                                                                                                                                                                                                                                                                                                                                                                                                                                           & NA                                                                                                                                                                                                                                                                                                                                                                                                                                                                                                                                                                                                                           & TRUE                                                                                                                                                                                                                                                                                                                                                                                                                                                                                                                                                                                                                         & TRUE                                                                                                                                                                                                                                                                                                                                                                                                                                                                                                                                                                                                                         & TRUE                                                                                                                                                                                                                                                                                                                                                                                                                                                                                                                                                                                                                         & -24.18724                                                                                                                                                                                                                                                                                                                                                                                                                                                                                                                                                                                                                    & 133.3764                                                                                                                                                                                                                                                                                                                                                                                                                                                                                                                                                                                                                     & SW                                                                                                                                                                                                                                                                                                                                                                                                                                                                                                                                                                                                                           & NT                                                                                                                                                                                                                                                                                                                                                                                                                                                                                                                                                                                                                           & NTAFIN0004-58010                                                                                                                                                                                                                                                                                                                                                                                                                                                                                                                                                                                                            \\\\\n",
       "\t NTAFIN0004                                                                                                                                                                                                                                                                                                                                                                                                                                                                                                                                                                                                                   & 2011-10-06T00:00:00                                                                                                                                                                                                                                                                                                                                                                                                                                                                                                                                                                                                          & Top of James Range, Owen Springs Reserve . 73km South West of Alice Springs                                                                                                                                                                                                                                                                                                                                                                                                                                                                                                                                                  & MAC                                                                                                                                                                                                                                                                                                                                                                                                                                                                                                                                                                                                                          & HIL                                                                                                                                                                                                                                                                                                                                                                                                                                                                                                                                                                                                                          & HCR                                                                                                                                                                                                                                                                                                                                                                                                                                                                                                                                                                                                                          & 8                                                                                                                                                                                                                                                                                                                                                                                                                                                                                                                                                                                                                            & 135                                                                                                                                                                                                                                                                                                                                                                                                                                                                                                                                                                                                                          & On top of the James Range. Long unburnt. Weed impact minimal. Grazing impact nil.                                                                                                                                                                                                                                                                                                                                                                                                                                                                                                                                            & SA                                                                                                                                                                                                                                                                                                                                                                                                                                                                                                                                                                                                                           & ...                                                                                                                                                                                                                                                                                                                                                                                                                                                                                                                                                                                                                          & P                                                                                                                                                                                                                                                                                                                                                                                                                                                                                                                                                                                                                            & 3RUCYCZAIIKT                                                                                                                                                                                                                                                                                                                                                                                                                                                                                                                                                                                                                 & TRUE                                                                                                                                                                                                                                                                                                                                                                                                                                                                                                                                                                                                                         & TRUE                                                                                                                                                                                                                                                                                                                                                                                                                                                                                                                                                                                                                         & TRUE                                                                                                                                                                                                                                                                                                                                                                                                                                                                                                                                                                                                                         & -24.18724                                                                                                                                                                                                                                                                                                                                                                                                                                                                                                                                                                                                                    & 133.3764                                                                                                                                                                                                                                                                                                                                                                                                                                                                                                                                                                                                                     & SW                                                                                                                                                                                                                                                                                                                                                                                                                                                                                                                                                                                                                           & NT                                                                                                                                                                                                                                                                                                                                                                                                                                                                                                                                                                                                                           & NTAFIN0004-53624                                                                                                                                                                                                                                                                                                                                                                                                                                                                                                                                                                                                            \\\\\n",
       "\t SASMDD0002                                                                                                                                                                                                                                                                                                                                                                                                                                                                                                                                                                                                                   & 2012-09-23T00:00:00                                                                                                                                                                                                                                                                                                                                                                                                                                                                                                                                                                                                          & Calperum Station, 23km North West of Renmark                                                                                                                                                                                                                                                                                                                                                                                                                                                                                                                                                                                 & MDD                                                                                                                                                                                                                                                                                                                                                                                                                                                                                                                                                                                                                          & LON                                                                                                                                                                                                                                                                                                                                                                                                                                                                                                                                                                                                                          & DUN                                                                                                                                                                                                                                                                                                                                                                                                                                                                                                                                                                                                                          & 0                                                                                                                                                                                                                                                                                                                                                                                                                                                                                                                                                                                                                            & NA                                                                                                                                                                                                                                                                                                                                                                                                                                                                                                                                                                                                                           & 2 km. south east of the Flux tower SASMDD0001, 100m in easterly direction from track.                                                                                                                                                                                                                                                                                                                                                                                                                                                                                                                                        & NC                                                                                                                                                                                                                                                                                                                                                                                                                                                                                                                                                                                                                           & ...                                                                                                                                                                                                                                                                                                                                                                                                                                                                                                                                                                                                                          & P                                                                                                                                                                                                                                                                                                                                                                                                                                                                                                                                                                                                                            & NA                                                                                                                                                                                                                                                                                                                                                                                                                                                                                                                                                                                                                           & TRUE                                                                                                                                                                                                                                                                                                                                                                                                                                                                                                                                                                                                                         & TRUE                                                                                                                                                                                                                                                                                                                                                                                                                                                                                                                                                                                                                         & TRUE                                                                                                                                                                                                                                                                                                                                                                                                                                                                                                                                                                                                                         & -34.01170                                                                                                                                                                                                                                                                                                                                                                                                                                                                                                                                                                                                                    & 140.5927                                                                                                                                                                                                                                                                                                                                                                                                                                                                                                                                                                                                                     & SW                                                                                                                                                                                                                                                                                                                                                                                                                                                                                                                                                                                                                           & SA                                                                                                                                                                                                                                                                                                                                                                                                                                                                                                                                                                                                                           & SASMDD0002-53711                                                                                                                                                                                                                                                                                                                                                                                                                                                                                                                                                                                                            \\\\\n",
       "\\end{tabular}\n"
      ],
      "text/markdown": [
       "\n",
       "| site_location_name | established_date | description | bioregion_name | landform_pattern | landform_element | site_slope | site_aspect | comments | outcrop_lithology | ... | soil_observation_type | a_s_c | plot_is_100m_by_100m | plot_is_aligned_to_grid | plot_is_permanently_marked | latitude | longitude | point | state | site_unique |\n",
       "|---|---|---|---|---|---|---|---|---|---|---|---|---|---|---|---|---|---|---|---|---|\n",
       "| WAANUL0007                                                                                                                                                                                                                                                                                                                                                                                                                                                                                                                                                                                                                   | 2014-09-06T15:24:41                                                                                                                                                                                                                                                                                                                                                                                                                                                                                                                                                                                                          | Great Victoria Desert Nature Reserve, 102.2km south east of Tjuntjuntjara                                                                                                                                                                                                                                                                                                                                                                                                                                                                                                                                                    | NUL                                                                                                                                                                                                                                                                                                                                                                                                                                                                                                                                                                                                                          | PLA                                                                                                                                                                                                                                                                                                                                                                                                                                                                                                                                                                                                                          | DDE                                                                                                                                                                                                                                                                                                                                                                                                                                                                                                                                                                                                                          | NA                                                                                                                                                                                                                                                                                                                                                                                                                                                                                                                                                                                                                           | NA                                                                                                                                                                                                                                                                                                                                                                                                                                                                                                                                                                                                                           | Plot is flat but sits in a drainage depression between very low rises. Some limestone cobbles and gravel- larger ones with cryptogam crust. Some very low limestone outcrop- almost at ground level. Very long unburnt but difficult to tell exactly how long. Grazing effect is low- some evidence of rabbits. Introduced plant effect is moderate- Carrichtera annua common throughout the site. Homogeneity- community continues another 50m north of the road which is close to the northern edge of the plot. 20m to the east and 50m to the west where there is a low rise. 100m to the south along the drainage line. | LI                                                                                                                                                                                                                                                                                                                                                                                                                                                                                                                                                                                                                           | ...                                                                                                                                                                                                                                                                                                                                                                                                                                                                                                                                                                                                                          | P                                                                                                                                                                                                                                                                                                                                                                                                                                                                                                                                                                                                                            | NA                                                                                                                                                                                                                                                                                                                                                                                                                                                                                                                                                                                                                           | TRUE                                                                                                                                                                                                                                                                                                                                                                                                                                                                                                                                                                                                                         | TRUE                                                                                                                                                                                                                                                                                                                                                                                                                                                                                                                                                                                                                         | TRUE                                                                                                                                                                                                                                                                                                                                                                                                                                                                                                                                                                                                                         | -30.03548                                                                                                                                                                                                                                                                                                                                                                                                                                                                                                                                                                                                                    | 127.7895                                                                                                                                                                                                                                                                                                                                                                                                                                                                                                                                                                                                                     | SW                                                                                                                                                                                                                                                                                                                                                                                                                                                                                                                                                                                                                           | WA                                                                                                                                                                                                                                                                                                                                                                                                                                                                                                                                                                                                                           | WAANUL0007-56932                                                                                                                                                                                                                                                                                                                                                                                                                                                                                                                                                                                                             |\n",
       "| NTAFIN0031                                                                                                                                                                                                                                                                                                                                                                                                                                                                                                                                                                                                                   | 2012-10-25T00:00:00                                                                                                                                                                                                                                                                                                                                                                                                                                                                                                                                                                                                          | Umbeara Station 26.5km South East of Umbeara Homestead. 11km North of SA/Not Border                                                                                                                                                                                                                                                                                                                                                                                                                                                                                                                                          | FIN                                                                                                                                                                                                                                                                                                                                                                                                                                                                                                                                                                                                                          | LOW                                                                                                                                                                                                                                                                                                                                                                                                                                                                                                                                                                                                                          | HSL                                                                                                                                                                                                                                                                                                                                                                                                                                                                                                                                                                                                                          | NA                                                                                                                                                                                                                                                                                                                                                                                                                                                                                                                                                                                                                           | NA                                                                                                                                                                                                                                                                                                                                                                                                                                                                                                                                                                                                                           | Slope of low hill.                                                                                                                                                                                                                                                                                                                                                                                                                                                                                                                                                                                                           | NC                                                                                                                                                                                                                                                                                                                                                                                                                                                                                                                                                                                                                           | ...                                                                                                                                                                                                                                                                                                                                                                                                                                                                                                                                                                                                                          | P                                                                                                                                                                                                                                                                                                                                                                                                                                                                                                                                                                                                                            | 3RUCYCZARFLLT                                                                                                                                                                                                                                                                                                                                                                                                                                                                                                                                                                                                                | TRUE                                                                                                                                                                                                                                                                                                                                                                                                                                                                                                                                                                                                                         | TRUE                                                                                                                                                                                                                                                                                                                                                                                                                                                                                                                                                                                                                         | TRUE                                                                                                                                                                                                                                                                                                                                                                                                                                                                                                                                                                                                                         | -25.89989                                                                                                                                                                                                                                                                                                                                                                                                                                                                                                                                                                                                                    | 133.8966                                                                                                                                                                                                                                                                                                                                                                                                                                                                                                                                                                                                                     | SW                                                                                                                                                                                                                                                                                                                                                                                                                                                                                                                                                                                                                           | NT                                                                                                                                                                                                                                                                                                                                                                                                                                                                                                                                                                                                                           | NTAFIN0031-53749                                                                                                                                                                                                                                                                                                                                                                                                                                                                                                                                                                                                             |\n",
       "| QDAMUL0003                                                                                                                                                                                                                                                                                                                                                                                                                                                                                                                                                                                                                   | 2013-04-26T00:00:00                                                                                                                                                                                                                                                                                                                                                                                                                                                                                                                                                                                                          | 61km SE of Issiford on Idalia NP                                                                                                                                                                                                                                                                                                                                                                                                                                                                                                                                                                                             | MUL                                                                                                                                                                                                                                                                                                                                                                                                                                                                                                                                                                                                                          | PLT                                                                                                                                                                                                                                                                                                                                                                                                                                                                                                                                                                                                                          | HSL                                                                                                                                                                                                                                                                                                                                                                                                                                                                                                                                                                                                                          | 4                                                                                                                                                                                                                                                                                                                                                                                                                                                                                                                                                                                                                            | 225                                                                                                                                                                                                                                                                                                                                                                                                                                                                                                                                                                                                                          | NA                                                                                                                                                                                                                                                                                                                                                                                                                                                                                                                                                                                                                           | NC                                                                                                                                                                                                                                                                                                                                                                                                                                                                                                                                                                                                                           | ...                                                                                                                                                                                                                                                                                                                                                                                                                                                                                                                                                                                                                          | P                                                                                                                                                                                                                                                                                                                                                                                                                                                                                                                                                                                                                            | NA                                                                                                                                                                                                                                                                                                                                                                                                                                                                                                                                                                                                                           | TRUE                                                                                                                                                                                                                                                                                                                                                                                                                                                                                                                                                                                                                         | TRUE                                                                                                                                                                                                                                                                                                                                                                                                                                                                                                                                                                                                                         | TRUE                                                                                                                                                                                                                                                                                                                                                                                                                                                                                                                                                                                                                         | -24.75512                                                                                                                                                                                                                                                                                                                                                                                                                                                                                                                                                                                                                    | 144.7083                                                                                                                                                                                                                                                                                                                                                                                                                                                                                                                                                                                                                     | SW                                                                                                                                                                                                                                                                                                                                                                                                                                                                                                                                                                                                                           | QLD                                                                                                                                                                                                                                                                                                                                                                                                                                                                                                                                                                                                                          | QDAMUL0003-53595                                                                                                                                                                                                                                                                                                                                                                                                                                                                                                                                                                                                             |\n",
       "| NTAFIN0004                                                                                                                                                                                                                                                                                                                                                                                                                                                                                                                                                                                                                   | 2011-10-06T00:00:00                                                                                                                                                                                                                                                                                                                                                                                                                                                                                                                                                                                                          | Top of James Range, Owen Springs Reserve . 73km South West of Alice Springs                                                                                                                                                                                                                                                                                                                                                                                                                                                                                                                                                  | MAC                                                                                                                                                                                                                                                                                                                                                                                                                                                                                                                                                                                                                          | HIL                                                                                                                                                                                                                                                                                                                                                                                                                                                                                                                                                                                                                          | HCR                                                                                                                                                                                                                                                                                                                                                                                                                                                                                                                                                                                                                          | 8                                                                                                                                                                                                                                                                                                                                                                                                                                                                                                                                                                                                                            | 135                                                                                                                                                                                                                                                                                                                                                                                                                                                                                                                                                                                                                          | On top of the James Range. Long unburnt. Weed impact minimal. Grazing impact nil.                                                                                                                                                                                                                                                                                                                                                                                                                                                                                                                                            | SA                                                                                                                                                                                                                                                                                                                                                                                                                                                                                                                                                                                                                           | ...                                                                                                                                                                                                                                                                                                                                                                                                                                                                                                                                                                                                                          | NC                                                                                                                                                                                                                                                                                                                                                                                                                                                                                                                                                                                                                           | NA                                                                                                                                                                                                                                                                                                                                                                                                                                                                                                                                                                                                                           | TRUE                                                                                                                                                                                                                                                                                                                                                                                                                                                                                                                                                                                                                         | TRUE                                                                                                                                                                                                                                                                                                                                                                                                                                                                                                                                                                                                                         | TRUE                                                                                                                                                                                                                                                                                                                                                                                                                                                                                                                                                                                                                         | -24.18724                                                                                                                                                                                                                                                                                                                                                                                                                                                                                                                                                                                                                    | 133.3764                                                                                                                                                                                                                                                                                                                                                                                                                                                                                                                                                                                                                     | SW                                                                                                                                                                                                                                                                                                                                                                                                                                                                                                                                                                                                                           | NT                                                                                                                                                                                                                                                                                                                                                                                                                                                                                                                                                                                                                           | NTAFIN0004-58010                                                                                                                                                                                                                                                                                                                                                                                                                                                                                                                                                                                                             |\n",
       "| NTAFIN0004                                                                                                                                                                                                                                                                                                                                                                                                                                                                                                                                                                                                                   | 2011-10-06T00:00:00                                                                                                                                                                                                                                                                                                                                                                                                                                                                                                                                                                                                          | Top of James Range, Owen Springs Reserve . 73km South West of Alice Springs                                                                                                                                                                                                                                                                                                                                                                                                                                                                                                                                                  | MAC                                                                                                                                                                                                                                                                                                                                                                                                                                                                                                                                                                                                                          | HIL                                                                                                                                                                                                                                                                                                                                                                                                                                                                                                                                                                                                                          | HCR                                                                                                                                                                                                                                                                                                                                                                                                                                                                                                                                                                                                                          | 8                                                                                                                                                                                                                                                                                                                                                                                                                                                                                                                                                                                                                            | 135                                                                                                                                                                                                                                                                                                                                                                                                                                                                                                                                                                                                                          | On top of the James Range. Long unburnt. Weed impact minimal. Grazing impact nil.                                                                                                                                                                                                                                                                                                                                                                                                                                                                                                                                            | SA                                                                                                                                                                                                                                                                                                                                                                                                                                                                                                                                                                                                                           | ...                                                                                                                                                                                                                                                                                                                                                                                                                                                                                                                                                                                                                          | P                                                                                                                                                                                                                                                                                                                                                                                                                                                                                                                                                                                                                            | 3RUCYCZAIIKT                                                                                                                                                                                                                                                                                                                                                                                                                                                                                                                                                                                                                 | TRUE                                                                                                                                                                                                                                                                                                                                                                                                                                                                                                                                                                                                                         | TRUE                                                                                                                                                                                                                                                                                                                                                                                                                                                                                                                                                                                                                         | TRUE                                                                                                                                                                                                                                                                                                                                                                                                                                                                                                                                                                                                                         | -24.18724                                                                                                                                                                                                                                                                                                                                                                                                                                                                                                                                                                                                                    | 133.3764                                                                                                                                                                                                                                                                                                                                                                                                                                                                                                                                                                                                                     | SW                                                                                                                                                                                                                                                                                                                                                                                                                                                                                                                                                                                                                           | NT                                                                                                                                                                                                                                                                                                                                                                                                                                                                                                                                                                                                                           | NTAFIN0004-53624                                                                                                                                                                                                                                                                                                                                                                                                                                                                                                                                                                                                             |\n",
       "| SASMDD0002                                                                                                                                                                                                                                                                                                                                                                                                                                                                                                                                                                                                                   | 2012-09-23T00:00:00                                                                                                                                                                                                                                                                                                                                                                                                                                                                                                                                                                                                          | Calperum Station, 23km North West of Renmark                                                                                                                                                                                                                                                                                                                                                                                                                                                                                                                                                                                 | MDD                                                                                                                                                                                                                                                                                                                                                                                                                                                                                                                                                                                                                          | LON                                                                                                                                                                                                                                                                                                                                                                                                                                                                                                                                                                                                                          | DUN                                                                                                                                                                                                                                                                                                                                                                                                                                                                                                                                                                                                                          | 0                                                                                                                                                                                                                                                                                                                                                                                                                                                                                                                                                                                                                            | NA                                                                                                                                                                                                                                                                                                                                                                                                                                                                                                                                                                                                                           | 2 km. south east of the Flux tower SASMDD0001, 100m in easterly direction from track.                                                                                                                                                                                                                                                                                                                                                                                                                                                                                                                                        | NC                                                                                                                                                                                                                                                                                                                                                                                                                                                                                                                                                                                                                           | ...                                                                                                                                                                                                                                                                                                                                                                                                                                                                                                                                                                                                                          | P                                                                                                                                                                                                                                                                                                                                                                                                                                                                                                                                                                                                                            | NA                                                                                                                                                                                                                                                                                                                                                                                                                                                                                                                                                                                                                           | TRUE                                                                                                                                                                                                                                                                                                                                                                                                                                                                                                                                                                                                                         | TRUE                                                                                                                                                                                                                                                                                                                                                                                                                                                                                                                                                                                                                         | TRUE                                                                                                                                                                                                                                                                                                                                                                                                                                                                                                                                                                                                                         | -34.01170                                                                                                                                                                                                                                                                                                                                                                                                                                                                                                                                                                                                                    | 140.5927                                                                                                                                                                                                                                                                                                                                                                                                                                                                                                                                                                                                                     | SW                                                                                                                                                                                                                                                                                                                                                                                                                                                                                                                                                                                                                           | SA                                                                                                                                                                                                                                                                                                                                                                                                                                                                                                                                                                                                                           | SASMDD0002-53711                                                                                                                                                                                                                                                                                                                                                                                                                                                                                                                                                                                                             |\n",
       "\n"
      ],
      "text/plain": [
       "  site_location_name established_date   \n",
       "1 WAANUL0007         2014-09-06T15:24:41\n",
       "2 NTAFIN0031         2012-10-25T00:00:00\n",
       "3 QDAMUL0003         2013-04-26T00:00:00\n",
       "4 NTAFIN0004         2011-10-06T00:00:00\n",
       "5 NTAFIN0004         2011-10-06T00:00:00\n",
       "6 SASMDD0002         2012-09-23T00:00:00\n",
       "  description                                                                        \n",
       "1 Great Victoria Desert Nature Reserve, 102.2km south east of Tjuntjuntjara          \n",
       "2 Umbeara Station 26.5km South East of Umbeara Homestead. 11km North of SA/Not Border\n",
       "3 61km SE of Issiford on Idalia NP                                                   \n",
       "4 Top of James Range, Owen Springs Reserve . 73km South West of Alice Springs        \n",
       "5 Top of James Range, Owen Springs Reserve . 73km South West of Alice Springs        \n",
       "6 Calperum Station, 23km North West of Renmark                                       \n",
       "  bioregion_name landform_pattern landform_element site_slope site_aspect\n",
       "1 NUL            PLA              DDE              NA         NA         \n",
       "2 FIN            LOW              HSL              NA         NA         \n",
       "3 MUL            PLT              HSL              4          225        \n",
       "4 MAC            HIL              HCR              8          135        \n",
       "5 MAC            HIL              HCR              8          135        \n",
       "6 MDD            LON              DUN              0          NA         \n",
       "  comments                                                                                                                                                                                                                                                                                                                                                                                                                                                                                                                                                                                                                    \n",
       "1 Plot is flat but sits in a drainage depression between very low rises. Some limestone cobbles and gravel- larger ones with cryptogam crust. Some very low limestone outcrop- almost at ground level. Very long unburnt but difficult to tell exactly how long. Grazing effect is low- some evidence of rabbits. Introduced plant effect is moderate- Carrichtera annua common throughout the site. Homogeneity- community continues another 50m north of the road which is close to the northern edge of the plot. 20m to the east and 50m to the west where there is a low rise. 100m to the south along the drainage line.\n",
       "2 Slope of low hill.                                                                                                                                                                                                                                                                                                                                                                                                                                                                                                                                                                                                          \n",
       "3 NA                                                                                                                                                                                                                                                                                                                                                                                                                                                                                                                                                                                                                          \n",
       "4 On top of the James Range. Long unburnt. Weed impact minimal. Grazing impact nil.                                                                                                                                                                                                                                                                                                                                                                                                                                                                                                                                           \n",
       "5 On top of the James Range. Long unburnt. Weed impact minimal. Grazing impact nil.                                                                                                                                                                                                                                                                                                                                                                                                                                                                                                                                           \n",
       "6 2 km. south east of the Flux tower SASMDD0001, 100m in easterly direction from track.                                                                                                                                                                                                                                                                                                                                                                                                                                                                                                                                       \n",
       "  outcrop_lithology ... soil_observation_type a_s_c        \n",
       "1 LI                ... P                     NA           \n",
       "2 NC                ... P                     3RUCYCZARFLLT\n",
       "3 NC                ... P                     NA           \n",
       "4 SA                ... NC                    NA           \n",
       "5 SA                ... P                     3RUCYCZAIIKT \n",
       "6 NC                ... P                     NA           \n",
       "  plot_is_100m_by_100m plot_is_aligned_to_grid plot_is_permanently_marked\n",
       "1 TRUE                 TRUE                    TRUE                      \n",
       "2 TRUE                 TRUE                    TRUE                      \n",
       "3 TRUE                 TRUE                    TRUE                      \n",
       "4 TRUE                 TRUE                    TRUE                      \n",
       "5 TRUE                 TRUE                    TRUE                      \n",
       "6 TRUE                 TRUE                    TRUE                      \n",
       "  latitude  longitude point state site_unique     \n",
       "1 -30.03548 127.7895  SW    WA    WAANUL0007-56932\n",
       "2 -25.89989 133.8966  SW    NT    NTAFIN0031-53749\n",
       "3 -24.75512 144.7083  SW    QLD   QDAMUL0003-53595\n",
       "4 -24.18724 133.3764  SW    NT    NTAFIN0004-58010\n",
       "5 -24.18724 133.3764  SW    NT    NTAFIN0004-53624\n",
       "6 -34.01170 140.5927  SW    SA    SASMDD0002-53711"
      ]
     },
     "metadata": {},
     "output_type": "display_data"
    },
    {
     "data": {
      "text/html": [
       "<ol class=list-inline>\n",
       "\t<li>734464</li>\n",
       "\t<li>13</li>\n",
       "</ol>\n"
      ],
      "text/latex": [
       "\\begin{enumerate*}\n",
       "\\item 734464\n",
       "\\item 13\n",
       "\\end{enumerate*}\n"
      ],
      "text/markdown": [
       "1. 734464\n",
       "2. 13\n",
       "\n",
       "\n"
      ],
      "text/plain": [
       "[1] 734464     13"
      ]
     },
     "metadata": {},
     "output_type": "display_data"
    },
    {
     "data": {
      "text/html": [
       "<ol class=list-inline>\n",
       "\t<li>'site_location_name'</li>\n",
       "\t<li>'site_location_visit_id'</li>\n",
       "\t<li>'transect'</li>\n",
       "\t<li>'point_number'</li>\n",
       "\t<li>'veg_barcode'</li>\n",
       "\t<li>'herbarium_determination'</li>\n",
       "\t<li>'substrate'</li>\n",
       "\t<li>'in_canopy_sky'</li>\n",
       "\t<li>'dead'</li>\n",
       "\t<li>'growth_form'</li>\n",
       "\t<li>'height'</li>\n",
       "\t<li>'hits_unique'</li>\n",
       "\t<li>'site_unique'</li>\n",
       "</ol>\n"
      ],
      "text/latex": [
       "\\begin{enumerate*}\n",
       "\\item 'site\\_location\\_name'\n",
       "\\item 'site\\_location\\_visit\\_id'\n",
       "\\item 'transect'\n",
       "\\item 'point\\_number'\n",
       "\\item 'veg\\_barcode'\n",
       "\\item 'herbarium\\_determination'\n",
       "\\item 'substrate'\n",
       "\\item 'in\\_canopy\\_sky'\n",
       "\\item 'dead'\n",
       "\\item 'growth\\_form'\n",
       "\\item 'height'\n",
       "\\item 'hits\\_unique'\n",
       "\\item 'site\\_unique'\n",
       "\\end{enumerate*}\n"
      ],
      "text/markdown": [
       "1. 'site_location_name'\n",
       "2. 'site_location_visit_id'\n",
       "3. 'transect'\n",
       "4. 'point_number'\n",
       "5. 'veg_barcode'\n",
       "6. 'herbarium_determination'\n",
       "7. 'substrate'\n",
       "8. 'in_canopy_sky'\n",
       "9. 'dead'\n",
       "10. 'growth_form'\n",
       "11. 'height'\n",
       "12. 'hits_unique'\n",
       "13. 'site_unique'\n",
       "\n",
       "\n"
      ],
      "text/plain": [
       " [1] \"site_location_name\"      \"site_location_visit_id\" \n",
       " [3] \"transect\"                \"point_number\"           \n",
       " [5] \"veg_barcode\"             \"herbarium_determination\"\n",
       " [7] \"substrate\"               \"in_canopy_sky\"          \n",
       " [9] \"dead\"                    \"growth_form\"            \n",
       "[11] \"height\"                  \"hits_unique\"            \n",
       "[13] \"site_unique\"            "
      ]
     },
     "metadata": {},
     "output_type": "display_data"
    },
    {
     "data": {
      "text/html": [
       "<table>\n",
       "<thead><tr><th scope=col>site_location_name</th><th scope=col>site_location_visit_id</th><th scope=col>transect</th><th scope=col>point_number</th><th scope=col>veg_barcode</th><th scope=col>herbarium_determination</th><th scope=col>substrate</th><th scope=col>in_canopy_sky</th><th scope=col>dead</th><th scope=col>growth_form</th><th scope=col>height</th><th scope=col>hits_unique</th><th scope=col>site_unique</th></tr></thead>\n",
       "<tbody>\n",
       "\t<tr><td>WAACOO0006                              </td><td>53438                                   </td><td>S1-N1                                   </td><td>0                                       </td><td>NA                                      </td><td>NA                                      </td><td>Crypto                                  </td><td>   NA                                   </td><td>   NA                                   </td><td>NA                                      </td><td> NA                                     </td><td>S1-N1 0                                 </td><td>WAACOO0006-53438                        </td></tr>\n",
       "\t<tr><td>WAACOO0006                              </td><td>53438                                   </td><td>S1-N1                                   </td><td>1                                       </td><td>NA                                      </td><td>NA                                      </td><td>Crypto                                  </td><td>   NA                                   </td><td>   NA                                   </td><td>NA                                      </td><td> NA                                     </td><td>S1-N1 1                                 </td><td>WAACOO0006-53438                        </td></tr>\n",
       "\t<tr><td>WAACOO0006                              </td><td>53438                                   </td><td>S1-N1                                   </td><td>2                                       </td><td>WAA  001053                             </td><td>Melaleuca pauperiflora subsp. fastigiata</td><td>Litter                                  </td><td>FALSE                                   </td><td>FALSE                                   </td><td>Shrub                                   </td><td>3.5                                     </td><td>S1-N1 2                                 </td><td>WAACOO0006-53438                        </td></tr>\n",
       "\t<tr><td>WAACOO0006                              </td><td>53438                                   </td><td>S1-N1                                   </td><td>3                                       </td><td>WAA  001053                             </td><td>Melaleuca pauperiflora subsp. fastigiata</td><td>Litter                                  </td><td>FALSE                                   </td><td>FALSE                                   </td><td>Shrub                                   </td><td>3.5                                     </td><td>S1-N1 3                                 </td><td>WAACOO0006-53438                        </td></tr>\n",
       "\t<tr><td>WAACOO0006                              </td><td>53438                                   </td><td>S1-N1                                   </td><td>4                                       </td><td>WAA  001053                             </td><td>Melaleuca pauperiflora subsp. fastigiata</td><td>Litter                                  </td><td>FALSE                                   </td><td>FALSE                                   </td><td>Shrub                                   </td><td>3.7                                     </td><td>S1-N1 4                                 </td><td>WAACOO0006-53438                        </td></tr>\n",
       "\t<tr><td>WAACOO0006                              </td><td>53438                                   </td><td>S1-N1                                   </td><td>5                                       </td><td>WAA  001053                             </td><td>Melaleuca pauperiflora subsp. fastigiata</td><td>Litter                                  </td><td>FALSE                                   </td><td>FALSE                                   </td><td>Shrub                                   </td><td>3.5                                     </td><td>S1-N1 5                                 </td><td>WAACOO0006-53438                        </td></tr>\n",
       "</tbody>\n",
       "</table>\n"
      ],
      "text/latex": [
       "\\begin{tabular}{r|lllllllllllll}\n",
       " site\\_location\\_name & site\\_location\\_visit\\_id & transect & point\\_number & veg\\_barcode & herbarium\\_determination & substrate & in\\_canopy\\_sky & dead & growth\\_form & height & hits\\_unique & site\\_unique\\\\\n",
       "\\hline\n",
       "\t WAACOO0006                               & 53438                                    & S1-N1                                    & 0                                        & NA                                       & NA                                       & Crypto                                   &    NA                                    &    NA                                    & NA                                       &  NA                                      & S1-N1 0                                  & WAACOO0006-53438                        \\\\\n",
       "\t WAACOO0006                               & 53438                                    & S1-N1                                    & 1                                        & NA                                       & NA                                       & Crypto                                   &    NA                                    &    NA                                    & NA                                       &  NA                                      & S1-N1 1                                  & WAACOO0006-53438                        \\\\\n",
       "\t WAACOO0006                               & 53438                                    & S1-N1                                    & 2                                        & WAA  001053                              & Melaleuca pauperiflora subsp. fastigiata & Litter                                   & FALSE                                    & FALSE                                    & Shrub                                    & 3.5                                      & S1-N1 2                                  & WAACOO0006-53438                        \\\\\n",
       "\t WAACOO0006                               & 53438                                    & S1-N1                                    & 3                                        & WAA  001053                              & Melaleuca pauperiflora subsp. fastigiata & Litter                                   & FALSE                                    & FALSE                                    & Shrub                                    & 3.5                                      & S1-N1 3                                  & WAACOO0006-53438                        \\\\\n",
       "\t WAACOO0006                               & 53438                                    & S1-N1                                    & 4                                        & WAA  001053                              & Melaleuca pauperiflora subsp. fastigiata & Litter                                   & FALSE                                    & FALSE                                    & Shrub                                    & 3.7                                      & S1-N1 4                                  & WAACOO0006-53438                        \\\\\n",
       "\t WAACOO0006                               & 53438                                    & S1-N1                                    & 5                                        & WAA  001053                              & Melaleuca pauperiflora subsp. fastigiata & Litter                                   & FALSE                                    & FALSE                                    & Shrub                                    & 3.5                                      & S1-N1 5                                  & WAACOO0006-53438                        \\\\\n",
       "\\end{tabular}\n"
      ],
      "text/markdown": [
       "\n",
       "| site_location_name | site_location_visit_id | transect | point_number | veg_barcode | herbarium_determination | substrate | in_canopy_sky | dead | growth_form | height | hits_unique | site_unique |\n",
       "|---|---|---|---|---|---|---|---|---|---|---|---|---|\n",
       "| WAACOO0006                               | 53438                                    | S1-N1                                    | 0                                        | NA                                       | NA                                       | Crypto                                   |    NA                                    |    NA                                    | NA                                       |  NA                                      | S1-N1 0                                  | WAACOO0006-53438                         |\n",
       "| WAACOO0006                               | 53438                                    | S1-N1                                    | 1                                        | NA                                       | NA                                       | Crypto                                   |    NA                                    |    NA                                    | NA                                       |  NA                                      | S1-N1 1                                  | WAACOO0006-53438                         |\n",
       "| WAACOO0006                               | 53438                                    | S1-N1                                    | 2                                        | WAA  001053                              | Melaleuca pauperiflora subsp. fastigiata | Litter                                   | FALSE                                    | FALSE                                    | Shrub                                    | 3.5                                      | S1-N1 2                                  | WAACOO0006-53438                         |\n",
       "| WAACOO0006                               | 53438                                    | S1-N1                                    | 3                                        | WAA  001053                              | Melaleuca pauperiflora subsp. fastigiata | Litter                                   | FALSE                                    | FALSE                                    | Shrub                                    | 3.5                                      | S1-N1 3                                  | WAACOO0006-53438                         |\n",
       "| WAACOO0006                               | 53438                                    | S1-N1                                    | 4                                        | WAA  001053                              | Melaleuca pauperiflora subsp. fastigiata | Litter                                   | FALSE                                    | FALSE                                    | Shrub                                    | 3.7                                      | S1-N1 4                                  | WAACOO0006-53438                         |\n",
       "| WAACOO0006                               | 53438                                    | S1-N1                                    | 5                                        | WAA  001053                              | Melaleuca pauperiflora subsp. fastigiata | Litter                                   | FALSE                                    | FALSE                                    | Shrub                                    | 3.5                                      | S1-N1 5                                  | WAACOO0006-53438                         |\n",
       "\n"
      ],
      "text/plain": [
       "  site_location_name site_location_visit_id transect point_number veg_barcode\n",
       "1 WAACOO0006         53438                  S1-N1    0            NA         \n",
       "2 WAACOO0006         53438                  S1-N1    1            NA         \n",
       "3 WAACOO0006         53438                  S1-N1    2            WAA  001053\n",
       "4 WAACOO0006         53438                  S1-N1    3            WAA  001053\n",
       "5 WAACOO0006         53438                  S1-N1    4            WAA  001053\n",
       "6 WAACOO0006         53438                  S1-N1    5            WAA  001053\n",
       "  herbarium_determination                  substrate in_canopy_sky dead \n",
       "1 NA                                       Crypto       NA            NA\n",
       "2 NA                                       Crypto       NA            NA\n",
       "3 Melaleuca pauperiflora subsp. fastigiata Litter    FALSE         FALSE\n",
       "4 Melaleuca pauperiflora subsp. fastigiata Litter    FALSE         FALSE\n",
       "5 Melaleuca pauperiflora subsp. fastigiata Litter    FALSE         FALSE\n",
       "6 Melaleuca pauperiflora subsp. fastigiata Litter    FALSE         FALSE\n",
       "  growth_form height hits_unique site_unique     \n",
       "1 NA           NA    S1-N1 0     WAACOO0006-53438\n",
       "2 NA           NA    S1-N1 1     WAACOO0006-53438\n",
       "3 Shrub       3.5    S1-N1 2     WAACOO0006-53438\n",
       "4 Shrub       3.5    S1-N1 3     WAACOO0006-53438\n",
       "5 Shrub       3.7    S1-N1 4     WAACOO0006-53438\n",
       "6 Shrub       3.5    S1-N1 5     WAACOO0006-53438"
      ]
     },
     "metadata": {},
     "output_type": "display_data"
    }
   ],
   "source": [
    "# Example 4: 'site_info', 'veg.PI', and 'basal.wedge' data for all sites\n",
    "# ======================================================================\n",
    "\n",
    "# Retreive data\n",
    "start.time = Sys.time()\n",
    "AP.data = get_ausplots(veg.vouchers=FALSE, basal.wedge=TRUE) \n",
    "end.time = Sys.time()\n",
    "end.time - start.time\n",
    "\n",
    "# Explore \n",
    "#class(AP.data) # As in Example 1 (can run uncommented if curious) \n",
    "summary(AP.data)\n",
    "#str(AP.data)   # Similar to Example 1 (can run uncommented if curious) \n",
    "\n",
    "# Explore 'site_info' data\n",
    "dim(AP.data$site.info)\n",
    "names(AP.data$site.info)\n",
    "head(AP.data$site.info)\n",
    "\n",
    "# Explore 'veg_PI' data\n",
    "dim(AP.data$veg.PI)\n",
    "names(AP.data$veg.PI)\n",
    "head(AP.data$veg.PI)"
   ]
  },
  {
   "cell_type": "markdown",
   "metadata": {},
   "source": [
    "### Manipulating AusPlots data I: Subset data frames\n",
    "\n",
    "The `get_ausplots` function extracts and compiles AusPlots data allowing substantial flexibility in the selection of the required data. Up to 8 different types of data can be retrieved into distinct data frames (i.e. data on sampling sites, vegetation structure, vegetation point intercept, vegetation vouchers, vegetation basal wedge, soil characterization, soil bulk density, and soil & soil metagenomics samples). In addition, data can be filtered for particular sets of plots and/or genus/species, as well as geographically using a rectangular bounding box. \n",
    "\n",
    "However, in some situations we are only interested in a subset of the data retrieved by `get_ausplots`. To subset ausplot data, we use the variables in the retrieved data frames corresponding to the concept by we would like to filter the data. The retrieved data by the function 'get_ausplots' can be manipulated as any other R data. However, the 'deep' structure of the data (a list of multiple data frames) and interrelation of the data frames (via a common a common link variable) can make manipulating the data a bit more daunting. Below we explain and provide examples of the archetypical scenarios encountered when sub-setting AusPlots data retrieved with `ausplotsR`. An addtional(longer) example is presented in another TERN DSDP Tutorial [\"Understanding and using the ‘ausplotsR’ package and AusPlots data\" Tutorial](https://github.com/ternaustralia/TERN-Data-Skills/tree/master/EcosystemSurveillance_PlotData/AusPlots_Tutorial).\n",
    "\n",
    "In some occasions sub-setting a single data frame (i.e. type of variables) is all what we need. Variables in the `site.info` data frame contain information that affect all other data frames; so typically after sub-setting the contents of the variable of interests in the `site.info` data frame, we will also subset the remaining datasets using one of the common variables among all data frames. Common variables among datasets include `site_location_name`, `site_location_visit_id`, and `site_unique`.  Commonly `site_unique` is the best option to ‘connect’ ausplots data frames, as it is the most specific variable representing a single visit to a particular site.\n",
    "\n",
    "To subset a data frame we filter its data by querying the variable(s) of interest using operators. The variables of interest are typically factors, numerical, or boolean variables. Many variables retrieved by `get_ausplots` have a `char` class, despite conceptually falling in one of these 3 categories. Therefore, before using a variable to filter a data frame we must inspect its contents and class, and if required change its class to an adequate one. We use relational operators to filter individual variables, and logical (and occasionally arithmetic) operators to combine more than one variable in our filtering operations ([R Operators]( https://www.datamentor.io/r-programming/operator/)).\n",
    " \n",
    "\n",
    "#### Sub-setting a Single Data Frame\n",
    "\n",
    "We might be, for example, interested in point intercept data only for vegetation of a particular height, a particular growth form, growing on particular substrate type, or found in a particular set of transects. In these examples, we use the variables in the ‘veg.PI’ data frame to filter the retrieved ausplots data in this data frame. We do not need to subset any othe data frames.\n",
    "\n",
    "##### Example 1: Height \n",
    "\n",
    "Height is `numeric`, so there is no need to change its class"
   ]
  },
  {
   "cell_type": "code",
   "execution_count": 8,
   "metadata": {},
   "outputs": [
    {
     "data": {
      "text/html": [
       "'numeric'"
      ],
      "text/latex": [
       "'numeric'"
      ],
      "text/markdown": [
       "'numeric'"
      ],
      "text/plain": [
       "[1] \"numeric\""
      ]
     },
     "metadata": {},
     "output_type": "display_data"
    },
    {
     "data": {
      "text/plain": [
       "   Min. 1st Qu.  Median    Mean 3rd Qu.    Max.    NA's \n",
       "    0.0     0.1     0.3     2.1     2.5    34.0  378516 "
      ]
     },
     "metadata": {},
     "output_type": "display_data"
    },
    {
     "data": {
      "text/html": [
       "<ol class=list-inline>\n",
       "\t<li>734464</li>\n",
       "\t<li>13</li>\n",
       "</ol>\n"
      ],
      "text/latex": [
       "\\begin{enumerate*}\n",
       "\\item 734464\n",
       "\\item 13\n",
       "\\end{enumerate*}\n"
      ],
      "text/markdown": [
       "1. 734464\n",
       "2. 13\n",
       "\n",
       "\n"
      ],
      "text/plain": [
       "[1] 734464     13"
      ]
     },
     "metadata": {},
     "output_type": "display_data"
    },
    {
     "data": {
      "text/html": [
       "<ol class=list-inline>\n",
       "\t<li>476551</li>\n",
       "\t<li>13</li>\n",
       "</ol>\n"
      ],
      "text/latex": [
       "\\begin{enumerate*}\n",
       "\\item 476551\n",
       "\\item 13\n",
       "\\end{enumerate*}\n"
      ],
      "text/markdown": [
       "1. 476551\n",
       "2. 13\n",
       "\n",
       "\n"
      ],
      "text/plain": [
       "[1] 476551     13"
      ]
     },
     "metadata": {},
     "output_type": "display_data"
    },
    {
     "data": {
      "text/plain": [
       "   Min. 1st Qu.  Median    Mean 3rd Qu.    Max.    NA's \n",
       "    2.0     3.5     6.0     6.7     9.0    34.0  378516 "
      ]
     },
     "metadata": {},
     "output_type": "display_data"
    }
   ],
   "source": [
    "# ============================\n",
    "# Sub-set a Single Data Frame\n",
    "# ============================\n",
    "# Here we filter by variables in the 'veg.PI' data frame\n",
    "\n",
    "\n",
    "# Height\n",
    "# ======\n",
    "\n",
    "# Explore Variable Type and Change to Numeric\n",
    "# -------------------------------------------\n",
    "class(AP.data$veg.PI$height)\n",
    "summary(AP.data$veg.PI$height)\n",
    "\n",
    "# Subset to Height (> 2 meters) in 'veg.PI' data frame\n",
    "# ----------------------------------------------------\n",
    "TreeGT2m.AP.data = AP.data\n",
    "dim(TreeGT2m.AP.data$veg.PI)\n",
    "#summary(AP.data$veg.PI$height)\n",
    "TreeGT2m.AP.data$veg.PI = TreeGT2m.AP.data$veg.PI[TreeGT2m.AP.data$veg.PI$height > 2,] \n",
    "dim(TreeGT2m.AP.data$veg.PI)\n",
    "summary(TreeGT2m.AP.data$veg.PI$height)"
   ]
  },
  {
   "cell_type": "markdown",
   "metadata": {},
   "source": [
    "##### Example 2: Transect \n",
    "\n",
    "Transect is a `factor`, so there is no need to change its class\n"
   ]
  },
  {
   "cell_type": "code",
   "execution_count": 9,
   "metadata": {
    "scrolled": true
   },
   "outputs": [
    {
     "data": {
      "text/html": [
       "'factor'"
      ],
      "text/latex": [
       "'factor'"
      ],
      "text/markdown": [
       "'factor'"
      ],
      "text/plain": [
       "[1] \"factor\""
      ]
     },
     "metadata": {},
     "output_type": "display_data"
    },
    {
     "data": {
      "text/html": [
       "<dl class=dl-horizontal>\n",
       "\t<dt>E1-W1</dt>\n",
       "\t\t<dd>17360</dd>\n",
       "\t<dt>E2-W2</dt>\n",
       "\t\t<dd>53886</dd>\n",
       "\t<dt>E3-W3</dt>\n",
       "\t\t<dd>18164</dd>\n",
       "\t<dt>E4-W4</dt>\n",
       "\t\t<dd>54046</dd>\n",
       "\t<dt>E5-W5</dt>\n",
       "\t\t<dd>18900</dd>\n",
       "\t<dt>N1-S1</dt>\n",
       "\t\t<dd>24573</dd>\n",
       "\t<dt>N2-S2</dt>\n",
       "\t\t<dd>44070</dd>\n",
       "\t<dt>N3-S3</dt>\n",
       "\t\t<dd>26962</dd>\n",
       "\t<dt>N4-S4</dt>\n",
       "\t\t<dd>44845</dd>\n",
       "\t<dt>N5-S5</dt>\n",
       "\t\t<dd>27579</dd>\n",
       "\t<dt>S1-N1</dt>\n",
       "\t\t<dd>49639</dd>\n",
       "\t<dt>S2-N2</dt>\n",
       "\t\t<dd>29566</dd>\n",
       "\t<dt>S3-N3</dt>\n",
       "\t\t<dd>46476</dd>\n",
       "\t<dt>S4-N4</dt>\n",
       "\t\t<dd>28582</dd>\n",
       "\t<dt>S5-N5</dt>\n",
       "\t\t<dd>46296</dd>\n",
       "\t<dt>W1-E1</dt>\n",
       "\t\t<dd>55976</dd>\n",
       "\t<dt>W2-E2</dt>\n",
       "\t\t<dd>19447</dd>\n",
       "\t<dt>W2-S2</dt>\n",
       "\t\t<dd>102</dd>\n",
       "\t<dt>W3-E3</dt>\n",
       "\t\t<dd>55135</dd>\n",
       "\t<dt>W4-E4</dt>\n",
       "\t\t<dd>18983</dd>\n",
       "\t<dt>W5-E5</dt>\n",
       "\t\t<dd>53877</dd>\n",
       "</dl>\n"
      ],
      "text/latex": [
       "\\begin{description*}\n",
       "\\item[E1-W1] 17360\n",
       "\\item[E2-W2] 53886\n",
       "\\item[E3-W3] 18164\n",
       "\\item[E4-W4] 54046\n",
       "\\item[E5-W5] 18900\n",
       "\\item[N1-S1] 24573\n",
       "\\item[N2-S2] 44070\n",
       "\\item[N3-S3] 26962\n",
       "\\item[N4-S4] 44845\n",
       "\\item[N5-S5] 27579\n",
       "\\item[S1-N1] 49639\n",
       "\\item[S2-N2] 29566\n",
       "\\item[S3-N3] 46476\n",
       "\\item[S4-N4] 28582\n",
       "\\item[S5-N5] 46296\n",
       "\\item[W1-E1] 55976\n",
       "\\item[W2-E2] 19447\n",
       "\\item[W2-S2] 102\n",
       "\\item[W3-E3] 55135\n",
       "\\item[W4-E4] 18983\n",
       "\\item[W5-E5] 53877\n",
       "\\end{description*}\n"
      ],
      "text/markdown": [
       "E1-W1\n",
       ":   17360E2-W2\n",
       ":   53886E3-W3\n",
       ":   18164E4-W4\n",
       ":   54046E5-W5\n",
       ":   18900N1-S1\n",
       ":   24573N2-S2\n",
       ":   44070N3-S3\n",
       ":   26962N4-S4\n",
       ":   44845N5-S5\n",
       ":   27579S1-N1\n",
       ":   49639S2-N2\n",
       ":   29566S3-N3\n",
       ":   46476S4-N4\n",
       ":   28582S5-N5\n",
       ":   46296W1-E1\n",
       ":   55976W2-E2\n",
       ":   19447W2-S2\n",
       ":   102W3-E3\n",
       ":   55135W4-E4\n",
       ":   18983W5-E5\n",
       ":   53877\n",
       "\n"
      ],
      "text/plain": [
       "E1-W1 E2-W2 E3-W3 E4-W4 E5-W5 N1-S1 N2-S2 N3-S3 N4-S4 N5-S5 S1-N1 S2-N2 S3-N3 \n",
       "17360 53886 18164 54046 18900 24573 44070 26962 44845 27579 49639 29566 46476 \n",
       "S4-N4 S5-N5 W1-E1 W2-E2 W2-S2 W3-E3 W4-E4 W5-E5 \n",
       "28582 46296 55976 19447   102 55135 18983 53877 "
      ]
     },
     "metadata": {},
     "output_type": "display_data"
    },
    {
     "data": {
      "text/html": [
       "<ol class=list-inline>\n",
       "\t<li>734464</li>\n",
       "\t<li>13</li>\n",
       "</ol>\n"
      ],
      "text/latex": [
       "\\begin{enumerate*}\n",
       "\\item 734464\n",
       "\\item 13\n",
       "\\end{enumerate*}\n"
      ],
      "text/markdown": [
       "1. 734464\n",
       "2. 13\n",
       "\n",
       "\n"
      ],
      "text/plain": [
       "[1] 734464     13"
      ]
     },
     "metadata": {},
     "output_type": "display_data"
    },
    {
     "data": {
      "text/html": [
       "<ol class=list-inline>\n",
       "\t<li>'E1-W1'</li>\n",
       "\t<li>'E2-W2'</li>\n",
       "\t<li>'E3-W3'</li>\n",
       "\t<li>'E4-W4'</li>\n",
       "\t<li>'E5-W5'</li>\n",
       "\t<li>'N1-S1'</li>\n",
       "\t<li>'N2-S2'</li>\n",
       "\t<li>'N3-S3'</li>\n",
       "\t<li>'N4-S4'</li>\n",
       "\t<li>'N5-S5'</li>\n",
       "\t<li>'S1-N1'</li>\n",
       "\t<li>'S2-N2'</li>\n",
       "\t<li>'S3-N3'</li>\n",
       "\t<li>'S4-N4'</li>\n",
       "\t<li>'S5-N5'</li>\n",
       "\t<li>'W1-E1'</li>\n",
       "\t<li>'W2-E2'</li>\n",
       "\t<li>'W2-S2'</li>\n",
       "\t<li>'W3-E3'</li>\n",
       "\t<li>'W4-E4'</li>\n",
       "\t<li>'W5-E5'</li>\n",
       "</ol>\n"
      ],
      "text/latex": [
       "\\begin{enumerate*}\n",
       "\\item 'E1-W1'\n",
       "\\item 'E2-W2'\n",
       "\\item 'E3-W3'\n",
       "\\item 'E4-W4'\n",
       "\\item 'E5-W5'\n",
       "\\item 'N1-S1'\n",
       "\\item 'N2-S2'\n",
       "\\item 'N3-S3'\n",
       "\\item 'N4-S4'\n",
       "\\item 'N5-S5'\n",
       "\\item 'S1-N1'\n",
       "\\item 'S2-N2'\n",
       "\\item 'S3-N3'\n",
       "\\item 'S4-N4'\n",
       "\\item 'S5-N5'\n",
       "\\item 'W1-E1'\n",
       "\\item 'W2-E2'\n",
       "\\item 'W2-S2'\n",
       "\\item 'W3-E3'\n",
       "\\item 'W4-E4'\n",
       "\\item 'W5-E5'\n",
       "\\end{enumerate*}\n"
      ],
      "text/markdown": [
       "1. 'E1-W1'\n",
       "2. 'E2-W2'\n",
       "3. 'E3-W3'\n",
       "4. 'E4-W4'\n",
       "5. 'E5-W5'\n",
       "6. 'N1-S1'\n",
       "7. 'N2-S2'\n",
       "8. 'N3-S3'\n",
       "9. 'N4-S4'\n",
       "10. 'N5-S5'\n",
       "11. 'S1-N1'\n",
       "12. 'S2-N2'\n",
       "13. 'S3-N3'\n",
       "14. 'S4-N4'\n",
       "15. 'S5-N5'\n",
       "16. 'W1-E1'\n",
       "17. 'W2-E2'\n",
       "18. 'W2-S2'\n",
       "19. 'W3-E3'\n",
       "20. 'W4-E4'\n",
       "21. 'W5-E5'\n",
       "\n",
       "\n"
      ],
      "text/plain": [
       " [1] \"E1-W1\" \"E2-W2\" \"E3-W3\" \"E4-W4\" \"E5-W5\" \"N1-S1\" \"N2-S2\" \"N3-S3\" \"N4-S4\"\n",
       "[10] \"N5-S5\" \"S1-N1\" \"S2-N2\" \"S3-N3\" \"S4-N4\" \"S5-N5\" \"W1-E1\" \"W2-E2\" \"W2-S2\"\n",
       "[19] \"W3-E3\" \"W4-E4\" \"W5-E5\""
      ]
     },
     "metadata": {},
     "output_type": "display_data"
    },
    {
     "data": {
      "text/html": [
       "'E1-W1'"
      ],
      "text/latex": [
       "'E1-W1'"
      ],
      "text/markdown": [
       "'E1-W1'"
      ],
      "text/plain": [
       "[1] \"E1-W1\""
      ]
     },
     "metadata": {},
     "output_type": "display_data"
    },
    {
     "data": {
      "text/html": [
       "<ol class=list-inline>\n",
       "\t<li>17360</li>\n",
       "\t<li>13</li>\n",
       "</ol>\n"
      ],
      "text/latex": [
       "\\begin{enumerate*}\n",
       "\\item 17360\n",
       "\\item 13\n",
       "\\end{enumerate*}\n"
      ],
      "text/markdown": [
       "1. 17360\n",
       "2. 13\n",
       "\n",
       "\n"
      ],
      "text/plain": [
       "[1] 17360    13"
      ]
     },
     "metadata": {},
     "output_type": "display_data"
    },
    {
     "data": {
      "text/html": [
       "<strong>E1-W1:</strong> 17360"
      ],
      "text/latex": [
       "\\textbf{E1-W1:} 17360"
      ],
      "text/markdown": [
       "**E1-W1:** 17360"
      ],
      "text/plain": [
       "E1-W1 \n",
       "17360 "
      ]
     },
     "metadata": {},
     "output_type": "display_data"
    }
   ],
   "source": [
    "# Transect\n",
    "# ========\n",
    "\n",
    "# Explore Variable Type and Change to Factor\n",
    "# ------------------------------------------\n",
    "class(AP.data$veg.PI$transect)\n",
    "summary(AP.data$veg.PI$transect)\n",
    "\n",
    "\n",
    "# Subset an specific Transect (E1-W1) in 'veg.PI' data frame\n",
    "# ----------------------------------------------------------\n",
    "E1W1Tr.AP.data = AP.data\n",
    "dim(E1W1Tr.AP.data$veg.PI)\n",
    "#summary(AP.data$veg.PI$transect)\n",
    "E1W1Tr.AP.data$veg.PI = E1W1Tr.AP.data$veg.PI[E1W1Tr.AP.data$veg.PI$transect == \"E1-W1\",] \n",
    "levels(E1W1Tr.AP.data$veg.PI$transect)\n",
    "E1W1Tr.AP.data$veg.PI$transect = droplevels(E1W1Tr.AP.data$veg.PI$transect)\n",
    "levels(E1W1Tr.AP.data$veg.PI$transect)\n",
    "dim(E1W1Tr.AP.data$veg.PI)\n",
    "summary(E1W1Tr.AP.data$veg.PI$transect)"
   ]
  },
  {
   "cell_type": "markdown",
   "metadata": {},
   "source": [
    "##### Example 3: Growth Form\n",
    "\n",
    "Transect is a `character` variable, so we need to change its class to `factor` \n"
   ]
  },
  {
   "cell_type": "code",
   "execution_count": 10,
   "metadata": {},
   "outputs": [
    {
     "data": {
      "text/html": [
       "'character'"
      ],
      "text/latex": [
       "'character'"
      ],
      "text/markdown": [
       "'character'"
      ],
      "text/plain": [
       "[1] \"character\""
      ]
     },
     "metadata": {},
     "output_type": "display_data"
    },
    {
     "data": {
      "text/plain": [
       "   Length     Class      Mode \n",
       "   734464 character character "
      ]
     },
     "metadata": {},
     "output_type": "display_data"
    },
    {
     "data": {
      "text/html": [
       "<dl class=dl-horizontal>\n",
       "\t<dt>Aquatic</dt>\n",
       "\t\t<dd>3</dd>\n",
       "\t<dt>Bryophyte</dt>\n",
       "\t\t<dd>784</dd>\n",
       "\t<dt>Chenopod</dt>\n",
       "\t\t<dd>19425</dd>\n",
       "\t<dt>Cycad</dt>\n",
       "\t\t<dd>21</dd>\n",
       "\t<dt>Epiphyte</dt>\n",
       "\t\t<dd>275</dd>\n",
       "\t<dt>Fern</dt>\n",
       "\t\t<dd>1418</dd>\n",
       "\t<dt>Forb</dt>\n",
       "\t\t<dd>37544</dd>\n",
       "\t<dt>Fungus</dt>\n",
       "\t\t<dd>25</dd>\n",
       "\t<dt>Grass-tree</dt>\n",
       "\t\t<dd>2311</dd>\n",
       "\t<dt>Heath-shrub</dt>\n",
       "\t\t<dd>5463</dd>\n",
       "\t<dt>Hummock grass</dt>\n",
       "\t\t<dd>26311</dd>\n",
       "\t<dt>NC</dt>\n",
       "\t\t<dd>1095</dd>\n",
       "\t<dt>Rush</dt>\n",
       "\t\t<dd>725</dd>\n",
       "\t<dt>Sedge</dt>\n",
       "\t\t<dd>11663</dd>\n",
       "\t<dt>Shrub</dt>\n",
       "\t\t<dd>83251</dd>\n",
       "\t<dt>Shrub Mallee</dt>\n",
       "\t\t<dd>1897</dd>\n",
       "\t<dt>Tree Mallee</dt>\n",
       "\t\t<dd>13811</dd>\n",
       "\t<dt>Tree/Palm</dt>\n",
       "\t\t<dd>84733</dd>\n",
       "\t<dt>Tussock grass</dt>\n",
       "\t\t<dd>83361</dd>\n",
       "\t<dt>Vine</dt>\n",
       "\t\t<dd>2023</dd>\n",
       "\t<dt>NA's</dt>\n",
       "\t\t<dd>358325</dd>\n",
       "</dl>\n"
      ],
      "text/latex": [
       "\\begin{description*}\n",
       "\\item[Aquatic] 3\n",
       "\\item[Bryophyte] 784\n",
       "\\item[Chenopod] 19425\n",
       "\\item[Cycad] 21\n",
       "\\item[Epiphyte] 275\n",
       "\\item[Fern] 1418\n",
       "\\item[Forb] 37544\n",
       "\\item[Fungus] 25\n",
       "\\item[Grass-tree] 2311\n",
       "\\item[Heath-shrub] 5463\n",
       "\\item[Hummock grass] 26311\n",
       "\\item[NC] 1095\n",
       "\\item[Rush] 725\n",
       "\\item[Sedge] 11663\n",
       "\\item[Shrub] 83251\n",
       "\\item[Shrub Mallee] 1897\n",
       "\\item[Tree Mallee] 13811\n",
       "\\item[Tree/Palm] 84733\n",
       "\\item[Tussock grass] 83361\n",
       "\\item[Vine] 2023\n",
       "\\item[NA's] 358325\n",
       "\\end{description*}\n"
      ],
      "text/markdown": [
       "Aquatic\n",
       ":   3Bryophyte\n",
       ":   784Chenopod\n",
       ":   19425Cycad\n",
       ":   21Epiphyte\n",
       ":   275Fern\n",
       ":   1418Forb\n",
       ":   37544Fungus\n",
       ":   25Grass-tree\n",
       ":   2311Heath-shrub\n",
       ":   5463Hummock grass\n",
       ":   26311NC\n",
       ":   1095Rush\n",
       ":   725Sedge\n",
       ":   11663Shrub\n",
       ":   83251Shrub Mallee\n",
       ":   1897Tree Mallee\n",
       ":   13811Tree/Palm\n",
       ":   84733Tussock grass\n",
       ":   83361Vine\n",
       ":   2023NA's\n",
       ":   358325\n",
       "\n"
      ],
      "text/plain": [
       "      Aquatic     Bryophyte      Chenopod         Cycad      Epiphyte \n",
       "            3           784         19425            21           275 \n",
       "         Fern          Forb        Fungus    Grass-tree   Heath-shrub \n",
       "         1418         37544            25          2311          5463 \n",
       "Hummock grass            NC          Rush         Sedge         Shrub \n",
       "        26311          1095           725         11663         83251 \n",
       " Shrub Mallee   Tree Mallee     Tree/Palm Tussock grass          Vine \n",
       "         1897         13811         84733         83361          2023 \n",
       "         NA's \n",
       "       358325 "
      ]
     },
     "metadata": {},
     "output_type": "display_data"
    },
    {
     "data": {
      "text/html": [
       "<ol class=list-inline>\n",
       "\t<li>734464</li>\n",
       "\t<li>14</li>\n",
       "</ol>\n"
      ],
      "text/latex": [
       "\\begin{enumerate*}\n",
       "\\item 734464\n",
       "\\item 14\n",
       "\\end{enumerate*}\n"
      ],
      "text/markdown": [
       "1. 734464\n",
       "2. 14\n",
       "\n",
       "\n"
      ],
      "text/plain": [
       "[1] 734464     14"
      ]
     },
     "metadata": {},
     "output_type": "display_data"
    },
    {
     "data": {
      "text/html": [
       "<ol class=list-inline>\n",
       "\t<li>'Aquatic'</li>\n",
       "\t<li>'Bryophyte'</li>\n",
       "\t<li>'Chenopod'</li>\n",
       "\t<li>'Cycad'</li>\n",
       "\t<li>'Epiphyte'</li>\n",
       "\t<li>'Fern'</li>\n",
       "\t<li>'Forb'</li>\n",
       "\t<li>'Fungus'</li>\n",
       "\t<li>'Grass-tree'</li>\n",
       "\t<li>'Heath-shrub'</li>\n",
       "\t<li>'Hummock grass'</li>\n",
       "\t<li>'NC'</li>\n",
       "\t<li>'Rush'</li>\n",
       "\t<li>'Sedge'</li>\n",
       "\t<li>'Shrub'</li>\n",
       "\t<li>'Shrub Mallee'</li>\n",
       "\t<li>'Tree Mallee'</li>\n",
       "\t<li>'Tree/Palm'</li>\n",
       "\t<li>'Tussock grass'</li>\n",
       "\t<li>'Vine'</li>\n",
       "</ol>\n"
      ],
      "text/latex": [
       "\\begin{enumerate*}\n",
       "\\item 'Aquatic'\n",
       "\\item 'Bryophyte'\n",
       "\\item 'Chenopod'\n",
       "\\item 'Cycad'\n",
       "\\item 'Epiphyte'\n",
       "\\item 'Fern'\n",
       "\\item 'Forb'\n",
       "\\item 'Fungus'\n",
       "\\item 'Grass-tree'\n",
       "\\item 'Heath-shrub'\n",
       "\\item 'Hummock grass'\n",
       "\\item 'NC'\n",
       "\\item 'Rush'\n",
       "\\item 'Sedge'\n",
       "\\item 'Shrub'\n",
       "\\item 'Shrub Mallee'\n",
       "\\item 'Tree Mallee'\n",
       "\\item 'Tree/Palm'\n",
       "\\item 'Tussock grass'\n",
       "\\item 'Vine'\n",
       "\\end{enumerate*}\n"
      ],
      "text/markdown": [
       "1. 'Aquatic'\n",
       "2. 'Bryophyte'\n",
       "3. 'Chenopod'\n",
       "4. 'Cycad'\n",
       "5. 'Epiphyte'\n",
       "6. 'Fern'\n",
       "7. 'Forb'\n",
       "8. 'Fungus'\n",
       "9. 'Grass-tree'\n",
       "10. 'Heath-shrub'\n",
       "11. 'Hummock grass'\n",
       "12. 'NC'\n",
       "13. 'Rush'\n",
       "14. 'Sedge'\n",
       "15. 'Shrub'\n",
       "16. 'Shrub Mallee'\n",
       "17. 'Tree Mallee'\n",
       "18. 'Tree/Palm'\n",
       "19. 'Tussock grass'\n",
       "20. 'Vine'\n",
       "\n",
       "\n"
      ],
      "text/plain": [
       " [1] \"Aquatic\"       \"Bryophyte\"     \"Chenopod\"      \"Cycad\"        \n",
       " [5] \"Epiphyte\"      \"Fern\"          \"Forb\"          \"Fungus\"       \n",
       " [9] \"Grass-tree\"    \"Heath-shrub\"   \"Hummock grass\" \"NC\"           \n",
       "[13] \"Rush\"          \"Sedge\"         \"Shrub\"         \"Shrub Mallee\" \n",
       "[17] \"Tree Mallee\"   \"Tree/Palm\"     \"Tussock grass\" \"Vine\"         "
      ]
     },
     "metadata": {},
     "output_type": "display_data"
    },
    {
     "data": {
      "text/html": [
       "'Tree/Palm'"
      ],
      "text/latex": [
       "'Tree/Palm'"
      ],
      "text/markdown": [
       "'Tree/Palm'"
      ],
      "text/plain": [
       "[1] \"Tree/Palm\""
      ]
     },
     "metadata": {},
     "output_type": "display_data"
    },
    {
     "data": {
      "text/html": [
       "<ol class=list-inline>\n",
       "\t<li>443058</li>\n",
       "\t<li>14</li>\n",
       "</ol>\n"
      ],
      "text/latex": [
       "\\begin{enumerate*}\n",
       "\\item 443058\n",
       "\\item 14\n",
       "\\end{enumerate*}\n"
      ],
      "text/markdown": [
       "1. 443058\n",
       "2. 14\n",
       "\n",
       "\n"
      ],
      "text/plain": [
       "[1] 443058     14"
      ]
     },
     "metadata": {},
     "output_type": "display_data"
    },
    {
     "data": {
      "text/html": [
       "<dl class=dl-horizontal>\n",
       "\t<dt>Tree/Palm</dt>\n",
       "\t\t<dd>84733</dd>\n",
       "\t<dt>NA's</dt>\n",
       "\t\t<dd>358325</dd>\n",
       "</dl>\n"
      ],
      "text/latex": [
       "\\begin{description*}\n",
       "\\item[Tree/Palm] 84733\n",
       "\\item[NA's] 358325\n",
       "\\end{description*}\n"
      ],
      "text/markdown": [
       "Tree/Palm\n",
       ":   84733NA's\n",
       ":   358325\n",
       "\n"
      ],
      "text/plain": [
       "Tree/Palm      NA's \n",
       "    84733    358325 "
      ]
     },
     "metadata": {},
     "output_type": "display_data"
    }
   ],
   "source": [
    "# Growth Form\n",
    "# ===========\n",
    "\n",
    "# Explore Variable Type and Change to Factor in 'veg.PI' data frame\n",
    "# -----------------------------------------------------------------\n",
    "class(AP.data$veg.PI$growth_form)\n",
    "summary(AP.data$veg.PI$growth_form)\n",
    "AP.data$veg.PI$growth_form.f = factor(AP.data$veg.PI$growth_form)\n",
    "summary(AP.data$veg.PI$growth_form.f)\n",
    "\n",
    "# Subset to the Tree/Palm Growth Form\n",
    "# -----------------------------------\n",
    "TreePalm.AP.data = AP.data\n",
    "dim(TreePalm.AP.data$veg.PI)\n",
    "#summary(AP.data$veg.PI$growth_form.f)\n",
    "TreePalm.AP.data$veg.PI = TreePalm.AP.data$veg.PI[TreePalm.AP.data$veg.PI$growth_form.f == \"Tree/Palm\",] \n",
    "levels(TreePalm.AP.data$veg.PI$growth_form.f)\n",
    "TreePalm.AP.data$veg.PI$growth_form.f = droplevels(TreePalm.AP.data$veg.PI$growth_form.f)\n",
    "levels(TreePalm.AP.data$veg.PI$growth_form.f)\n",
    "dim(TreePalm.AP.data$veg.PI)\n",
    "summary(TreePalm.AP.data$veg.PI$growth_form.f)"
   ]
  },
  {
   "cell_type": "markdown",
   "metadata": {},
   "source": [
    "#### Sub-setting All Data Frames\n",
    "\n",
    "In some occasions, we are interested on sites located at particular states or bioregions. Alternatively, we might be only interested on data obtained in sites on steep slopes and/or with a slope facing (i.e. aspect) south. In these examples, we can use the variables in the `site.info` data frame to filter the sites we of interest. In this case, we also need to subset the data in the remaining data frames, as we are only interested in data that has been collected in sites with particular characteristics. Therefore, we the filter the other data frames by site, selecting the sites filtered out in our first sub-setting operation on the `site.info` data frame. To do so we use one of the variables present in all data frames that contain a site identifier (i.e. using `site_location_name`, `site_location_visit_id`, or `site_unique`; see above).\n",
    "\n",
    "##### Example 1: Site Slope\n",
    "\n",
    "Site Slope is a `character` variable, so we need to change its class to `numeric` "
   ]
  },
  {
   "cell_type": "code",
   "execution_count": 11,
   "metadata": {},
   "outputs": [
    {
     "data": {
      "text/html": [
       "'character'"
      ],
      "text/latex": [
       "'character'"
      ],
      "text/markdown": [
       "'character'"
      ],
      "text/plain": [
       "[1] \"character\""
      ]
     },
     "metadata": {},
     "output_type": "display_data"
    },
    {
     "data": {
      "text/plain": [
       "   Length     Class      Mode \n",
       "      662 character character "
      ]
     },
     "metadata": {},
     "output_type": "display_data"
    },
    {
     "name": "stderr",
     "output_type": "stream",
     "text": [
      "Warning message in eval(expr, envir, enclos):\n",
      "\"NAs introduced by coercion\""
     ]
    },
    {
     "data": {
      "text/plain": [
       "   Min. 1st Qu.  Median    Mean 3rd Qu.    Max.    NA's \n",
       "  0.000   0.000   1.000   2.564   2.000  50.000     111 "
      ]
     },
     "metadata": {},
     "output_type": "display_data"
    },
    {
     "data": {
      "text/html": [
       "<ol class=list-inline>\n",
       "\t<li>662</li>\n",
       "\t<li>44</li>\n",
       "</ol>\n"
      ],
      "text/latex": [
       "\\begin{enumerate*}\n",
       "\\item 662\n",
       "\\item 44\n",
       "\\end{enumerate*}\n"
      ],
      "text/markdown": [
       "1. 662\n",
       "2. 44\n",
       "\n",
       "\n"
      ],
      "text/plain": [
       "[1] 662  44"
      ]
     },
     "metadata": {},
     "output_type": "display_data"
    },
    {
     "data": {
      "text/html": [
       "<ol class=list-inline>\n",
       "\t<li>123</li>\n",
       "\t<li>44</li>\n",
       "</ol>\n"
      ],
      "text/latex": [
       "\\begin{enumerate*}\n",
       "\\item 123\n",
       "\\item 44\n",
       "\\end{enumerate*}\n"
      ],
      "text/markdown": [
       "1. 123\n",
       "2. 44\n",
       "\n",
       "\n"
      ],
      "text/plain": [
       "[1] 123  44"
      ]
     },
     "metadata": {},
     "output_type": "display_data"
    },
    {
     "data": {
      "text/plain": [
       "   Min. 1st Qu.  Median    Mean 3rd Qu.    Max.    NA's \n",
       "  20.00   20.75   25.00   28.92   35.00   50.00     111 "
      ]
     },
     "metadata": {},
     "output_type": "display_data"
    },
    {
     "data": {
      "text/html": [
       "<ol class=list-inline>\n",
       "\t<li>734464</li>\n",
       "\t<li>14</li>\n",
       "</ol>\n"
      ],
      "text/latex": [
       "\\begin{enumerate*}\n",
       "\\item 734464\n",
       "\\item 14\n",
       "\\end{enumerate*}\n"
      ],
      "text/markdown": [
       "1. 734464\n",
       "2. 14\n",
       "\n",
       "\n"
      ],
      "text/plain": [
       "[1] 734464     14"
      ]
     },
     "metadata": {},
     "output_type": "display_data"
    },
    {
     "data": {
      "text/html": [
       "<ol class=list-inline>\n",
       "\t<li>15146</li>\n",
       "\t<li>14</li>\n",
       "</ol>\n"
      ],
      "text/latex": [
       "\\begin{enumerate*}\n",
       "\\item 15146\n",
       "\\item 14\n",
       "\\end{enumerate*}\n"
      ],
      "text/markdown": [
       "1. 15146\n",
       "2. 14\n",
       "\n",
       "\n"
      ],
      "text/plain": [
       "[1] 15146    14"
      ]
     },
     "metadata": {},
     "output_type": "display_data"
    },
    {
     "data": {
      "text/html": [
       "<ol class=list-inline>\n",
       "\t<li>8291</li>\n",
       "\t<li>10</li>\n",
       "</ol>\n"
      ],
      "text/latex": [
       "\\begin{enumerate*}\n",
       "\\item 8291\n",
       "\\item 10\n",
       "\\end{enumerate*}\n"
      ],
      "text/markdown": [
       "1. 8291\n",
       "2. 10\n",
       "\n",
       "\n"
      ],
      "text/plain": [
       "[1] 8291   10"
      ]
     },
     "metadata": {},
     "output_type": "display_data"
    },
    {
     "data": {
      "text/html": [
       "<ol class=list-inline>\n",
       "\t<li>215</li>\n",
       "\t<li>10</li>\n",
       "</ol>\n"
      ],
      "text/latex": [
       "\\begin{enumerate*}\n",
       "\\item 215\n",
       "\\item 10\n",
       "\\end{enumerate*}\n"
      ],
      "text/markdown": [
       "1. 215\n",
       "2. 10\n",
       "\n",
       "\n"
      ],
      "text/plain": [
       "[1] 215  10"
      ]
     },
     "metadata": {},
     "output_type": "display_data"
    }
   ],
   "source": [
    "# =======================\n",
    "# Sub-set All Data Frames\n",
    "# =======================\n",
    "# Here we filter by variables in the 'veg.PI' data frame\n",
    "\n",
    "\n",
    "# Site Slope\n",
    "# ==========\n",
    "\n",
    "# Explore Variable Type and Change to Numeric\n",
    "# -------------------------------------------\n",
    "class(AP.data$site.info$site_slope)\n",
    "summary(AP.data$site.info$site_slope)\n",
    "AP.data$site.info$site_slope.n = as.numeric(AP.data$site.info$site_slope)\n",
    "summary(AP.data$site.info$site_slope.n)\n",
    "\n",
    "\n",
    "# Subset to Plos with Steep Slopes (> 20 degrees) in 'site.info' data frame\n",
    "# -------------------------------------------------------------------------\n",
    "slope.AP.data = AP.data\n",
    "dim(slope.AP.data$site.info)\n",
    "#summary(AP.data$site.info$site_slope.n)\n",
    "slope.AP.data$site.info = slope.AP.data$site.info[slope.AP.data$site.info$site_slope.n >= 20,] \n",
    "dim(slope.AP.data$site.info)\n",
    "summary(slope.AP.data$site.info$site_slope.n)\n",
    "\n",
    "\n",
    "# Subset to Plots with Steep Slopes in other Data Frames\n",
    "# ------------------------------------------------------\n",
    "# To do so we use the common variable 'site_unique'\n",
    "\n",
    "# Subset in 'veg.PI' Data Frame\n",
    "# ~~~~~~~~~~~~~~~~~~~~~~~~~~~~~\n",
    "dim(slope.AP.data$veg.PI)\n",
    "slope.AP.data$veg.PI = slope.AP.data$veg.PI[slope.AP.data$veg.PI$site_unique %in% slope.AP.data$site.info$site_unique, ]\n",
    "dim(slope.AP.data$veg.PI)\n",
    "\n",
    "# Subset in 'veg.basal' Data Frame\n",
    "# ~~~~~~~~~~~~~~~~~~~~~~~~~~~~~~~~\n",
    "dim(slope.AP.data$veg.basal)\n",
    "slope.AP.data$veg.basal = slope.AP.data$veg.basal[slope.AP.data$veg.basal$site_unique %in% slope.AP.data$site.info$site_unique, ]\n",
    "dim(slope.AP.data$veg.basal)"
   ]
  },
  {
   "cell_type": "markdown",
   "metadata": {},
   "source": [
    "##### Example 2: Site Aspect\n",
    "\n",
    "Site Aspect is a `character` variable, so we need to change its class to `numeric` "
   ]
  },
  {
   "cell_type": "code",
   "execution_count": 12,
   "metadata": {},
   "outputs": [
    {
     "data": {
      "text/html": [
       "'character'"
      ],
      "text/latex": [
       "'character'"
      ],
      "text/markdown": [
       "'character'"
      ],
      "text/plain": [
       "[1] \"character\""
      ]
     },
     "metadata": {},
     "output_type": "display_data"
    },
    {
     "data": {
      "text/plain": [
       "   Length     Class      Mode \n",
       "      662 character character "
      ]
     },
     "metadata": {},
     "output_type": "display_data"
    },
    {
     "name": "stderr",
     "output_type": "stream",
     "text": [
      "Warning message in eval(expr, envir, enclos):\n",
      "\"NAs introduced by coercion\""
     ]
    },
    {
     "data": {
      "text/plain": [
       "   Min. 1st Qu.  Median    Mean 3rd Qu.    Max.    NA's \n",
       "    0.0    90.0   180.0   183.7   270.0   360.0     399 "
      ]
     },
     "metadata": {},
     "output_type": "display_data"
    },
    {
     "data": {
      "text/html": [
       "<ol class=list-inline>\n",
       "\t<li>662</li>\n",
       "\t<li>45</li>\n",
       "</ol>\n"
      ],
      "text/latex": [
       "\\begin{enumerate*}\n",
       "\\item 662\n",
       "\\item 45\n",
       "\\end{enumerate*}\n"
      ],
      "text/markdown": [
       "1. 662\n",
       "2. 45\n",
       "\n",
       "\n"
      ],
      "text/plain": [
       "[1] 662  45"
      ]
     },
     "metadata": {},
     "output_type": "display_data"
    },
    {
     "data": {
      "text/html": [
       "<ol class=list-inline>\n",
       "\t<li>488</li>\n",
       "\t<li>45</li>\n",
       "</ol>\n"
      ],
      "text/latex": [
       "\\begin{enumerate*}\n",
       "\\item 488\n",
       "\\item 45\n",
       "\\end{enumerate*}\n"
      ],
      "text/markdown": [
       "1. 488\n",
       "2. 45\n",
       "\n",
       "\n"
      ],
      "text/plain": [
       "[1] 488  45"
      ]
     },
     "metadata": {},
     "output_type": "display_data"
    },
    {
     "data": {
      "text/plain": [
       "   Min. 1st Qu.  Median    Mean 3rd Qu.    Max.    NA's \n",
       "  150.0   180.0   180.0   194.8   225.0   225.0     399 "
      ]
     },
     "metadata": {},
     "output_type": "display_data"
    },
    {
     "data": {
      "text/html": [
       "<ol class=list-inline>\n",
       "\t<li>734464</li>\n",
       "\t<li>14</li>\n",
       "</ol>\n"
      ],
      "text/latex": [
       "\\begin{enumerate*}\n",
       "\\item 734464\n",
       "\\item 14\n",
       "\\end{enumerate*}\n"
      ],
      "text/markdown": [
       "1. 734464\n",
       "2. 14\n",
       "\n",
       "\n"
      ],
      "text/plain": [
       "[1] 734464     14"
      ]
     },
     "metadata": {},
     "output_type": "display_data"
    },
    {
     "data": {
      "text/html": [
       "<ol class=list-inline>\n",
       "\t<li>100649</li>\n",
       "\t<li>14</li>\n",
       "</ol>\n"
      ],
      "text/latex": [
       "\\begin{enumerate*}\n",
       "\\item 100649\n",
       "\\item 14\n",
       "\\end{enumerate*}\n"
      ],
      "text/markdown": [
       "1. 100649\n",
       "2. 14\n",
       "\n",
       "\n"
      ],
      "text/plain": [
       "[1] 100649     14"
      ]
     },
     "metadata": {},
     "output_type": "display_data"
    },
    {
     "data": {
      "text/html": [
       "<ol class=list-inline>\n",
       "\t<li>8291</li>\n",
       "\t<li>10</li>\n",
       "</ol>\n"
      ],
      "text/latex": [
       "\\begin{enumerate*}\n",
       "\\item 8291\n",
       "\\item 10\n",
       "\\end{enumerate*}\n"
      ],
      "text/markdown": [
       "1. 8291\n",
       "2. 10\n",
       "\n",
       "\n"
      ],
      "text/plain": [
       "[1] 8291   10"
      ]
     },
     "metadata": {},
     "output_type": "display_data"
    },
    {
     "data": {
      "text/html": [
       "<ol class=list-inline>\n",
       "\t<li>1084</li>\n",
       "\t<li>10</li>\n",
       "</ol>\n"
      ],
      "text/latex": [
       "\\begin{enumerate*}\n",
       "\\item 1084\n",
       "\\item 10\n",
       "\\end{enumerate*}\n"
      ],
      "text/markdown": [
       "1. 1084\n",
       "2. 10\n",
       "\n",
       "\n"
      ],
      "text/plain": [
       "[1] 1084   10"
      ]
     },
     "metadata": {},
     "output_type": "display_data"
    }
   ],
   "source": [
    "# Site Aspect\n",
    "# ===========\n",
    "\n",
    "# Explore Variable Type and Change to Numeric\n",
    "# -------------------------------------------\n",
    "class(AP.data$site.info$site_aspect)\n",
    "summary(AP.data$site.info$site_aspect)\n",
    "AP.data$site.info$site_aspect.n = as.numeric(AP.data$site.info$site_aspect)\n",
    "summary(AP.data$site.info$site_aspect.n)\n",
    "\n",
    "# Subset to Plots with a South (SE to SW; i.e. 135 to 225) Aspect in 'site.info' data frame\n",
    "# -----------------------------------------------------------------------------------------\n",
    "aspect.AP.data = AP.data\n",
    "dim(aspect.AP.data$site.info)\n",
    "#summary(AP.data$site.info$site_aspect.n)\n",
    "aspect.AP.data$site.info = aspect.AP.data$site.info[(aspect.AP.data$site.info$site_aspect.n > 135 &\n",
    "aspect.AP.data$site.info$site_aspect.n <= 225),] \n",
    "dim(aspect.AP.data$site.info)\n",
    "summary(aspect.AP.data$site.info$site_aspect.n)\n",
    "\n",
    "# Subset to Plots with a South (SE to SW) Aspect in other Data Frames\n",
    "# -------------------------------------------------------------------\n",
    "# To do so we use the common variable 'site_unique'\n",
    "\n",
    "# Subset in 'veg.PI' Data Frame\n",
    "# ~~~~~~~~~~~~~~~~~~~~~~~~~~~~~\n",
    "dim(aspect.AP.data$veg.PI)\n",
    "aspect.AP.data$veg.PI = aspect.AP.data$veg.PI[aspect.AP.data$veg.PI$site_unique %in% aspect.AP.data$site.info$site_unique, ]\n",
    "dim(aspect.AP.data$veg.PI)\n",
    "\n",
    "# Subset in 'veg.basal' Data Frame\n",
    "# ~~~~~~~~~~~~~~~~~~~~~~~~~~~~~~~~\n",
    "dim(aspect.AP.data$veg.basal)\n",
    "aspect.AP.data$veg.basal = aspect.AP.data$veg.basal[aspect.AP.data$veg.basal$site_unique %in% aspect.AP.data$site.info$site_unique, ]\n",
    "dim(aspect.AP.data$veg.basal)"
   ]
  },
  {
   "cell_type": "markdown",
   "metadata": {},
   "source": [
    "##### Example 3: State\n",
    "\n",
    "State is a `character` variable, so we need to change its class to `factor` "
   ]
  },
  {
   "cell_type": "code",
   "execution_count": 13,
   "metadata": {},
   "outputs": [
    {
     "data": {
      "text/html": [
       "'character'"
      ],
      "text/latex": [
       "'character'"
      ],
      "text/markdown": [
       "'character'"
      ],
      "text/plain": [
       "[1] \"character\""
      ]
     },
     "metadata": {},
     "output_type": "display_data"
    },
    {
     "data": {
      "text/plain": [
       "   Length     Class      Mode \n",
       "      662 character character "
      ]
     },
     "metadata": {},
     "output_type": "display_data"
    },
    {
     "data": {
      "text/html": [
       "<dl class=dl-horizontal>\n",
       "\t<dt>NSW</dt>\n",
       "\t\t<dd>87</dd>\n",
       "\t<dt>NT</dt>\n",
       "\t\t<dd>138</dd>\n",
       "\t<dt>QLD</dt>\n",
       "\t\t<dd>127</dd>\n",
       "\t<dt>SA</dt>\n",
       "\t\t<dd>171</dd>\n",
       "\t<dt>VIC</dt>\n",
       "\t\t<dd>18</dd>\n",
       "\t<dt>WA</dt>\n",
       "\t\t<dd>121</dd>\n",
       "</dl>\n"
      ],
      "text/latex": [
       "\\begin{description*}\n",
       "\\item[NSW] 87\n",
       "\\item[NT] 138\n",
       "\\item[QLD] 127\n",
       "\\item[SA] 171\n",
       "\\item[VIC] 18\n",
       "\\item[WA] 121\n",
       "\\end{description*}\n"
      ],
      "text/markdown": [
       "NSW\n",
       ":   87NT\n",
       ":   138QLD\n",
       ":   127SA\n",
       ":   171VIC\n",
       ":   18WA\n",
       ":   121\n",
       "\n"
      ],
      "text/plain": [
       "NSW  NT QLD  SA VIC  WA \n",
       " 87 138 127 171  18 121 "
      ]
     },
     "metadata": {},
     "output_type": "display_data"
    },
    {
     "data": {
      "text/html": [
       "<ol class=list-inline>\n",
       "\t<li>662</li>\n",
       "\t<li>46</li>\n",
       "</ol>\n"
      ],
      "text/latex": [
       "\\begin{enumerate*}\n",
       "\\item 662\n",
       "\\item 46\n",
       "\\end{enumerate*}\n"
      ],
      "text/markdown": [
       "1. 662\n",
       "2. 46\n",
       "\n",
       "\n"
      ],
      "text/plain": [
       "[1] 662  46"
      ]
     },
     "metadata": {},
     "output_type": "display_data"
    },
    {
     "data": {
      "text/html": [
       "<ol class=list-inline>\n",
       "\t<li>'NSW'</li>\n",
       "\t<li>'NT'</li>\n",
       "\t<li>'QLD'</li>\n",
       "\t<li>'SA'</li>\n",
       "\t<li>'VIC'</li>\n",
       "\t<li>'WA'</li>\n",
       "</ol>\n"
      ],
      "text/latex": [
       "\\begin{enumerate*}\n",
       "\\item 'NSW'\n",
       "\\item 'NT'\n",
       "\\item 'QLD'\n",
       "\\item 'SA'\n",
       "\\item 'VIC'\n",
       "\\item 'WA'\n",
       "\\end{enumerate*}\n"
      ],
      "text/markdown": [
       "1. 'NSW'\n",
       "2. 'NT'\n",
       "3. 'QLD'\n",
       "4. 'SA'\n",
       "5. 'VIC'\n",
       "6. 'WA'\n",
       "\n",
       "\n"
      ],
      "text/plain": [
       "[1] \"NSW\" \"NT\"  \"QLD\" \"SA\"  \"VIC\" \"WA\" "
      ]
     },
     "metadata": {},
     "output_type": "display_data"
    },
    {
     "data": {
      "text/html": [
       "'QLD'"
      ],
      "text/latex": [
       "'QLD'"
      ],
      "text/markdown": [
       "'QLD'"
      ],
      "text/plain": [
       "[1] \"QLD\""
      ]
     },
     "metadata": {},
     "output_type": "display_data"
    },
    {
     "data": {
      "text/html": [
       "<ol class=list-inline>\n",
       "\t<li>127</li>\n",
       "\t<li>46</li>\n",
       "</ol>\n"
      ],
      "text/latex": [
       "\\begin{enumerate*}\n",
       "\\item 127\n",
       "\\item 46\n",
       "\\end{enumerate*}\n"
      ],
      "text/markdown": [
       "1. 127\n",
       "2. 46\n",
       "\n",
       "\n"
      ],
      "text/plain": [
       "[1] 127  46"
      ]
     },
     "metadata": {},
     "output_type": "display_data"
    },
    {
     "data": {
      "text/html": [
       "<strong>QLD:</strong> 127"
      ],
      "text/latex": [
       "\\textbf{QLD:} 127"
      ],
      "text/markdown": [
       "**QLD:** 127"
      ],
      "text/plain": [
       "QLD \n",
       "127 "
      ]
     },
     "metadata": {},
     "output_type": "display_data"
    },
    {
     "data": {
      "text/html": [
       "<ol class=list-inline>\n",
       "\t<li>734464</li>\n",
       "\t<li>14</li>\n",
       "</ol>\n"
      ],
      "text/latex": [
       "\\begin{enumerate*}\n",
       "\\item 734464\n",
       "\\item 14\n",
       "\\end{enumerate*}\n"
      ],
      "text/markdown": [
       "1. 734464\n",
       "2. 14\n",
       "\n",
       "\n"
      ],
      "text/plain": [
       "[1] 734464     14"
      ]
     },
     "metadata": {},
     "output_type": "display_data"
    },
    {
     "data": {
      "text/html": [
       "<ol class=list-inline>\n",
       "\t<li>138489</li>\n",
       "\t<li>14</li>\n",
       "</ol>\n"
      ],
      "text/latex": [
       "\\begin{enumerate*}\n",
       "\\item 138489\n",
       "\\item 14\n",
       "\\end{enumerate*}\n"
      ],
      "text/markdown": [
       "1. 138489\n",
       "2. 14\n",
       "\n",
       "\n"
      ],
      "text/plain": [
       "[1] 138489     14"
      ]
     },
     "metadata": {},
     "output_type": "display_data"
    },
    {
     "data": {
      "text/html": [
       "<ol class=list-inline>\n",
       "\t<li>8291</li>\n",
       "\t<li>10</li>\n",
       "</ol>\n"
      ],
      "text/latex": [
       "\\begin{enumerate*}\n",
       "\\item 8291\n",
       "\\item 10\n",
       "\\end{enumerate*}\n"
      ],
      "text/markdown": [
       "1. 8291\n",
       "2. 10\n",
       "\n",
       "\n"
      ],
      "text/plain": [
       "[1] 8291   10"
      ]
     },
     "metadata": {},
     "output_type": "display_data"
    },
    {
     "data": {
      "text/html": [
       "<ol class=list-inline>\n",
       "\t<li>1846</li>\n",
       "\t<li>10</li>\n",
       "</ol>\n"
      ],
      "text/latex": [
       "\\begin{enumerate*}\n",
       "\\item 1846\n",
       "\\item 10\n",
       "\\end{enumerate*}\n"
      ],
      "text/markdown": [
       "1. 1846\n",
       "2. 10\n",
       "\n",
       "\n"
      ],
      "text/plain": [
       "[1] 1846   10"
      ]
     },
     "metadata": {},
     "output_type": "display_data"
    }
   ],
   "source": [
    "# State\n",
    "# =====\n",
    "\n",
    "# Explore Variable Type and Change to Factor\n",
    "# ------------------------------------------\n",
    "class(AP.data$site.info$state)\n",
    "summary(AP.data$site.info$state)\n",
    "AP.data$site.info$state.f = factor(AP.data$site.info$state)\n",
    "summary(AP.data$site.info$state.f)\n",
    "\n",
    "\n",
    "# Subset to Plots in the State of Queensland in 'site.info' data frame\n",
    "# --------------------------------------------------------------------\n",
    "# Subset to \"QLD\"\n",
    "QLD.AP.data = AP.data\n",
    "dim(QLD.AP.data$site.info)\n",
    "#summary(AP.data$site.info$state.f)\n",
    "QLD.AP.data$site.info = QLD.AP.data$site.info[QLD.AP.data$site.info$state.f == \"QLD\",] \n",
    "levels(QLD.AP.data$site.info$state.f)\n",
    "QLD.AP.data$site.info$state.f = droplevels(QLD.AP.data$site.info$state.f)\n",
    "levels(QLD.AP.data$site.info$state.f)\n",
    "dim(QLD.AP.data$site.info)\n",
    "summary(QLD.AP.data$site.info$state.f)\n",
    "\n",
    "\n",
    "# Subset to Plots iw the State of Queensland in other Data Frames\n",
    "# ---------------------------------------------------------------\n",
    "# To do so we use the common variable 'site_unique'\n",
    "\n",
    "# Subset in 'veg.PI' Data Frame\n",
    "# ~~~~~~~~~~~~~~~~~~~~~~~~~~~~~\n",
    "dim(QLD.AP.data$veg.PI)\n",
    "QLD.AP.data$veg.PI = QLD.AP.data$veg.PI[QLD.AP.data$veg.PI$site_unique %in% QLD.AP.data$site.info$site_unique, ]\n",
    "dim(QLD.AP.data$veg.PI)\n",
    "\n",
    "# Subset in 'veg.basal' Data Frame\n",
    "# ~~~~~~~~~~~~~~~~~~~~~~~~~~~~~~~~\n",
    "dim(QLD.AP.data$veg.basal)\n",
    "QLD.AP.data$veg.basal = QLD.AP.data$veg.basal[QLD.AP.data$veg.basal$site_unique %in% QLD.AP.data$site.info$site_unique, ]\n",
    "dim(QLD.AP.data$veg.basal)"
   ]
  },
  {
   "cell_type": "markdown",
   "metadata": {},
   "source": [
    "##### Example 4: Bioregion name\n",
    "\n",
    "Bioregion name is a `character` variable, so we need to change its class to `factor` "
   ]
  },
  {
   "cell_type": "code",
   "execution_count": 14,
   "metadata": {},
   "outputs": [
    {
     "data": {
      "text/html": [
       "'character'"
      ],
      "text/latex": [
       "'character'"
      ],
      "text/markdown": [
       "'character'"
      ],
      "text/plain": [
       "[1] \"character\""
      ]
     },
     "metadata": {},
     "output_type": "display_data"
    },
    {
     "data": {
      "text/plain": [
       "   Length     Class      Mode \n",
       "      662 character character "
      ]
     },
     "metadata": {},
     "output_type": "display_data"
    },
    {
     "data": {
      "text/html": [
       "<dl class=dl-horizontal>\n",
       "\t<dt>ARP</dt>\n",
       "\t\t<dd>3</dd>\n",
       "\t<dt>AUA</dt>\n",
       "\t\t<dd>15</dd>\n",
       "\t<dt>AVW</dt>\n",
       "\t\t<dd>4</dd>\n",
       "\t<dt>BBS</dt>\n",
       "\t\t<dd>2</dd>\n",
       "\t<dt>BHC</dt>\n",
       "\t\t<dd>34</dd>\n",
       "\t<dt>BRT</dt>\n",
       "\t\t<dd>6</dd>\n",
       "\t<dt>CEK</dt>\n",
       "\t\t<dd>3</dd>\n",
       "\t<dt>CHC</dt>\n",
       "\t\t<dd>13</dd>\n",
       "\t<dt>COO</dt>\n",
       "\t\t<dd>32</dd>\n",
       "\t<dt>COP</dt>\n",
       "\t\t<dd>2</dd>\n",
       "\t<dt>CYP</dt>\n",
       "\t\t<dd>19</dd>\n",
       "\t<dt>DAB</dt>\n",
       "\t\t<dd>1</dd>\n",
       "\t<dt>DAC</dt>\n",
       "\t\t<dd>3</dd>\n",
       "\t<dt>DAL</dt>\n",
       "\t\t<dd>1</dd>\n",
       "\t<dt>DMR</dt>\n",
       "\t\t<dd>3</dd>\n",
       "\t<dt>EIU</dt>\n",
       "\t\t<dd>7</dd>\n",
       "\t<dt>ESP</dt>\n",
       "\t\t<dd>1</dd>\n",
       "\t<dt>EYB</dt>\n",
       "\t\t<dd>3</dd>\n",
       "\t<dt>FIN</dt>\n",
       "\t\t<dd>18</dd>\n",
       "\t<dt>FLB</dt>\n",
       "\t\t<dd>50</dd>\n",
       "\t<dt>GAS</dt>\n",
       "\t\t<dd>2</dd>\n",
       "\t<dt>GAW</dt>\n",
       "\t\t<dd>3</dd>\n",
       "\t<dt>GES</dt>\n",
       "\t\t<dd>3</dd>\n",
       "\t<dt>GFU</dt>\n",
       "\t\t<dd>41</dd>\n",
       "\t<dt>GSD</dt>\n",
       "\t\t<dd>1</dd>\n",
       "\t<dt>GUP</dt>\n",
       "\t\t<dd>33</dd>\n",
       "\t<dt>GVD</dt>\n",
       "\t\t<dd>5</dd>\n",
       "\t<dt>HAM</dt>\n",
       "\t\t<dd>6</dd>\n",
       "\t<dt>JAF</dt>\n",
       "\t\t<dd>3</dd>\n",
       "\t<dt>KAN</dt>\n",
       "\t\t<dd>11</dd>\n",
       "\t<dt>LSD</dt>\n",
       "\t\t<dd>3</dd>\n",
       "\t<dt>MAC</dt>\n",
       "\t\t<dd>28</dd>\n",
       "\t<dt>MAL</dt>\n",
       "\t\t<dd>3</dd>\n",
       "\t<dt>MDD</dt>\n",
       "\t\t<dd>52</dd>\n",
       "\t<dt>MGD</dt>\n",
       "\t\t<dd>34</dd>\n",
       "\t<dt>MII</dt>\n",
       "\t\t<dd>2</dd>\n",
       "\t<dt>MUL</dt>\n",
       "\t\t<dd>7</dd>\n",
       "\t<dt>MUR</dt>\n",
       "\t\t<dd>6</dd>\n",
       "\t<dt>NAN</dt>\n",
       "\t\t<dd>2</dd>\n",
       "\t<dt>NSS</dt>\n",
       "\t\t<dd>3</dd>\n",
       "\t<dt>NUL</dt>\n",
       "\t\t<dd>13</dd>\n",
       "\t<dt>PCK</dt>\n",
       "\t\t<dd>3</dd>\n",
       "\t<dt>PIL</dt>\n",
       "\t\t<dd>35</dd>\n",
       "\t<dt>RIV</dt>\n",
       "\t\t<dd>32</dd>\n",
       "\t<dt>SSD</dt>\n",
       "\t\t<dd>48</dd>\n",
       "\t<dt>STP</dt>\n",
       "\t\t<dd>40</dd>\n",
       "\t<dt>STU</dt>\n",
       "\t\t<dd>6</dd>\n",
       "\t<dt>SWA</dt>\n",
       "\t\t<dd>4</dd>\n",
       "\t<dt>SYB</dt>\n",
       "\t\t<dd>9</dd>\n",
       "\t<dt>VIB</dt>\n",
       "\t\t<dd>4</dd>\n",
       "</dl>\n"
      ],
      "text/latex": [
       "\\begin{description*}\n",
       "\\item[ARP] 3\n",
       "\\item[AUA] 15\n",
       "\\item[AVW] 4\n",
       "\\item[BBS] 2\n",
       "\\item[BHC] 34\n",
       "\\item[BRT] 6\n",
       "\\item[CEK] 3\n",
       "\\item[CHC] 13\n",
       "\\item[COO] 32\n",
       "\\item[COP] 2\n",
       "\\item[CYP] 19\n",
       "\\item[DAB] 1\n",
       "\\item[DAC] 3\n",
       "\\item[DAL] 1\n",
       "\\item[DMR] 3\n",
       "\\item[EIU] 7\n",
       "\\item[ESP] 1\n",
       "\\item[EYB] 3\n",
       "\\item[FIN] 18\n",
       "\\item[FLB] 50\n",
       "\\item[GAS] 2\n",
       "\\item[GAW] 3\n",
       "\\item[GES] 3\n",
       "\\item[GFU] 41\n",
       "\\item[GSD] 1\n",
       "\\item[GUP] 33\n",
       "\\item[GVD] 5\n",
       "\\item[HAM] 6\n",
       "\\item[JAF] 3\n",
       "\\item[KAN] 11\n",
       "\\item[LSD] 3\n",
       "\\item[MAC] 28\n",
       "\\item[MAL] 3\n",
       "\\item[MDD] 52\n",
       "\\item[MGD] 34\n",
       "\\item[MII] 2\n",
       "\\item[MUL] 7\n",
       "\\item[MUR] 6\n",
       "\\item[NAN] 2\n",
       "\\item[NSS] 3\n",
       "\\item[NUL] 13\n",
       "\\item[PCK] 3\n",
       "\\item[PIL] 35\n",
       "\\item[RIV] 32\n",
       "\\item[SSD] 48\n",
       "\\item[STP] 40\n",
       "\\item[STU] 6\n",
       "\\item[SWA] 4\n",
       "\\item[SYB] 9\n",
       "\\item[VIB] 4\n",
       "\\end{description*}\n"
      ],
      "text/markdown": [
       "ARP\n",
       ":   3AUA\n",
       ":   15AVW\n",
       ":   4BBS\n",
       ":   2BHC\n",
       ":   34BRT\n",
       ":   6CEK\n",
       ":   3CHC\n",
       ":   13COO\n",
       ":   32COP\n",
       ":   2CYP\n",
       ":   19DAB\n",
       ":   1DAC\n",
       ":   3DAL\n",
       ":   1DMR\n",
       ":   3EIU\n",
       ":   7ESP\n",
       ":   1EYB\n",
       ":   3FIN\n",
       ":   18FLB\n",
       ":   50GAS\n",
       ":   2GAW\n",
       ":   3GES\n",
       ":   3GFU\n",
       ":   41GSD\n",
       ":   1GUP\n",
       ":   33GVD\n",
       ":   5HAM\n",
       ":   6JAF\n",
       ":   3KAN\n",
       ":   11LSD\n",
       ":   3MAC\n",
       ":   28MAL\n",
       ":   3MDD\n",
       ":   52MGD\n",
       ":   34MII\n",
       ":   2MUL\n",
       ":   7MUR\n",
       ":   6NAN\n",
       ":   2NSS\n",
       ":   3NUL\n",
       ":   13PCK\n",
       ":   3PIL\n",
       ":   35RIV\n",
       ":   32SSD\n",
       ":   48STP\n",
       ":   40STU\n",
       ":   6SWA\n",
       ":   4SYB\n",
       ":   9VIB\n",
       ":   4\n",
       "\n"
      ],
      "text/plain": [
       "ARP AUA AVW BBS BHC BRT CEK CHC COO COP CYP DAB DAC DAL DMR EIU ESP EYB FIN FLB \n",
       "  3  15   4   2  34   6   3  13  32   2  19   1   3   1   3   7   1   3  18  50 \n",
       "GAS GAW GES GFU GSD GUP GVD HAM JAF KAN LSD MAC MAL MDD MGD MII MUL MUR NAN NSS \n",
       "  2   3   3  41   1  33   5   6   3  11   3  28   3  52  34   2   7   6   2   3 \n",
       "NUL PCK PIL RIV SSD STP STU SWA SYB VIB \n",
       " 13   3  35  32  48  40   6   4   9   4 "
      ]
     },
     "metadata": {},
     "output_type": "display_data"
    },
    {
     "data": {
      "text/html": [
       "<ol class=list-inline>\n",
       "\t<li>662</li>\n",
       "\t<li>47</li>\n",
       "</ol>\n"
      ],
      "text/latex": [
       "\\begin{enumerate*}\n",
       "\\item 662\n",
       "\\item 47\n",
       "\\end{enumerate*}\n"
      ],
      "text/markdown": [
       "1. 662\n",
       "2. 47\n",
       "\n",
       "\n"
      ],
      "text/plain": [
       "[1] 662  47"
      ]
     },
     "metadata": {},
     "output_type": "display_data"
    },
    {
     "data": {
      "text/html": [
       "<ol class=list-inline>\n",
       "\t<li>'ARP'</li>\n",
       "\t<li>'AUA'</li>\n",
       "\t<li>'AVW'</li>\n",
       "\t<li>'BBS'</li>\n",
       "\t<li>'BHC'</li>\n",
       "\t<li>'BRT'</li>\n",
       "\t<li>'CEK'</li>\n",
       "\t<li>'CHC'</li>\n",
       "\t<li>'COO'</li>\n",
       "\t<li>'COP'</li>\n",
       "\t<li>'CYP'</li>\n",
       "\t<li>'DAB'</li>\n",
       "\t<li>'DAC'</li>\n",
       "\t<li>'DAL'</li>\n",
       "\t<li>'DMR'</li>\n",
       "\t<li>'EIU'</li>\n",
       "\t<li>'ESP'</li>\n",
       "\t<li>'EYB'</li>\n",
       "\t<li>'FIN'</li>\n",
       "\t<li>'FLB'</li>\n",
       "\t<li>'GAS'</li>\n",
       "\t<li>'GAW'</li>\n",
       "\t<li>'GES'</li>\n",
       "\t<li>'GFU'</li>\n",
       "\t<li>'GSD'</li>\n",
       "\t<li>'GUP'</li>\n",
       "\t<li>'GVD'</li>\n",
       "\t<li>'HAM'</li>\n",
       "\t<li>'JAF'</li>\n",
       "\t<li>'KAN'</li>\n",
       "\t<li>'LSD'</li>\n",
       "\t<li>'MAC'</li>\n",
       "\t<li>'MAL'</li>\n",
       "\t<li>'MDD'</li>\n",
       "\t<li>'MGD'</li>\n",
       "\t<li>'MII'</li>\n",
       "\t<li>'MUL'</li>\n",
       "\t<li>'MUR'</li>\n",
       "\t<li>'NAN'</li>\n",
       "\t<li>'NSS'</li>\n",
       "\t<li>'NUL'</li>\n",
       "\t<li>'PCK'</li>\n",
       "\t<li>'PIL'</li>\n",
       "\t<li>'RIV'</li>\n",
       "\t<li>'SSD'</li>\n",
       "\t<li>'STP'</li>\n",
       "\t<li>'STU'</li>\n",
       "\t<li>'SWA'</li>\n",
       "\t<li>'SYB'</li>\n",
       "\t<li>'VIB'</li>\n",
       "</ol>\n"
      ],
      "text/latex": [
       "\\begin{enumerate*}\n",
       "\\item 'ARP'\n",
       "\\item 'AUA'\n",
       "\\item 'AVW'\n",
       "\\item 'BBS'\n",
       "\\item 'BHC'\n",
       "\\item 'BRT'\n",
       "\\item 'CEK'\n",
       "\\item 'CHC'\n",
       "\\item 'COO'\n",
       "\\item 'COP'\n",
       "\\item 'CYP'\n",
       "\\item 'DAB'\n",
       "\\item 'DAC'\n",
       "\\item 'DAL'\n",
       "\\item 'DMR'\n",
       "\\item 'EIU'\n",
       "\\item 'ESP'\n",
       "\\item 'EYB'\n",
       "\\item 'FIN'\n",
       "\\item 'FLB'\n",
       "\\item 'GAS'\n",
       "\\item 'GAW'\n",
       "\\item 'GES'\n",
       "\\item 'GFU'\n",
       "\\item 'GSD'\n",
       "\\item 'GUP'\n",
       "\\item 'GVD'\n",
       "\\item 'HAM'\n",
       "\\item 'JAF'\n",
       "\\item 'KAN'\n",
       "\\item 'LSD'\n",
       "\\item 'MAC'\n",
       "\\item 'MAL'\n",
       "\\item 'MDD'\n",
       "\\item 'MGD'\n",
       "\\item 'MII'\n",
       "\\item 'MUL'\n",
       "\\item 'MUR'\n",
       "\\item 'NAN'\n",
       "\\item 'NSS'\n",
       "\\item 'NUL'\n",
       "\\item 'PCK'\n",
       "\\item 'PIL'\n",
       "\\item 'RIV'\n",
       "\\item 'SSD'\n",
       "\\item 'STP'\n",
       "\\item 'STU'\n",
       "\\item 'SWA'\n",
       "\\item 'SYB'\n",
       "\\item 'VIB'\n",
       "\\end{enumerate*}\n"
      ],
      "text/markdown": [
       "1. 'ARP'\n",
       "2. 'AUA'\n",
       "3. 'AVW'\n",
       "4. 'BBS'\n",
       "5. 'BHC'\n",
       "6. 'BRT'\n",
       "7. 'CEK'\n",
       "8. 'CHC'\n",
       "9. 'COO'\n",
       "10. 'COP'\n",
       "11. 'CYP'\n",
       "12. 'DAB'\n",
       "13. 'DAC'\n",
       "14. 'DAL'\n",
       "15. 'DMR'\n",
       "16. 'EIU'\n",
       "17. 'ESP'\n",
       "18. 'EYB'\n",
       "19. 'FIN'\n",
       "20. 'FLB'\n",
       "21. 'GAS'\n",
       "22. 'GAW'\n",
       "23. 'GES'\n",
       "24. 'GFU'\n",
       "25. 'GSD'\n",
       "26. 'GUP'\n",
       "27. 'GVD'\n",
       "28. 'HAM'\n",
       "29. 'JAF'\n",
       "30. 'KAN'\n",
       "31. 'LSD'\n",
       "32. 'MAC'\n",
       "33. 'MAL'\n",
       "34. 'MDD'\n",
       "35. 'MGD'\n",
       "36. 'MII'\n",
       "37. 'MUL'\n",
       "38. 'MUR'\n",
       "39. 'NAN'\n",
       "40. 'NSS'\n",
       "41. 'NUL'\n",
       "42. 'PCK'\n",
       "43. 'PIL'\n",
       "44. 'RIV'\n",
       "45. 'SSD'\n",
       "46. 'STP'\n",
       "47. 'STU'\n",
       "48. 'SWA'\n",
       "49. 'SYB'\n",
       "50. 'VIB'\n",
       "\n",
       "\n"
      ],
      "text/plain": [
       " [1] \"ARP\" \"AUA\" \"AVW\" \"BBS\" \"BHC\" \"BRT\" \"CEK\" \"CHC\" \"COO\" \"COP\" \"CYP\" \"DAB\"\n",
       "[13] \"DAC\" \"DAL\" \"DMR\" \"EIU\" \"ESP\" \"EYB\" \"FIN\" \"FLB\" \"GAS\" \"GAW\" \"GES\" \"GFU\"\n",
       "[25] \"GSD\" \"GUP\" \"GVD\" \"HAM\" \"JAF\" \"KAN\" \"LSD\" \"MAC\" \"MAL\" \"MDD\" \"MGD\" \"MII\"\n",
       "[37] \"MUL\" \"MUR\" \"NAN\" \"NSS\" \"NUL\" \"PCK\" \"PIL\" \"RIV\" \"SSD\" \"STP\" \"STU\" \"SWA\"\n",
       "[49] \"SYB\" \"VIB\""
      ]
     },
     "metadata": {},
     "output_type": "display_data"
    },
    {
     "data": {
      "text/html": [
       "<ol class=list-inline>\n",
       "\t<li>'CYP'</li>\n",
       "\t<li>'GUP'</li>\n",
       "</ol>\n"
      ],
      "text/latex": [
       "\\begin{enumerate*}\n",
       "\\item 'CYP'\n",
       "\\item 'GUP'\n",
       "\\end{enumerate*}\n"
      ],
      "text/markdown": [
       "1. 'CYP'\n",
       "2. 'GUP'\n",
       "\n",
       "\n"
      ],
      "text/plain": [
       "[1] \"CYP\" \"GUP\""
      ]
     },
     "metadata": {},
     "output_type": "display_data"
    },
    {
     "data": {
      "text/html": [
       "<ol class=list-inline>\n",
       "\t<li>52</li>\n",
       "\t<li>47</li>\n",
       "</ol>\n"
      ],
      "text/latex": [
       "\\begin{enumerate*}\n",
       "\\item 52\n",
       "\\item 47\n",
       "\\end{enumerate*}\n"
      ],
      "text/markdown": [
       "1. 52\n",
       "2. 47\n",
       "\n",
       "\n"
      ],
      "text/plain": [
       "[1] 52 47"
      ]
     },
     "metadata": {},
     "output_type": "display_data"
    },
    {
     "data": {
      "text/html": [
       "<dl class=dl-horizontal>\n",
       "\t<dt>CYP</dt>\n",
       "\t\t<dd>19</dd>\n",
       "\t<dt>GUP</dt>\n",
       "\t\t<dd>33</dd>\n",
       "</dl>\n"
      ],
      "text/latex": [
       "\\begin{description*}\n",
       "\\item[CYP] 19\n",
       "\\item[GUP] 33\n",
       "\\end{description*}\n"
      ],
      "text/markdown": [
       "CYP\n",
       ":   19GUP\n",
       ":   33\n",
       "\n"
      ],
      "text/plain": [
       "CYP GUP \n",
       " 19  33 "
      ]
     },
     "metadata": {},
     "output_type": "display_data"
    },
    {
     "data": {
      "text/html": [
       "<ol class=list-inline>\n",
       "\t<li>734464</li>\n",
       "\t<li>14</li>\n",
       "</ol>\n"
      ],
      "text/latex": [
       "\\begin{enumerate*}\n",
       "\\item 734464\n",
       "\\item 14\n",
       "\\end{enumerate*}\n"
      ],
      "text/markdown": [
       "1. 734464\n",
       "2. 14\n",
       "\n",
       "\n"
      ],
      "text/plain": [
       "[1] 734464     14"
      ]
     },
     "metadata": {},
     "output_type": "display_data"
    },
    {
     "data": {
      "text/html": [
       "<ol class=list-inline>\n",
       "\t<li>61426</li>\n",
       "\t<li>14</li>\n",
       "</ol>\n"
      ],
      "text/latex": [
       "\\begin{enumerate*}\n",
       "\\item 61426\n",
       "\\item 14\n",
       "\\end{enumerate*}\n"
      ],
      "text/markdown": [
       "1. 61426\n",
       "2. 14\n",
       "\n",
       "\n"
      ],
      "text/plain": [
       "[1] 61426    14"
      ]
     },
     "metadata": {},
     "output_type": "display_data"
    },
    {
     "data": {
      "text/html": [
       "<ol class=list-inline>\n",
       "\t<li>8291</li>\n",
       "\t<li>10</li>\n",
       "</ol>\n"
      ],
      "text/latex": [
       "\\begin{enumerate*}\n",
       "\\item 8291\n",
       "\\item 10\n",
       "\\end{enumerate*}\n"
      ],
      "text/markdown": [
       "1. 8291\n",
       "2. 10\n",
       "\n",
       "\n"
      ],
      "text/plain": [
       "[1] 8291   10"
      ]
     },
     "metadata": {},
     "output_type": "display_data"
    },
    {
     "data": {
      "text/html": [
       "<ol class=list-inline>\n",
       "\t<li>1222</li>\n",
       "\t<li>10</li>\n",
       "</ol>\n"
      ],
      "text/latex": [
       "\\begin{enumerate*}\n",
       "\\item 1222\n",
       "\\item 10\n",
       "\\end{enumerate*}\n"
      ],
      "text/markdown": [
       "1. 1222\n",
       "2. 10\n",
       "\n",
       "\n"
      ],
      "text/plain": [
       "[1] 1222   10"
      ]
     },
     "metadata": {},
     "output_type": "display_data"
    }
   ],
   "source": [
    "# Bioregion name\n",
    "# ==============\n",
    "\n",
    "# Explore Variable Type and Change to Factor\n",
    "# ------------------------------------------\n",
    "class(AP.data$site.info$bioregion_name)\n",
    "summary(AP.data$site.info$bioregion_name)\n",
    "AP.data$site.info$bioregion_name.f = factor(AP.data$site.info$bioregion_name)\n",
    "summary(AP.data$site.info$bioregion_name.f)\n",
    "\n",
    "\n",
    "# Subset to Plots in Bioregions in the Eastern (~ Qld) Gulf of Carpentaria in 'site.info' data frame\n",
    "# --------------------------------------------------------------------------------------------------\n",
    "# Subset to \"CYP\" (Cape York Peninsula) and \"GUP\" (Gulf Plains) \n",
    "EGCBioregs.AP.data = AP.data\n",
    "dim(EGCBioregs.AP.data$site.info)\n",
    "#summary(AP.data$site.info$bioregion_name.f)\n",
    "EastCarpGulf.Bioreg = c(\"CYP\", \"GUP\")\n",
    "EGCBioregs.AP.data$site.info = EGCBioregs.AP.data$site.info[EGCBioregs.AP.data$site.info$bioregion_name.f %in% EastCarpGulf.Bioreg,] \n",
    "levels(EGCBioregs.AP.data$site.info$bioregion_name.f)\n",
    "EGCBioregs.AP.data$site.info$bioregion_name.f = droplevels(EGCBioregs.AP.data$site.info$bioregion_name.f)\n",
    "levels(EGCBioregs.AP.data$site.info$bioregion_name.f)\n",
    "dim(EGCBioregs.AP.data$site.info)\n",
    "summary(EGCBioregs.AP.data$site.info$bioregion_name.f)\n",
    "\n",
    "\n",
    "# Subset to Plots in Bioregions in the Eastern (~ Qld) Gulf of Carpentaria in other Data Frames\n",
    "# ---------------------------------------------------------------------------------------------\n",
    "# To do so we use the common variable 'site_unique'\n",
    "\n",
    "# Subset in 'veg.PI' Data Frame\n",
    "# ~~~~~~~~~~~~~~~~~~~~~~~~~~~~~\n",
    "dim(EGCBioregs.AP.data$veg.PI)\n",
    "EGCBioregs.AP.data$veg.PI = EGCBioregs.AP.data$veg.PI[EGCBioregs.AP.data$veg.PI$site_unique %in% EGCBioregs.AP.data$site.info$site_unique, ]\n",
    "dim(EGCBioregs.AP.data$veg.PI)\n",
    "\n",
    "# Subset in 'veg.basal' Data Frame\n",
    "# ~~~~~~~~~~~~~~~~~~~~~~~~~~~~~~~~\n",
    "dim(EGCBioregs.AP.data$veg.basal)\n",
    "EGCBioregs.AP.data$veg.basal = EGCBioregs.AP.data$veg.basal[EGCBioregs.AP.data$veg.basal$site_unique %in% EGCBioregs.AP.data$site.info$site_unique, ]\n",
    "dim(EGCBioregs.AP.data$veg.basal)"
   ]
  },
  {
   "cell_type": "markdown",
   "metadata": {},
   "source": [
    "### SPECIES-LEVEL DATA: `species_table` function and species occurrence matrices\n",
    "\n",
    "The `species_table` function in the `ausplotsR` package is used to generate a species occurrence matrix from AusPlots raw data. The species occurence matrix can be then used in multiple applications that require species-level data. For example, it can be used to investigate patterns of presence/absence and/or abundance (note that vegetation 'cover' is used as a surrogate for vegetation 'abundance'), compute indices of species diversity, or elaborate rank-abundance plots. \n",
    "\n",
    "The `species_table` function takes a data frame of individual raw point intercept hits (i.e. a veg.PI data frame) generated using the `get_ausplots` function, and returns a ‘species against sites’ matrix. Four metrics can be selected to score species occurrence:\n",
    "\n",
    "* _Presence/Absence:_ Set by the argument `m_kind = PA`.\n",
    "* _Percent Cover:_ Based on total frequency of hits. This is the most commonly used metric. Set by the argument `m_kind = percent_cover`.\n",
    "* _Frequency:_ Based on proportional frequencies of presence on the 10 individual transects within a plot. Set by the argument `m_kind = freq`. It can be a measure of importance for low cover species.\n",
    "* _IVI:_ A combination of cover and frequency. Set by the argument `m_kind = IVI`.\n",
    "\n",
    "If _Percent Cover_ or _IVI_ are used two types of cover type can be selected:\n",
    "\n",
    "* _Projected Foliage Cover (PFC):_ Hits scored as ‘in canopy sky’ are removed. Set by the argument `cover_type = PFC`.\n",
    "* _Opaque Canopy Cover (OCC):_ Hits scored as ‘in canopy sky’ are retained. Set by the argument `cover_type = OCC`.\n",
    "\n",
    "\n",
    "Examples of the different arguments combinations in the `species_table` function are presented below. Species occurrence matrices are computed for the full set of vegetation point intersect data currently available at AusPlots. The list of data frames containing information for all currently available AusPlots sites (i.e. the 'AP.data' list) was previously created using the `get_ausplots` function (see above). The class and dimensions of the returned data frame are the same in all examples, so they are only displayed for the first example (the corresponding code is commented out in the other examples). The resulting species occurrence data frames can be enriched with additional information as we will see in the next section ('Manipulating AusPlots data II: Merging data frames'). "
   ]
  },
  {
   "cell_type": "code",
   "execution_count": 15,
   "metadata": {},
   "outputs": [
    {
     "data": {
      "text/html": [
       "'data.frame'"
      ],
      "text/latex": [
       "'data.frame'"
      ],
      "text/markdown": [
       "'data.frame'"
      ],
      "text/plain": [
       "[1] \"data.frame\""
      ]
     },
     "metadata": {},
     "output_type": "display_data"
    },
    {
     "data": {
      "text/html": [
       "<ol class=list-inline>\n",
       "\t<li>653</li>\n",
       "\t<li>3665</li>\n",
       "</ol>\n"
      ],
      "text/latex": [
       "\\begin{enumerate*}\n",
       "\\item 653\n",
       "\\item 3665\n",
       "\\end{enumerate*}\n"
      ],
      "text/markdown": [
       "1. 653\n",
       "2. 3665\n",
       "\n",
       "\n"
      ],
      "text/plain": [
       "[1]  653 3665"
      ]
     },
     "metadata": {},
     "output_type": "display_data"
    },
    {
     "data": {
      "text/html": [
       "<table>\n",
       "<thead><tr><th></th><th scope=col>Abutilon.fraseri</th><th scope=col>Abutilon.halophilum</th><th scope=col>Abutilon.hannii</th><th scope=col>Abutilon.hannii.subsp..prostrate..p.k.latz.427.</th><th scope=col>Abutilon.leucopetalum</th></tr></thead>\n",
       "<tbody>\n",
       "\t<tr><th scope=row>NSABBS0005-58582</th><td>0</td><td>0</td><td>0</td><td>0</td><td>0</td></tr>\n",
       "\t<tr><th scope=row>NSABBS0006-58557</th><td>0</td><td>0</td><td>0</td><td>0</td><td>0</td></tr>\n",
       "\t<tr><th scope=row>NSABHC0001-53596</th><td>0</td><td>0</td><td>0</td><td>0</td><td>0</td></tr>\n",
       "\t<tr><th scope=row>NSABHC0002-53597</th><td>0</td><td>0</td><td>0</td><td>0</td><td>0</td></tr>\n",
       "\t<tr><th scope=row>NSABHC0003-53598</th><td>0</td><td>0</td><td>0</td><td>0</td><td>0</td></tr>\n",
       "</tbody>\n",
       "</table>\n"
      ],
      "text/latex": [
       "\\begin{tabular}{r|lllll}\n",
       "  & Abutilon.fraseri & Abutilon.halophilum & Abutilon.hannii & Abutilon.hannii.subsp..prostrate..p.k.latz.427. & Abutilon.leucopetalum\\\\\n",
       "\\hline\n",
       "\tNSABBS0005-58582 & 0 & 0 & 0 & 0 & 0\\\\\n",
       "\tNSABBS0006-58557 & 0 & 0 & 0 & 0 & 0\\\\\n",
       "\tNSABHC0001-53596 & 0 & 0 & 0 & 0 & 0\\\\\n",
       "\tNSABHC0002-53597 & 0 & 0 & 0 & 0 & 0\\\\\n",
       "\tNSABHC0003-53598 & 0 & 0 & 0 & 0 & 0\\\\\n",
       "\\end{tabular}\n"
      ],
      "text/markdown": [
       "\n",
       "| <!--/--> | Abutilon.fraseri | Abutilon.halophilum | Abutilon.hannii | Abutilon.hannii.subsp..prostrate..p.k.latz.427. | Abutilon.leucopetalum |\n",
       "|---|---|---|---|---|---|\n",
       "| NSABBS0005-58582 | 0 | 0 | 0 | 0 | 0 |\n",
       "| NSABBS0006-58557 | 0 | 0 | 0 | 0 | 0 |\n",
       "| NSABHC0001-53596 | 0 | 0 | 0 | 0 | 0 |\n",
       "| NSABHC0002-53597 | 0 | 0 | 0 | 0 | 0 |\n",
       "| NSABHC0003-53598 | 0 | 0 | 0 | 0 | 0 |\n",
       "\n"
      ],
      "text/plain": [
       "                 Abutilon.fraseri Abutilon.halophilum Abutilon.hannii\n",
       "NSABBS0005-58582 0                0                   0              \n",
       "NSABBS0006-58557 0                0                   0              \n",
       "NSABHC0001-53596 0                0                   0              \n",
       "NSABHC0002-53597 0                0                   0              \n",
       "NSABHC0003-53598 0                0                   0              \n",
       "                 Abutilon.hannii.subsp..prostrate..p.k.latz.427.\n",
       "NSABBS0005-58582 0                                              \n",
       "NSABBS0006-58557 0                                              \n",
       "NSABHC0001-53596 0                                              \n",
       "NSABHC0002-53597 0                                              \n",
       "NSABHC0003-53598 0                                              \n",
       "                 Abutilon.leucopetalum\n",
       "NSABBS0005-58582 0                    \n",
       "NSABBS0006-58557 0                    \n",
       "NSABHC0001-53596 0                    \n",
       "NSABHC0002-53597 0                    \n",
       "NSABHC0003-53598 0                    "
      ]
     },
     "metadata": {},
     "output_type": "display_data"
    },
    {
     "data": {
      "text/plain": [
       " Abutilon.fraseri  Abutilon.halophilum Abutilon.hannii   \n",
       " Min.   :0.00000   Min.   :0.000000    Min.   :0.000000  \n",
       " 1st Qu.:0.00000   1st Qu.:0.000000    1st Qu.:0.000000  \n",
       " Median :0.00000   Median :0.000000    Median :0.000000  \n",
       " Mean   :0.01072   Mean   :0.007657    Mean   :0.001531  \n",
       " 3rd Qu.:0.00000   3rd Qu.:0.000000    3rd Qu.:0.000000  \n",
       " Max.   :1.00000   Max.   :1.000000    Max.   :1.000000  "
      ]
     },
     "metadata": {},
     "output_type": "display_data"
    },
    {
     "data": {
      "text/plain": [
       " Abutilon.fraseri   Abutilon.halophilum Abutilon.hannii    \n",
       " Min.   :0.000000   Min.   :0.000000    Min.   :0.0000000  \n",
       " 1st Qu.:0.000000   1st Qu.:0.000000    1st Qu.:0.0000000  \n",
       " Median :0.000000   Median :0.000000    Median :0.0000000  \n",
       " Mean   :0.001516   Mean   :0.005307    Mean   :0.0003033  \n",
       " 3rd Qu.:0.000000   3rd Qu.:0.000000    3rd Qu.:0.0000000  \n",
       " Max.   :0.297030   Max.   :1.980198    Max.   :0.1980198  "
      ]
     },
     "metadata": {},
     "output_type": "display_data"
    },
    {
     "data": {
      "text/plain": [
       " Abutilon.fraseri   Abutilon.halophilum Abutilon.hannii    \n",
       " Min.   :0.000000   Min.   :0.000000    Min.   :0.0000000  \n",
       " 1st Qu.:0.000000   1st Qu.:0.000000    1st Qu.:0.0000000  \n",
       " Median :0.000000   Median :0.000000    Median :0.0000000  \n",
       " Mean   :0.001516   Mean   :0.005307    Mean   :0.0003033  \n",
       " 3rd Qu.:0.000000   3rd Qu.:0.000000    3rd Qu.:0.0000000  \n",
       " Max.   :0.297030   Max.   :1.980198    Max.   :0.1980198  "
      ]
     },
     "metadata": {},
     "output_type": "display_data"
    },
    {
     "name": "stderr",
     "output_type": "stream",
     "text": [
      "Using freq as weighting variable\n",
      "Using freq as weighting variable\n"
     ]
    },
    {
     "data": {
      "text/plain": [
       " Abutilon.fraseri   Abutilon.halophilum Abutilon.hannii    \n",
       " Min.   :0.000000   Min.   :0.00000     Min.   :0.0000000  \n",
       " 1st Qu.:0.000000   1st Qu.:0.00000     1st Qu.:0.0000000  \n",
       " Median :0.000000   Median :0.00000     Median :0.0000000  \n",
       " Mean   :0.001378   Mean   :0.00245     Mean   :0.0003063  \n",
       " 3rd Qu.:0.000000   3rd Qu.:0.00000     3rd Qu.:0.0000000  \n",
       " Max.   :0.200000   Max.   :0.80000     Max.   :0.2000000  "
      ]
     },
     "metadata": {},
     "output_type": "display_data"
    },
    {
     "name": "stderr",
     "output_type": "stream",
     "text": [
      "Using freq as weighting variable\n",
      "Using freq as weighting variable\n"
     ]
    },
    {
     "data": {
      "text/plain": [
       " Abutilon.fraseri   Abutilon.halophilum Abutilon.hannii    \n",
       " Min.   :0.000000   Min.   :0.00000     Min.   :0.0000000  \n",
       " 1st Qu.:0.000000   1st Qu.:0.00000     1st Qu.:0.0000000  \n",
       " Median :0.000000   Median :0.00000     Median :0.0000000  \n",
       " Mean   :0.001378   Mean   :0.00245     Mean   :0.0003063  \n",
       " 3rd Qu.:0.000000   3rd Qu.:0.00000     3rd Qu.:0.0000000  \n",
       " Max.   :0.200000   Max.   :0.80000     Max.   :0.2000000  "
      ]
     },
     "metadata": {},
     "output_type": "display_data"
    },
    {
     "name": "stderr",
     "output_type": "stream",
     "text": [
      "Using freq as weighting variable\n",
      "Using freq as weighting variable\n"
     ]
    },
    {
     "data": {
      "text/plain": [
       " Abutilon.fraseri   Abutilon.halophilum Abutilon.hannii    \n",
       " Min.   :0.000000   Min.   :0.00000     Min.   :0.0000000  \n",
       " 1st Qu.:0.000000   1st Qu.:0.00000     1st Qu.:0.0000000  \n",
       " Median :0.000000   Median :0.00000     Median :0.0000000  \n",
       " Mean   :0.001378   Mean   :0.00245     Mean   :0.0003063  \n",
       " 3rd Qu.:0.000000   3rd Qu.:0.00000     3rd Qu.:0.0000000  \n",
       " Max.   :0.200000   Max.   :0.80000     Max.   :0.2000000  "
      ]
     },
     "metadata": {},
     "output_type": "display_data"
    }
   ],
   "source": [
    "# ===========================================================================\n",
    "# SPECIES-LEVEL DATA: 'species_table' function and species occurence matrices\n",
    "# ===========================================================================\n",
    "\n",
    "# Scoring metric: Presence/Absence\n",
    "# ================================\n",
    "AP.data.SppbySites.PA = species_table(AP.data$veg.PI, m_kind=\"PA\")\n",
    "class(AP.data.SppbySites.PA)\n",
    "dim(AP.data.SppbySites.PA) # Number of rows and columns in the matrix: Sites x Species\n",
    "AP.data.SppbySites.PA[1:5, 1:5]\n",
    "summary(AP.data.SppbySites.PA[,1:3])\n",
    "\n",
    "\n",
    "# Scoring metric: Percent Cover\n",
    "# =============================\n",
    "\n",
    "# Cover Type: Projected foliage cover (PFC)\n",
    "# -----------------------------------------\n",
    "# Hits scoered as 'in canopy sky' are removed\n",
    "AP.data.SppbySites.PcC.PFC = species_table(AP.data$veg.PI, m_kind=\"percent_cover\", cover_type=\"PFC\")\n",
    "#class(AP.data.SppbySites.PcC.PFC)\n",
    "#dim(AP.data.SppbySites.PcC.PFC) # Number of rows and columns in the matrix: Sites x Species\n",
    "#AP.data.SppbySites.PcC.PFC[1:5, 1:5]\n",
    "summary(AP.data.SppbySites.PcC.PFC[,1:3])\n",
    "\n",
    "# Cover Type: Opaque Canopy Cover (OCC)\n",
    "# -------------------------------------\n",
    "# Hits scoered as 'in canopy sky' are retained\n",
    "AP.data.SppbySites.PcC.OCC = species_table(AP.data$veg.PI, m_kind=\"percent_cover\", cover_type=\"OCC\")\n",
    "#class(AP.data.SppbySites.PcC.OCC)\n",
    "#dim(AP.data.SppbySites.PcC.OCC) # Number of rows and columns in the matrix: Sites x Species\n",
    "#AP.data.SppbySites.PcC.OCC[1:5, 1:5]\n",
    "summary(AP.data.SppbySites.PcC.OCC[,1:3])\n",
    "\n",
    "\n",
    "# Scoring metric: Frequency\n",
    "# =========================\n",
    "AP.data.SppbySites.Freq = species_table(AP.data$veg.PI, m_kind=\"freq\")\n",
    "#class(AP.data.SppbySites.Freq)\n",
    "#dim(AP.data.SppbySites.Freq) # Number of rows and columns in the matrix: Sites x Species\n",
    "#AP.data.SppbySites.Freq[1:5, 1:5]\n",
    "summary(AP.data.SppbySites.Freq[,1:3])\n",
    "\n",
    "\n",
    "# Scoring metric: IVI\n",
    "# ===================\n",
    "\n",
    "# Cover Type: Projected foliage cover (PFC)\n",
    "# -----------------------------------------\n",
    "# Hits scoered as 'in canopy sky' are removed\n",
    "AP.data.SppbySites.IVI.PFC = species_table(AP.data$veg.PI, m_kind=\"IVI\", cover_type=\"PFC\")\n",
    "#class(AP.data.SppbySites.IVI.PFC)\n",
    "#dim(AP.data.SppbySites.IVI.PFC) # Number of rows and columns in the matrix: Sites x Species\n",
    "#AP.data.SppbySites.IVI.PFC[1:5, 1:5]\n",
    "summary(AP.data.SppbySites.IVI.PFC[,1:3])\n",
    "\n",
    "# Cover Type: Opaque Canopy Cover (OCC)\n",
    "# -------------------------------------\n",
    "# Hits scoered as 'in canopy sky' are retained\n",
    "AP.data.SppbySites.IVI.OCC = species_table(AP.data$veg.PI, m_kind=\"IVI\", cover_type=\"OCC\")\n",
    "#class(AP.data.SppbySites.IVI.OCC)\n",
    "#dim(AP.data.SppbySites.IVI.OCC) # Number of rows and columns in the matrix: Sites x Species\n",
    "#AP.data.SppbySites.IVI.OCC[1:5, 1:5]\n",
    "summary(AP.data.SppbySites.IVI.OCC[,1:3])"
   ]
  },
  {
   "cell_type": "markdown",
   "metadata": {},
   "source": [
    "### Manipulating AusPlots data II: Merging data frames\n",
    "\n",
    "The `ausplotsR` package functions help as pre-processing the AusPlots data extracted with the `get_ausplots` function into data frames useful for data analysis. For example, the `species_table` function generates a 'species occurrence by site' matrix (contained in a data frame) from AusPlots raw data (i.e. from point intercept hits in the `veg.PI` data frame created by the `get_ausplots` function).  \n",
    "\n",
    "However, often we want to enrich the data in these derived data frames with additional information. Typically we need to add some information about the sites were the plot data was collected from `site.info` data frame (automatically created by the `get_ausplots` function. For example, we would like add to the 'species occurrence by site' data frame information about the [IBRA7 bioregion](https://www.environment.gov.au/land/nrs/science/ibra), longitude and latitude of the plot sites. To do so we need to merge the `species_table` and `site.info` data frames, using all the variables in the former data frame and the three required variables in the latter data frame in the merge. \n",
    "\n",
    "The `merge` function in the `base` package (i.e. it is provided with initial R installation) merges two data frames by common columns or row names (or other versions of database join operations). We need to provide (at least) the following arguments to the `merge` function:\n",
    "\n",
    "* _Data frames (or objects)_ to be coerced into one (arguments `x` and `y`).\n",
    "* _Columns used for merging:_ By default the data frames are merged on the columns with names that they both have (argument `by`), but separate specifications of the columns can be given by the arguments `by.x` and `by.y`. \n",
    "* _Columns to merge:_ We can provide the names of the columns we want to include in the merge between `[]`, in a similar fashion to when we access columns in a data frame. To include all the columns in a data frame the `names` function in the `base` package can be used. The arguments `all`, `all.x`, `all.y` can also be used for, in SQL terminology, a 'full outer joint', a 'left outer join', and a 'right outer join' respectively (i.e. returning unmatched rows form both tables, the left table, and the right table respectively). \n",
    "\n",
    "An example merging all the data in a `species_table` data frame and the variables `bioregion_name`, `longitude`, and `latitude` in the `site.info` data frame is presented below. Before proceeding with the merging, we create a `site_unique` variable in the `species_table` data frame to have a common column for merging. The `site_unique` variable contains a unique id for each site. The required data to create the this variables is present as 'rownames' in the `species_table` data frame.  \n",
    "\n",
    "We end the example by creating a new column (`Tot_PcC`) containing the Total Percentance Cover from the original values in the `species_table` data frame and plotting a buble plot representing the Total Percentage Cover in space. To create this plot we use three of the variables we added to the original `species_table` data frame, `Tot_PcC`, `longitude`, and `latitude` (the latter two were added in the data frames merge). We use funtions in the `ggplot2` data visualisation package to generate this plot. More sofisticated graphs of AusPlots data, including graphs of site metrics over a map of Australia, are constructed and displayed in the TERN's DSDP ['ECOSYSTEM SURVEILLANCE (AusPlots) TUTORIAL: UNDERSTANDING AND USING THE ‘ausplotsR’ PACKAGE AND AusPlots DATA'](https://github.com/ternaustralia/TERN-Data-Skills/tree/master/EcosystemSurveillance_PlotData/AusPlots_Tutorial) tutorial."
   ]
  },
  {
   "cell_type": "code",
   "execution_count": 16,
   "metadata": {},
   "outputs": [
    {
     "data": {
      "text/html": [
       "<ol class=list-inline>\n",
       "\t<li>653</li>\n",
       "\t<li>3666</li>\n",
       "</ol>\n"
      ],
      "text/latex": [
       "\\begin{enumerate*}\n",
       "\\item 653\n",
       "\\item 3666\n",
       "\\end{enumerate*}\n"
      ],
      "text/markdown": [
       "1. 653\n",
       "2. 3666\n",
       "\n",
       "\n"
      ],
      "text/plain": [
       "[1]  653 3666"
      ]
     },
     "metadata": {},
     "output_type": "display_data"
    },
    {
     "data": {
      "text/html": [
       "<ol class=list-inline>\n",
       "\t<li>653</li>\n",
       "\t<li>3669</li>\n",
       "</ol>\n"
      ],
      "text/latex": [
       "\\begin{enumerate*}\n",
       "\\item 653\n",
       "\\item 3669\n",
       "\\end{enumerate*}\n"
      ],
      "text/markdown": [
       "1. 653\n",
       "2. 3669\n",
       "\n",
       "\n"
      ],
      "text/plain": [
       "[1]  653 3669"
      ]
     },
     "metadata": {},
     "output_type": "display_data"
    },
    {
     "data": {
      "text/html": [
       "<ol class=list-inline>\n",
       "\t<li>'Zygophyllum.simile'</li>\n",
       "\t<li>'Zygophyllum.sp.'</li>\n",
       "\t<li>'site_unique'</li>\n",
       "\t<li>'bioregion_name'</li>\n",
       "\t<li>'longitude'</li>\n",
       "\t<li>'latitude'</li>\n",
       "</ol>\n"
      ],
      "text/latex": [
       "\\begin{enumerate*}\n",
       "\\item 'Zygophyllum.simile'\n",
       "\\item 'Zygophyllum.sp.'\n",
       "\\item 'site\\_unique'\n",
       "\\item 'bioregion\\_name'\n",
       "\\item 'longitude'\n",
       "\\item 'latitude'\n",
       "\\end{enumerate*}\n"
      ],
      "text/markdown": [
       "1. 'Zygophyllum.simile'\n",
       "2. 'Zygophyllum.sp.'\n",
       "3. 'site_unique'\n",
       "4. 'bioregion_name'\n",
       "5. 'longitude'\n",
       "6. 'latitude'\n",
       "\n",
       "\n"
      ],
      "text/plain": [
       "[1] \"Zygophyllum.simile\" \"Zygophyllum.sp.\"    \"site_unique\"       \n",
       "[4] \"bioregion_name\"     \"longitude\"          \"latitude\"          "
      ]
     },
     "metadata": {},
     "output_type": "display_data"
    },
    {
     "data": {
      "text/html": [
       "<ol class=list-inline>\n",
       "\t<li>'Zygophyllum.sp.'</li>\n",
       "\t<li>'site_unique'</li>\n",
       "\t<li>'bioregion_name'</li>\n",
       "\t<li>'longitude'</li>\n",
       "\t<li>'latitude'</li>\n",
       "\t<li>'Tot_PcC'</li>\n",
       "</ol>\n"
      ],
      "text/latex": [
       "\\begin{enumerate*}\n",
       "\\item 'Zygophyllum.sp.'\n",
       "\\item 'site\\_unique'\n",
       "\\item 'bioregion\\_name'\n",
       "\\item 'longitude'\n",
       "\\item 'latitude'\n",
       "\\item 'Tot\\_PcC'\n",
       "\\end{enumerate*}\n"
      ],
      "text/markdown": [
       "1. 'Zygophyllum.sp.'\n",
       "2. 'site_unique'\n",
       "3. 'bioregion_name'\n",
       "4. 'longitude'\n",
       "5. 'latitude'\n",
       "6. 'Tot_PcC'\n",
       "\n",
       "\n"
      ],
      "text/plain": [
       "[1] \"Zygophyllum.sp.\" \"site_unique\"     \"bioregion_name\"  \"longitude\"      \n",
       "[5] \"latitude\"        \"Tot_PcC\"        "
      ]
     },
     "metadata": {},
     "output_type": "display_data"
    },
    {
     "data": {
      "image/png": "[encoded data removed]",
      "text/plain": [
       "plot without title"
      ]
     },
     "metadata": {},
     "output_type": "display_data"
    }
   ],
   "source": [
    "# ==================\n",
    "# Meging data frames\n",
    "# ==================\n",
    "\n",
    "# Add the Unique ID ('site_unique') to the Species Occurrence Data Frame\n",
    "# ----------------------------------------------------------------------\n",
    "AP.data.SppbySites.PcC.PFC$site_unique = rownames(AP.data.SppbySites.PcC.PFC)\n",
    "dim(AP.data.SppbySites.PcC.PFC)\n",
    "\n",
    "\n",
    "# Merge Data Frames by Unique ID ('site_unique')\n",
    "# ----------------------------------------------\n",
    "# Include all Variables in Species Occurrence Data Frame. To do so use 'names' function,\n",
    "# and 3 variables in the AP.data$site.info Data Frame (bioregion_name.f, longitude, and latitude)\n",
    "AP.data.SppbySites.PcC.PFC = merge(AP.data.SppbySites.PcC.PFC, AP.data$site.info, \n",
    "                                   by=\"site_unique\")[,c(names(AP.data.SppbySites.PcC.PFC), \n",
    "\t\t\t\t\t\t\t\t                     \"bioregion_name\", \"longitude\", \"latitude\")]\n",
    "dim(AP.data.SppbySites.PcC.PFC)\n",
    "tail(names(AP.data.SppbySites.PcC.PFC))\n",
    "\n",
    "\n",
    "# Plot\n",
    "# ----\n",
    "\n",
    "# Simple version\n",
    "#plot(AP.data.SppbySites.PcC.PFC$longitude, AP.data.SppbySites.PcC.PFC$latitude, \n",
    "#     xlab=\"Longitude (degrees)\", ylab=\"Latitude (degrees)\")\n",
    "\n",
    "# Compute variable containing the Total Percent Cover per Site ('Tot_PcC')\n",
    "# '-4' 'cos we have added: 'site_unique', 'bioregion_name', 'logitude', 'latitude'.\n",
    "AP.data.SppbySites.PcC.PFC$Tot_PcC = rowSums(AP.data.SppbySites.PcC.PFC[,1:(dim(AP.data.SppbySites.PcC.PFC)[2]-4)])\n",
    "tail(names(AP.data.SppbySites.PcC.PFC))\n",
    "\n",
    "# Plot using functions in 'ggplot2' package\n",
    "library(ggplot2)\n",
    "ggplot(AP.data.SppbySites.PcC.PFC, aes(x=longitude, y=latitude)) + geom_point(aes(size=Tot_PcC), alpha=0.5)"
   ]
  },
  {
   "cell_type": "markdown",
   "metadata": {},
   "source": [
    "### PROPORTIONAL VEGETATION COVER (= FRACTIONAL COVER): `fractional_cover` function\n",
    "\n",
    "The `fractional_cover` function in the `auscoverR` package calculates fractional cover from AusPlots point intercept (PI) data (as generated by `get_ausplots`). Fractional cover refers to the proportions of green vegetation, dead vegetation and bare substrate cover. Cover fractions are assigned as follows:\n",
    "* _‘Green’_ or _‘photosynthetic vegetation’_: is living vascular plant cover.\n",
    "* _‘Brown’_ or _‘non-photosynthetic vegetation’_: is either vascular plant cover scored as ‘dead’, or substrate scored as litter, coarse woody debris or cryptogam (see below) that has no other veg cover.\n",
    "* _‘Bare’_ or _‘bare ground’_: is rock, outcrop, gravel or bare soil with no veg cover substrate.\n",
    "\n",
    "Typically, 1010 intercept points are used to compute fractional cover in a plot. These 1010 intercept points correspond to 101 points per transect (i.e. 101 points at 1 meters intervals in each of the 100 metres long transect) x 10 transects (5 transects oriented North to South and 5 oriented East to West). Further details about the AusPlots methods can be found in TERN's DSDP [AusPlots Methods Knowledge Base](https://ternaus.atlassian.net/wiki/spaces/ESM/pages/651329908/Ecosystem+Surveillance+Monitoring+-+AusPlots+Methods) and the [AusPlots Rangelands Survey Protocol Manual](https://www.tern.org.au/AusPlots-Rangelands-Survey-Protocols-Manual-pg23944.html). The percentage scored for each fraction is computed as the number of hits assigned to each fraction times 100 divided by the total number of PIs taken (usually 1010, but this number can vary).\n",
    "\n",
    "A height rule is applied, so that scoring the green/brown/bare fraction from point intercept hits of the uppermost vegetation/substrate stratum overrides the others. That is, a dead tree overrides a living shrub beneath and vice versa. Similarly, any vegetation cover overrides substrate coding, etc. This means for each of the intercepts, there is a single coding. \n",
    "\n",
    "Arguments:\n",
    "* `ground_fractional`: When set to ‘TRUE’ it computes fractional cover exclusively for Ground Cover. That is, fractional cover is computed only for grasses (hummock, tussock, other); sedge; rush; forb; fern; and vine plant growth forms. Presently, cryptogam cover is excluded, and included in the non-photosynthetic fraction instead. The default for this argument is ‘FALSE’.\n",
    "* `in_canopy_sky`: With the default value (`in_canopy_sky = FALSE`), only the substrate is considered for those hits. This argument applies only to regular fractional cover (i.e. for `ground_fractional = FALSE`), as trees are excluded in the green fraction for ground fractional cover by default.\n",
    "\n",
    "Occasionally, substrate type was not collected (i.e. ‘NC’) or could not be assigned to one of the above categories (i.e. ‘Unknwn’). In these cases, if there was no vegetation cover above those points percent cover is scored as an ‘NA’ fraction.\n",
    "\n",
    "The `fractional_cover` function returns a data frame. In this data frame rows denote plots, columns denote fractions (i.e. bare, brown, green, and NA), and values are cover percentages.\n",
    "\n",
    "Examples of the use of the `fractional_cover` funtion are presented below. In the examples, different flavours of Fractional Cover are computed by varying the argument values (see above). Fractional cover is computed for the full set of vegetation point intersect data currently available at AusPlots, so running these examples might take a little bit of time (between 1.6 and 1.9 minutes per example in my machine). The list of data frames containing information for all currently available AusPlots sites (i.e. the 'AP.data' list) was previously created using the `get_ausplots` function (see above). The resulting 'Fractional Cover' data frames can be enriched with additional information as seen above for the `species_table` function in the 'Manipulating AusPlots data II: Merging data frames' section."
   ]
  },
  {
   "cell_type": "code",
   "execution_count": 17,
   "metadata": {},
   "outputs": [
    {
     "name": "stderr",
     "output_type": "stream",
     "text": [
      "Warning message in reshapeWide(data, idvar = idvar, timevar = timevar, varying = varying, :\n",
      "\"there are records with missing times, which will be dropped.\""
     ]
    },
    {
     "data": {
      "text/html": [
       "'data.frame'"
      ],
      "text/latex": [
       "'data.frame'"
      ],
      "text/markdown": [
       "'data.frame'"
      ],
      "text/plain": [
       "[1] \"data.frame\""
      ]
     },
     "metadata": {},
     "output_type": "display_data"
    },
    {
     "data": {
      "text/html": [
       "<ol class=list-inline>\n",
       "\t<li>653</li>\n",
       "\t<li>5</li>\n",
       "</ol>\n"
      ],
      "text/latex": [
       "\\begin{enumerate*}\n",
       "\\item 653\n",
       "\\item 5\n",
       "\\end{enumerate*}\n"
      ],
      "text/markdown": [
       "1. 653\n",
       "2. 5\n",
       "\n",
       "\n"
      ],
      "text/plain": [
       "[1] 653   5"
      ]
     },
     "metadata": {},
     "output_type": "display_data"
    },
    {
     "data": {
      "text/html": [
       "<table>\n",
       "<thead><tr><th></th><th scope=col>site_unique</th><th scope=col>bare</th><th scope=col>brown</th><th scope=col>green</th><th scope=col>NA.</th></tr></thead>\n",
       "<tbody>\n",
       "\t<tr><th scope=row>NSABBS0005-58582</th><td>NSABBS0005-58582</td><td> 1.09           </td><td>39.60           </td><td>59.31           </td><td> 0.0            </td></tr>\n",
       "\t<tr><th scope=row>NSABBS0006-58557</th><td>NSABBS0006-58557</td><td> 3.17           </td><td>32.67           </td><td>64.06           </td><td> 0.1            </td></tr>\n",
       "\t<tr><th scope=row>NSABHC0001-53596</th><td>NSABHC0001-53596</td><td>31.26           </td><td>42.24           </td><td>26.51           </td><td> 0.0            </td></tr>\n",
       "\t<tr><th scope=row>NSABHC0002-53597</th><td>NSABHC0002-53597</td><td> 0.00           </td><td> 0.00           </td><td>30.10           </td><td>69.9            </td></tr>\n",
       "\t<tr><th scope=row>NSABHC0003-53598</th><td>NSABHC0003-53598</td><td>46.57           </td><td>28.14           </td><td>25.29           </td><td> 0.0            </td></tr>\n",
       "\t<tr><th scope=row>NSABHC0004-53599</th><td>NSABHC0004-53599</td><td>26.63           </td><td>36.63           </td><td>36.73           </td><td> 0.0            </td></tr>\n",
       "</tbody>\n",
       "</table>\n"
      ],
      "text/latex": [
       "\\begin{tabular}{r|lllll}\n",
       "  & site\\_unique & bare & brown & green & NA.\\\\\n",
       "\\hline\n",
       "\tNSABBS0005-58582 & NSABBS0005-58582 &  1.09            & 39.60            & 59.31            &  0.0            \\\\\n",
       "\tNSABBS0006-58557 & NSABBS0006-58557 &  3.17            & 32.67            & 64.06            &  0.1            \\\\\n",
       "\tNSABHC0001-53596 & NSABHC0001-53596 & 31.26            & 42.24            & 26.51            &  0.0            \\\\\n",
       "\tNSABHC0002-53597 & NSABHC0002-53597 &  0.00            &  0.00            & 30.10            & 69.9            \\\\\n",
       "\tNSABHC0003-53598 & NSABHC0003-53598 & 46.57            & 28.14            & 25.29            &  0.0            \\\\\n",
       "\tNSABHC0004-53599 & NSABHC0004-53599 & 26.63            & 36.63            & 36.73            &  0.0            \\\\\n",
       "\\end{tabular}\n"
      ],
      "text/markdown": [
       "\n",
       "| <!--/--> | site_unique | bare | brown | green | NA. |\n",
       "|---|---|---|---|---|---|\n",
       "| NSABBS0005-58582 | NSABBS0005-58582 |  1.09            | 39.60            | 59.31            |  0.0             |\n",
       "| NSABBS0006-58557 | NSABBS0006-58557 |  3.17            | 32.67            | 64.06            |  0.1             |\n",
       "| NSABHC0001-53596 | NSABHC0001-53596 | 31.26            | 42.24            | 26.51            |  0.0             |\n",
       "| NSABHC0002-53597 | NSABHC0002-53597 |  0.00            |  0.00            | 30.10            | 69.9             |\n",
       "| NSABHC0003-53598 | NSABHC0003-53598 | 46.57            | 28.14            | 25.29            |  0.0             |\n",
       "| NSABHC0004-53599 | NSABHC0004-53599 | 26.63            | 36.63            | 36.73            |  0.0             |\n",
       "\n"
      ],
      "text/plain": [
       "                 site_unique      bare  brown green NA. \n",
       "NSABBS0005-58582 NSABBS0005-58582  1.09 39.60 59.31  0.0\n",
       "NSABBS0006-58557 NSABBS0006-58557  3.17 32.67 64.06  0.1\n",
       "NSABHC0001-53596 NSABHC0001-53596 31.26 42.24 26.51  0.0\n",
       "NSABHC0002-53597 NSABHC0002-53597  0.00  0.00 30.10 69.9\n",
       "NSABHC0003-53598 NSABHC0003-53598 46.57 28.14 25.29  0.0\n",
       "NSABHC0004-53599 NSABHC0004-53599 26.63 36.63 36.73  0.0"
      ]
     },
     "metadata": {},
     "output_type": "display_data"
    },
    {
     "data": {
      "text/plain": [
       " site_unique             bare           brown           green      \n",
       " Length:653         Min.   : 0.00   Min.   : 0.00   Min.   : 0.10  \n",
       " Class :character   1st Qu.: 9.90   1st Qu.:20.69   1st Qu.:22.99  \n",
       " Mode  :character   Median :22.48   Median :29.91   Median :38.51  \n",
       "                    Mean   :27.76   Mean   :30.86   Mean   :41.12  \n",
       "                    3rd Qu.:42.38   3rd Qu.:40.00   3rd Qu.:55.74  \n",
       "                    Max.   :98.71   Max.   :77.82   Max.   :97.92  \n",
       "      NA.         \n",
       " Min.   : 0.0000  \n",
       " 1st Qu.: 0.0000  \n",
       " Median : 0.0000  \n",
       " Mean   : 0.2667  \n",
       " 3rd Qu.: 0.0000  \n",
       " Max.   :69.9000  "
      ]
     },
     "metadata": {},
     "output_type": "display_data"
    },
    {
     "name": "stderr",
     "output_type": "stream",
     "text": [
      "Warning message in reshapeWide(data, idvar = idvar, timevar = timevar, varying = varying, :\n",
      "\"there are records with missing times, which will be dropped.\""
     ]
    },
    {
     "data": {
      "text/html": [
       "<table>\n",
       "<thead><tr><th></th><th scope=col>site_unique</th><th scope=col>bare</th><th scope=col>brown</th><th scope=col>green</th><th scope=col>NA.</th></tr></thead>\n",
       "<tbody>\n",
       "\t<tr><th scope=row>NSABBS0005-58582</th><td>NSABBS0005-58582</td><td> 1.09           </td><td>36.53           </td><td>62.38           </td><td> 0.0            </td></tr>\n",
       "\t<tr><th scope=row>NSABBS0006-58557</th><td>NSABBS0006-58557</td><td> 2.77           </td><td>27.33           </td><td>69.80           </td><td> 0.1            </td></tr>\n",
       "\t<tr><th scope=row>NSABHC0001-53596</th><td>NSABHC0001-53596</td><td>31.26           </td><td>42.24           </td><td>26.51           </td><td> 0.0            </td></tr>\n",
       "\t<tr><th scope=row>NSABHC0002-53597</th><td>NSABHC0002-53597</td><td> 0.00           </td><td> 0.00           </td><td>30.10           </td><td>69.9            </td></tr>\n",
       "\t<tr><th scope=row>NSABHC0003-53598</th><td>NSABHC0003-53598</td><td>46.57           </td><td>28.14           </td><td>25.29           </td><td> 0.0            </td></tr>\n",
       "\t<tr><th scope=row>NSABHC0004-53599</th><td>NSABHC0004-53599</td><td>26.63           </td><td>36.63           </td><td>36.73           </td><td> 0.0            </td></tr>\n",
       "</tbody>\n",
       "</table>\n"
      ],
      "text/latex": [
       "\\begin{tabular}{r|lllll}\n",
       "  & site\\_unique & bare & brown & green & NA.\\\\\n",
       "\\hline\n",
       "\tNSABBS0005-58582 & NSABBS0005-58582 &  1.09            & 36.53            & 62.38            &  0.0            \\\\\n",
       "\tNSABBS0006-58557 & NSABBS0006-58557 &  2.77            & 27.33            & 69.80            &  0.1            \\\\\n",
       "\tNSABHC0001-53596 & NSABHC0001-53596 & 31.26            & 42.24            & 26.51            &  0.0            \\\\\n",
       "\tNSABHC0002-53597 & NSABHC0002-53597 &  0.00            &  0.00            & 30.10            & 69.9            \\\\\n",
       "\tNSABHC0003-53598 & NSABHC0003-53598 & 46.57            & 28.14            & 25.29            &  0.0            \\\\\n",
       "\tNSABHC0004-53599 & NSABHC0004-53599 & 26.63            & 36.63            & 36.73            &  0.0            \\\\\n",
       "\\end{tabular}\n"
      ],
      "text/markdown": [
       "\n",
       "| <!--/--> | site_unique | bare | brown | green | NA. |\n",
       "|---|---|---|---|---|---|\n",
       "| NSABBS0005-58582 | NSABBS0005-58582 |  1.09            | 36.53            | 62.38            |  0.0             |\n",
       "| NSABBS0006-58557 | NSABBS0006-58557 |  2.77            | 27.33            | 69.80            |  0.1             |\n",
       "| NSABHC0001-53596 | NSABHC0001-53596 | 31.26            | 42.24            | 26.51            |  0.0             |\n",
       "| NSABHC0002-53597 | NSABHC0002-53597 |  0.00            |  0.00            | 30.10            | 69.9             |\n",
       "| NSABHC0003-53598 | NSABHC0003-53598 | 46.57            | 28.14            | 25.29            |  0.0             |\n",
       "| NSABHC0004-53599 | NSABHC0004-53599 | 26.63            | 36.63            | 36.73            |  0.0             |\n",
       "\n"
      ],
      "text/plain": [
       "                 site_unique      bare  brown green NA. \n",
       "NSABBS0005-58582 NSABBS0005-58582  1.09 36.53 62.38  0.0\n",
       "NSABBS0006-58557 NSABBS0006-58557  2.77 27.33 69.80  0.1\n",
       "NSABHC0001-53596 NSABHC0001-53596 31.26 42.24 26.51  0.0\n",
       "NSABHC0002-53597 NSABHC0002-53597  0.00  0.00 30.10 69.9\n",
       "NSABHC0003-53598 NSABHC0003-53598 46.57 28.14 25.29  0.0\n",
       "NSABHC0004-53599 NSABHC0004-53599 26.63 36.63 36.73  0.0"
      ]
     },
     "metadata": {},
     "output_type": "display_data"
    },
    {
     "data": {
      "text/plain": [
       " site_unique             bare           brown           green      \n",
       " Length:653         Min.   : 0.00   Min.   : 0.00   Min.   : 0.10  \n",
       " Class :character   1st Qu.: 9.31   1st Qu.:19.22   1st Qu.:25.05  \n",
       " Mode  :character   Median :22.08   Median :28.22   Median :40.89  \n",
       "                    Mean   :27.41   Mean   :29.20   Mean   :43.13  \n",
       "                    3rd Qu.:41.78   3rd Qu.:38.12   3rd Qu.:59.80  \n",
       "                    Max.   :98.71   Max.   :72.67   Max.   :97.92  \n",
       "      NA.         \n",
       " Min.   : 0.0000  \n",
       " 1st Qu.: 0.0000  \n",
       " Median : 0.0000  \n",
       " Mean   : 0.2634  \n",
       " 3rd Qu.: 0.0000  \n",
       " Max.   :69.9000  "
      ]
     },
     "metadata": {},
     "output_type": "display_data"
    },
    {
     "name": "stderr",
     "output_type": "stream",
     "text": [
      "Warning message in reshapeWide(data, idvar = idvar, timevar = timevar, varying = varying, :\n",
      "\"there are records with missing times, which will be dropped.\""
     ]
    },
    {
     "data": {
      "text/html": [
       "<table>\n",
       "<thead><tr><th></th><th scope=col>site_unique</th><th scope=col>bare</th><th scope=col>brown</th><th scope=col>green</th><th scope=col>NA.</th></tr></thead>\n",
       "<tbody>\n",
       "\t<tr><th scope=row>NSABBS0005-58582</th><td>NSABBS0005-58582</td><td> 1.58           </td><td>98.42           </td><td> 0.00           </td><td> 0.00           </td></tr>\n",
       "\t<tr><th scope=row>NSABBS0006-58557</th><td>NSABBS0006-58557</td><td> 5.35           </td><td>94.36           </td><td> 0.20           </td><td> 0.10           </td></tr>\n",
       "\t<tr><th scope=row>NSABHC0001-53596</th><td>NSABHC0001-53596</td><td>33.73           </td><td>55.98           </td><td>10.29           </td><td> 0.00           </td></tr>\n",
       "\t<tr><th scope=row>NSABHC0002-53597</th><td>NSABHC0002-53597</td><td> 0.00           </td><td> 0.00           </td><td>17.92           </td><td>82.08           </td></tr>\n",
       "\t<tr><th scope=row>NSABHC0003-53598</th><td>NSABHC0003-53598</td><td>54.02           </td><td>44.12           </td><td> 1.86           </td><td> 0.00           </td></tr>\n",
       "\t<tr><th scope=row>NSABHC0004-53599</th><td>NSABHC0004-53599</td><td>28.42           </td><td>48.81           </td><td>22.77           </td><td> 0.00           </td></tr>\n",
       "</tbody>\n",
       "</table>\n"
      ],
      "text/latex": [
       "\\begin{tabular}{r|lllll}\n",
       "  & site\\_unique & bare & brown & green & NA.\\\\\n",
       "\\hline\n",
       "\tNSABBS0005-58582 & NSABBS0005-58582 &  1.58            & 98.42            &  0.00            &  0.00           \\\\\n",
       "\tNSABBS0006-58557 & NSABBS0006-58557 &  5.35            & 94.36            &  0.20            &  0.10           \\\\\n",
       "\tNSABHC0001-53596 & NSABHC0001-53596 & 33.73            & 55.98            & 10.29            &  0.00           \\\\\n",
       "\tNSABHC0002-53597 & NSABHC0002-53597 &  0.00            &  0.00            & 17.92            & 82.08           \\\\\n",
       "\tNSABHC0003-53598 & NSABHC0003-53598 & 54.02            & 44.12            &  1.86            &  0.00           \\\\\n",
       "\tNSABHC0004-53599 & NSABHC0004-53599 & 28.42            & 48.81            & 22.77            &  0.00           \\\\\n",
       "\\end{tabular}\n"
      ],
      "text/markdown": [
       "\n",
       "| <!--/--> | site_unique | bare | brown | green | NA. |\n",
       "|---|---|---|---|---|---|\n",
       "| NSABBS0005-58582 | NSABBS0005-58582 |  1.58            | 98.42            |  0.00            |  0.00            |\n",
       "| NSABBS0006-58557 | NSABBS0006-58557 |  5.35            | 94.36            |  0.20            |  0.10            |\n",
       "| NSABHC0001-53596 | NSABHC0001-53596 | 33.73            | 55.98            | 10.29            |  0.00            |\n",
       "| NSABHC0002-53597 | NSABHC0002-53597 |  0.00            |  0.00            | 17.92            | 82.08            |\n",
       "| NSABHC0003-53598 | NSABHC0003-53598 | 54.02            | 44.12            |  1.86            |  0.00            |\n",
       "| NSABHC0004-53599 | NSABHC0004-53599 | 28.42            | 48.81            | 22.77            |  0.00            |\n",
       "\n"
      ],
      "text/plain": [
       "                 site_unique      bare  brown green NA.  \n",
       "NSABBS0005-58582 NSABBS0005-58582  1.58 98.42  0.00  0.00\n",
       "NSABBS0006-58557 NSABBS0006-58557  5.35 94.36  0.20  0.10\n",
       "NSABHC0001-53596 NSABHC0001-53596 33.73 55.98 10.29  0.00\n",
       "NSABHC0002-53597 NSABHC0002-53597  0.00  0.00 17.92 82.08\n",
       "NSABHC0003-53598 NSABHC0003-53598 54.02 44.12  1.86  0.00\n",
       "NSABHC0004-53599 NSABHC0004-53599 28.42 48.81 22.77  0.00"
      ]
     },
     "metadata": {},
     "output_type": "display_data"
    },
    {
     "data": {
      "text/plain": [
       " site_unique             bare           brown           green      \n",
       " Length:653         Min.   : 0.00   Min.   : 0.00   Min.   : 0.00  \n",
       " Class :character   1st Qu.:13.86   1st Qu.:33.60   1st Qu.: 3.76  \n",
       " Mode  :character   Median :26.83   Median :49.70   Median :12.18  \n",
       "                    Mean   :30.98   Mean   :51.37   Mean   :17.27  \n",
       "                    3rd Qu.:46.58   3rd Qu.:70.59   3rd Qu.:25.64  \n",
       "                    Max.   :99.60   Max.   :98.42   Max.   :97.92  \n",
       "      NA.         \n",
       " Min.   : 0.0000  \n",
       " 1st Qu.: 0.0000  \n",
       " Median : 0.0000  \n",
       " Mean   : 0.3838  \n",
       " 3rd Qu.: 0.0000  \n",
       " Max.   :82.0800  "
      ]
     },
     "metadata": {},
     "output_type": "display_data"
    }
   ],
   "source": [
    "# ===============================================================================\n",
    "# PROPORTIONAL VEGETATION COVER (= FRACTIONAL COVER): 'fractional_cover' function\n",
    "# ===============================================================================\n",
    "\n",
    "# Fractional Cover: 'Regular' Fractional Cover, only for Substrate\n",
    "# ================================================================\n",
    "# I.e.: Function call with the default argument values\n",
    "AP.data.FC.RFC.Substrate = fractional_cover(AP.data$veg.PI, ground_fractional=\"FALSE\", in_canopy_sky=\"FALSE\")\n",
    "class(AP.data.FC.RFC.Substrate)\n",
    "dim(AP.data.FC.RFC.Substrate)\n",
    "head(AP.data.FC.RFC.Substrate)\n",
    "summary(AP.data.FC.RFC.Substrate)\n",
    "\n",
    "# Fractional Cover: 'Regular' Fractional Cover, including Trees\n",
    "# =============================================================\n",
    "AP.data.FC.RFC.Trees = fractional_cover(AP.data$veg.PI, ground_fractional=\"FALSE\", in_canopy_sky=\"TRUE\")\n",
    "#class(AP.data.FC.RFC.Trees)\n",
    "#dim(AP.data.FC.RFC.Trees)\n",
    "head(AP.data.FC.RFC.Trees)\n",
    "summary(AP.data.FC.RFC.Trees)\n",
    "\n",
    "# Fractional Cover: Fractional Ground Cover\n",
    "# =========================================\n",
    "AP.data.FC.RFC.Trees = fractional_cover(AP.data$veg.PI, ground_fractional=\"TRUE\")\n",
    "#class(AP.data.FC.RFC.Trees)\n",
    "#dim(AP.data.FC.RFC.Trees)\n",
    "head(AP.data.FC.RFC.Trees)\n",
    "summary(AP.data.FC.RFC.Trees)"
   ]
  },
  {
   "cell_type": "markdown",
   "metadata": {},
   "source": [
    "### Plant Growth Form data: `growth_form_table` function\n",
    "\n",
    "The `growth_form_table` function in the `ausplotR` package can be used to generate occurrence matrices for plant growth forms in the AusPlots plots. The plant growth forms considered are those in the National Vegetation Information System (NVIS; Executive Steering Committee for Australian Vegetation Information, 2003). \n",
    "\n",
    "The input for the `growth_form_table` function is a data frame of raw AusPlots point intercept data generated using the `get_ausplots function`. Three metrics can be selected to score species growth form:\n",
    "* _Presence/Absence_: Set by the argument `m_kind = \"PA\"`.\n",
    "* _Percent Cover_: Based on total frequency of hits. Set by the argument `m_kind = \"percent_cover\"`. This is the most useful and commonly used metric. It can be subsequently used in statistical analyses (e.g. MANOVA, Ordination, Classification, etc.) at continental scale where species turnover is too high for some methods to provide meaningful results.\n",
    "* _Species Richness_: Set by the argument `m_kind = \"richness\"`. Note that when 'm_kind' is set to \"richness\" the rowSums of the occurrence matrix can be higher than the observed SR because in some occasions the same species is recorded with different growth forms in a plot and therefore the same species can count towards the weights for multiple growth forms.\n",
    "\n",
    "When Percent Cover is used two types of cover type can be selected:\n",
    "* _Projected Foliage Cover (PFC)_: Hits scored as 'in canopy sky' are removed. Set by the argument `cover_type = \"PFC\"`.\n",
    "* _Opaque Canopy Cover (OCC)_: Hits scored as 'in canopy sky' are retained. Set by the argument `cover_type = \"OCC\"`.\n",
    "The output of the `growth_form_table` function is a data frame. In this output data frame rows correspond to unique sites, columns to NVIS plant growth forms, and cell values are either Presence/Absences, Percent Cover, or Species Richness depending on the option chosen for the ‘m_kind’ argument.\n",
    "\n",
    "\n",
    "REFERENCES  \n",
    "*National Vegetation Information System, Version 6.0*\n",
    "Executive Steering Committee for Australian Vegetation Information (ESCAVI)  \n",
    "Department of the Environment and Heritage, 2003  \n",
    "ISBN 0 642 54953 2.\n",
    "\n",
    "\n",
    "Examples of the use of the 'growth_form_table' funtion are presented below. In the examples growth form ocurrences are computed using different scoring metrics (i.e. Presence/Absence, Percentage Cover, and Species Richness) by varying the argument values (see above). Growth form types occurrences are computed for the full set of vegetation point intersect data currently available at AusPlots. The list of data frames containing information for all currently available AusPlots sites (i.e. the 'AP.data' list) was previously created using the `get_ausplots` function (see above). The resulting 'Plant Growth Form' data frames can be enriched with additional information as seen above for the `species_table` function in the 'Manipulating AusPlots data II: Merging data frames' section."
   ]
  },
  {
   "cell_type": "code",
   "execution_count": 18,
   "metadata": {},
   "outputs": [
    {
     "name": "stderr",
     "output_type": "stream",
     "text": [
      "Warning message in if (cover_type == \"PFC\") {:\n",
      "\"the condition has length > 1 and only the first element will be used\""
     ]
    },
    {
     "data": {
      "text/html": [
       "'data.frame'"
      ],
      "text/latex": [
       "'data.frame'"
      ],
      "text/markdown": [
       "'data.frame'"
      ],
      "text/plain": [
       "[1] \"data.frame\""
      ]
     },
     "metadata": {},
     "output_type": "display_data"
    },
    {
     "data": {
      "text/html": [
       "<ol class=list-inline>\n",
       "\t<li>653</li>\n",
       "\t<li>20</li>\n",
       "</ol>\n"
      ],
      "text/latex": [
       "\\begin{enumerate*}\n",
       "\\item 653\n",
       "\\item 20\n",
       "\\end{enumerate*}\n"
      ],
      "text/markdown": [
       "1. 653\n",
       "2. 20\n",
       "\n",
       "\n"
      ],
      "text/plain": [
       "[1] 653  20"
      ]
     },
     "metadata": {},
     "output_type": "display_data"
    },
    {
     "data": {
      "text/html": [
       "<table>\n",
       "<thead><tr><th></th><th scope=col>Aquatic</th><th scope=col>Bryophyte</th><th scope=col>Chenopod</th><th scope=col>Cycad</th><th scope=col>Epiphyte</th><th scope=col>Fern</th><th scope=col>Forb</th><th scope=col>Fungus</th><th scope=col>Grass.tree</th><th scope=col>Heath.shrub</th><th scope=col>Hummock.grass</th><th scope=col>NC</th><th scope=col>Rush</th><th scope=col>Sedge</th><th scope=col>Shrub</th><th scope=col>Shrub.Mallee</th><th scope=col>Tree.Mallee</th><th scope=col>Tree.Palm</th><th scope=col>Tussock.grass</th><th scope=col>Vine</th></tr></thead>\n",
       "<tbody>\n",
       "\t<tr><th scope=row>NSABBS0005-58582</th><td>0</td><td>0</td><td>0</td><td>0</td><td>1</td><td>0</td><td>1</td><td>0</td><td>0</td><td>1</td><td>0</td><td>0</td><td>0</td><td>0</td><td>1</td><td>0</td><td>0</td><td>1</td><td>1</td><td>0</td></tr>\n",
       "\t<tr><th scope=row>NSABBS0006-58557</th><td>0</td><td>0</td><td>0</td><td>0</td><td>1</td><td>0</td><td>1</td><td>0</td><td>0</td><td>0</td><td>0</td><td>0</td><td>0</td><td>0</td><td>1</td><td>0</td><td>0</td><td>1</td><td>1</td><td>0</td></tr>\n",
       "\t<tr><th scope=row>NSABHC0001-53596</th><td>0</td><td>0</td><td>0</td><td>0</td><td>0</td><td>0</td><td>1</td><td>0</td><td>0</td><td>0</td><td>0</td><td>0</td><td>0</td><td>0</td><td>1</td><td>0</td><td>0</td><td>0</td><td>1</td><td>0</td></tr>\n",
       "\t<tr><th scope=row>NSABHC0002-53597</th><td>0</td><td>0</td><td>1</td><td>0</td><td>0</td><td>0</td><td>1</td><td>0</td><td>0</td><td>0</td><td>0</td><td>0</td><td>0</td><td>0</td><td>1</td><td>0</td><td>0</td><td>0</td><td>1</td><td>0</td></tr>\n",
       "\t<tr><th scope=row>NSABHC0003-53598</th><td>0</td><td>0</td><td>0</td><td>0</td><td>0</td><td>0</td><td>1</td><td>0</td><td>0</td><td>0</td><td>0</td><td>0</td><td>0</td><td>0</td><td>1</td><td>0</td><td>0</td><td>0</td><td>1</td><td>0</td></tr>\n",
       "\t<tr><th scope=row>NSABHC0004-53599</th><td>0</td><td>0</td><td>0</td><td>0</td><td>0</td><td>0</td><td>1</td><td>0</td><td>0</td><td>0</td><td>0</td><td>0</td><td>0</td><td>0</td><td>1</td><td>0</td><td>0</td><td>0</td><td>1</td><td>0</td></tr>\n",
       "</tbody>\n",
       "</table>\n"
      ],
      "text/latex": [
       "\\begin{tabular}{r|llllllllllllllllllll}\n",
       "  & Aquatic & Bryophyte & Chenopod & Cycad & Epiphyte & Fern & Forb & Fungus & Grass.tree & Heath.shrub & Hummock.grass & NC & Rush & Sedge & Shrub & Shrub.Mallee & Tree.Mallee & Tree.Palm & Tussock.grass & Vine\\\\\n",
       "\\hline\n",
       "\tNSABBS0005-58582 & 0 & 0 & 0 & 0 & 1 & 0 & 1 & 0 & 0 & 1 & 0 & 0 & 0 & 0 & 1 & 0 & 0 & 1 & 1 & 0\\\\\n",
       "\tNSABBS0006-58557 & 0 & 0 & 0 & 0 & 1 & 0 & 1 & 0 & 0 & 0 & 0 & 0 & 0 & 0 & 1 & 0 & 0 & 1 & 1 & 0\\\\\n",
       "\tNSABHC0001-53596 & 0 & 0 & 0 & 0 & 0 & 0 & 1 & 0 & 0 & 0 & 0 & 0 & 0 & 0 & 1 & 0 & 0 & 0 & 1 & 0\\\\\n",
       "\tNSABHC0002-53597 & 0 & 0 & 1 & 0 & 0 & 0 & 1 & 0 & 0 & 0 & 0 & 0 & 0 & 0 & 1 & 0 & 0 & 0 & 1 & 0\\\\\n",
       "\tNSABHC0003-53598 & 0 & 0 & 0 & 0 & 0 & 0 & 1 & 0 & 0 & 0 & 0 & 0 & 0 & 0 & 1 & 0 & 0 & 0 & 1 & 0\\\\\n",
       "\tNSABHC0004-53599 & 0 & 0 & 0 & 0 & 0 & 0 & 1 & 0 & 0 & 0 & 0 & 0 & 0 & 0 & 1 & 0 & 0 & 0 & 1 & 0\\\\\n",
       "\\end{tabular}\n"
      ],
      "text/markdown": [
       "\n",
       "| <!--/--> | Aquatic | Bryophyte | Chenopod | Cycad | Epiphyte | Fern | Forb | Fungus | Grass.tree | Heath.shrub | Hummock.grass | NC | Rush | Sedge | Shrub | Shrub.Mallee | Tree.Mallee | Tree.Palm | Tussock.grass | Vine |\n",
       "|---|---|---|---|---|---|---|---|---|---|---|---|---|---|---|---|---|---|---|---|---|\n",
       "| NSABBS0005-58582 | 0 | 0 | 0 | 0 | 1 | 0 | 1 | 0 | 0 | 1 | 0 | 0 | 0 | 0 | 1 | 0 | 0 | 1 | 1 | 0 |\n",
       "| NSABBS0006-58557 | 0 | 0 | 0 | 0 | 1 | 0 | 1 | 0 | 0 | 0 | 0 | 0 | 0 | 0 | 1 | 0 | 0 | 1 | 1 | 0 |\n",
       "| NSABHC0001-53596 | 0 | 0 | 0 | 0 | 0 | 0 | 1 | 0 | 0 | 0 | 0 | 0 | 0 | 0 | 1 | 0 | 0 | 0 | 1 | 0 |\n",
       "| NSABHC0002-53597 | 0 | 0 | 1 | 0 | 0 | 0 | 1 | 0 | 0 | 0 | 0 | 0 | 0 | 0 | 1 | 0 | 0 | 0 | 1 | 0 |\n",
       "| NSABHC0003-53598 | 0 | 0 | 0 | 0 | 0 | 0 | 1 | 0 | 0 | 0 | 0 | 0 | 0 | 0 | 1 | 0 | 0 | 0 | 1 | 0 |\n",
       "| NSABHC0004-53599 | 0 | 0 | 0 | 0 | 0 | 0 | 1 | 0 | 0 | 0 | 0 | 0 | 0 | 0 | 1 | 0 | 0 | 0 | 1 | 0 |\n",
       "\n"
      ],
      "text/plain": [
       "                 Aquatic Bryophyte Chenopod Cycad Epiphyte Fern Forb Fungus\n",
       "NSABBS0005-58582 0       0         0        0     1        0    1    0     \n",
       "NSABBS0006-58557 0       0         0        0     1        0    1    0     \n",
       "NSABHC0001-53596 0       0         0        0     0        0    1    0     \n",
       "NSABHC0002-53597 0       0         1        0     0        0    1    0     \n",
       "NSABHC0003-53598 0       0         0        0     0        0    1    0     \n",
       "NSABHC0004-53599 0       0         0        0     0        0    1    0     \n",
       "                 Grass.tree Heath.shrub Hummock.grass NC Rush Sedge Shrub\n",
       "NSABBS0005-58582 0          1           0             0  0    0     1    \n",
       "NSABBS0006-58557 0          0           0             0  0    0     1    \n",
       "NSABHC0001-53596 0          0           0             0  0    0     1    \n",
       "NSABHC0002-53597 0          0           0             0  0    0     1    \n",
       "NSABHC0003-53598 0          0           0             0  0    0     1    \n",
       "NSABHC0004-53599 0          0           0             0  0    0     1    \n",
       "                 Shrub.Mallee Tree.Mallee Tree.Palm Tussock.grass Vine\n",
       "NSABBS0005-58582 0            0           1         1             0   \n",
       "NSABBS0006-58557 0            0           1         1             0   \n",
       "NSABHC0001-53596 0            0           0         1             0   \n",
       "NSABHC0002-53597 0            0           0         1             0   \n",
       "NSABHC0003-53598 0            0           0         1             0   \n",
       "NSABHC0004-53599 0            0           0         1             0   "
      ]
     },
     "metadata": {},
     "output_type": "display_data"
    },
    {
     "data": {
      "text/plain": [
       "    Aquatic           Bryophyte          Chenopod          Cycad         \n",
       " Min.   :0.000000   Min.   :0.00000   Min.   :0.0000   Min.   :0.000000  \n",
       " 1st Qu.:0.000000   1st Qu.:0.00000   1st Qu.:0.0000   1st Qu.:0.000000  \n",
       " Median :0.000000   Median :0.00000   Median :0.0000   Median :0.000000  \n",
       " Mean   :0.001531   Mean   :0.01378   Mean   :0.4916   Mean   :0.003063  \n",
       " 3rd Qu.:0.000000   3rd Qu.:0.00000   3rd Qu.:1.0000   3rd Qu.:0.000000  \n",
       " Max.   :1.000000   Max.   :1.00000   Max.   :1.0000   Max.   :1.000000  \n",
       "    Epiphyte            Fern             Forb            Fungus        \n",
       " Min.   :0.00000   Min.   :0.0000   Min.   :0.0000   Min.   :0.000000  \n",
       " 1st Qu.:0.00000   1st Qu.:0.0000   1st Qu.:1.0000   1st Qu.:0.000000  \n",
       " Median :0.00000   Median :0.0000   Median :1.0000   Median :0.000000  \n",
       " Mean   :0.08882   Mean   :0.1103   Mean   :0.9173   Mean   :0.007657  \n",
       " 3rd Qu.:0.00000   3rd Qu.:0.0000   3rd Qu.:1.0000   3rd Qu.:0.000000  \n",
       " Max.   :1.00000   Max.   :1.0000   Max.   :1.0000   Max.   :1.000000  \n",
       "   Grass.tree       Heath.shrub      Hummock.grass          NC        \n",
       " Min.   :0.00000   Min.   :0.00000   Min.   :0.0000   Min.   :0.0000  \n",
       " 1st Qu.:0.00000   1st Qu.:0.00000   1st Qu.:0.0000   1st Qu.:0.0000  \n",
       " Median :0.00000   Median :0.00000   Median :0.0000   Median :0.0000  \n",
       " Mean   :0.03216   Mean   :0.07198   Mean   :0.2711   Mean   :0.0245  \n",
       " 3rd Qu.:0.00000   3rd Qu.:0.00000   3rd Qu.:1.0000   3rd Qu.:0.0000  \n",
       " Max.   :1.00000   Max.   :1.00000   Max.   :1.0000   Max.   :1.0000  \n",
       "      Rush             Sedge            Shrub         Shrub.Mallee    \n",
       " Min.   :0.00000   Min.   :0.0000   Min.   :0.0000   Min.   :0.00000  \n",
       " 1st Qu.:0.00000   1st Qu.:0.0000   1st Qu.:1.0000   1st Qu.:0.00000  \n",
       " Median :0.00000   Median :0.0000   Median :1.0000   Median :0.00000  \n",
       " Mean   :0.06126   Mean   :0.3308   Mean   :0.8652   Mean   :0.09035  \n",
       " 3rd Qu.:0.00000   3rd Qu.:1.0000   3rd Qu.:1.0000   3rd Qu.:0.00000  \n",
       " Max.   :1.00000   Max.   :1.0000   Max.   :1.0000   Max.   :1.00000  \n",
       "  Tree.Mallee       Tree.Palm      Tussock.grass         Vine       \n",
       " Min.   :0.0000   Min.   :0.0000   Min.   :0.0000   Min.   :0.0000  \n",
       " 1st Qu.:0.0000   1st Qu.:0.0000   1st Qu.:1.0000   1st Qu.:0.0000  \n",
       " Median :0.0000   Median :1.0000   Median :1.0000   Median :0.0000  \n",
       " Mean   :0.1593   Mean   :0.6279   Mean   :0.8407   Mean   :0.2496  \n",
       " 3rd Qu.:0.0000   3rd Qu.:1.0000   3rd Qu.:1.0000   3rd Qu.:0.0000  \n",
       " Max.   :1.0000   Max.   :1.0000   Max.   :1.0000   Max.   :1.0000  "
      ]
     },
     "metadata": {},
     "output_type": "display_data"
    },
    {
     "data": {
      "text/html": [
       "<table>\n",
       "<thead><tr><th></th><th scope=col>Aquatic</th><th scope=col>Bryophyte</th><th scope=col>Chenopod</th><th scope=col>Cycad</th><th scope=col>Epiphyte</th><th scope=col>Fern</th><th scope=col>Forb</th><th scope=col>Fungus</th><th scope=col>Grass.tree</th><th scope=col>Heath.shrub</th><th scope=col>Hummock.grass</th><th scope=col>NC</th><th scope=col>Rush</th><th scope=col>Sedge</th><th scope=col>Shrub</th><th scope=col>Shrub.Mallee</th><th scope=col>Tree.Mallee</th><th scope=col>Tree.Palm</th><th scope=col>Tussock.grass</th><th scope=col>Vine</th></tr></thead>\n",
       "<tbody>\n",
       "\t<tr><th scope=row>NSABBS0005-58582</th><td>0         </td><td>0         </td><td> 0.00000  </td><td>0         </td><td>0.3289474 </td><td>0         </td><td> 0.1644737</td><td>0         </td><td>0         </td><td>2.138158  </td><td>0         </td><td>0         </td><td>0         </td><td>0         </td><td>25.9868421</td><td>0         </td><td>0         </td><td>103.1250  </td><td> 0.1644737</td><td>0         </td></tr>\n",
       "\t<tr><th scope=row>NSABBS0006-58557</th><td>0         </td><td>0         </td><td> 0.00000  </td><td>0         </td><td>0.1543210 </td><td>0         </td><td> 0.6172840</td><td>0         </td><td>0         </td><td>0.000000  </td><td>0         </td><td>0         </td><td>0         </td><td>0         </td><td>17.2839506</td><td>0         </td><td>0         </td><td>114.9691  </td><td> 0.6172840</td><td>0         </td></tr>\n",
       "\t<tr><th scope=row>NSABHC0001-53596</th><td>0         </td><td>0         </td><td> 0.00000  </td><td>0         </td><td>0.0000000 </td><td>0         </td><td>26.8656716</td><td>0         </td><td>0         </td><td>0.000000  </td><td>0         </td><td>0         </td><td>0         </td><td>0         </td><td>61.5671642</td><td>0         </td><td>0         </td><td>  0.0000  </td><td>12.6865672</td><td>0         </td></tr>\n",
       "\t<tr><th scope=row>NSABHC0002-53597</th><td>0         </td><td>0         </td><td>40.46053  </td><td>0         </td><td>0.0000000 </td><td>0         </td><td>40.1315789</td><td>0         </td><td>0         </td><td>0.000000  </td><td>0         </td><td>0         </td><td>0         </td><td>0         </td><td> 0.6578947</td><td>0         </td><td>0         </td><td>  0.0000  </td><td>21.7105263</td><td>0         </td></tr>\n",
       "\t<tr><th scope=row>NSABHC0003-53598</th><td>0         </td><td>0         </td><td> 0.00000  </td><td>0         </td><td>0.0000000 </td><td>0         </td><td> 4.6511628</td><td>0         </td><td>0         </td><td>0.000000  </td><td>0         </td><td>0         </td><td>0         </td><td>0         </td><td>92.6356589</td><td>0         </td><td>0         </td><td>  0.0000  </td><td> 2.7131783</td><td>0         </td></tr>\n",
       "\t<tr><th scope=row>NSABHC0004-53599</th><td>0         </td><td>0         </td><td> 0.00000  </td><td>0         </td><td>0.0000000 </td><td>0         </td><td>29.6495957</td><td>0         </td><td>0         </td><td>0.000000  </td><td>0         </td><td>0         </td><td>0         </td><td>0         </td><td>38.0053908</td><td>0         </td><td>0         </td><td>  0.0000  </td><td>32.3450135</td><td>0         </td></tr>\n",
       "</tbody>\n",
       "</table>\n"
      ],
      "text/latex": [
       "\\begin{tabular}{r|llllllllllllllllllll}\n",
       "  & Aquatic & Bryophyte & Chenopod & Cycad & Epiphyte & Fern & Forb & Fungus & Grass.tree & Heath.shrub & Hummock.grass & NC & Rush & Sedge & Shrub & Shrub.Mallee & Tree.Mallee & Tree.Palm & Tussock.grass & Vine\\\\\n",
       "\\hline\n",
       "\tNSABBS0005-58582 & 0          & 0          &  0.00000   & 0          & 0.3289474  & 0          &  0.1644737 & 0          & 0          & 2.138158   & 0          & 0          & 0          & 0          & 25.9868421 & 0          & 0          & 103.1250   &  0.1644737 & 0         \\\\\n",
       "\tNSABBS0006-58557 & 0          & 0          &  0.00000   & 0          & 0.1543210  & 0          &  0.6172840 & 0          & 0          & 0.000000   & 0          & 0          & 0          & 0          & 17.2839506 & 0          & 0          & 114.9691   &  0.6172840 & 0         \\\\\n",
       "\tNSABHC0001-53596 & 0          & 0          &  0.00000   & 0          & 0.0000000  & 0          & 26.8656716 & 0          & 0          & 0.000000   & 0          & 0          & 0          & 0          & 61.5671642 & 0          & 0          &   0.0000   & 12.6865672 & 0         \\\\\n",
       "\tNSABHC0002-53597 & 0          & 0          & 40.46053   & 0          & 0.0000000  & 0          & 40.1315789 & 0          & 0          & 0.000000   & 0          & 0          & 0          & 0          &  0.6578947 & 0          & 0          &   0.0000   & 21.7105263 & 0         \\\\\n",
       "\tNSABHC0003-53598 & 0          & 0          &  0.00000   & 0          & 0.0000000  & 0          &  4.6511628 & 0          & 0          & 0.000000   & 0          & 0          & 0          & 0          & 92.6356589 & 0          & 0          &   0.0000   &  2.7131783 & 0         \\\\\n",
       "\tNSABHC0004-53599 & 0          & 0          &  0.00000   & 0          & 0.0000000  & 0          & 29.6495957 & 0          & 0          & 0.000000   & 0          & 0          & 0          & 0          & 38.0053908 & 0          & 0          &   0.0000   & 32.3450135 & 0         \\\\\n",
       "\\end{tabular}\n"
      ],
      "text/markdown": [
       "\n",
       "| <!--/--> | Aquatic | Bryophyte | Chenopod | Cycad | Epiphyte | Fern | Forb | Fungus | Grass.tree | Heath.shrub | Hummock.grass | NC | Rush | Sedge | Shrub | Shrub.Mallee | Tree.Mallee | Tree.Palm | Tussock.grass | Vine |\n",
       "|---|---|---|---|---|---|---|---|---|---|---|---|---|---|---|---|---|---|---|---|---|\n",
       "| NSABBS0005-58582 | 0          | 0          |  0.00000   | 0          | 0.3289474  | 0          |  0.1644737 | 0          | 0          | 2.138158   | 0          | 0          | 0          | 0          | 25.9868421 | 0          | 0          | 103.1250   |  0.1644737 | 0          |\n",
       "| NSABBS0006-58557 | 0          | 0          |  0.00000   | 0          | 0.1543210  | 0          |  0.6172840 | 0          | 0          | 0.000000   | 0          | 0          | 0          | 0          | 17.2839506 | 0          | 0          | 114.9691   |  0.6172840 | 0          |\n",
       "| NSABHC0001-53596 | 0          | 0          |  0.00000   | 0          | 0.0000000  | 0          | 26.8656716 | 0          | 0          | 0.000000   | 0          | 0          | 0          | 0          | 61.5671642 | 0          | 0          |   0.0000   | 12.6865672 | 0          |\n",
       "| NSABHC0002-53597 | 0          | 0          | 40.46053   | 0          | 0.0000000  | 0          | 40.1315789 | 0          | 0          | 0.000000   | 0          | 0          | 0          | 0          |  0.6578947 | 0          | 0          |   0.0000   | 21.7105263 | 0          |\n",
       "| NSABHC0003-53598 | 0          | 0          |  0.00000   | 0          | 0.0000000  | 0          |  4.6511628 | 0          | 0          | 0.000000   | 0          | 0          | 0          | 0          | 92.6356589 | 0          | 0          |   0.0000   |  2.7131783 | 0          |\n",
       "| NSABHC0004-53599 | 0          | 0          |  0.00000   | 0          | 0.0000000  | 0          | 29.6495957 | 0          | 0          | 0.000000   | 0          | 0          | 0          | 0          | 38.0053908 | 0          | 0          |   0.0000   | 32.3450135 | 0          |\n",
       "\n"
      ],
      "text/plain": [
       "                 Aquatic Bryophyte Chenopod Cycad Epiphyte  Fern Forb      \n",
       "NSABBS0005-58582 0       0          0.00000 0     0.3289474 0     0.1644737\n",
       "NSABBS0006-58557 0       0          0.00000 0     0.1543210 0     0.6172840\n",
       "NSABHC0001-53596 0       0          0.00000 0     0.0000000 0    26.8656716\n",
       "NSABHC0002-53597 0       0         40.46053 0     0.0000000 0    40.1315789\n",
       "NSABHC0003-53598 0       0          0.00000 0     0.0000000 0     4.6511628\n",
       "NSABHC0004-53599 0       0          0.00000 0     0.0000000 0    29.6495957\n",
       "                 Fungus Grass.tree Heath.shrub Hummock.grass NC Rush Sedge\n",
       "NSABBS0005-58582 0      0          2.138158    0             0  0    0    \n",
       "NSABBS0006-58557 0      0          0.000000    0             0  0    0    \n",
       "NSABHC0001-53596 0      0          0.000000    0             0  0    0    \n",
       "NSABHC0002-53597 0      0          0.000000    0             0  0    0    \n",
       "NSABHC0003-53598 0      0          0.000000    0             0  0    0    \n",
       "NSABHC0004-53599 0      0          0.000000    0             0  0    0    \n",
       "                 Shrub      Shrub.Mallee Tree.Mallee Tree.Palm Tussock.grass\n",
       "NSABBS0005-58582 25.9868421 0            0           103.1250   0.1644737   \n",
       "NSABBS0006-58557 17.2839506 0            0           114.9691   0.6172840   \n",
       "NSABHC0001-53596 61.5671642 0            0             0.0000  12.6865672   \n",
       "NSABHC0002-53597  0.6578947 0            0             0.0000  21.7105263   \n",
       "NSABHC0003-53598 92.6356589 0            0             0.0000   2.7131783   \n",
       "NSABHC0004-53599 38.0053908 0            0             0.0000  32.3450135   \n",
       "                 Vine\n",
       "NSABBS0005-58582 0   \n",
       "NSABBS0006-58557 0   \n",
       "NSABHC0001-53596 0   \n",
       "NSABHC0002-53597 0   \n",
       "NSABHC0003-53598 0   \n",
       "NSABHC0004-53599 0   "
      ]
     },
     "metadata": {},
     "output_type": "display_data"
    },
    {
     "data": {
      "text/plain": [
       "    Aquatic            Bryophyte          Chenopod          Cycad         \n",
       " Min.   :0.0000000   Min.   : 0.0000   Min.   :  0.00   Min.   :0.000000  \n",
       " 1st Qu.:0.0000000   1st Qu.: 0.0000   1st Qu.:  0.00   1st Qu.:0.000000  \n",
       " Median :0.0000000   Median : 0.0000   Median :  0.00   Median :0.000000  \n",
       " Mean   :0.0006053   Mean   : 0.1331   Mean   : 10.79   Mean   :0.004358  \n",
       " 3rd Qu.:0.0000000   3rd Qu.: 0.0000   3rd Qu.: 12.25   3rd Qu.:0.000000  \n",
       " Max.   :0.3952569   Max.   :66.2047   Max.   :100.00   Max.   :2.540107  \n",
       "    Epiphyte             Fern              Forb            Fungus        \n",
       " Min.   : 0.00000   Min.   : 0.0000   Min.   : 0.000   Min.   :0.000000  \n",
       " 1st Qu.: 0.00000   1st Qu.: 0.0000   1st Qu.: 1.569   1st Qu.:0.000000  \n",
       " Median : 0.00000   Median : 0.0000   Median : 5.983   Median :0.000000  \n",
       " Mean   : 0.08855   Mean   : 0.3525   Mean   :13.398   Mean   :0.004604  \n",
       " 3rd Qu.: 0.00000   3rd Qu.: 0.0000   3rd Qu.:17.319   3rd Qu.:0.000000  \n",
       " Max.   :14.28571   Max.   :54.3062   Max.   :94.268   Max.   :2.042901  \n",
       "   Grass.tree     Heath.shrub     Hummock.grass            NC          \n",
       " Min.   : 0.00   Min.   : 0.000   Min.   :  0.0000   Min.   : 0.00000  \n",
       " 1st Qu.: 0.00   1st Qu.: 0.000   1st Qu.:  0.0000   1st Qu.: 0.00000  \n",
       " Median : 0.00   Median : 0.000   Median :  0.0000   Median : 0.00000  \n",
       " Mean   : 0.46   Mean   : 1.142   Mean   :  8.7219   Mean   : 0.04686  \n",
       " 3rd Qu.: 0.00   3rd Qu.: 0.000   3rd Qu.:  0.6061   3rd Qu.: 0.00000  \n",
       " Max.   :50.18   Max.   :93.555   Max.   :183.8565   Max.   :14.09836  \n",
       "      Rush             Sedge             Shrub          Shrub.Mallee    \n",
       " Min.   : 0.0000   Min.   : 0.0000   Min.   :  0.000   Min.   : 0.0000  \n",
       " 1st Qu.: 0.0000   1st Qu.: 0.0000   1st Qu.:  2.296   1st Qu.: 0.0000  \n",
       " Median : 0.0000   Median : 0.0000   Median : 14.358   Median : 0.0000  \n",
       " Mean   : 0.1527   Mean   : 2.8579   Mean   : 24.832   Mean   : 0.5343  \n",
       " 3rd Qu.: 0.0000   3rd Qu.: 0.8929   3rd Qu.: 37.944   3rd Qu.: 0.0000  \n",
       " Max.   :12.3487   Max.   :76.2029   Max.   :139.655   Max.   :37.7863  \n",
       "  Tree.Mallee       Tree.Palm       Tussock.grass          Vine        \n",
       " Min.   : 0.000   Min.   :  0.000   Min.   :  0.000   Min.   : 0.0000  \n",
       " 1st Qu.: 0.000   1st Qu.:  0.000   1st Qu.:  1.066   1st Qu.: 0.0000  \n",
       " Median : 0.000   Median :  2.974   Median : 15.842   Median : 0.0000  \n",
       " Mean   : 3.863   Mean   : 20.984   Mean   : 28.872   Mean   : 0.6741  \n",
       " 3rd Qu.: 0.000   3rd Qu.: 37.524   3rd Qu.: 52.174   3rd Qu.: 0.0000  \n",
       " Max.   :91.979   Max.   :144.211   Max.   :116.019   Max.   :62.4561  "
      ]
     },
     "metadata": {},
     "output_type": "display_data"
    },
    {
     "data": {
      "text/html": [
       "<table>\n",
       "<thead><tr><th></th><th scope=col>Aquatic</th><th scope=col>Bryophyte</th><th scope=col>Chenopod</th><th scope=col>Cycad</th><th scope=col>Epiphyte</th><th scope=col>Fern</th><th scope=col>Forb</th><th scope=col>Fungus</th><th scope=col>Grass.tree</th><th scope=col>Heath.shrub</th><th scope=col>Hummock.grass</th><th scope=col>NC</th><th scope=col>Rush</th><th scope=col>Sedge</th><th scope=col>Shrub</th><th scope=col>Shrub.Mallee</th><th scope=col>Tree.Mallee</th><th scope=col>Tree.Palm</th><th scope=col>Tussock.grass</th><th scope=col>Vine</th></tr></thead>\n",
       "<tbody>\n",
       "\t<tr><th scope=row>NSABBS0005-58582</th><td>0         </td><td>0         </td><td> 0.00000  </td><td>0         </td><td>0.3289474 </td><td>0         </td><td> 0.1644737</td><td>0         </td><td>0         </td><td>2.138158  </td><td>0         </td><td>0         </td><td>0         </td><td>0         </td><td>25.9868421</td><td>0         </td><td>0         </td><td>103.1250  </td><td> 0.1644737</td><td>0         </td></tr>\n",
       "\t<tr><th scope=row>NSABBS0006-58557</th><td>0         </td><td>0         </td><td> 0.00000  </td><td>0         </td><td>0.1543210 </td><td>0         </td><td> 0.6172840</td><td>0         </td><td>0         </td><td>0.000000  </td><td>0         </td><td>0         </td><td>0         </td><td>0         </td><td>17.2839506</td><td>0         </td><td>0         </td><td>114.9691  </td><td> 0.6172840</td><td>0         </td></tr>\n",
       "\t<tr><th scope=row>NSABHC0001-53596</th><td>0         </td><td>0         </td><td> 0.00000  </td><td>0         </td><td>0.0000000 </td><td>0         </td><td>26.8656716</td><td>0         </td><td>0         </td><td>0.000000  </td><td>0         </td><td>0         </td><td>0         </td><td>0         </td><td>61.5671642</td><td>0         </td><td>0         </td><td>  0.0000  </td><td>12.6865672</td><td>0         </td></tr>\n",
       "\t<tr><th scope=row>NSABHC0002-53597</th><td>0         </td><td>0         </td><td>40.46053  </td><td>0         </td><td>0.0000000 </td><td>0         </td><td>40.1315789</td><td>0         </td><td>0         </td><td>0.000000  </td><td>0         </td><td>0         </td><td>0         </td><td>0         </td><td> 0.6578947</td><td>0         </td><td>0         </td><td>  0.0000  </td><td>21.7105263</td><td>0         </td></tr>\n",
       "\t<tr><th scope=row>NSABHC0003-53598</th><td>0         </td><td>0         </td><td> 0.00000  </td><td>0         </td><td>0.0000000 </td><td>0         </td><td> 4.6511628</td><td>0         </td><td>0         </td><td>0.000000  </td><td>0         </td><td>0         </td><td>0         </td><td>0         </td><td>92.6356589</td><td>0         </td><td>0         </td><td>  0.0000  </td><td> 2.7131783</td><td>0         </td></tr>\n",
       "\t<tr><th scope=row>NSABHC0004-53599</th><td>0         </td><td>0         </td><td> 0.00000  </td><td>0         </td><td>0.0000000 </td><td>0         </td><td>29.6495957</td><td>0         </td><td>0         </td><td>0.000000  </td><td>0         </td><td>0         </td><td>0         </td><td>0         </td><td>38.0053908</td><td>0         </td><td>0         </td><td>  0.0000  </td><td>32.3450135</td><td>0         </td></tr>\n",
       "</tbody>\n",
       "</table>\n"
      ],
      "text/latex": [
       "\\begin{tabular}{r|llllllllllllllllllll}\n",
       "  & Aquatic & Bryophyte & Chenopod & Cycad & Epiphyte & Fern & Forb & Fungus & Grass.tree & Heath.shrub & Hummock.grass & NC & Rush & Sedge & Shrub & Shrub.Mallee & Tree.Mallee & Tree.Palm & Tussock.grass & Vine\\\\\n",
       "\\hline\n",
       "\tNSABBS0005-58582 & 0          & 0          &  0.00000   & 0          & 0.3289474  & 0          &  0.1644737 & 0          & 0          & 2.138158   & 0          & 0          & 0          & 0          & 25.9868421 & 0          & 0          & 103.1250   &  0.1644737 & 0         \\\\\n",
       "\tNSABBS0006-58557 & 0          & 0          &  0.00000   & 0          & 0.1543210  & 0          &  0.6172840 & 0          & 0          & 0.000000   & 0          & 0          & 0          & 0          & 17.2839506 & 0          & 0          & 114.9691   &  0.6172840 & 0         \\\\\n",
       "\tNSABHC0001-53596 & 0          & 0          &  0.00000   & 0          & 0.0000000  & 0          & 26.8656716 & 0          & 0          & 0.000000   & 0          & 0          & 0          & 0          & 61.5671642 & 0          & 0          &   0.0000   & 12.6865672 & 0         \\\\\n",
       "\tNSABHC0002-53597 & 0          & 0          & 40.46053   & 0          & 0.0000000  & 0          & 40.1315789 & 0          & 0          & 0.000000   & 0          & 0          & 0          & 0          &  0.6578947 & 0          & 0          &   0.0000   & 21.7105263 & 0         \\\\\n",
       "\tNSABHC0003-53598 & 0          & 0          &  0.00000   & 0          & 0.0000000  & 0          &  4.6511628 & 0          & 0          & 0.000000   & 0          & 0          & 0          & 0          & 92.6356589 & 0          & 0          &   0.0000   &  2.7131783 & 0         \\\\\n",
       "\tNSABHC0004-53599 & 0          & 0          &  0.00000   & 0          & 0.0000000  & 0          & 29.6495957 & 0          & 0          & 0.000000   & 0          & 0          & 0          & 0          & 38.0053908 & 0          & 0          &   0.0000   & 32.3450135 & 0         \\\\\n",
       "\\end{tabular}\n"
      ],
      "text/markdown": [
       "\n",
       "| <!--/--> | Aquatic | Bryophyte | Chenopod | Cycad | Epiphyte | Fern | Forb | Fungus | Grass.tree | Heath.shrub | Hummock.grass | NC | Rush | Sedge | Shrub | Shrub.Mallee | Tree.Mallee | Tree.Palm | Tussock.grass | Vine |\n",
       "|---|---|---|---|---|---|---|---|---|---|---|---|---|---|---|---|---|---|---|---|---|\n",
       "| NSABBS0005-58582 | 0          | 0          |  0.00000   | 0          | 0.3289474  | 0          |  0.1644737 | 0          | 0          | 2.138158   | 0          | 0          | 0          | 0          | 25.9868421 | 0          | 0          | 103.1250   |  0.1644737 | 0          |\n",
       "| NSABBS0006-58557 | 0          | 0          |  0.00000   | 0          | 0.1543210  | 0          |  0.6172840 | 0          | 0          | 0.000000   | 0          | 0          | 0          | 0          | 17.2839506 | 0          | 0          | 114.9691   |  0.6172840 | 0          |\n",
       "| NSABHC0001-53596 | 0          | 0          |  0.00000   | 0          | 0.0000000  | 0          | 26.8656716 | 0          | 0          | 0.000000   | 0          | 0          | 0          | 0          | 61.5671642 | 0          | 0          |   0.0000   | 12.6865672 | 0          |\n",
       "| NSABHC0002-53597 | 0          | 0          | 40.46053   | 0          | 0.0000000  | 0          | 40.1315789 | 0          | 0          | 0.000000   | 0          | 0          | 0          | 0          |  0.6578947 | 0          | 0          |   0.0000   | 21.7105263 | 0          |\n",
       "| NSABHC0003-53598 | 0          | 0          |  0.00000   | 0          | 0.0000000  | 0          |  4.6511628 | 0          | 0          | 0.000000   | 0          | 0          | 0          | 0          | 92.6356589 | 0          | 0          |   0.0000   |  2.7131783 | 0          |\n",
       "| NSABHC0004-53599 | 0          | 0          |  0.00000   | 0          | 0.0000000  | 0          | 29.6495957 | 0          | 0          | 0.000000   | 0          | 0          | 0          | 0          | 38.0053908 | 0          | 0          |   0.0000   | 32.3450135 | 0          |\n",
       "\n"
      ],
      "text/plain": [
       "                 Aquatic Bryophyte Chenopod Cycad Epiphyte  Fern Forb      \n",
       "NSABBS0005-58582 0       0          0.00000 0     0.3289474 0     0.1644737\n",
       "NSABBS0006-58557 0       0          0.00000 0     0.1543210 0     0.6172840\n",
       "NSABHC0001-53596 0       0          0.00000 0     0.0000000 0    26.8656716\n",
       "NSABHC0002-53597 0       0         40.46053 0     0.0000000 0    40.1315789\n",
       "NSABHC0003-53598 0       0          0.00000 0     0.0000000 0     4.6511628\n",
       "NSABHC0004-53599 0       0          0.00000 0     0.0000000 0    29.6495957\n",
       "                 Fungus Grass.tree Heath.shrub Hummock.grass NC Rush Sedge\n",
       "NSABBS0005-58582 0      0          2.138158    0             0  0    0    \n",
       "NSABBS0006-58557 0      0          0.000000    0             0  0    0    \n",
       "NSABHC0001-53596 0      0          0.000000    0             0  0    0    \n",
       "NSABHC0002-53597 0      0          0.000000    0             0  0    0    \n",
       "NSABHC0003-53598 0      0          0.000000    0             0  0    0    \n",
       "NSABHC0004-53599 0      0          0.000000    0             0  0    0    \n",
       "                 Shrub      Shrub.Mallee Tree.Mallee Tree.Palm Tussock.grass\n",
       "NSABBS0005-58582 25.9868421 0            0           103.1250   0.1644737   \n",
       "NSABBS0006-58557 17.2839506 0            0           114.9691   0.6172840   \n",
       "NSABHC0001-53596 61.5671642 0            0             0.0000  12.6865672   \n",
       "NSABHC0002-53597  0.6578947 0            0             0.0000  21.7105263   \n",
       "NSABHC0003-53598 92.6356589 0            0             0.0000   2.7131783   \n",
       "NSABHC0004-53599 38.0053908 0            0             0.0000  32.3450135   \n",
       "                 Vine\n",
       "NSABBS0005-58582 0   \n",
       "NSABBS0006-58557 0   \n",
       "NSABHC0001-53596 0   \n",
       "NSABHC0002-53597 0   \n",
       "NSABHC0003-53598 0   \n",
       "NSABHC0004-53599 0   "
      ]
     },
     "metadata": {},
     "output_type": "display_data"
    },
    {
     "data": {
      "text/plain": [
       "    Aquatic            Bryophyte          Chenopod          Cycad         \n",
       " Min.   :0.0000000   Min.   : 0.0000   Min.   :  0.00   Min.   :0.000000  \n",
       " 1st Qu.:0.0000000   1st Qu.: 0.0000   1st Qu.:  0.00   1st Qu.:0.000000  \n",
       " Median :0.0000000   Median : 0.0000   Median :  0.00   Median :0.000000  \n",
       " Mean   :0.0006053   Mean   : 0.1331   Mean   : 10.79   Mean   :0.004358  \n",
       " 3rd Qu.:0.0000000   3rd Qu.: 0.0000   3rd Qu.: 12.25   3rd Qu.:0.000000  \n",
       " Max.   :0.3952569   Max.   :66.2047   Max.   :100.00   Max.   :2.540107  \n",
       "    Epiphyte             Fern              Forb            Fungus        \n",
       " Min.   : 0.00000   Min.   : 0.0000   Min.   : 0.000   Min.   :0.000000  \n",
       " 1st Qu.: 0.00000   1st Qu.: 0.0000   1st Qu.: 1.569   1st Qu.:0.000000  \n",
       " Median : 0.00000   Median : 0.0000   Median : 5.983   Median :0.000000  \n",
       " Mean   : 0.08855   Mean   : 0.3525   Mean   :13.398   Mean   :0.004604  \n",
       " 3rd Qu.: 0.00000   3rd Qu.: 0.0000   3rd Qu.:17.319   3rd Qu.:0.000000  \n",
       " Max.   :14.28571   Max.   :54.3062   Max.   :94.268   Max.   :2.042901  \n",
       "   Grass.tree     Heath.shrub     Hummock.grass            NC          \n",
       " Min.   : 0.00   Min.   : 0.000   Min.   :  0.0000   Min.   : 0.00000  \n",
       " 1st Qu.: 0.00   1st Qu.: 0.000   1st Qu.:  0.0000   1st Qu.: 0.00000  \n",
       " Median : 0.00   Median : 0.000   Median :  0.0000   Median : 0.00000  \n",
       " Mean   : 0.46   Mean   : 1.142   Mean   :  8.7219   Mean   : 0.04686  \n",
       " 3rd Qu.: 0.00   3rd Qu.: 0.000   3rd Qu.:  0.6061   3rd Qu.: 0.00000  \n",
       " Max.   :50.18   Max.   :93.555   Max.   :183.8565   Max.   :14.09836  \n",
       "      Rush             Sedge             Shrub          Shrub.Mallee    \n",
       " Min.   : 0.0000   Min.   : 0.0000   Min.   :  0.000   Min.   : 0.0000  \n",
       " 1st Qu.: 0.0000   1st Qu.: 0.0000   1st Qu.:  2.296   1st Qu.: 0.0000  \n",
       " Median : 0.0000   Median : 0.0000   Median : 14.358   Median : 0.0000  \n",
       " Mean   : 0.1527   Mean   : 2.8579   Mean   : 24.832   Mean   : 0.5343  \n",
       " 3rd Qu.: 0.0000   3rd Qu.: 0.8929   3rd Qu.: 37.944   3rd Qu.: 0.0000  \n",
       " Max.   :12.3487   Max.   :76.2029   Max.   :139.655   Max.   :37.7863  \n",
       "  Tree.Mallee       Tree.Palm       Tussock.grass          Vine        \n",
       " Min.   : 0.000   Min.   :  0.000   Min.   :  0.000   Min.   : 0.0000  \n",
       " 1st Qu.: 0.000   1st Qu.:  0.000   1st Qu.:  1.066   1st Qu.: 0.0000  \n",
       " Median : 0.000   Median :  2.974   Median : 15.842   Median : 0.0000  \n",
       " Mean   : 3.863   Mean   : 20.984   Mean   : 28.872   Mean   : 0.6741  \n",
       " 3rd Qu.: 0.000   3rd Qu.: 37.524   3rd Qu.: 52.174   3rd Qu.: 0.0000  \n",
       " Max.   :91.979   Max.   :144.211   Max.   :116.019   Max.   :62.4561  "
      ]
     },
     "metadata": {},
     "output_type": "display_data"
    },
    {
     "name": "stderr",
     "output_type": "stream",
     "text": [
      "Warning message in if (cover_type == \"PFC\") {:\n",
      "\"the condition has length > 1 and only the first element will be used\""
     ]
    },
    {
     "data": {
      "text/html": [
       "<table>\n",
       "<thead><tr><th></th><th scope=col>Aquatic</th><th scope=col>Bryophyte</th><th scope=col>Chenopod</th><th scope=col>Cycad</th><th scope=col>Epiphyte</th><th scope=col>Fern</th><th scope=col>Forb</th><th scope=col>Fungus</th><th scope=col>Grass.tree</th><th scope=col>Heath.shrub</th><th scope=col>Hummock.grass</th><th scope=col>NC</th><th scope=col>Rush</th><th scope=col>Sedge</th><th scope=col>Shrub</th><th scope=col>Shrub.Mallee</th><th scope=col>Tree.Mallee</th><th scope=col>Tree.Palm</th><th scope=col>Tussock.grass</th><th scope=col>Vine</th></tr></thead>\n",
       "<tbody>\n",
       "\t<tr><th scope=row>NSABBS0005-58582</th><td>0 </td><td>0 </td><td> 0</td><td>0 </td><td>2 </td><td>0 </td><td> 1</td><td>0 </td><td>0 </td><td>1 </td><td>0 </td><td>0 </td><td>0 </td><td>0 </td><td> 4</td><td>0 </td><td>0 </td><td>5 </td><td> 1</td><td>0 </td></tr>\n",
       "\t<tr><th scope=row>NSABBS0006-58557</th><td>0 </td><td>0 </td><td> 0</td><td>0 </td><td>1 </td><td>0 </td><td> 2</td><td>0 </td><td>0 </td><td>0 </td><td>0 </td><td>0 </td><td>0 </td><td>0 </td><td> 5</td><td>0 </td><td>0 </td><td>5 </td><td> 3</td><td>0 </td></tr>\n",
       "\t<tr><th scope=row>NSABHC0001-53596</th><td>0 </td><td>0 </td><td> 0</td><td>0 </td><td>0 </td><td>0 </td><td> 7</td><td>0 </td><td>0 </td><td>0 </td><td>0 </td><td>0 </td><td>0 </td><td>0 </td><td>18</td><td>0 </td><td>0 </td><td>0 </td><td> 5</td><td>0 </td></tr>\n",
       "\t<tr><th scope=row>NSABHC0002-53597</th><td>0 </td><td>0 </td><td>11</td><td>0 </td><td>0 </td><td>0 </td><td> 8</td><td>0 </td><td>0 </td><td>0 </td><td>0 </td><td>0 </td><td>0 </td><td>0 </td><td> 2</td><td>0 </td><td>0 </td><td>0 </td><td> 5</td><td>0 </td></tr>\n",
       "\t<tr><th scope=row>NSABHC0003-53598</th><td>0 </td><td>0 </td><td> 0</td><td>0 </td><td>0 </td><td>0 </td><td> 2</td><td>0 </td><td>0 </td><td>0 </td><td>0 </td><td>0 </td><td>0 </td><td>0 </td><td>16</td><td>0 </td><td>0 </td><td>0 </td><td> 4</td><td>0 </td></tr>\n",
       "\t<tr><th scope=row>NSABHC0004-53599</th><td>0 </td><td>0 </td><td> 0</td><td>0 </td><td>0 </td><td>0 </td><td>18</td><td>0 </td><td>0 </td><td>0 </td><td>0 </td><td>0 </td><td>0 </td><td>0 </td><td>13</td><td>0 </td><td>0 </td><td>0 </td><td>11</td><td>0 </td></tr>\n",
       "</tbody>\n",
       "</table>\n"
      ],
      "text/latex": [
       "\\begin{tabular}{r|llllllllllllllllllll}\n",
       "  & Aquatic & Bryophyte & Chenopod & Cycad & Epiphyte & Fern & Forb & Fungus & Grass.tree & Heath.shrub & Hummock.grass & NC & Rush & Sedge & Shrub & Shrub.Mallee & Tree.Mallee & Tree.Palm & Tussock.grass & Vine\\\\\n",
       "\\hline\n",
       "\tNSABBS0005-58582 & 0  & 0  &  0 & 0  & 2  & 0  &  1 & 0  & 0  & 1  & 0  & 0  & 0  & 0  &  4 & 0  & 0  & 5  &  1 & 0 \\\\\n",
       "\tNSABBS0006-58557 & 0  & 0  &  0 & 0  & 1  & 0  &  2 & 0  & 0  & 0  & 0  & 0  & 0  & 0  &  5 & 0  & 0  & 5  &  3 & 0 \\\\\n",
       "\tNSABHC0001-53596 & 0  & 0  &  0 & 0  & 0  & 0  &  7 & 0  & 0  & 0  & 0  & 0  & 0  & 0  & 18 & 0  & 0  & 0  &  5 & 0 \\\\\n",
       "\tNSABHC0002-53597 & 0  & 0  & 11 & 0  & 0  & 0  &  8 & 0  & 0  & 0  & 0  & 0  & 0  & 0  &  2 & 0  & 0  & 0  &  5 & 0 \\\\\n",
       "\tNSABHC0003-53598 & 0  & 0  &  0 & 0  & 0  & 0  &  2 & 0  & 0  & 0  & 0  & 0  & 0  & 0  & 16 & 0  & 0  & 0  &  4 & 0 \\\\\n",
       "\tNSABHC0004-53599 & 0  & 0  &  0 & 0  & 0  & 0  & 18 & 0  & 0  & 0  & 0  & 0  & 0  & 0  & 13 & 0  & 0  & 0  & 11 & 0 \\\\\n",
       "\\end{tabular}\n"
      ],
      "text/markdown": [
       "\n",
       "| <!--/--> | Aquatic | Bryophyte | Chenopod | Cycad | Epiphyte | Fern | Forb | Fungus | Grass.tree | Heath.shrub | Hummock.grass | NC | Rush | Sedge | Shrub | Shrub.Mallee | Tree.Mallee | Tree.Palm | Tussock.grass | Vine |\n",
       "|---|---|---|---|---|---|---|---|---|---|---|---|---|---|---|---|---|---|---|---|---|\n",
       "| NSABBS0005-58582 | 0  | 0  |  0 | 0  | 2  | 0  |  1 | 0  | 0  | 1  | 0  | 0  | 0  | 0  |  4 | 0  | 0  | 5  |  1 | 0  |\n",
       "| NSABBS0006-58557 | 0  | 0  |  0 | 0  | 1  | 0  |  2 | 0  | 0  | 0  | 0  | 0  | 0  | 0  |  5 | 0  | 0  | 5  |  3 | 0  |\n",
       "| NSABHC0001-53596 | 0  | 0  |  0 | 0  | 0  | 0  |  7 | 0  | 0  | 0  | 0  | 0  | 0  | 0  | 18 | 0  | 0  | 0  |  5 | 0  |\n",
       "| NSABHC0002-53597 | 0  | 0  | 11 | 0  | 0  | 0  |  8 | 0  | 0  | 0  | 0  | 0  | 0  | 0  |  2 | 0  | 0  | 0  |  5 | 0  |\n",
       "| NSABHC0003-53598 | 0  | 0  |  0 | 0  | 0  | 0  |  2 | 0  | 0  | 0  | 0  | 0  | 0  | 0  | 16 | 0  | 0  | 0  |  4 | 0  |\n",
       "| NSABHC0004-53599 | 0  | 0  |  0 | 0  | 0  | 0  | 18 | 0  | 0  | 0  | 0  | 0  | 0  | 0  | 13 | 0  | 0  | 0  | 11 | 0  |\n",
       "\n"
      ],
      "text/plain": [
       "                 Aquatic Bryophyte Chenopod Cycad Epiphyte Fern Forb Fungus\n",
       "NSABBS0005-58582 0       0          0       0     2        0     1   0     \n",
       "NSABBS0006-58557 0       0          0       0     1        0     2   0     \n",
       "NSABHC0001-53596 0       0          0       0     0        0     7   0     \n",
       "NSABHC0002-53597 0       0         11       0     0        0     8   0     \n",
       "NSABHC0003-53598 0       0          0       0     0        0     2   0     \n",
       "NSABHC0004-53599 0       0          0       0     0        0    18   0     \n",
       "                 Grass.tree Heath.shrub Hummock.grass NC Rush Sedge Shrub\n",
       "NSABBS0005-58582 0          1           0             0  0    0      4   \n",
       "NSABBS0006-58557 0          0           0             0  0    0      5   \n",
       "NSABHC0001-53596 0          0           0             0  0    0     18   \n",
       "NSABHC0002-53597 0          0           0             0  0    0      2   \n",
       "NSABHC0003-53598 0          0           0             0  0    0     16   \n",
       "NSABHC0004-53599 0          0           0             0  0    0     13   \n",
       "                 Shrub.Mallee Tree.Mallee Tree.Palm Tussock.grass Vine\n",
       "NSABBS0005-58582 0            0           5          1            0   \n",
       "NSABBS0006-58557 0            0           5          3            0   \n",
       "NSABHC0001-53596 0            0           0          5            0   \n",
       "NSABHC0002-53597 0            0           0          5            0   \n",
       "NSABHC0003-53598 0            0           0          4            0   \n",
       "NSABHC0004-53599 0            0           0         11            0   "
      ]
     },
     "metadata": {},
     "output_type": "display_data"
    },
    {
     "data": {
      "text/plain": [
       "    Aquatic           Bryophyte          Chenopod          Cycad         \n",
       " Min.   :0.000000   Min.   :0.00000   Min.   : 0.000   Min.   :0.000000  \n",
       " 1st Qu.:0.000000   1st Qu.:0.00000   1st Qu.: 0.000   1st Qu.:0.000000  \n",
       " Median :0.000000   Median :0.00000   Median : 0.000   Median :0.000000  \n",
       " Mean   :0.001531   Mean   :0.01531   Mean   : 2.037   Mean   :0.003063  \n",
       " 3rd Qu.:0.000000   3rd Qu.:0.00000   3rd Qu.: 3.000   3rd Qu.:0.000000  \n",
       " Max.   :1.000000   Max.   :2.00000   Max.   :14.000   Max.   :1.000000  \n",
       "    Epiphyte            Fern             Forb            Fungus        \n",
       " Min.   :0.00000   Min.   :0.0000   Min.   : 0.000   Min.   :0.000000  \n",
       " 1st Qu.:0.00000   1st Qu.:0.0000   1st Qu.: 2.000   1st Qu.:0.000000  \n",
       " Median :0.00000   Median :0.0000   Median : 4.000   Median :0.000000  \n",
       " Mean   :0.09954   Mean   :0.1179   Mean   : 6.141   Mean   :0.007657  \n",
       " 3rd Qu.:0.00000   3rd Qu.:0.0000   3rd Qu.: 8.000   3rd Qu.:0.000000  \n",
       " Max.   :3.00000   Max.   :3.0000   Max.   :32.000   Max.   :1.000000  \n",
       "   Grass.tree       Heath.shrub    Hummock.grass          NC         \n",
       " Min.   :0.00000   Min.   : 0.00   Min.   :0.0000   Min.   :0.00000  \n",
       " 1st Qu.:0.00000   1st Qu.: 0.00   1st Qu.:0.0000   1st Qu.:0.00000  \n",
       " Median :0.00000   Median : 0.00   Median :0.0000   Median :0.00000  \n",
       " Mean   :0.03216   Mean   : 0.34   Mean   :0.3109   Mean   :0.03369  \n",
       " 3rd Qu.:0.00000   3rd Qu.: 0.00   3rd Qu.:1.0000   3rd Qu.:0.00000  \n",
       " Max.   :1.00000   Max.   :19.00   Max.   :3.0000   Max.   :2.00000  \n",
       "      Rush             Sedge            Shrub        Shrub.Mallee   \n",
       " Min.   :0.00000   Min.   : 0.000   Min.   : 0.00   Min.   :0.0000  \n",
       " 1st Qu.:0.00000   1st Qu.: 0.000   1st Qu.: 2.00   1st Qu.:0.0000  \n",
       " Median :0.00000   Median : 0.000   Median : 5.00   Median :0.0000  \n",
       " Mean   :0.09188   Mean   : 0.781   Mean   : 6.25   Mean   :0.1593  \n",
       " 3rd Qu.:0.00000   3rd Qu.: 1.000   3rd Qu.: 9.00   3rd Qu.:0.0000  \n",
       " Max.   :4.00000   Max.   :14.000   Max.   :39.00   Max.   :5.0000  \n",
       "  Tree.Mallee       Tree.Palm      Tussock.grass         Vine        \n",
       " Min.   :0.0000   Min.   : 0.000   Min.   : 0.000   Min.   : 0.0000  \n",
       " 1st Qu.:0.0000   1st Qu.: 0.000   1st Qu.: 1.000   1st Qu.: 0.0000  \n",
       " Median :0.0000   Median : 1.000   Median : 4.000   Median : 0.0000  \n",
       " Mean   :0.2802   Mean   : 1.933   Mean   : 4.496   Mean   : 0.3844  \n",
       " 3rd Qu.:0.0000   3rd Qu.: 3.000   3rd Qu.: 7.000   3rd Qu.: 0.0000  \n",
       " Max.   :5.0000   Max.   :17.000   Max.   :20.000   Max.   :12.0000  "
      ]
     },
     "metadata": {},
     "output_type": "display_data"
    }
   ],
   "source": [
    "# ====================================================\n",
    "# PLANT GROWTH FORM DATA: 'growth_form_table' function\n",
    "# ====================================================\n",
    "\n",
    "# NVIS Plant Growth Forms Occurrence Matrix,' Presence/Absence' scoring metric\n",
    "# ============================================================================\n",
    "AP.data.PGF.PA = growth_form_table(AP.data$veg.PI, m_kind=\"PA\")\n",
    "class(AP.data.PGF.PA)\n",
    "dim(AP.data.PGF.PA)\n",
    "head(AP.data.PGF.PA)\n",
    "summary(AP.data.PGF.PA)\n",
    "\n",
    "# NVIS Plant Growth Forms Occurrence Matrix, 'Percentage Cover' scoring metric with 'Projected Foliage Cover' option\n",
    "# ==================================================================================================================\n",
    "AP.data.PGF.PC.PFC = growth_form_table(AP.data$veg.PI, m_kind=\"percent_cover\", cover_type=\"PFC\")\n",
    "#class(AP.data.PGF.PC.PFC)\n",
    "#dim(AP.data.PGF.PC.PFC)\n",
    "head(AP.data.PGF.PC.PFC)\n",
    "summary(AP.data.PGF.PC.PFC)\n",
    "\n",
    "# NVIS Plant Growth Forms Occurrence Matrix, 'Percentage Cover' scoring metric with 'Opaque Canopy Cover' option\n",
    "# ==============================================================================================================\n",
    "AP.data.PGF.PC = growth_form_table(AP.data$veg.PI, m_kind=\"percent_cover\", cover_type=\"OCC\")\n",
    "#class(AP.data.PGF.PC)\n",
    "#dim(AP.data.PGF.PC)\n",
    "head(AP.data.PGF.PC)\n",
    "summary(AP.data.PGF.PC)\n",
    "\n",
    "# NVIS Plant Growth Forms Occurrence Matrix, 'Species Richness' scoring metric\n",
    "# ============================================================================\n",
    "AP.data.PGF.SR = growth_form_table(AP.data$veg.PI, m_kind=\"richness\")\n",
    "#class(AP.data.PGF.SR)\n",
    "#dim(AP.data.PGF.SR)\n",
    "head(AP.data.PGF.SR)\n",
    "summary(AP.data.PGF.SR)"
   ]
  },
  {
   "cell_type": "markdown",
   "metadata": {},
   "source": [
    "### Vegetation Cover data by Growth Form and/or Height: `single_cover_value` function\n",
    "\n",
    "The `single_cover_value` function in the `auplotsR` package calculates Vegetation Cover Values for particular Growth Form Types and/or Height Thresholds per Site from Raw AusPlots Vegetation Point Intercept data. The `growth_form_table` function can also be used to calculate Cover Values for all Vegetation Growth Form Types; however, `single_cover_value` can perform these computations for:\n",
    "* Particular vegetation growth form types (i.e. for individual growth forms or any combination of growth form types).\n",
    "* Vegetation higher that a specified height threshold\n",
    "* Vegetation with any combination of growth form types and minimum height\n",
    "\n",
    "Specifically `single_cover_value` takes the following inputs via its arguments:\n",
    "* `veg.PI`: Raw Vegetation Point Intercept data from AusPlots. A veg.PI data frame generated by the `get_ausplots` function (see above).\n",
    "* `in_canopy_sky`: Method used to calculate Cover. A logical value that indicates whether to use in ‘canopy sky hits’ (i.e. calculate ‘opaque canopy cover’) or ‘projected foliage cover’. The default value, ‘FALSE’, calculates ‘projected foliage cover’. To calculate ‘opaque canopy cover’ the argument must be set to ‘TRUE’.\n",
    "* `by.growth_form`: Whether to calculate Cover for a Subset by Growth Form type. A logical value that indicates whether to subset by growth form type. The default, ‘TRUE’, calculates cover for the growth form types specified in the argument ‘my.growth_forms’ (see next). If set to ‘FALSE’, cover calculations are conducted only for the vegetation sub-set by a provided Minimum Height Threshold.\n",
    "* `my.growth_forms`: Growth Form Types used to Subset Data used for the Cover Calculations. A character vector specifying the growth form types to subset the data used for the cover calculations. Any combination of growth form types can be used. The default, ‘c(\"Tree/Palm\", \"Tree Mallee\")’, is set to represent trees. It applies only when ‘by.growth_form=TRUE’; otherwise, this argument is ignored and only height sub-setting is applied.\n",
    "* `min.height`: Minimum Height Threshold used to Subset Data used for the Cover Calculations. A numeric value indicating the minimum height (in metres) of the vegetation to be included in the subset of the data used for the cover calculations. A height must be always provided. The default, ‘5’, is set up for a cover of trees. It can be set to ‘0’ to ignore height and thus include any plant hit. If set to a ‘negative number’, it will return nonsensical output.\n",
    "\n",
    "The `single_cover_value` function returns a data frame with two columns. The data frame rows correspond to unique sites, while the two columns correspond to the unique site and the percentage cover for the requested subset of vegetation (e.g. “Tree/Palm” higher than '5' metres).\n",
    " \n",
    "When `by.growth_form = FALSE` and `min.height = 0`, the output is nearly the same as the green cover fraction returned by the `fractional_cover` function (see above). The values can differ because ‘fractional_cover’ applies a ‘height rule’ in which the highest intercept at a given point is taken, whereas ‘single_cover_value’ finds any green cover. For example, when dead trees overhang green understorey the values returned by both functions can differ. For general cover purposes, using ‘fractional_cover’ is recommended.  ‘single_cover_value’ is best suited to calculate cover subset by height and growth form.\n",
    "\n",
    "\n",
    "Examples of the use of the `single_cover_value` function to compute Cover Values for particular Vegetation Growth Form Types and/or Height Thresholds per Site are presented below. Examples of how to manipulate, display, and use the data generated by the `single_cover_value` function can be found in TERN’s DSDP [‘ECOSYSTEM SURVEILLANCE (AusPlots) TUTORIAL: UNDERSTANDING AND USING THE ‘ausplotsR’ PACKAGE AND AusPlots DATA’]( https://github.com/ternaustralia/TERN-Data-Skills/tree/master/EcosystemSurveillance_PlotData/AusPlots_Tutorial) Tutorial. Cover values (for particular vegetation growth form types and/or height thersholds) are computed for the full set of vegetation point intersect data currently available at AusPlots. The list of data frames containing information for all currently available AusPlots sites (i.e. the 'AP.data' list) was previously created using the `get_ausplots` function (see above). The resulting cover values data frames can be enriched with additional information as seen above for the species_table function in the 'Manipulating AusPlots data II: Merging data frames' section. The examples presented below cover different scenarios for sub-setting the input vegetation point intercept data frame prior to the calculation of the required vegetation cover values. Specifically, we explore how compute cover values: (1) sub-setting only by Height, (2) sub-setting only by Taxonomy, and (3) sub-setting by both Height and Taxonomy. We Combine the outputs of a single type (i.e. Height or Growth Form) into a Single Data Frame."
   ]
  },
  {
   "cell_type": "code",
   "execution_count": 19,
   "metadata": {},
   "outputs": [
    {
     "data": {
      "text/html": [
       "'data.frame'"
      ],
      "text/latex": [
       "'data.frame'"
      ],
      "text/markdown": [
       "'data.frame'"
      ],
      "text/plain": [
       "[1] \"data.frame\""
      ]
     },
     "metadata": {},
     "output_type": "display_data"
    },
    {
     "data": {
      "text/html": [
       "<ol class=list-inline>\n",
       "\t<li>653</li>\n",
       "\t<li>2</li>\n",
       "</ol>\n"
      ],
      "text/latex": [
       "\\begin{enumerate*}\n",
       "\\item 653\n",
       "\\item 2\n",
       "\\end{enumerate*}\n"
      ],
      "text/markdown": [
       "1. 653\n",
       "2. 2\n",
       "\n",
       "\n"
      ],
      "text/plain": [
       "[1] 653   2"
      ]
     },
     "metadata": {},
     "output_type": "display_data"
    },
    {
     "data": {
      "text/html": [
       "<table>\n",
       "<thead><tr><th scope=col>site_unique</th><th scope=col>percentCover</th></tr></thead>\n",
       "<tbody>\n",
       "\t<tr><td>NSABBS0005-58582</td><td>59.50           </td></tr>\n",
       "\t<tr><td>NSABBS0006-58557</td><td>64.06           </td></tr>\n",
       "\t<tr><td>NSABHC0001-53596</td><td>26.51           </td></tr>\n",
       "\t<tr><td>NSABHC0002-53597</td><td>30.10           </td></tr>\n",
       "\t<tr><td>NSABHC0003-53598</td><td>25.29           </td></tr>\n",
       "\t<tr><td>NSABHC0004-53599</td><td>36.73           </td></tr>\n",
       "</tbody>\n",
       "</table>\n"
      ],
      "text/latex": [
       "\\begin{tabular}{r|ll}\n",
       " site\\_unique & percentCover\\\\\n",
       "\\hline\n",
       "\t NSABBS0005-58582 & 59.50           \\\\\n",
       "\t NSABBS0006-58557 & 64.06           \\\\\n",
       "\t NSABHC0001-53596 & 26.51           \\\\\n",
       "\t NSABHC0002-53597 & 30.10           \\\\\n",
       "\t NSABHC0003-53598 & 25.29           \\\\\n",
       "\t NSABHC0004-53599 & 36.73           \\\\\n",
       "\\end{tabular}\n"
      ],
      "text/markdown": [
       "\n",
       "| site_unique | percentCover |\n",
       "|---|---|\n",
       "| NSABBS0005-58582 | 59.50            |\n",
       "| NSABBS0006-58557 | 64.06            |\n",
       "| NSABHC0001-53596 | 26.51            |\n",
       "| NSABHC0002-53597 | 30.10            |\n",
       "| NSABHC0003-53598 | 25.29            |\n",
       "| NSABHC0004-53599 | 36.73            |\n",
       "\n"
      ],
      "text/plain": [
       "  site_unique      percentCover\n",
       "1 NSABBS0005-58582 59.50       \n",
       "2 NSABBS0006-58557 64.06       \n",
       "3 NSABHC0001-53596 26.51       \n",
       "4 NSABHC0002-53597 30.10       \n",
       "5 NSABHC0003-53598 25.29       \n",
       "6 NSABHC0004-53599 36.73       "
      ]
     },
     "metadata": {},
     "output_type": "display_data"
    },
    {
     "data": {
      "text/plain": [
       "           site_unique   percentCover  \n",
       " NSABBS0005-58582:  1   Min.   : 0.10  \n",
       " NSABBS0006-58557:  1   1st Qu.:23.86  \n",
       " NSABHC0001-53596:  1   Median :38.81  \n",
       " NSABHC0002-53597:  1   Mean   :41.52  \n",
       " NSABHC0003-53598:  1   3rd Qu.:56.53  \n",
       " NSABHC0004-53599:  1   Max.   :98.02  \n",
       " (Other)         :647                  "
      ]
     },
     "metadata": {},
     "output_type": "display_data"
    },
    {
     "data": {
      "text/html": [
       "<table>\n",
       "<thead><tr><th scope=col>site_unique</th><th scope=col>percentCover</th></tr></thead>\n",
       "<tbody>\n",
       "\t<tr><td>NSABBS0005-58582</td><td>59.50           </td></tr>\n",
       "\t<tr><td>NSABBS0006-58557</td><td>64.06           </td></tr>\n",
       "\t<tr><td>NSABHC0001-53596</td><td>26.51           </td></tr>\n",
       "\t<tr><td>NSABHC0002-53597</td><td>30.10           </td></tr>\n",
       "\t<tr><td>NSABHC0003-53598</td><td>25.29           </td></tr>\n",
       "\t<tr><td>NSABHC0004-53599</td><td>36.73           </td></tr>\n",
       "</tbody>\n",
       "</table>\n"
      ],
      "text/latex": [
       "\\begin{tabular}{r|ll}\n",
       " site\\_unique & percentCover\\\\\n",
       "\\hline\n",
       "\t NSABBS0005-58582 & 59.50           \\\\\n",
       "\t NSABBS0006-58557 & 64.06           \\\\\n",
       "\t NSABHC0001-53596 & 26.51           \\\\\n",
       "\t NSABHC0002-53597 & 30.10           \\\\\n",
       "\t NSABHC0003-53598 & 25.29           \\\\\n",
       "\t NSABHC0004-53599 & 36.73           \\\\\n",
       "\\end{tabular}\n"
      ],
      "text/markdown": [
       "\n",
       "| site_unique | percentCover |\n",
       "|---|---|\n",
       "| NSABBS0005-58582 | 59.50            |\n",
       "| NSABBS0006-58557 | 64.06            |\n",
       "| NSABHC0001-53596 | 26.51            |\n",
       "| NSABHC0002-53597 | 30.10            |\n",
       "| NSABHC0003-53598 | 25.29            |\n",
       "| NSABHC0004-53599 | 36.73            |\n",
       "\n"
      ],
      "text/plain": [
       "  site_unique      percentCover\n",
       "1 NSABBS0005-58582 59.50       \n",
       "2 NSABBS0006-58557 64.06       \n",
       "3 NSABHC0001-53596 26.51       \n",
       "4 NSABHC0002-53597 30.10       \n",
       "5 NSABHC0003-53598 25.29       \n",
       "6 NSABHC0004-53599 36.73       "
      ]
     },
     "metadata": {},
     "output_type": "display_data"
    },
    {
     "data": {
      "text/plain": [
       "           site_unique   percentCover  \n",
       " NSABBS0005-58582:  1   Min.   : 0.10  \n",
       " NSABBS0006-58557:  1   1st Qu.:23.86  \n",
       " NSABHC0001-53596:  1   Median :38.81  \n",
       " NSABHC0002-53597:  1   Mean   :41.52  \n",
       " NSABHC0003-53598:  1   3rd Qu.:56.53  \n",
       " NSABHC0004-53599:  1   Max.   :98.02  \n",
       " (Other)         :647                  "
      ]
     },
     "metadata": {},
     "output_type": "display_data"
    },
    {
     "data": {
      "text/html": [
       "<table>\n",
       "<thead><tr><th scope=col>site_unique</th><th scope=col>VCF.gt0</th><th scope=col>VCF.gt2</th><th scope=col>VCG.0to2</th></tr></thead>\n",
       "<tbody>\n",
       "\t<tr><td>NSABBS0005-58582</td><td>59.50           </td><td>51.88           </td><td> 7.62           </td></tr>\n",
       "\t<tr><td>NSABBS0006-58557</td><td>64.06           </td><td>59.70           </td><td> 4.36           </td></tr>\n",
       "\t<tr><td>NSABHC0001-53596</td><td>26.51           </td><td> 0.00           </td><td>26.51           </td></tr>\n",
       "\t<tr><td>NSABHC0002-53597</td><td>30.10           </td><td> 0.00           </td><td>30.10           </td></tr>\n",
       "\t<tr><td>NSABHC0003-53598</td><td>25.29           </td><td> 0.00           </td><td>25.29           </td></tr>\n",
       "\t<tr><td>NSABHC0004-53599</td><td>36.73           </td><td> 0.00           </td><td>36.73           </td></tr>\n",
       "</tbody>\n",
       "</table>\n"
      ],
      "text/latex": [
       "\\begin{tabular}{r|llll}\n",
       " site\\_unique & VCF.gt0 & VCF.gt2 & VCG.0to2\\\\\n",
       "\\hline\n",
       "\t NSABBS0005-58582 & 59.50            & 51.88            &  7.62           \\\\\n",
       "\t NSABBS0006-58557 & 64.06            & 59.70            &  4.36           \\\\\n",
       "\t NSABHC0001-53596 & 26.51            &  0.00            & 26.51           \\\\\n",
       "\t NSABHC0002-53597 & 30.10            &  0.00            & 30.10           \\\\\n",
       "\t NSABHC0003-53598 & 25.29            &  0.00            & 25.29           \\\\\n",
       "\t NSABHC0004-53599 & 36.73            &  0.00            & 36.73           \\\\\n",
       "\\end{tabular}\n"
      ],
      "text/markdown": [
       "\n",
       "| site_unique | VCF.gt0 | VCF.gt2 | VCG.0to2 |\n",
       "|---|---|---|---|\n",
       "| NSABBS0005-58582 | 59.50            | 51.88            |  7.62            |\n",
       "| NSABBS0006-58557 | 64.06            | 59.70            |  4.36            |\n",
       "| NSABHC0001-53596 | 26.51            |  0.00            | 26.51            |\n",
       "| NSABHC0002-53597 | 30.10            |  0.00            | 30.10            |\n",
       "| NSABHC0003-53598 | 25.29            |  0.00            | 25.29            |\n",
       "| NSABHC0004-53599 | 36.73            |  0.00            | 36.73            |\n",
       "\n"
      ],
      "text/plain": [
       "  site_unique      VCF.gt0 VCF.gt2 VCG.0to2\n",
       "1 NSABBS0005-58582 59.50   51.88    7.62   \n",
       "2 NSABBS0006-58557 64.06   59.70    4.36   \n",
       "3 NSABHC0001-53596 26.51    0.00   26.51   \n",
       "4 NSABHC0002-53597 30.10    0.00   30.10   \n",
       "5 NSABHC0003-53598 25.29    0.00   25.29   \n",
       "6 NSABHC0004-53599 36.73    0.00   36.73   "
      ]
     },
     "metadata": {},
     "output_type": "display_data"
    },
    {
     "data": {
      "text/plain": [
       "           site_unique     VCF.gt0         VCF.gt2         VCG.0to2    \n",
       " NSABBS0005-58582:  1   Min.   : 0.10   Min.   : 0.00   Min.   : 0.10  \n",
       " NSABBS0006-58557:  1   1st Qu.:23.86   1st Qu.: 0.20   1st Qu.:13.17  \n",
       " NSABHC0001-53596:  1   Median :38.81   Median : 8.00   Median :22.97  \n",
       " NSABHC0002-53597:  1   Mean   :41.52   Mean   :14.37   Mean   :27.15  \n",
       " NSABHC0003-53598:  1   3rd Qu.:56.53   3rd Qu.:23.07   3rd Qu.:38.20  \n",
       " NSABHC0004-53599:  1   Max.   :98.02   Max.   :91.09   Max.   :98.02  \n",
       " (Other)         :647                                                  "
      ]
     },
     "metadata": {},
     "output_type": "display_data"
    },
    {
     "data": {
      "text/html": [
       "<table>\n",
       "<thead><tr><th scope=col>site_unique</th><th scope=col>percentCover</th></tr></thead>\n",
       "<tbody>\n",
       "\t<tr><td>NSABBS0005-58582</td><td>49.50           </td></tr>\n",
       "\t<tr><td>NSABBS0006-58557</td><td>58.81           </td></tr>\n",
       "\t<tr><td>NSABHC0001-53596</td><td> 0.00           </td></tr>\n",
       "\t<tr><td>NSABHC0002-53597</td><td> 0.00           </td></tr>\n",
       "\t<tr><td>NSABHC0003-53598</td><td> 0.00           </td></tr>\n",
       "\t<tr><td>NSABHC0004-53599</td><td> 0.00           </td></tr>\n",
       "</tbody>\n",
       "</table>\n"
      ],
      "text/latex": [
       "\\begin{tabular}{r|ll}\n",
       " site\\_unique & percentCover\\\\\n",
       "\\hline\n",
       "\t NSABBS0005-58582 & 49.50           \\\\\n",
       "\t NSABBS0006-58557 & 58.81           \\\\\n",
       "\t NSABHC0001-53596 &  0.00           \\\\\n",
       "\t NSABHC0002-53597 &  0.00           \\\\\n",
       "\t NSABHC0003-53598 &  0.00           \\\\\n",
       "\t NSABHC0004-53599 &  0.00           \\\\\n",
       "\\end{tabular}\n"
      ],
      "text/markdown": [
       "\n",
       "| site_unique | percentCover |\n",
       "|---|---|\n",
       "| NSABBS0005-58582 | 49.50            |\n",
       "| NSABBS0006-58557 | 58.81            |\n",
       "| NSABHC0001-53596 |  0.00            |\n",
       "| NSABHC0002-53597 |  0.00            |\n",
       "| NSABHC0003-53598 |  0.00            |\n",
       "| NSABHC0004-53599 |  0.00            |\n",
       "\n"
      ],
      "text/plain": [
       "  site_unique      percentCover\n",
       "1 NSABBS0005-58582 49.50       \n",
       "2 NSABBS0006-58557 58.81       \n",
       "3 NSABHC0001-53596  0.00       \n",
       "4 NSABHC0002-53597  0.00       \n",
       "5 NSABHC0003-53598  0.00       \n",
       "6 NSABHC0004-53599  0.00       "
      ]
     },
     "metadata": {},
     "output_type": "display_data"
    },
    {
     "data": {
      "text/plain": [
       "           site_unique   percentCover  \n",
       " NSABBS0005-58582:  1   Min.   : 0.00  \n",
       " NSABBS0006-58557:  1   1st Qu.: 0.00  \n",
       " NSABHC0001-53596:  1   Median : 3.27  \n",
       " NSABHC0002-53597:  1   Mean   :11.60  \n",
       " NSABHC0003-53598:  1   3rd Qu.:17.92  \n",
       " NSABHC0004-53599:  1   Max.   :79.54  \n",
       " (Other)         :647                  "
      ]
     },
     "metadata": {},
     "output_type": "display_data"
    },
    {
     "data": {
      "text/html": [
       "<table>\n",
       "<thead><tr><th scope=col>site_unique</th><th scope=col>percentCover</th></tr></thead>\n",
       "<tbody>\n",
       "\t<tr><td>NSABBS0005-58582</td><td> 0.10           </td></tr>\n",
       "\t<tr><td>NSABBS0006-58557</td><td> 0.40           </td></tr>\n",
       "\t<tr><td>NSABHC0001-53596</td><td> 3.36           </td></tr>\n",
       "\t<tr><td>NSABHC0002-53597</td><td> 6.53           </td></tr>\n",
       "\t<tr><td>NSABHC0003-53598</td><td> 0.69           </td></tr>\n",
       "\t<tr><td>NSABHC0004-53599</td><td>11.88           </td></tr>\n",
       "</tbody>\n",
       "</table>\n"
      ],
      "text/latex": [
       "\\begin{tabular}{r|ll}\n",
       " site\\_unique & percentCover\\\\\n",
       "\\hline\n",
       "\t NSABBS0005-58582 &  0.10           \\\\\n",
       "\t NSABBS0006-58557 &  0.40           \\\\\n",
       "\t NSABHC0001-53596 &  3.36           \\\\\n",
       "\t NSABHC0002-53597 &  6.53           \\\\\n",
       "\t NSABHC0003-53598 &  0.69           \\\\\n",
       "\t NSABHC0004-53599 & 11.88           \\\\\n",
       "\\end{tabular}\n"
      ],
      "text/markdown": [
       "\n",
       "| site_unique | percentCover |\n",
       "|---|---|\n",
       "| NSABBS0005-58582 |  0.10            |\n",
       "| NSABBS0006-58557 |  0.40            |\n",
       "| NSABHC0001-53596 |  3.36            |\n",
       "| NSABHC0002-53597 |  6.53            |\n",
       "| NSABHC0003-53598 |  0.69            |\n",
       "| NSABHC0004-53599 | 11.88            |\n",
       "\n"
      ],
      "text/plain": [
       "  site_unique      percentCover\n",
       "1 NSABBS0005-58582  0.10       \n",
       "2 NSABBS0006-58557  0.40       \n",
       "3 NSABHC0001-53596  3.36       \n",
       "4 NSABHC0002-53597  6.53       \n",
       "5 NSABHC0003-53598  0.69       \n",
       "6 NSABHC0004-53599 11.88       "
      ]
     },
     "metadata": {},
     "output_type": "display_data"
    },
    {
     "data": {
      "text/plain": [
       "           site_unique   percentCover  \n",
       " NSABBS0005-58582:  1   Min.   : 0.00  \n",
       " NSABBS0006-58557:  1   1st Qu.: 0.69  \n",
       " NSABHC0001-53596:  1   Median : 7.52  \n",
       " NSABHC0002-53597:  1   Mean   :15.45  \n",
       " NSABHC0003-53598:  1   3rd Qu.:25.94  \n",
       " NSABHC0004-53599:  1   Max.   :88.71  \n",
       " (Other)         :647                  "
      ]
     },
     "metadata": {},
     "output_type": "display_data"
    },
    {
     "data": {
      "text/html": [
       "<table>\n",
       "<thead><tr><th scope=col>site_unique</th><th scope=col>VCF.trees</th><th scope=col>VCF.grass</th></tr></thead>\n",
       "<tbody>\n",
       "\t<tr><td>NSABBS0005-58582</td><td>49.50           </td><td> 0.10           </td></tr>\n",
       "\t<tr><td>NSABBS0006-58557</td><td>58.81           </td><td> 0.40           </td></tr>\n",
       "\t<tr><td>NSABHC0001-53596</td><td> 0.00           </td><td> 3.36           </td></tr>\n",
       "\t<tr><td>NSABHC0002-53597</td><td> 0.00           </td><td> 6.53           </td></tr>\n",
       "\t<tr><td>NSABHC0003-53598</td><td> 0.00           </td><td> 0.69           </td></tr>\n",
       "\t<tr><td>NSABHC0004-53599</td><td> 0.00           </td><td>11.88           </td></tr>\n",
       "</tbody>\n",
       "</table>\n"
      ],
      "text/latex": [
       "\\begin{tabular}{r|lll}\n",
       " site\\_unique & VCF.trees & VCF.grass\\\\\n",
       "\\hline\n",
       "\t NSABBS0005-58582 & 49.50            &  0.10           \\\\\n",
       "\t NSABBS0006-58557 & 58.81            &  0.40           \\\\\n",
       "\t NSABHC0001-53596 &  0.00            &  3.36           \\\\\n",
       "\t NSABHC0002-53597 &  0.00            &  6.53           \\\\\n",
       "\t NSABHC0003-53598 &  0.00            &  0.69           \\\\\n",
       "\t NSABHC0004-53599 &  0.00            & 11.88           \\\\\n",
       "\\end{tabular}\n"
      ],
      "text/markdown": [
       "\n",
       "| site_unique | VCF.trees | VCF.grass |\n",
       "|---|---|---|\n",
       "| NSABBS0005-58582 | 49.50            |  0.10            |\n",
       "| NSABBS0006-58557 | 58.81            |  0.40            |\n",
       "| NSABHC0001-53596 |  0.00            |  3.36            |\n",
       "| NSABHC0002-53597 |  0.00            |  6.53            |\n",
       "| NSABHC0003-53598 |  0.00            |  0.69            |\n",
       "| NSABHC0004-53599 |  0.00            | 11.88            |\n",
       "\n"
      ],
      "text/plain": [
       "  site_unique      VCF.trees VCF.grass\n",
       "1 NSABBS0005-58582 49.50      0.10    \n",
       "2 NSABBS0006-58557 58.81      0.40    \n",
       "3 NSABHC0001-53596  0.00      3.36    \n",
       "4 NSABHC0002-53597  0.00      6.53    \n",
       "5 NSABHC0003-53598  0.00      0.69    \n",
       "6 NSABHC0004-53599  0.00     11.88    "
      ]
     },
     "metadata": {},
     "output_type": "display_data"
    },
    {
     "data": {
      "text/plain": [
       "           site_unique    VCF.trees       VCF.grass    \n",
       " NSABBS0005-58582:  1   Min.   : 0.00   Min.   : 0.00  \n",
       " NSABBS0006-58557:  1   1st Qu.: 0.00   1st Qu.: 0.69  \n",
       " NSABHC0001-53596:  1   Median : 3.27   Median : 7.52  \n",
       " NSABHC0002-53597:  1   Mean   :11.60   Mean   :15.45  \n",
       " NSABHC0003-53598:  1   3rd Qu.:17.92   3rd Qu.:25.94  \n",
       " NSABHC0004-53599:  1   Max.   :79.54   Max.   :88.71  \n",
       " (Other)         :647                                  "
      ]
     },
     "metadata": {},
     "output_type": "display_data"
    },
    {
     "data": {
      "text/html": [
       "<table>\n",
       "<thead><tr><th scope=col>site_unique</th><th scope=col>percentCover</th></tr></thead>\n",
       "<tbody>\n",
       "\t<tr><td>NSABBS0005-58582</td><td>46.24           </td></tr>\n",
       "\t<tr><td>NSABBS0006-58557</td><td>55.45           </td></tr>\n",
       "\t<tr><td>NSABHC0001-53596</td><td> 0.00           </td></tr>\n",
       "\t<tr><td>NSABHC0002-53597</td><td> 0.00           </td></tr>\n",
       "\t<tr><td>NSABHC0003-53598</td><td> 0.00           </td></tr>\n",
       "\t<tr><td>NSABHC0004-53599</td><td> 0.00           </td></tr>\n",
       "</tbody>\n",
       "</table>\n"
      ],
      "text/latex": [
       "\\begin{tabular}{r|ll}\n",
       " site\\_unique & percentCover\\\\\n",
       "\\hline\n",
       "\t NSABBS0005-58582 & 46.24           \\\\\n",
       "\t NSABBS0006-58557 & 55.45           \\\\\n",
       "\t NSABHC0001-53596 &  0.00           \\\\\n",
       "\t NSABHC0002-53597 &  0.00           \\\\\n",
       "\t NSABHC0003-53598 &  0.00           \\\\\n",
       "\t NSABHC0004-53599 &  0.00           \\\\\n",
       "\\end{tabular}\n"
      ],
      "text/markdown": [
       "\n",
       "| site_unique | percentCover |\n",
       "|---|---|\n",
       "| NSABBS0005-58582 | 46.24            |\n",
       "| NSABBS0006-58557 | 55.45            |\n",
       "| NSABHC0001-53596 |  0.00            |\n",
       "| NSABHC0002-53597 |  0.00            |\n",
       "| NSABHC0003-53598 |  0.00            |\n",
       "| NSABHC0004-53599 |  0.00            |\n",
       "\n"
      ],
      "text/plain": [
       "  site_unique      percentCover\n",
       "1 NSABBS0005-58582 46.24       \n",
       "2 NSABBS0006-58557 55.45       \n",
       "3 NSABHC0001-53596  0.00       \n",
       "4 NSABHC0002-53597  0.00       \n",
       "5 NSABHC0003-53598  0.00       \n",
       "6 NSABHC0004-53599  0.00       "
      ]
     },
     "metadata": {},
     "output_type": "display_data"
    },
    {
     "data": {
      "text/plain": [
       "           site_unique   percentCover   \n",
       " NSABBS0005-58582:  1   Min.   : 0.000  \n",
       " NSABBS0006-58557:  1   1st Qu.: 0.000  \n",
       " NSABHC0001-53596:  1   Median : 0.590  \n",
       " NSABHC0002-53597:  1   Mean   : 8.461  \n",
       " NSABHC0003-53598:  1   3rd Qu.:10.400  \n",
       " NSABHC0004-53599:  1   Max.   :70.000  \n",
       " (Other)         :647                   "
      ]
     },
     "metadata": {},
     "output_type": "display_data"
    }
   ],
   "source": [
    "# ====================================================\n",
    "# VEGETATION COVER DATA: 'single_cover_value' function\n",
    "# ====================================================\n",
    "\n",
    "# Vegetation Cover data, sub-setting only by Height\n",
    "# =================================================\n",
    "\n",
    "# Vegetation Cover of any Growth Form > 0m\n",
    "# ----------------------------------------\n",
    "AP.data.VC.gt0 = single_cover_value(AP.data$veg.PI, by.growth_form=FALSE, min.height=0)\n",
    "class(AP.data.VC.gt0)\n",
    "dim(AP.data.VC.gt0)\n",
    "head(AP.data.VC.gt0)\n",
    "summary(AP.data.VC.gt0)\n",
    "\n",
    "# Vegetation Cover of any Growth Form > 2m\n",
    "# ----------------------------------------\n",
    "AP.data.VC.gt2 = single_cover_value(AP.data$veg.PI, by.growth_form=FALSE, min.height=2)\n",
    "#class(AP.data.VC.gt0)\n",
    "#dim(AP.data.VC.gt0)\n",
    "head(AP.data.VC.gt0)\n",
    "summary(AP.data.VC.gt0)\n",
    "\n",
    "# Results (> 0m, > 2m, and 0 to 2m) combined in a single Data Frame\n",
    "# -----------------------------------------------------------------\n",
    "AP.data.VC.Height = data.frame(site_unique=AP.data.VC.gt0$site_unique, \n",
    "                               VCF.gt0=AP.data.VC.gt0$percentCover, \n",
    "                               VCF.gt2=AP.data.VC.gt2$percentCover, \n",
    "                               VCG.0to2=(AP.data.VC.gt0$percentCover-AP.data.VC.gt2$percentCover))\n",
    "head(AP.data.VC.Height)\n",
    "summary(AP.data.VC.Height)\n",
    "\n",
    "\n",
    "# Vegetation Cover data, sub-setting only by Taxonomy\n",
    "# ===================================================\n",
    "\n",
    "# Trees (my.growth_forms=c(\"Tree/Palm\", \"Tree Mallee\"), which is the default)\n",
    "# ---------------------------------------------------------------------------\n",
    "AP.data.VC.trees = single_cover_value(AP.data$veg.PI, min.height=0)\n",
    "#class(AP.data.VC.trees)\n",
    "#dim(AP.data.VC.trees)\n",
    "head(AP.data.VC.trees)\n",
    "summary(AP.data.VC.trees)\n",
    "\n",
    "# Grasses (my.growth_forms=c(\"Hummock.grass\", \"Tussock.grass\"))\n",
    "# ------------------------------------------------------------------\n",
    "AP.data.VC.grass = single_cover_value(AP.data$veg.PI, my.growth_forms=c(\"Hummock grass\", \"Tussock grass\"), min.height=0)\n",
    "#class(AP.data.VC.grass)\n",
    "#dim(AP.data.VC.grass)\n",
    "head(AP.data.VC.grass)\n",
    "summary(AP.data.VC.grass)\n",
    "\n",
    "# Results (trees & grass) combined in a single Data Frame\n",
    "# -----------------------------------------------------------------\n",
    "AP.data.VC.TreesGrass = data.frame(site_unique=AP.data.VC.trees$site_unique,\n",
    "                                   VCF.trees=AP.data.VC.trees$percentCover,\n",
    "\t\t\t\t\t\t\t\t   VCF.grass=AP.data.VC.grass$percentCover)\n",
    "head(AP.data.VC.TreesGrass)\n",
    "summary(AP.data.VC.TreesGrass)\n",
    "\n",
    "\n",
    "# Vegetation Cover data, sub-setting by both Height and Taxonomy\n",
    "# ==============================================================\n",
    "# Trees (my.growth_forms=c(\"Tree/Palm\", \"Tree Mallee\")) > 5 m.\n",
    "# 'c(\"Tree/Palm\", \"Tree Mallee\")' is the default values for 'my.growth.forms',\n",
    "# so it is not really necesary\n",
    "AP.data.VC.Trees.gt5 = single_cover_value(AP.data$veg.PI, \n",
    "                                          my.growth_forms=c(\"Tree/Palm\", \"Tree Mallee\"), min.height=5)\n",
    "#class(AP.data.VC.Trees.gt5)\n",
    "#dim(AP.data.VC.Trees.gt5)\n",
    "head(AP.data.VC.Trees.gt5)\n",
    "summary(AP.data.VC.Trees.gt5)"
   ]
  },
  {
   "cell_type": "markdown",
   "metadata": {},
   "source": [
    "### Basal Area data: `basal_area` function\n",
    "\n",
    "The `basal_area` function in the `ausplotsR` package calculates the Basal Area or Mean Number of Basal Wedge Hits of plots using the raw basal wedge data returned by the `get_ausplots` function also in the `ausplotsR` package. \n",
    "\n",
    "The `basal_area` function has the following arguments:\n",
    "* `veg.basal`: Name of the data frame containing the Raw Basal Wedge Data generated by the `get_ausplots` function in the `ausplotsR` package.\n",
    "* `by.spp`: Whether Basal Wedge values are computed by Plot or Individual Species. This argument can take two values:\n",
    " * `FALSE`: The function returns combined values per plot. This is the default value for the argument.\n",
    " * `TRUE`: Returns values for individual species\t\n",
    "* `by.hits`: Whether the Basal Wedge values are computed as Basal Area or Mean Number of Individual Basal Wedge Hits. This argument can take two values:\n",
    " * `FALSE`: The function returns the Basal Area (in m2/ha). This is the default value for the argument.\n",
    " * `TRUE`: Returns the Mean Number of Individual Basal Wedge Hits.\n",
    "\n",
    "This function returns a data frame with two columns. In this data frame rows correspond to representing Plots (or species by plots), the first column contains the unique sites names and the second column contains the Basal Area or Hit Scores depending on the value assigned to the `by.hits` argument.\n",
    "\n",
    "\n",
    "Examples of the use of the `basal_area` function to compute the Basal Area or Mean Number of Basal Wedge Hits of individual plots from raw basal wedge data (as returned by the `get_ausplots` function) are presented below. Basal areas (or mean number of wedge hits) are computed for the full set of basal wedge data currently available at AusPlots. The list of data frames containing information for all currently available AusPlots sites (i.e. the 'AP.data' list) was previously created using the `get_ausplots` function (see above). The resulting Basal Areas or Mean Number of Wedge Hits data frames can be enriched with additional information as seen above for the species_table function in the 'Manipulating AusPlots data II: Merging data frames' section. The examples below cover all possible combinations of argument values in the `basal_area` function. "
   ]
  },
  {
   "cell_type": "code",
   "execution_count": 20,
   "metadata": {},
   "outputs": [
    {
     "data": {
      "text/html": [
       "'data.frame'"
      ],
      "text/latex": [
       "'data.frame'"
      ],
      "text/markdown": [
       "'data.frame'"
      ],
      "text/plain": [
       "[1] \"data.frame\""
      ]
     },
     "metadata": {},
     "output_type": "display_data"
    },
    {
     "data": {
      "text/html": [
       "<ol class=list-inline>\n",
       "\t<li>354</li>\n",
       "\t<li>2</li>\n",
       "</ol>\n"
      ],
      "text/latex": [
       "\\begin{enumerate*}\n",
       "\\item 354\n",
       "\\item 2\n",
       "\\end{enumerate*}\n"
      ],
      "text/markdown": [
       "1. 354\n",
       "2. 2\n",
       "\n",
       "\n"
      ],
      "text/plain": [
       "[1] 354   2"
      ]
     },
     "metadata": {},
     "output_type": "display_data"
    },
    {
     "data": {
      "text/html": [
       "<table>\n",
       "<thead><tr><th scope=col>site_unique</th><th scope=col>basal_area_m2_ha</th></tr></thead>\n",
       "<tbody>\n",
       "\t<tr><td>NSABBS0005-58582</td><td>26.805556       </td></tr>\n",
       "\t<tr><td>NSABBS0006-58557</td><td>22.577778       </td></tr>\n",
       "\t<tr><td>NSABHC0028-58027</td><td>11.588889       </td></tr>\n",
       "\t<tr><td>NSABHC0029-58028</td><td>26.905556       </td></tr>\n",
       "\t<tr><td>NSACHC0002-58558</td><td> 4.616667       </td></tr>\n",
       "\t<tr><td>NSACHC0003-58575</td><td> 9.437500       </td></tr>\n",
       "</tbody>\n",
       "</table>\n"
      ],
      "text/latex": [
       "\\begin{tabular}{r|ll}\n",
       " site\\_unique & basal\\_area\\_m2\\_ha\\\\\n",
       "\\hline\n",
       "\t NSABBS0005-58582 & 26.805556       \\\\\n",
       "\t NSABBS0006-58557 & 22.577778       \\\\\n",
       "\t NSABHC0028-58027 & 11.588889       \\\\\n",
       "\t NSABHC0029-58028 & 26.905556       \\\\\n",
       "\t NSACHC0002-58558 &  4.616667       \\\\\n",
       "\t NSACHC0003-58575 &  9.437500       \\\\\n",
       "\\end{tabular}\n"
      ],
      "text/markdown": [
       "\n",
       "| site_unique | basal_area_m2_ha |\n",
       "|---|---|\n",
       "| NSABBS0005-58582 | 26.805556        |\n",
       "| NSABBS0006-58557 | 22.577778        |\n",
       "| NSABHC0028-58027 | 11.588889        |\n",
       "| NSABHC0029-58028 | 26.905556        |\n",
       "| NSACHC0002-58558 |  4.616667        |\n",
       "| NSACHC0003-58575 |  9.437500        |\n",
       "\n"
      ],
      "text/plain": [
       "  site_unique      basal_area_m2_ha\n",
       "1 NSABBS0005-58582 26.805556       \n",
       "2 NSABBS0006-58557 22.577778       \n",
       "3 NSABHC0028-58027 11.588889       \n",
       "4 NSABHC0029-58028 26.905556       \n",
       "5 NSACHC0002-58558  4.616667       \n",
       "6 NSACHC0003-58575  9.437500       "
      ]
     },
     "metadata": {},
     "output_type": "display_data"
    },
    {
     "data": {
      "text/plain": [
       " site_unique        basal_area_m2_ha\n",
       " Length:354         Min.   : 0.050  \n",
       " Class :character   1st Qu.: 2.282  \n",
       " Mode  :character   Median : 4.811  \n",
       "                    Mean   : 7.601  \n",
       "                    3rd Qu.:10.189  \n",
       "                    Max.   :43.094  "
      ]
     },
     "metadata": {},
     "output_type": "display_data"
    },
    {
     "data": {
      "text/html": [
       "<table>\n",
       "<thead><tr><th scope=col>site_unique</th><th scope=col>herbarium_determination</th><th scope=col>basal_area_m2_ha</th></tr></thead>\n",
       "<tbody>\n",
       "\t<tr><td>WAAGES0003-58025 </td><td>Acacia acuminata </td><td>0.350000         </td></tr>\n",
       "\t<tr><td>NSAMDD0027-57087 </td><td>Acacia aneura    </td><td>6.416667         </td></tr>\n",
       "\t<tr><td>NSAMUL0004-58560 </td><td>Acacia aneura    </td><td>5.843750         </td></tr>\n",
       "\t<tr><td>NTABRT0001-53616 </td><td>Acacia aneura    </td><td>0.800000         </td></tr>\n",
       "\t<tr><td>NTABRT0002-53617 </td><td>Acacia aneura    </td><td>0.612500         </td></tr>\n",
       "\t<tr><td>NTAFIN0004-58010 </td><td>Acacia aneura    </td><td>1.422222         </td></tr>\n",
       "</tbody>\n",
       "</table>\n"
      ],
      "text/latex": [
       "\\begin{tabular}{r|lll}\n",
       " site\\_unique & herbarium\\_determination & basal\\_area\\_m2\\_ha\\\\\n",
       "\\hline\n",
       "\t WAAGES0003-58025  & Acacia acuminata  & 0.350000         \\\\\n",
       "\t NSAMDD0027-57087  & Acacia aneura     & 6.416667         \\\\\n",
       "\t NSAMUL0004-58560  & Acacia aneura     & 5.843750         \\\\\n",
       "\t NTABRT0001-53616  & Acacia aneura     & 0.800000         \\\\\n",
       "\t NTABRT0002-53617  & Acacia aneura     & 0.612500         \\\\\n",
       "\t NTAFIN0004-58010  & Acacia aneura     & 1.422222         \\\\\n",
       "\\end{tabular}\n"
      ],
      "text/markdown": [
       "\n",
       "| site_unique | herbarium_determination | basal_area_m2_ha |\n",
       "|---|---|---|\n",
       "| WAAGES0003-58025  | Acacia acuminata  | 0.350000          |\n",
       "| NSAMDD0027-57087  | Acacia aneura     | 6.416667          |\n",
       "| NSAMUL0004-58560  | Acacia aneura     | 5.843750          |\n",
       "| NTABRT0001-53616  | Acacia aneura     | 0.800000          |\n",
       "| NTABRT0002-53617  | Acacia aneura     | 0.612500          |\n",
       "| NTAFIN0004-58010  | Acacia aneura     | 1.422222          |\n",
       "\n"
      ],
      "text/plain": [
       "  site_unique      herbarium_determination basal_area_m2_ha\n",
       "1 WAAGES0003-58025 Acacia acuminata        0.350000        \n",
       "2 NSAMDD0027-57087 Acacia aneura           6.416667        \n",
       "3 NSAMUL0004-58560 Acacia aneura           5.843750        \n",
       "4 NTABRT0001-53616 Acacia aneura           0.800000        \n",
       "5 NTABRT0002-53617 Acacia aneura           0.612500        \n",
       "6 NTAFIN0004-58010 Acacia aneura           1.422222        "
      ]
     },
     "metadata": {},
     "output_type": "display_data"
    },
    {
     "data": {
      "text/plain": [
       " site_unique        herbarium_determination basal_area_m2_ha \n",
       " Length:1613        Length:1613             Min.   :-0.4000  \n",
       " Class :character   Class :character        1st Qu.: 0.3000  \n",
       " Mode  :character   Mode  :character        Median : 0.7333  \n",
       "                                            Mean   : 1.9947  \n",
       "                                            3rd Qu.: 2.0278  \n",
       "                                            Max.   :40.2500  "
      ]
     },
     "metadata": {},
     "output_type": "display_data"
    },
    {
     "data": {
      "text/html": [
       "<table>\n",
       "<thead><tr><th scope=col>site_unique</th><th scope=col>mean_hits</th></tr></thead>\n",
       "<tbody>\n",
       "\t<tr><td>NSABBS0005-58582</td><td>24.77778        </td></tr>\n",
       "\t<tr><td>NSABBS0006-58557</td><td>25.11111        </td></tr>\n",
       "\t<tr><td>NSABHC0028-58027</td><td>20.44444        </td></tr>\n",
       "\t<tr><td>NSABHC0029-58028</td><td>16.88889        </td></tr>\n",
       "\t<tr><td>NSACHC0002-58558</td><td>10.11111        </td></tr>\n",
       "\t<tr><td>NSACHC0003-58575</td><td> 8.87500        </td></tr>\n",
       "</tbody>\n",
       "</table>\n"
      ],
      "text/latex": [
       "\\begin{tabular}{r|ll}\n",
       " site\\_unique & mean\\_hits\\\\\n",
       "\\hline\n",
       "\t NSABBS0005-58582 & 24.77778        \\\\\n",
       "\t NSABBS0006-58557 & 25.11111        \\\\\n",
       "\t NSABHC0028-58027 & 20.44444        \\\\\n",
       "\t NSABHC0029-58028 & 16.88889        \\\\\n",
       "\t NSACHC0002-58558 & 10.11111        \\\\\n",
       "\t NSACHC0003-58575 &  8.87500        \\\\\n",
       "\\end{tabular}\n"
      ],
      "text/markdown": [
       "\n",
       "| site_unique | mean_hits |\n",
       "|---|---|\n",
       "| NSABBS0005-58582 | 24.77778         |\n",
       "| NSABBS0006-58557 | 25.11111         |\n",
       "| NSABHC0028-58027 | 20.44444         |\n",
       "| NSABHC0029-58028 | 16.88889         |\n",
       "| NSACHC0002-58558 | 10.11111         |\n",
       "| NSACHC0003-58575 |  8.87500         |\n",
       "\n"
      ],
      "text/plain": [
       "  site_unique      mean_hits\n",
       "1 NSABBS0005-58582 24.77778 \n",
       "2 NSABBS0006-58557 25.11111 \n",
       "3 NSABHC0028-58027 20.44444 \n",
       "4 NSABHC0029-58028 16.88889 \n",
       "5 NSACHC0002-58558 10.11111 \n",
       "6 NSACHC0003-58575  8.87500 "
      ]
     },
     "metadata": {},
     "output_type": "display_data"
    },
    {
     "data": {
      "text/plain": [
       " site_unique          mean_hits    \n",
       " Length:354         Min.   : 1.00  \n",
       " Class :character   1st Qu.:11.44  \n",
       " Mode  :character   Median :16.83  \n",
       "                    Mean   :18.01  \n",
       "                    3rd Qu.:22.52  \n",
       "                    Max.   :62.78  "
      ]
     },
     "metadata": {},
     "output_type": "display_data"
    },
    {
     "data": {
      "text/html": [
       "<table>\n",
       "<thead><tr><th scope=col>site_unique</th><th scope=col>herbarium_determination</th><th scope=col>mean_hits</th></tr></thead>\n",
       "<tbody>\n",
       "\t<tr><td>WAAGES0003-58025 </td><td>Acacia acuminata </td><td> 3.500000        </td></tr>\n",
       "\t<tr><td>NSAMDD0027-57087 </td><td>Acacia aneura    </td><td> 9.888889        </td></tr>\n",
       "\t<tr><td>NSAMUL0004-58560 </td><td>Acacia aneura    </td><td>10.875000        </td></tr>\n",
       "\t<tr><td>NTABRT0001-53616 </td><td>Acacia aneura    </td><td> 8.000000        </td></tr>\n",
       "\t<tr><td>NTABRT0002-53617 </td><td>Acacia aneura    </td><td> 6.125000        </td></tr>\n",
       "\t<tr><td>NTAFIN0004-58010 </td><td>Acacia aneura    </td><td>14.222222        </td></tr>\n",
       "</tbody>\n",
       "</table>\n"
      ],
      "text/latex": [
       "\\begin{tabular}{r|lll}\n",
       " site\\_unique & herbarium\\_determination & mean\\_hits\\\\\n",
       "\\hline\n",
       "\t WAAGES0003-58025  & Acacia acuminata  &  3.500000        \\\\\n",
       "\t NSAMDD0027-57087  & Acacia aneura     &  9.888889        \\\\\n",
       "\t NSAMUL0004-58560  & Acacia aneura     & 10.875000        \\\\\n",
       "\t NTABRT0001-53616  & Acacia aneura     &  8.000000        \\\\\n",
       "\t NTABRT0002-53617  & Acacia aneura     &  6.125000        \\\\\n",
       "\t NTAFIN0004-58010  & Acacia aneura     & 14.222222        \\\\\n",
       "\\end{tabular}\n"
      ],
      "text/markdown": [
       "\n",
       "| site_unique | herbarium_determination | mean_hits |\n",
       "|---|---|---|\n",
       "| WAAGES0003-58025  | Acacia acuminata  |  3.500000         |\n",
       "| NSAMDD0027-57087  | Acacia aneura     |  9.888889         |\n",
       "| NSAMUL0004-58560  | Acacia aneura     | 10.875000         |\n",
       "| NTABRT0001-53616  | Acacia aneura     |  8.000000         |\n",
       "| NTABRT0002-53617  | Acacia aneura     |  6.125000         |\n",
       "| NTAFIN0004-58010  | Acacia aneura     | 14.222222         |\n",
       "\n"
      ],
      "text/plain": [
       "  site_unique      herbarium_determination mean_hits\n",
       "1 WAAGES0003-58025 Acacia acuminata         3.500000\n",
       "2 NSAMDD0027-57087 Acacia aneura            9.888889\n",
       "3 NSAMUL0004-58560 Acacia aneura           10.875000\n",
       "4 NTABRT0001-53616 Acacia aneura            8.000000\n",
       "5 NTABRT0002-53617 Acacia aneura            6.125000\n",
       "6 NTAFIN0004-58010 Acacia aneura           14.222222"
      ]
     },
     "metadata": {},
     "output_type": "display_data"
    },
    {
     "data": {
      "text/plain": [
       " site_unique        herbarium_determination   mean_hits      \n",
       " Length:1613        Length:1613             Min.   : 0.6667  \n",
       " Class :character   Class :character        1st Qu.: 2.0000  \n",
       " Mode  :character   Mode  :character        Median : 4.2500  \n",
       "                                            Mean   : 5.3265  \n",
       "                                            3rd Qu.: 7.7500  \n",
       "                                            Max.   :38.7778  "
      ]
     },
     "metadata": {},
     "output_type": "display_data"
    }
   ],
   "source": [
    "# ======================================\n",
    "# Basal Area data: 'basal_area' function\n",
    "# ======================================\n",
    "# The default arguments are: 'by.spp=FALSE' and 'by.hits=FALSE'\n",
    "\n",
    "# Basal Area (m2/ha) per Plot (the default argument values)\n",
    "# =========================================================\n",
    "AP.data.BAperPlot = basal_area(AP.data$veg.basal)\n",
    "class(AP.data.BAperPlot)\n",
    "dim(AP.data.BAperPlot)\n",
    "head(AP.data.BAperPlot)\n",
    "summary(AP.data.BAperPlot)\n",
    "\n",
    "# Basal Area (m2/ha)  per Individual Species\n",
    "# ==========================================\n",
    "AP.data.BAperSpp = basal_area(AP.data$veg.basal, by.spp=TRUE)\n",
    "#class(AP.data.BAperSpp)\n",
    "#dim(AP.data.BAperSpp)\n",
    "head(AP.data.BAperSpp)\n",
    "summary(AP.data.BAperSpp)\n",
    "\n",
    "# Mean Number of Basal Wedge Hits per Plot\n",
    "# ========================================\n",
    "AP.data.BWHperPlot = basal_area(AP.data$veg.basal, by.hits=TRUE)\n",
    "#class(AP.data.BWHperPlot)\n",
    "#dim(AP.data.BWHperPlot)\n",
    "head(AP.data.BWHperPlot)\n",
    "summary(AP.data.BWHperPlot)\n",
    "\n",
    "# Mean Number of Basal Wedge Hits per Individual Species\n",
    "# ======================================================\n",
    "AP.data.BWHperSpp = basal_area(AP.data$veg.basal, by.spp=TRUE, by.hits=TRUE)\n",
    "#class(AP.data.BWHperSpp)\n",
    "#dim(AP.data.BWHperSpp)\n",
    "head(AP.data.BWHperSpp)\n",
    "summary(AP.data.BWHperSpp)"
   ]
  },
  {
   "cell_type": "markdown",
   "metadata": {},
   "source": [
    "### Saving AusPlots data\n",
    "\n",
    "The `get_ausplots` function in the `ausplotsR` package extracts and compiles AusPlots data. Up to 8 different types of data can be obtained by setting the corresponding function arguments to TRUE/FALSE (i.e. `site_info`, `structural_summaries`, `veg.vouchers`, `veg.PI`, `basal.wedge`, `soil_subsites`, `soil_bulk_density`, and `soil_character`). AusPlots data are extracted in to a list containing  data frames, one data frame for data type requested. Other functions in the `ausplotsR` can be used to pre-process the AusPlots raw data, preparing it for exploration, visualisation, and/or analysis (i.e. `species_table`, `fractional_cover`, `growth_form_table`, `single_cover_value`, and `basal_area` functions). Each of these pre-processing functions returns data stored in a data frame. \n",
    "\n",
    "Often we want to store the AusPlots data that we have extracted and/or created (e.g. via pre-processing and enriching the data frame with additional data) for future work. The advantages in doing so include: \n",
    "* _Saving time:_ Loading AusPlots data from a file is typically much faster that extracting it live with the function `get_ausplots` (and even faster that extracting it and pre-processing it).\n",
    "* _Reproducibility:_ Extraction of AusPlots data is live, so it is possible that the data obtained between identical (i.e. with the same arguments) requests differ. Storing the data that we have used in our manipulations/visualisations/analyses in files allows reproducibility and seamless continuity of work.\n",
    "* _Portability:_ The data frames saves into files can be open by other software (e.g. spreadsheets packages, statistical packages,….).\n",
    "\n",
    "To store data contained in data frames we can used the functions `write.table`, `write.csv`, and `write.csv2` in the `utils` package (included in the R installation). See the functions help page for further details (i.e. ‘? write.table’). \n",
    "* `write.table`: Prints an R object, preferably a matrix or data frame, to a file or connection (“generalized files”, such as possibly compressed files, URLs, pipes, etc.). It allows great flexibility in the way the object it stored in the file via the function arguments.\n",
    "* `write.csv`: Wrapper for writing ‘CSV’ files in the format used in most countries (uses “.” for the decimal point and “,” as separator). Specifically, it sets the `write.table` arguments to ‘sep=”,”’, ‘dec=”.”’, ‘qmethod = \"double\"’, and ‘col.names = NA’ if ‘row.names = TRUE’ (the default) and to ‘TRUE’ otherwise.\n",
    "* `write.csv2`: Wrapper for writing ‘CSV’ files in the format used in some Wester European locales (uses “,” for the decimal point and “.” as separator). Specifically, it sets the `write.table` arguments to ‘sep=”.”’, ‘dec=”,”’, ‘qmethod = \"double\"’, and ‘col.names = NA’ if ‘row.names = TRUE’ (the default) and to ‘TRUE’ otherwise.\n",
    "\n",
    "List are generic vectors containing other objects.  They typically contain rugged data (i.e. data not in ‘rectangular’ form such as data contained in a matrix or data frame). This makes them unsuitable to be stored in a file using `write.table` and its derivative functions. We can save lists (or other R objects) to a `RData` file using the `save` function in the `base` package (included in the R installation). `RData` files are specific to R and can store multiple R objects into a single file. The list can then be read back into R from the file by using the functions `load` or `attach` (or `data` in some cases). See the functions help page for further details (i.e. ‘? save’, ‘? load’, and ‘? attach’). \n",
    "\n",
    "Examples of how to save AusPlots data into files are presented below. Examples include saving data frames using the functions `write.table` and `write.csv`, as well as saving list using the function `save`."
   ]
  },
  {
   "cell_type": "code",
   "execution_count": 21,
   "metadata": {},
   "outputs": [
    {
     "data": {
      "text/html": [
       "'2019-06-25'"
      ],
      "text/latex": [
       "'2019-06-25'"
      ],
      "text/markdown": [
       "'2019-06-25'"
      ],
      "text/plain": [
       "[1] \"2019-06-25\""
      ]
     },
     "metadata": {},
     "output_type": "display_data"
    },
    {
     "data": {
      "text/html": [
       "'190625'"
      ],
      "text/latex": [
       "'190625'"
      ],
      "text/markdown": [
       "'190625'"
      ],
      "text/plain": [
       "[1] \"190625\""
      ]
     },
     "metadata": {},
     "output_type": "display_data"
    },
    {
     "name": "stdout",
     "output_type": "stream",
     "text": [
      "User-supplied Plot_IDs located. \n"
     ]
    },
    {
     "data": {
      "text/plain": [
       " site_location_name site_location_visit_id site_location_id   point_id        \n",
       " Length:95          Min.   :53705          Min.   :60122    Length:95         \n",
       " Class :character   1st Qu.:58429          1st Qu.:60122    Class :character  \n",
       " Mode  :character   Median :58429          Median :61138    Mode  :character  \n",
       "                    Mean   :57395          Mean   :60635                      \n",
       "                    3rd Qu.:58658          3rd Qu.:61138                      \n",
       "                    Max.   :58658          Max.   :61138                      \n",
       " herbarium_determination veg_barcode             hits        basal_area_factor\n",
       " Length:95               Length:95          Min.   : 1.000   Min.   :-1.0000  \n",
       " Class :character        Class :character   1st Qu.: 2.000   1st Qu.: 0.1000  \n",
       " Mode  :character        Mode  :character   Median : 5.000   Median : 0.1000  \n",
       "                                            Mean   : 5.979   Mean   : 0.2495  \n",
       "                                            3rd Qu.: 8.500   3rd Qu.: 0.5000  \n",
       "                                            Max.   :20.000   Max.   : 2.0000  \n",
       "   basal_area     site_unique       \n",
       " Min.   :-1.000   Length:95         \n",
       " 1st Qu.: 0.300   Class :character  \n",
       " Median : 0.900   Mode  :character  \n",
       " Mean   : 1.885                     \n",
       " 3rd Qu.: 2.875                     \n",
       " Max.   :14.000                     "
      ]
     },
     "metadata": {},
     "output_type": "display_data"
    },
    {
     "data": {
      "text/html": [
       "'AP_3Sites_BasalWedge_190625'"
      ],
      "text/latex": [
       "'AP\\_3Sites\\_BasalWedge\\_190625'"
      ],
      "text/markdown": [
       "'AP_3Sites_BasalWedge_190625'"
      ],
      "text/plain": [
       "[1] \"AP_3Sites_BasalWedge_190625\""
      ]
     },
     "metadata": {},
     "output_type": "display_data"
    },
    {
     "data": {
      "text/html": [
       "'AP_3Sites_BasalWedge_190625.txt'"
      ],
      "text/latex": [
       "'AP\\_3Sites\\_BasalWedge\\_190625.txt'"
      ],
      "text/markdown": [
       "'AP_3Sites_BasalWedge_190625.txt'"
      ],
      "text/plain": [
       "[1] \"AP_3Sites_BasalWedge_190625.txt\""
      ]
     },
     "metadata": {},
     "output_type": "display_data"
    },
    {
     "data": {
      "text/plain": [
       " site_unique        basal_area_m2_ha\n",
       " Length:3           Min.   :3.994   \n",
       " Class :character   1st Qu.:5.947   \n",
       " Mode  :character   Median :7.900   \n",
       "                    Mean   :6.631   \n",
       "                    3rd Qu.:7.950   \n",
       "                    Max.   :8.000   "
      ]
     },
     "metadata": {},
     "output_type": "display_data"
    },
    {
     "data": {
      "text/html": [
       "'AP_3Sites_BasalArea_190625'"
      ],
      "text/latex": [
       "'AP\\_3Sites\\_BasalArea\\_190625'"
      ],
      "text/markdown": [
       "'AP_3Sites_BasalArea_190625'"
      ],
      "text/plain": [
       "[1] \"AP_3Sites_BasalArea_190625\""
      ]
     },
     "metadata": {},
     "output_type": "display_data"
    },
    {
     "data": {
      "text/html": [
       "'AP_3Sites_BasalArea_190625.csv'"
      ],
      "text/latex": [
       "'AP\\_3Sites\\_BasalArea\\_190625.csv'"
      ],
      "text/markdown": [
       "'AP_3Sites_BasalArea_190625.csv'"
      ],
      "text/plain": [
       "[1] \"AP_3Sites_BasalArea_190625.csv\""
      ]
     },
     "metadata": {},
     "output_type": "display_data"
    },
    {
     "data": {
      "text/html": [
       "<ol class=list-inline>\n",
       "\t<li>'site.info'</li>\n",
       "\t<li>'struct.summ'</li>\n",
       "\t<li>'veg.basal'</li>\n",
       "\t<li>'veg.vouch'</li>\n",
       "\t<li>'veg.PI'</li>\n",
       "\t<li>'citation'</li>\n",
       "</ol>\n"
      ],
      "text/latex": [
       "\\begin{enumerate*}\n",
       "\\item 'site.info'\n",
       "\\item 'struct.summ'\n",
       "\\item 'veg.basal'\n",
       "\\item 'veg.vouch'\n",
       "\\item 'veg.PI'\n",
       "\\item 'citation'\n",
       "\\end{enumerate*}\n"
      ],
      "text/markdown": [
       "1. 'site.info'\n",
       "2. 'struct.summ'\n",
       "3. 'veg.basal'\n",
       "4. 'veg.vouch'\n",
       "5. 'veg.PI'\n",
       "6. 'citation'\n",
       "\n",
       "\n"
      ],
      "text/plain": [
       "[1] \"site.info\"   \"struct.summ\" \"veg.basal\"   \"veg.vouch\"   \"veg.PI\"     \n",
       "[6] \"citation\"   "
      ]
     },
     "metadata": {},
     "output_type": "display_data"
    },
    {
     "data": {
      "text/html": [
       "'AP_3Sites_SiteVegInfo_190625'"
      ],
      "text/latex": [
       "'AP\\_3Sites\\_SiteVegInfo\\_190625'"
      ],
      "text/markdown": [
       "'AP_3Sites_SiteVegInfo_190625'"
      ],
      "text/plain": [
       "[1] \"AP_3Sites_SiteVegInfo_190625\""
      ]
     },
     "metadata": {},
     "output_type": "display_data"
    },
    {
     "data": {
      "text/html": [
       "'AP_3Sites_SiteVegInfo_190625.RData'"
      ],
      "text/latex": [
       "'AP\\_3Sites\\_SiteVegInfo\\_190625.RData'"
      ],
      "text/markdown": [
       "'AP_3Sites_SiteVegInfo_190625.RData'"
      ],
      "text/plain": [
       "[1] \"AP_3Sites_SiteVegInfo_190625.RData\""
      ]
     },
     "metadata": {},
     "output_type": "display_data"
    }
   ],
   "source": [
    "# ====================\n",
    "# Saving AusPlots data\n",
    "# ====================\n",
    "\n",
    "# Provide Path for Directory where data will be stored\n",
    "file.path = \"C:/Users/uqbblanc/Documents/TERN/CWDir_TutBasicAusPlots\"\n",
    "\n",
    "# Extract Date and Create a String to Represent it. To be used as Part of the File Name\n",
    "today = toString(Sys.Date())\n",
    "today\n",
    "date.s = paste(substr(today,start=3,stop=4),substr(today,start=6,stop=7), \n",
    "               substr(today,start=9,stop=10),sep=\"\") \n",
    "date.s\n",
    "\n",
    "\n",
    "# Load 'auplotsR' library and Extract some AusPlots data\n",
    "library(ausplotsR)\n",
    "AP.data.l = get_ausplots( my.Plot_IDs=c(\"SATFLB0004\", \"QDAMGD0022\", \"NTASTU0002\"), \n",
    "                          structural_summaries=TRUE, basal.wedge=TRUE)\n",
    "\n",
    "\n",
    "# Save an AusPlots retrived Data Frame, using 'write.table'\n",
    "# =========================================================\n",
    "\n",
    "# Visualise summary of the retrived Raw Basal Wedge data\n",
    "summary(AP.data.l$veg.basal)\n",
    "\n",
    "# Create Name of the file to be stored (including the date)\n",
    "file.name = paste(\"AP_3Sites_BasalWedge\",date.s,sep=\"_\")\n",
    "file.name\n",
    "# Add the \"txt\" extension\n",
    "file.name = paste(file.name,\"txt\",sep=\".\")\n",
    "file.name\n",
    "\n",
    "# Save the Raw Basal Wedge data to a Text File with columns separated by tabs\n",
    "write.table(AP.data.l$veg.basal, paste(file.path, file.name, sep=\"/\"), sep=\"\\t\")\n",
    "\n",
    "\n",
    "# Save an AusPlots derived Data Frame (generated for pre-processing), using 'write.csv'\n",
    "# =====================================================================================\n",
    "\n",
    "# Compute Basal Area from Raw Basal Wedge data\n",
    "AP.3Sites.BAperPlot = basal_area(AP.data.l$veg.basal, by.spp=FALSE, by.hits=FALSE)\n",
    "\n",
    "# Visualise summary of the retrived Basal Area data\n",
    "summary(AP.3Sites.BAperPlot)\n",
    "\n",
    "# Create Name of the file to be stored (including the date)\n",
    "file.name = paste(\"AP_3Sites_BasalArea\",date.s,sep=\"_\")\n",
    "file.name\n",
    "# Add the \"txt\" extension\n",
    "file.name = paste(file.name,\"csv\",sep=\".\")\n",
    "file.name\n",
    "\n",
    "# Save the Basal Area data to a Text File with columns separated by tabs\n",
    "write.csv(AP.3Sites.BAperPlot, paste(file.path, file.name, sep=\"/\"))\n",
    "\n",
    "\n",
    "# Save an AusPlots retrived list, using 'save'\n",
    "# ============================================\n",
    "\n",
    "# Visualise the Data Frames included in the retrived list containing AusPlots data\n",
    "names(AP.data.l)\n",
    "\n",
    "# Create Name of the file to be stored (including the date)\n",
    "file.name = paste(\"AP_3Sites_SiteVegInfo\",date.s,sep=\"_\")\n",
    "file.name\n",
    "# Add the \"txt\" extension\n",
    "file.name = paste(file.name,\"RData\",sep=\".\")\n",
    "file.name\n",
    "\n",
    "# Save the list containing all retrived AusPlots data\n",
    "save(AP.data.l, file=paste(file.path, file.name, sep=\"/\"))\n",
    "#load(file=paste(file.path, file.name, sep=\"/\"))"
   ]
  }
 ],
 "metadata": {
  "kernelspec": {
   "display_name": "R",
   "language": "R",
   "name": "ir"
  },
  "language_info": {
   "codemirror_mode": "r",
   "file_extension": ".r",
   "mimetype": "text/x-r-source",
   "name": "R",
   "pygments_lexer": "r",
   "version": "3.5.1"
  }
 },
 "nbformat": 4,
 "nbformat_minor": 2
}
